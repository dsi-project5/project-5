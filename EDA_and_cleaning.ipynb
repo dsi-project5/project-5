{
 "cells": [
  {
   "cell_type": "markdown",
   "metadata": {},
   "source": [
    "# Cleaning and EDA"
   ]
  },
  {
   "cell_type": "markdown",
   "metadata": {},
   "source": [
    " * [Read in Data](#rd)\n",
    " * [Data Cleaning](#dc)\n",
    " * [Google BigQuery](#gbq)\n",
    " * [Saving Necessary Model Data](#mod)"
   ]
  },
  {
   "cell_type": "code",
   "execution_count": 129,
   "metadata": {
    "id": "pjpQBt7_aOna"
   },
   "outputs": [],
   "source": [
    "import pandas as pd\n",
    "import numpy as np\n",
    "import matplotlib.pyplot as plt\n",
    "import matplotlib.patches as mpatches\n",
    "\n",
    "import json\n",
    "\n",
    "from google.cloud import bigquery"
   ]
  },
  {
   "cell_type": "markdown",
   "metadata": {},
   "source": [
    "<a id='rd'></a>\n",
    "## Read in Data"
   ]
  },
  {
   "cell_type": "code",
   "execution_count": 2,
   "metadata": {
    "id": "2MftxVPUYiAu"
   },
   "outputs": [],
   "source": [
    "# Load data from csv\n",
    "accidents_df = pd.read_csv('../data/US_Accidents_Dec20.csv')"
   ]
  },
  {
   "cell_type": "code",
   "execution_count": null,
   "metadata": {
    "colab": {
     "base_uri": "https://localhost:8080/"
    },
    "id": "DnOkWJrhb1tK",
    "outputId": "bb8fcf2f-037d-4047-c477-60a9950afd43"
   },
   "outputs": [],
   "source": [
    "# Columns and data types\n",
    "accidents_df.info()"
   ]
  },
  {
   "cell_type": "code",
   "execution_count": null,
   "metadata": {
    "colab": {
     "base_uri": "https://localhost:8080/",
     "height": 304
    },
    "id": "wBOS9lHWTS4P",
    "outputId": "3c4eff81-ef67-471e-e1d1-e7949945957f"
   },
   "outputs": [],
   "source": [
    "# Describe the data\n",
    "accidents_df.describe()"
   ]
  },
  {
   "cell_type": "code",
   "execution_count": null,
   "metadata": {
    "colab": {
     "base_uri": "https://localhost:8080/"
    },
    "id": "mWtZU1afTom9",
    "outputId": "6a09ccf7-0af5-425b-cc01-0de5318d4622"
   },
   "outputs": [],
   "source": [
    "# Check for NULL values\n",
    "accidents_df.isnull().sum()"
   ]
  },
  {
   "cell_type": "code",
   "execution_count": null,
   "metadata": {
    "colab": {
     "base_uri": "https://localhost:8080/"
    },
    "id": "LFe3AkjcU6wr",
    "outputId": "9ff63d50-9e24-42d8-e5fb-657806034db6"
   },
   "outputs": [],
   "source": [
    "# Check frequent values for TMC to fill for NULL\n",
    "accidents_df['TMC'].value_counts()"
   ]
  },
  {
   "cell_type": "markdown",
   "metadata": {
    "id": "p0_Db0fCWaN4"
   },
   "source": [
    "<a id='dc'></a>\n",
    "## Data Cleaning"
   ]
  },
  {
   "cell_type": "code",
   "execution_count": null,
   "metadata": {
    "id": "NMn_ZLH7XgG6"
   },
   "outputs": [],
   "source": [
    "accidents_df['TMC'].fillna(201.0, inplace=True)"
   ]
  },
  {
   "cell_type": "code",
   "execution_count": null,
   "metadata": {
    "colab": {
     "base_uri": "https://localhost:8080/"
    },
    "id": "lfeHcvPQYGOp",
    "outputId": "e7733d3f-9a3f-4cb6-9f32-f1c00665fa55"
   },
   "outputs": [],
   "source": [
    "accidents_df['TMC'].value_counts()"
   ]
  },
  {
   "cell_type": "code",
   "execution_count": null,
   "metadata": {
    "colab": {
     "base_uri": "https://localhost:8080/"
    },
    "id": "YzWhn_7NYMHR",
    "outputId": "b58f5483-9a69-48c6-9fae-d3a30dadc5e3"
   },
   "outputs": [],
   "source": [
    "accidents_df['TMC'].isnull().sum()"
   ]
  },
  {
   "cell_type": "code",
   "execution_count": null,
   "metadata": {
    "id": "_meqoIYmYJt5"
   },
   "outputs": [],
   "source": [
    "# Too many NULLs for End_Lat and End_Lng, so drop them. We can get most details using Start_Lat and Start_Lng anyway\n",
    "accidents_df.drop(columns=['End_Lat', 'End_Lng'], inplace=True)"
   ]
  },
  {
   "cell_type": "code",
   "execution_count": null,
   "metadata": {
    "colab": {
     "base_uri": "https://localhost:8080/"
    },
    "id": "uew3LPWsYjd_",
    "outputId": "9c780cee-93ca-4b1d-fff4-856a0e780a05"
   },
   "outputs": [],
   "source": [
    "accidents_df.info()"
   ]
  },
  {
   "cell_type": "code",
   "execution_count": null,
   "metadata": {
    "id": "TN_xk0iRYqB0"
   },
   "outputs": [],
   "source": [
    "# Drop all address related columns as we can derive it from Lat and Lng fields\n",
    "accidents_df.drop(columns=['Number', 'Street', 'City', 'County', 'State', 'Zipcode', 'Country'], inplace=True)"
   ]
  },
  {
   "cell_type": "code",
   "execution_count": null,
   "metadata": {
    "id": "yuVk4U_DZeNt"
   },
   "outputs": [],
   "source": [
    "# Drop Timezone as we won't be using it in our model and not needed for any EDA as well. Again, we could derive most of it using Lat/Lng\n",
    "# Similarly, drop Airport_Code as well as it'll be multi-collinear with lat/lng. \n",
    "accidents_df.drop(columns=['Timezone', 'Airport_Code'], inplace=True)"
   ]
  },
  {
   "cell_type": "code",
   "execution_count": null,
   "metadata": {
    "colab": {
     "base_uri": "https://localhost:8080/",
     "height": 343
    },
    "id": "Xcm6adRJafpZ",
    "outputId": "a2a58f1b-c454-4914-e1a1-1a030f40e067"
   },
   "outputs": [],
   "source": [
    "accidents_df.loc[:,['Weather_Timestamp', 'Start_Time', 'End_Time']].head(10)"
   ]
  },
  {
   "cell_type": "code",
   "execution_count": null,
   "metadata": {
    "colab": {
     "base_uri": "https://localhost:8080/",
     "height": 67
    },
    "id": "u2qW2-wjbuUA",
    "outputId": "9edff71e-521d-48ec-f349-c1b8814c95c8"
   },
   "outputs": [],
   "source": [
    "# Check if any Weather_Timestamp is outside of Start_Time and End_Time\n",
    "accidents_df[(accidents_df['Weather_Timestamp'] < accidents_df['Start_Time']) & (accidents_df['Weather_Timestamp'] > accidents_df['End_Time'])]"
   ]
  },
  {
   "cell_type": "code",
   "execution_count": null,
   "metadata": {
    "id": "HR4hOm1laqtI"
   },
   "outputs": [],
   "source": [
    "# Based on the above, Weather_Timestamp is **always** between Start_Time and End_Time so we can safely drop it\n",
    "accidents_df.drop(columns=['Weather_Timestamp'], inplace=True)"
   ]
  },
  {
   "cell_type": "code",
   "execution_count": null,
   "metadata": {
    "colab": {
     "base_uri": "https://localhost:8080/"
    },
    "id": "e5js_oE7bts6",
    "outputId": "25f7e52e-2924-4a73-ff9c-d3970ada0d36"
   },
   "outputs": [],
   "source": [
    "accidents_df['Temperature(F)'].value_counts()"
   ]
  },
  {
   "cell_type": "code",
   "execution_count": null,
   "metadata": {
    "colab": {
     "base_uri": "https://localhost:8080/"
    },
    "id": "S37ajXpudlPQ",
    "outputId": "6878e269-e888-4767-b99a-68a0f6d1d8de"
   },
   "outputs": [],
   "source": [
    "accidents_df['Temperature(F)'].describe()"
   ]
  },
  {
   "cell_type": "code",
   "execution_count": null,
   "metadata": {
    "colab": {
     "base_uri": "https://localhost:8080/",
     "height": 265
    },
    "id": "72fAyhCOdpZB",
    "outputId": "33c8e968-7700-4e5f-a80c-6d915742e450"
   },
   "outputs": [],
   "source": [
    "accidents_df['Temperature(F)'].plot(kind='box');"
   ]
  },
  {
   "cell_type": "code",
   "execution_count": null,
   "metadata": {
    "colab": {
     "base_uri": "https://localhost:8080/"
    },
    "id": "GzLgjJKueDZu",
    "outputId": "b11ca149-2447-4db0-b00b-cb4c83e06abe"
   },
   "outputs": [],
   "source": [
    "# Find out mean and median of Temperature so we can fill it for NULL values\n",
    "print(accidents_df['Temperature(F)'].mean())\n",
    "print(accidents_df['Temperature(F)'].median())"
   ]
  },
  {
   "cell_type": "code",
   "execution_count": null,
   "metadata": {
    "id": "-LIi3jfIfCxQ"
   },
   "outputs": [],
   "source": [
    "# Fill the median value for NULL values\n",
    "accidents_df['Temperature(F)'].fillna(accidents_df['Temperature(F)'].median(), inplace=True)"
   ]
  },
  {
   "cell_type": "code",
   "execution_count": null,
   "metadata": {
    "colab": {
     "base_uri": "https://localhost:8080/"
    },
    "id": "yKfwwNiAfjHk",
    "outputId": "5af648e6-98b1-43e2-8f1c-f8d3ef820894"
   },
   "outputs": [],
   "source": [
    "accidents_df['Wind_Chill(F)'].value_counts()"
   ]
  },
  {
   "cell_type": "code",
   "execution_count": null,
   "metadata": {
    "colab": {
     "base_uri": "https://localhost:8080/"
    },
    "id": "j6yNJKabfsfX",
    "outputId": "b6096e00-e284-4620-efba-49d3831092bb"
   },
   "outputs": [],
   "source": [
    "accidents_df['Wind_Chill(F)'].describe()"
   ]
  },
  {
   "cell_type": "code",
   "execution_count": null,
   "metadata": {
    "colab": {
     "base_uri": "https://localhost:8080/"
    },
    "id": "BE5YBf1nfxQ5",
    "outputId": "4fb9e4c0-cca4-4500-bb0c-b4c43df95b56"
   },
   "outputs": [],
   "source": [
    "# Since Wind Chill is associated with Wind_Speed and Wind_Direction, lets check those values\n",
    "accidents_df['Wind_Direction'].value_counts()"
   ]
  },
  {
   "cell_type": "code",
   "execution_count": null,
   "metadata": {
    "id": "a16gK686iukI"
   },
   "outputs": [],
   "source": [
    "# Based on the values of Wind_Direction, i don't think it'll be useful for our analysis. So, dropping that field completely.\n",
    "#accidents_df.drop(columns=['Wind_Direction'], inplace=True)"
   ]
  },
  {
   "cell_type": "code",
   "execution_count": null,
   "metadata": {
    "colab": {
     "base_uri": "https://localhost:8080/"
    },
    "id": "XvKyqtzJgSfz",
    "outputId": "d1bf01cb-464e-419b-cf82-5ccf889b37d4"
   },
   "outputs": [],
   "source": [
    "accidents_df['Wind_Speed(mph)'].value_counts()"
   ]
  },
  {
   "cell_type": "code",
   "execution_count": null,
   "metadata": {
    "colab": {
     "base_uri": "https://localhost:8080/"
    },
    "id": "tfqv79YIgef9",
    "outputId": "58470865-50e8-4bc7-fd52-2b0ab7dd8dd2"
   },
   "outputs": [],
   "source": [
    "accidents_df['Wind_Speed(mph)'].describe()"
   ]
  },
  {
   "cell_type": "code",
   "execution_count": null,
   "metadata": {
    "colab": {
     "base_uri": "https://localhost:8080/",
     "height": 491
    },
    "id": "_HIHlzpUgmI8",
    "outputId": "a18bed69-31d4-4cd7-97e6-571a8c6ef631"
   },
   "outputs": [],
   "source": [
    "# Normally, temp, wind chill and wind speed are related in that wind chill is (temp - x*wind_speed) where x is simply 1 or some factor of it\n",
    "# Lets check values here\n",
    "accidents_df.loc[:,['Temperature(F)', 'Wind_Speed(mph)', 'Wind_Chill(F)']].head(15)"
   ]
  },
  {
   "cell_type": "code",
   "execution_count": null,
   "metadata": {
    "id": "aE1ImsRzisXJ"
   },
   "outputs": [],
   "source": [
    "# Above results confirms that theory. We can go ahead and calculate Wind_Chill(F) based on Wind_Speed(mph)\n",
    "# If both Wind_Chill(F) and Wind_Speed(mph) are NULL, then we can use the Temperatur(F) instead assuming there is NO wind\n",
    "# Finally, Wind_Speed(mph) is already part of Wind_Chill(F), we can drop that column.\n",
    "# You could argue that Wind_Chill and Temp has linear relationship as they both mostly has similar values \n",
    "# but thats not always the case. So, we'll keep both of them and check for multi-collinearity when evaluating the model.\n",
    "\n",
    "# First fill Wind_Chill using Wind_Speed where Wind_Chill = Temp-WindSpeed\n",
    "accidents_df['Wind_Chill(F)'] = accidents_df.apply(lambda row: row['Temperature(F)'] - row['Wind_Speed(mph)'] if np.isnan(row['Wind_Chill(F)']) else row['Wind_Chill(F)'], axis=1)\n"
   ]
  },
  {
   "cell_type": "code",
   "execution_count": null,
   "metadata": {
    "id": "baDwsgT7qZ9V",
    "scrolled": true
   },
   "outputs": [],
   "source": [
    "# Now, we're left with rows where wind_speed is also NULL. Fill in with temperature values\n",
    "accidents_df['Wind_Chill(F)'] = accidents_df.apply(lambda row: row['Temperature(F)'] if np.isnan(row['Wind_Chill(F)']) else row['Wind_Chill(F)'], axis=1)"
   ]
  },
  {
   "cell_type": "code",
   "execution_count": null,
   "metadata": {
    "id": "IO5lbkYMrFfy"
   },
   "outputs": [],
   "source": [
    "# Drop Wind_Speed column as its captured in Wind_Chill already\n",
    "accidents_df.drop(columns=['Wind_Speed(mph)'], inplace=True)"
   ]
  },
  {
   "cell_type": "code",
   "execution_count": null,
   "metadata": {
    "colab": {
     "base_uri": "https://localhost:8080/"
    },
    "id": "nglXhQu3n6qq",
    "outputId": "1516bf85-dd8e-4c0d-e97d-46fef62e0e5f"
   },
   "outputs": [],
   "source": [
    "# We filled most NULLs. Lets check where we stand now\n",
    "accidents_df.isnull().sum()"
   ]
  },
  {
   "cell_type": "code",
   "execution_count": null,
   "metadata": {
    "colab": {
     "base_uri": "https://localhost:8080/"
    },
    "id": "eGSKgCU9nv5e",
    "outputId": "622b9cb5-a0c2-42c2-c23c-ae5254b45ead"
   },
   "outputs": [],
   "source": [
    "accidents_df['Humidity(%)'].value_counts()"
   ]
  },
  {
   "cell_type": "code",
   "execution_count": null,
   "metadata": {
    "colab": {
     "base_uri": "https://localhost:8080/"
    },
    "id": "C9d3aJMPrgia",
    "outputId": "20a96888-f508-4a6c-a6cf-eaf323952a3c"
   },
   "outputs": [],
   "source": [
    "accidents_df['Humidity(%)'].describe()"
   ]
  },
  {
   "cell_type": "code",
   "execution_count": null,
   "metadata": {
    "colab": {
     "base_uri": "https://localhost:8080/"
    },
    "id": "9vB7QUz9rkhq",
    "outputId": "1ac9462c-d24a-45d2-d199-a0f428e85a38"
   },
   "outputs": [],
   "source": [
    "accidents_df['Weather_Condition'].value_counts()"
   ]
  },
  {
   "cell_type": "code",
   "execution_count": null,
   "metadata": {
    "colab": {
     "base_uri": "https://localhost:8080/"
    },
    "id": "5L37FGdBtFvk",
    "outputId": "3b9f75ae-8073-4a99-a7ae-ec08cc5ed524"
   },
   "outputs": [],
   "source": [
    "# Check the weather condition under which we're missing humidity values\n",
    "accidents_df.loc[np.isnan(accidents_df['Humidity(%)']), ['Weather_Condition']].value_counts()"
   ]
  },
  {
   "cell_type": "code",
   "execution_count": null,
   "metadata": {
    "id": "F1qGM7M9uQ7N"
   },
   "outputs": [],
   "source": [
    "# There is no easy way to fill Humidity % values. So, for now put it as 100% for all NULLs\n",
    "accidents_df['Humidity(%)'].fillna(100.0, inplace=True)"
   ]
  },
  {
   "cell_type": "code",
   "execution_count": null,
   "metadata": {
    "colab": {
     "base_uri": "https://localhost:8080/"
    },
    "id": "vwaYlAAktef3",
    "outputId": "966b82d5-3dd2-431b-fcee-c4f21f38aed2"
   },
   "outputs": [],
   "source": [
    "accidents_df['Pressure(in)'].value_counts()"
   ]
  },
  {
   "cell_type": "code",
   "execution_count": null,
   "metadata": {
    "colab": {
     "base_uri": "https://localhost:8080/"
    },
    "id": "RFM2HKPwvL2a",
    "outputId": "139924dc-49c6-4543-bc18-0826fc31d7c5"
   },
   "outputs": [],
   "source": [
    "accidents_df['Pressure(in)'].describe()"
   ]
  },
  {
   "cell_type": "code",
   "execution_count": null,
   "metadata": {
    "colab": {
     "base_uri": "https://localhost:8080/"
    },
    "id": "6YP9v0aIvP4z",
    "outputId": "208811e9-db66-4c1d-b598-0abb2ade543f"
   },
   "outputs": [],
   "source": [
    "print(accidents_df['Pressure(in)'].mean())\n",
    "print(accidents_df['Pressure(in)'].median())"
   ]
  },
  {
   "cell_type": "code",
   "execution_count": null,
   "metadata": {
    "id": "60GAS_f3vYxp"
   },
   "outputs": [],
   "source": [
    "# Fill in Median value for Pressure(in)\n",
    "accidents_df['Pressure(in)'].fillna(accidents_df['Pressure(in)'].median(), inplace=True)"
   ]
  },
  {
   "cell_type": "code",
   "execution_count": null,
   "metadata": {
    "colab": {
     "base_uri": "https://localhost:8080/"
    },
    "id": "8d6RM4_wvpSJ",
    "outputId": "c542f85c-7bce-4d01-f340-acc4cd76e6be"
   },
   "outputs": [],
   "source": [
    "accidents_df['Visibility(mi)'].value_counts()"
   ]
  },
  {
   "cell_type": "code",
   "execution_count": null,
   "metadata": {
    "colab": {
     "base_uri": "https://localhost:8080/"
    },
    "id": "HFvimPnXvwXl",
    "outputId": "9a6b1c27-04c3-4bf6-af32-ece2001365b0"
   },
   "outputs": [],
   "source": [
    "accidents_df['Visibility(mi)'].describe()"
   ]
  },
  {
   "cell_type": "code",
   "execution_count": null,
   "metadata": {
    "colab": {
     "base_uri": "https://localhost:8080/"
    },
    "id": "6WQntZG_v090",
    "outputId": "b063a353-7297-4e97-bcf9-24a2f582b0f4"
   },
   "outputs": [],
   "source": [
    "print(accidents_df['Visibility(mi)'].mean())\n",
    "print(accidents_df['Visibility(mi)'].median())"
   ]
  },
  {
   "cell_type": "code",
   "execution_count": null,
   "metadata": {
    "id": "cK4taMQ_v_uk"
   },
   "outputs": [],
   "source": [
    "# Fill in Median value for Visibility(mi)\n",
    "accidents_df['Visibility(mi)'].fillna(accidents_df['Visibility(mi)'].median(), inplace=True)"
   ]
  },
  {
   "cell_type": "code",
   "execution_count": null,
   "metadata": {
    "colab": {
     "base_uri": "https://localhost:8080/"
    },
    "id": "teE7jW3VwKFl",
    "outputId": "d4f4dfc6-e0cc-404a-a21d-581ff462f75a"
   },
   "outputs": [],
   "source": [
    "accidents_df['Weather_Condition'].value_counts()"
   ]
  },
  {
   "cell_type": "code",
   "execution_count": null,
   "metadata": {
    "colab": {
     "base_uri": "https://localhost:8080/"
    },
    "id": "VM0DuxY4wTzk",
    "outputId": "8d9cd15d-8c85-497d-bcea-8cf95bafe5fb"
   },
   "outputs": [],
   "source": [
    "accidents_df['Weather_Condition'].describe()"
   ]
  },
  {
   "cell_type": "code",
   "execution_count": null,
   "metadata": {
    "id": "QNumxe5LwdvJ"
   },
   "outputs": [],
   "source": [
    "# Fill Fair for All NULL Weather_Condition\n",
    "accidents_df['Weather_Condition'].fillna('Fair', inplace=True)"
   ]
  },
  {
   "cell_type": "code",
   "execution_count": null,
   "metadata": {
    "colab": {
     "base_uri": "https://localhost:8080/"
    },
    "id": "pqXPbIXzwxRI",
    "outputId": "ebaecab0-07f5-4515-c8d3-aeb7b42731ee"
   },
   "outputs": [],
   "source": [
    "accidents_df['Precipitation(in)'].value_counts()"
   ]
  },
  {
   "cell_type": "code",
   "execution_count": null,
   "metadata": {
    "colab": {
     "base_uri": "https://localhost:8080/"
    },
    "id": "yBCT1Qgvw4V3",
    "outputId": "d9af8332-2910-45df-f4ab-38573cd668f9"
   },
   "outputs": [],
   "source": [
    "# Check if weather condition when percipitation is NULL\n",
    "accidents_df.loc[np.isnan(accidents_df['Precipitation(in)']), ['Weather_Condition']].value_counts().head(15)"
   ]
  },
  {
   "cell_type": "code",
   "execution_count": null,
   "metadata": {
    "id": "D-dmkfwO09GX"
   },
   "outputs": [],
   "source": [
    "# Only about 20K records possbily might miss the actual Precipitation measurement. Other records should have 0.\n",
    "accidents_df['Precipitation(in)'].fillna(0.0, inplace=True)"
   ]
  },
  {
   "cell_type": "code",
   "execution_count": null,
   "metadata": {
    "id": "objYcAF01Xmf"
   },
   "outputs": [],
   "source": [
    "# We will not be using description in the modeling. So, lets drop that field\n",
    "accidents_df.drop(columns=['Description'], inplace=True)"
   ]
  },
  {
   "cell_type": "code",
   "execution_count": null,
   "metadata": {
    "colab": {
     "base_uri": "https://localhost:8080/"
    },
    "id": "j0Bi3_Sl1jvj",
    "outputId": "f87355e2-b14a-4cdb-c5b0-e792151a18ee"
   },
   "outputs": [],
   "source": [
    "accidents_df['Sunrise_Sunset'].value_counts()"
   ]
  },
  {
   "cell_type": "code",
   "execution_count": null,
   "metadata": {
    "colab": {
     "base_uri": "https://localhost:8080/"
    },
    "id": "dNQheCRM1tOV",
    "outputId": "064bb99b-5bc4-4787-8742-9ed7481507d4"
   },
   "outputs": [],
   "source": [
    "accidents_df['Civil_Twilight'].value_counts()"
   ]
  },
  {
   "cell_type": "code",
   "execution_count": null,
   "metadata": {
    "colab": {
     "base_uri": "https://localhost:8080/",
     "height": 491
    },
    "id": "P7IqMejm13Az",
    "outputId": "e8f4c382-f5c3-49aa-dd34-fb758ba6fa93"
   },
   "outputs": [],
   "source": [
    "# What time of the day that we're missing values for Sunrise_Sunset related fields...\n",
    "accidents_df.loc[accidents_df['Civil_Twilight'].isnull(), ['Start_Time', 'End_Time']].head(15)"
   ]
  },
  {
   "cell_type": "code",
   "execution_count": null,
   "metadata": {
    "id": "cLiBLNpJ2gBU"
   },
   "outputs": [],
   "source": [
    "# We could derive the values from Start/End Time but since these are small number of records, lets put it as 'Day'\n",
    "accidents_df['Civil_Twilight'].fillna('Day', inplace=True)"
   ]
  },
  {
   "cell_type": "code",
   "execution_count": null,
   "metadata": {
    "id": "IINZk75-2tqN"
   },
   "outputs": [],
   "source": [
    "accidents_df['Sunrise_Sunset'].fillna('Day', inplace=True)"
   ]
  },
  {
   "cell_type": "code",
   "execution_count": null,
   "metadata": {
    "id": "nrJHNRu22zML"
   },
   "outputs": [],
   "source": [
    "accidents_df['Nautical_Twilight'].fillna('Day', inplace=True)"
   ]
  },
  {
   "cell_type": "code",
   "execution_count": null,
   "metadata": {
    "id": "kthv4EJb23HO"
   },
   "outputs": [],
   "source": [
    "accidents_df['Astronomical_Twilight'].fillna('Day', inplace=True)"
   ]
  },
  {
   "cell_type": "code",
   "execution_count": null,
   "metadata": {
    "colab": {
     "base_uri": "https://localhost:8080/"
    },
    "id": "TTcGqo0EwpNj",
    "outputId": "263c1f63-bd45-41db-c3ca-e502a012e384"
   },
   "outputs": [],
   "source": [
    "# We filled all NULLs. Lets check where we stand now\n",
    "accidents_df.isnull().sum()"
   ]
  },
  {
   "cell_type": "code",
   "execution_count": null,
   "metadata": {
    "colab": {
     "base_uri": "https://localhost:8080/"
    },
    "id": "_sCQ_Bfi5o_b",
    "outputId": "810eb097-8a03-4018-af50-f4fd17bc1d7b"
   },
   "outputs": [],
   "source": [
    "accidents_df.info()"
   ]
  },
  {
   "cell_type": "code",
   "execution_count": 3,
   "metadata": {
    "id": "eHh-ftM-Wl1t"
   },
   "outputs": [],
   "source": [
    "# Lowercase column names\n",
    "accidents_df.columns = accidents_df.columns.str.lower()"
   ]
  },
  {
   "cell_type": "code",
   "execution_count": null,
   "metadata": {
    "id": "_TtlAW1wWu1M"
   },
   "outputs": [],
   "source": [
    "# unnecessary\n",
    "accidents_df.drop(columns=['id', 'source'], inplace=True)"
   ]
  },
  {
   "cell_type": "code",
   "execution_count": 4,
   "metadata": {
    "id": "ONTffrj4WvdT"
   },
   "outputs": [],
   "source": [
    "# turn columns to datetime\n",
    "accidents_df['start_time'] = pd.to_datetime(accidents_df['start_time'])\n",
    "accidents_df['end_time'] = pd.to_datetime(accidents_df['end_time'])"
   ]
  },
  {
   "cell_type": "code",
   "execution_count": 5,
   "metadata": {},
   "outputs": [],
   "source": [
    "# create a column that has the hour of the accident\n",
    "accidents_df['start_hour'] = accidents_df['start_time'].dt.hour\n",
    "accidents_df['end_hour'] = accidents_df['end_time'].dt.hour"
   ]
  },
  {
   "cell_type": "code",
   "execution_count": 6,
   "metadata": {
    "id": "VkSFesSaXSJ4"
   },
   "outputs": [],
   "source": [
    "# create a column that has the month of the accident\n",
    "accidents_df['month'] = accidents_df['start_time'].dt.month"
   ]
  },
  {
   "cell_type": "code",
   "execution_count": null,
   "metadata": {
    "id": "AFvmSQwwXr-j"
   },
   "outputs": [],
   "source": [
    "# create a function to calculate the total duration of the accident in minutes\n",
    "\n",
    "def datetime_to_minutes(df):\n",
    "    total_duration = []\n",
    "    \n",
    "    for x in range(len(df)-1):\n",
    "        total_duration.append(((df['end_time'][x] - df['start_time'][x]).total_seconds())/60)\n",
    "        \n",
    "    return total_duration"
   ]
  },
  {
   "cell_type": "code",
   "execution_count": null,
   "metadata": {
    "id": "wxdEm7aIXuRl"
   },
   "outputs": [],
   "source": [
    "# make a list of total duration\n",
    "total_duration = datetime_to_minutes(accidents_df)"
   ]
  },
  {
   "cell_type": "code",
   "execution_count": null,
   "metadata": {
    "id": "dyoUzm5CXyH2"
   },
   "outputs": [],
   "source": [
    "total_duration.append(((accidents_df['end_time'][117247] - accidents_df['start_time'][117247]).total_seconds())/60)"
   ]
  },
  {
   "cell_type": "code",
   "execution_count": null,
   "metadata": {
    "id": "Q_HeeJzsX_hW"
   },
   "outputs": [],
   "source": [
    "# create a column with the total duration of the accident\n",
    "accidents_df['total_duration'] = total_duration"
   ]
  },
  {
   "cell_type": "code",
   "execution_count": null,
   "metadata": {
    "id": "ZD8PujIYYILz"
   },
   "outputs": [],
   "source": [
    "def bool_to_int(bool):\n",
    "    if bool == True:\n",
    "        return 1\n",
    "    else:\n",
    "        return 0"
   ]
  },
  {
   "cell_type": "code",
   "execution_count": null,
   "metadata": {
    "id": "nJMcK-huYIwZ"
   },
   "outputs": [],
   "source": [
    "def bool_to_int_columns(df, columns):\n",
    "    for col in columns:\n",
    "        df[col] = df[col].apply(bool_to_int)\n",
    "        \n",
    "    return df"
   ]
  },
  {
   "cell_type": "code",
   "execution_count": null,
   "metadata": {
    "id": "fdT2VU37YJN4"
   },
   "outputs": [],
   "source": [
    "# turn boolean columns into integers\n",
    "accidents_df = bool_to_int_columns(accidents_df,['amenity','bump','crossing','give_way','junction','no_exit','railway',\n",
    "                          'roundabout','station','stop','traffic_calming','traffic_signal',\n",
    "                          'turning_loop'])"
   ]
  },
  {
   "cell_type": "code",
   "execution_count": null,
   "metadata": {
    "id": "88r3vLJOYJum"
   },
   "outputs": [],
   "source": [
    "def d_n_to_int(string):\n",
    "    if string == 'Day':\n",
    "        return 1\n",
    "    else:\n",
    "        return 0"
   ]
  },
  {
   "cell_type": "code",
   "execution_count": null,
   "metadata": {
    "id": "tiwSL1h1YY4u"
   },
   "outputs": [],
   "source": [
    "def d_n_to_int_columns(df, columns):\n",
    "    for col in columns:\n",
    "        df[col] = df[col].apply(d_n_to_int)\n",
    "        \n",
    "    return df"
   ]
  },
  {
   "cell_type": "code",
   "execution_count": null,
   "metadata": {
    "id": "U5J4xi5NYbjz"
   },
   "outputs": [],
   "source": [
    "# Turn night/day columns into integers\n",
    "accidents_df = d_n_to_int_columns(accidents_df,['sunrise_sunset','civil_twilight',\n",
    "                                'nautical_twilight','astronomical_twilight'])"
   ]
  },
  {
   "cell_type": "code",
   "execution_count": null,
   "metadata": {
    "id": "XJTiPCawZ82Q"
   },
   "outputs": [],
   "source": [
    "# dummify categorical columns\n",
    "accidents_df = pd.get_dummies(accidents_df, columns = ['weather_condition','wind_direction','tmc'])"
   ]
  },
  {
   "cell_type": "code",
   "execution_count": null,
   "metadata": {
    "id": "ulOPYUpZYfxx"
   },
   "outputs": [],
   "source": [
    "# binarize side column\n",
    "accidents_df['side'] = accidents_df['side'].map({'R': 1,'L': 0})"
   ]
  },
  {
   "cell_type": "code",
   "execution_count": null,
   "metadata": {},
   "outputs": [],
   "source": [
    "# combine calm columns\n",
    "accidents_df['wind_direction_Calm'] = accidents_df['wind_direction_Calm'] + accidents_df['wind_direction_CALM']"
   ]
  },
  {
   "cell_type": "code",
   "execution_count": null,
   "metadata": {},
   "outputs": [],
   "source": [
    "# drop CALM column\n",
    "accidents_df.drop(columns = ['wind_direction_CALM'], inplace = True)"
   ]
  },
  {
   "cell_type": "code",
   "execution_count": null,
   "metadata": {},
   "outputs": [],
   "source": [
    "# taking out punctuation and other characters that aren't allowed\n",
    "# to be uploaded in Google BigQuery\n",
    "\n",
    "names = []\n",
    "\n",
    "for col_names in accidents_df.columns:\n",
    "    names.append(col_names.strip().replace('(','').replace(')','').replace('/','').replace('%','').replace(' ','').replace('-','_').replace('.0',''))\n",
    "\n",
    "accidents_df.columns = names"
   ]
  },
  {
   "cell_type": "code",
   "execution_count": null,
   "metadata": {
    "id": "M1MaJwuIwuV4"
   },
   "outputs": [],
   "source": [
    "# Save the cleaned up version into csv\n",
    "accidents_df.to_csv('US_Accidents_CleanedUp.csv')"
   ]
  },
  {
   "cell_type": "markdown",
   "metadata": {},
   "source": [
    "<a id='gbq'></a>\n",
    "## Google BigQuery"
   ]
  },
  {
   "cell_type": "code",
   "execution_count": null,
   "metadata": {},
   "outputs": [],
   "source": [
    "# Jaco\n",
    "with open('../../super_keys/dsi-team.json','r') as json_file:\n",
    "    creds = json.load(json_file)"
   ]
  },
  {
   "cell_type": "code",
   "execution_count": null,
   "metadata": {},
   "outputs": [],
   "source": [
    "# Nat\n",
    "# with open('nats pathway','r') as json_file:\n",
    "#     coin_creds = json.load(json_file)"
   ]
  },
  {
   "cell_type": "code",
   "execution_count": null,
   "metadata": {},
   "outputs": [],
   "source": [
    "# Jonathan\n",
    "# with open('jons pathway','r') as json_file:\n",
    "#     coin_creds = json.load(json_file)"
   ]
  },
  {
   "cell_type": "code",
   "execution_count": null,
   "metadata": {},
   "outputs": [],
   "source": [
    "# James\n",
    "# with open('james pathway','r') as json_file:\n",
    "#     coin_creds = json.load(json_file)"
   ]
  },
  {
   "cell_type": "markdown",
   "metadata": {},
   "source": [
    "Ran the code below to upload our accidents_df to Google BigQuery.  Turning this cell into markdown so because it doesn't need to be reran.\n",
    "\n",
    "accidents_df.to_gbq('accidents.accidents', project_id = creds['project_id'], if_exists = 'append',reauth = True)"
   ]
  },
  {
   "cell_type": "code",
   "execution_count": null,
   "metadata": {},
   "outputs": [],
   "source": [
    "query = \"\"\"\n",
    "SELECT *\n",
    "FROM `dsi-team-project.accidents.accidents`\n",
    "\"\"\"\n",
    "\n",
    "accidents = pd.read_gbq(query, project_id=creds['project_id'], reauth = True)"
   ]
  },
  {
   "cell_type": "code",
   "execution_count": null,
   "metadata": {
    "id": "wq2Ib9r9pPaO"
   },
   "outputs": [],
   "source": [
    "accidents"
   ]
  },
  {
   "cell_type": "markdown",
   "metadata": {},
   "source": [
    "<a id='mod'></a>\n",
    "## Saving Necessary Model Data"
   ]
  },
  {
   "cell_type": "markdown",
   "metadata": {},
   "source": [
    "Starting cleaning over because the data is so large that certain cleaning methods (get_dummies) requires more data than local CPU can handle.  As a result, we are going to create a virtual machine one Google Cloud Platform in order to handle the cleaning and modeling."
   ]
  },
  {
   "cell_type": "code",
   "execution_count": null,
   "metadata": {
    "id": "2MftxVPUYiAu"
   },
   "outputs": [],
   "source": [
    "# Load data from csv\n",
    "accidents_df = pd.read_csv('../data/US_Accidents_Dec20.csv')"
   ]
  },
  {
   "cell_type": "code",
   "execution_count": null,
   "metadata": {},
   "outputs": [],
   "source": [
    "# make columns lowercase\n",
    "accidents_df.columns = accidents_df.columns.str.lower()"
   ]
  },
  {
   "cell_type": "code",
   "execution_count": null,
   "metadata": {},
   "outputs": [],
   "source": [
    "# taking out punctuation and other characters to maintain commonality between datasets\n",
    "\n",
    "names = []\n",
    "\n",
    "for col_names in accidents_df.columns:\n",
    "    names.append(col_names.strip().replace('(','').replace(')','').replace('/','').replace('%','').replace(' ','').replace('-','_').replace('.0',''))\n",
    "\n",
    "accidents_df.columns = names"
   ]
  },
  {
   "cell_type": "code",
   "execution_count": null,
   "metadata": {},
   "outputs": [],
   "source": [
    "# because multiple counties have the same name as others in different states,\n",
    "# merging county and state to make them unique\n",
    "accidents_df['county'] = accidents_df['county'] + accidents_df['state']"
   ]
  },
  {
   "cell_type": "code",
   "execution_count": null,
   "metadata": {},
   "outputs": [],
   "source": [
    "# create balanced classes (severity 1 is the smallest with 29312 instances)\n",
    "sev_1 = accidents_df[accidents_df['severity'] == 1]\n",
    "sev_2 = accidents_df[accidents_df['severity'] == 2].head(29312)\n",
    "sev_3 = accidents_df[accidents_df['severity'] == 3].head(29312)\n",
    "sev_4 = accidents_df[accidents_df['severity'] == 4].head(29312)\n",
    "selected = pd.concat([sev_1,sev_2,sev_3,sev_4], axis = 0).reset_index()"
   ]
  },
  {
   "cell_type": "code",
   "execution_count": null,
   "metadata": {},
   "outputs": [],
   "source": [
    "# after initial model created using all of the features, choosing to select these\n",
    "# features for final model\n",
    "selected = selected[['severity','temperaturef','county','humidity','visibilitymi',\n",
    "                     'wind_speedmph','precipitationin','traffic_signal','county',\n",
    "                     'weather_condition','side','crossing','junction','stop',\n",
    "                     'distancemi','wind_chillf','traffic_signal','sunrise_sunset',\n",
    "                     'civil_twilight','nautical_twilight','astronomical_twilight',\n",
    "                     'start_hour','end_hour','month','total_duration']]"
   ]
  },
  {
   "cell_type": "code",
   "execution_count": null,
   "metadata": {},
   "outputs": [],
   "source": [
    "# save as csv\n",
    "selected.to_csv('./selected.csv')"
   ]
  },
  {
   "cell_type": "markdown",
   "metadata": {},
   "source": [
    "## EDA"
   ]
  },
  {
   "cell_type": "code",
   "execution_count": 7,
   "metadata": {},
   "outputs": [
    {
     "data": {
      "text/html": [
       "<div>\n",
       "<style scoped>\n",
       "    .dataframe tbody tr th:only-of-type {\n",
       "        vertical-align: middle;\n",
       "    }\n",
       "\n",
       "    .dataframe tbody tr th {\n",
       "        vertical-align: top;\n",
       "    }\n",
       "\n",
       "    .dataframe thead th {\n",
       "        text-align: right;\n",
       "    }\n",
       "</style>\n",
       "<table border=\"1\" class=\"dataframe\">\n",
       "  <thead>\n",
       "    <tr style=\"text-align: right;\">\n",
       "      <th></th>\n",
       "      <th>id</th>\n",
       "      <th>source</th>\n",
       "      <th>tmc</th>\n",
       "      <th>severity</th>\n",
       "      <th>start_time</th>\n",
       "      <th>end_time</th>\n",
       "      <th>start_lat</th>\n",
       "      <th>start_lng</th>\n",
       "      <th>end_lat</th>\n",
       "      <th>end_lng</th>\n",
       "      <th>...</th>\n",
       "      <th>traffic_calming</th>\n",
       "      <th>traffic_signal</th>\n",
       "      <th>turning_loop</th>\n",
       "      <th>sunrise_sunset</th>\n",
       "      <th>civil_twilight</th>\n",
       "      <th>nautical_twilight</th>\n",
       "      <th>astronomical_twilight</th>\n",
       "      <th>start_hour</th>\n",
       "      <th>end_hour</th>\n",
       "      <th>month</th>\n",
       "    </tr>\n",
       "  </thead>\n",
       "  <tbody>\n",
       "    <tr>\n",
       "      <th>0</th>\n",
       "      <td>A-1</td>\n",
       "      <td>MapQuest</td>\n",
       "      <td>201.0</td>\n",
       "      <td>3</td>\n",
       "      <td>2016-02-08 05:46:00</td>\n",
       "      <td>2016-02-08 11:00:00</td>\n",
       "      <td>39.865147</td>\n",
       "      <td>-84.058723</td>\n",
       "      <td>NaN</td>\n",
       "      <td>NaN</td>\n",
       "      <td>...</td>\n",
       "      <td>False</td>\n",
       "      <td>False</td>\n",
       "      <td>False</td>\n",
       "      <td>Night</td>\n",
       "      <td>Night</td>\n",
       "      <td>Night</td>\n",
       "      <td>Night</td>\n",
       "      <td>5</td>\n",
       "      <td>11</td>\n",
       "      <td>2</td>\n",
       "    </tr>\n",
       "  </tbody>\n",
       "</table>\n",
       "<p>1 rows × 52 columns</p>\n",
       "</div>"
      ],
      "text/plain": [
       "    id    source    tmc  severity          start_time            end_time  \\\n",
       "0  A-1  MapQuest  201.0         3 2016-02-08 05:46:00 2016-02-08 11:00:00   \n",
       "\n",
       "   start_lat  start_lng  end_lat  end_lng  ...  traffic_calming  \\\n",
       "0  39.865147 -84.058723      NaN      NaN  ...            False   \n",
       "\n",
       "  traffic_signal  turning_loop sunrise_sunset civil_twilight  \\\n",
       "0          False         False          Night          Night   \n",
       "\n",
       "  nautical_twilight astronomical_twilight start_hour end_hour month  \n",
       "0             Night                 Night          5       11     2  \n",
       "\n",
       "[1 rows x 52 columns]"
      ]
     },
     "execution_count": 7,
     "metadata": {},
     "output_type": "execute_result"
    }
   ],
   "source": [
    "accidents_df.head(1)"
   ]
  },
  {
   "cell_type": "code",
   "execution_count": 35,
   "metadata": {},
   "outputs": [
    {
     "data": {
      "image/png": "[encoded data removed]",
      "text/plain": [
       "<Figure size 432x288 with 1 Axes>"
      ]
     },
     "metadata": {
      "needs_background": "light"
     },
     "output_type": "display_data"
    }
   ],
   "source": [
    "accidents_df['severity'].value_counts().plot(\n",
    "    kind = 'barh', \n",
    "    color = ['red', 'orange', 'yellow', 'blue']\n",
    ")\n",
    "\n",
    "plt.legend().set_visible(False)\n",
    "plt.xlabel('Frequency (millions)')\n",
    "plt.ylabel('Severity')\n",
    "plt.title('Model Feature Importance')\n",
    "plt.gca().invert_yaxis();"
   ]
  },
  {
   "cell_type": "code",
   "execution_count": 183,
   "metadata": {},
   "outputs": [
    {
     "data": {
      "image/png": "[encoded data removed]",
      "text/plain": [
       "<Figure size 432x288 with 1 Axes>"
      ]
     },
     "metadata": {
      "needs_background": "light"
     },
     "output_type": "display_data"
    }
   ],
   "source": [
    "ax = accidents_df.groupby('start_hour')['severity'].value_counts().head(48).plot(\n",
    "    kind = 'barh',\n",
    "    color = ['yellow','orange','red','blue']\n",
    ")\n",
    "\n",
    "plt.rcParams['text.color'] = 'black'\n",
    "plt.rcParams['axes.labelcolor'] = 'black'\n",
    "plt.rcParams['xtick.color'] = 'black'\n",
    "plt.rcParams['ytick.color'] = 'black'\n",
    "\n",
    "positions = range(48)\n",
    "labels = ('','','12AM','','','','1AM','','','','2AM','','','','3AM','','','','4AM',\n",
    "          '','','','5AM','','','','6AM','','','','7AM','','','','8AM','','','','9AM',\n",
    "          '','','','10AM','','','','11AM''','')\n",
    "plt.yticks(positions,labels)\n",
    "\n",
    "plt.legend(loc='lower right')\n",
    "blue_patch = mpatches.Patch(color='blue', label='1')\n",
    "red_patch = mpatches.Patch(color='yellow', label='2')\n",
    "orange_patch = mpatches.Patch(color='orange', label='3')\n",
    "yellow_patch = mpatches.Patch(color='red', label='4')\n",
    "plt.legend(handles=[red_patch,orange_patch,yellow_patch,blue_patch])\n",
    "\n",
    "ax.set_facecolor('grey')\n",
    "plt.xlabel('Frequency')\n",
    "plt.ylabel('Hour')\n",
    "plt.title('Morning Severity Frequency')\n",
    "plt.gca().invert_yaxis();"
   ]
  },
  {
   "cell_type": "code",
   "execution_count": 182,
   "metadata": {},
   "outputs": [
    {
     "data": {
      "image/png": "[encoded data removed]",
      "text/plain": [
       "<Figure size 432x288 with 1 Axes>"
      ]
     },
     "metadata": {
      "needs_background": "light"
     },
     "output_type": "display_data"
    }
   ],
   "source": [
    "ax = accidents_df.groupby('start_hour')['severity'].value_counts().tail(48).plot(\n",
    "    kind = 'barh',\n",
    "    color = ['yellow','orange','red','blue']\n",
    ")\n",
    "\n",
    "plt.rcParams['text.color'] = 'black'\n",
    "plt.rcParams['axes.labelcolor'] = 'black'\n",
    "plt.rcParams['xtick.color'] = 'black'\n",
    "plt.rcParams['ytick.color'] = 'black'\n",
    "\n",
    "positions = range(48)\n",
    "labels = ('','','12PM','','','','1PM','','','','2PM','','','','3PM','','','','4PM',\n",
    "          '','','','5PM','','','','6PM','','','','7PM','','','','8PM','','','','9PM',\n",
    "          '','','','10PM','','','','11PM''','')\n",
    "plt.yticks(positions,labels)\n",
    "\n",
    "plt.legend(loc='lower right')\n",
    "blue_patch = mpatches.Patch(color='blue', label='1')\n",
    "red_patch = mpatches.Patch(color='yellow', label='2')\n",
    "orange_patch = mpatches.Patch(color='orange', label='3')\n",
    "yellow_patch = mpatches.Patch(color='red', label='4')\n",
    "plt.legend(handles=[red_patch,orange_patch,yellow_patch,blue_patch])\n",
    "\n",
    "ax.set_facecolor('grey')\n",
    "plt.xlabel('Frequency')\n",
    "plt.ylabel('Hour')\n",
    "plt.title('Night Severity Frequency')\n",
    "plt.gca().invert_yaxis();"
   ]
  },
  {
   "cell_type": "code",
   "execution_count": 181,
   "metadata": {},
   "outputs": [
    {
     "data": {
      "image/png": "[encoded data removed]",
      "text/plain": [
       "<Figure size 432x288 with 1 Axes>"
      ]
     },
     "metadata": {
      "needs_background": "light"
     },
     "output_type": "display_data"
    }
   ],
   "source": [
    "ax = accidents_df.groupby('month')['severity'].value_counts().tail(48).plot(\n",
    "    kind = 'barh',\n",
    "    color = ['yellow','orange','red','blue']\n",
    ")\n",
    "\n",
    "plt.rcParams['text.color'] = 'black'\n",
    "plt.rcParams['axes.labelcolor'] = 'black'\n",
    "plt.rcParams['xtick.color'] = 'black'\n",
    "plt.rcParams['ytick.color'] = 'black'\n",
    "\n",
    "positions = range(48)\n",
    "labels = ('','','January','','','','February','','','','March','','','','April','','',\n",
    "          '','May','','','','June','','','','July','','','','August','','','',\n",
    "          'September','','','','October',\n",
    "          '','','','November','','','','December','')\n",
    "plt.yticks(positions,labels)\n",
    "\n",
    "plt.legend(loc='lower right')\n",
    "blue_patch = mpatches.Patch(color='blue', label='1')\n",
    "red_patch = mpatches.Patch(color='yellow', label='2')\n",
    "orange_patch = mpatches.Patch(color='orange', label='3')\n",
    "yellow_patch = mpatches.Patch(color='red', label='4')\n",
    "plt.legend(handles=[red_patch,orange_patch,yellow_patch,blue_patch])\n",
    "\n",
    "ax.set_facecolor('grey')\n",
    "plt.xlabel('Frequency')\n",
    "plt.ylabel('Month')\n",
    "plt.title('Month Severity Frequency')\n",
    "plt.gca().invert_yaxis();"
   ]
  },
  {
   "cell_type": "code",
   "execution_count": 178,
   "metadata": {},
   "outputs": [
    {
     "data": {
      "image/png": "[encoded data removed]",
      "text/plain": [
       "<Figure size 432x288 with 1 Axes>"
      ]
     },
     "metadata": {
      "needs_background": "light"
     },
     "output_type": "display_data"
    }
   ],
   "source": [
    "ax = accidents_df['state'].value_counts().head(10).plot(\n",
    "    kind = 'barh', \n",
    "    color = 'red'\n",
    ")\n",
    "\n",
    "ax.set_facecolor('grey')\n",
    "plt.legend(loc='lower right')\n",
    "plt.xlabel('Frequency (millions)')\n",
    "plt.ylabel('State')\n",
    "plt.title('Top 10 States with Car Accidents',color = 'black')\n",
    "plt.gca().invert_yaxis();"
   ]
  },
  {
   "cell_type": "code",
   "execution_count": 177,
   "metadata": {},
   "outputs": [
    {
     "data": {
      "image/png": "[encoded data removed]",
      "text/plain": [
       "<Figure size 432x288 with 1 Axes>"
      ]
     },
     "metadata": {
      "needs_background": "light"
     },
     "output_type": "display_data"
    }
   ],
   "source": [
    "ax = accidents_df['state'].value_counts().tail(10).plot(\n",
    "    kind = 'barh', \n",
    "    color = 'red'\n",
    ")\n",
    "\n",
    "ax.set_facecolor('grey')\n",
    "plt.legend(loc='lower right')\n",
    "plt.xlabel('Frequency')\n",
    "plt.ylabel('State')\n",
    "plt.title('Bottom 10 States with Car Accidents',color = 'black')\n",
    "plt.gca().invert_yaxis();"
   ]
  },
  {
   "cell_type": "code",
   "execution_count": 50,
   "metadata": {},
   "outputs": [],
   "source": [
    "# because multiple counties have the same name as others in different states,\n",
    "# merging county and state to make them unique\n",
    "accidents_df['county_state'] = accidents_df['county'] + accidents_df['state']"
   ]
  },
  {
   "cell_type": "code",
   "execution_count": 52,
   "metadata": {},
   "outputs": [],
   "source": [
    "# because multiple cities have the same name as others in different states,\n",
    "# merging city and state to make them unique\n",
    "accidents_df['city_state'] = accidents_df['city'] + accidents_df['state']"
   ]
  },
  {
   "cell_type": "code",
   "execution_count": 176,
   "metadata": {},
   "outputs": [
    {
     "data": {
      "image/png": "[encoded data removed]",
      "text/plain": [
       "<Figure size 432x288 with 1 Axes>"
      ]
     },
     "metadata": {
      "needs_background": "light"
     },
     "output_type": "display_data"
    }
   ],
   "source": [
    "ax = accidents_df['county_state'].value_counts().head(10).plot(\n",
    "    kind = 'barh', \n",
    "    color = 'red'\n",
    ")\n",
    "\n",
    "ax.set_facecolor('grey')\n",
    "plt.legend(loc='lower right')\n",
    "plt.xlabel('Frequency')\n",
    "plt.ylabel('County')\n",
    "plt.title('Top 10 Counties with Car Accidents',color = 'black')\n",
    "plt.gca().invert_yaxis();"
   ]
  },
  {
   "cell_type": "code",
   "execution_count": 175,
   "metadata": {},
   "outputs": [
    {
     "data": {
      "image/png": "[encoded data removed]",
      "text/plain": [
       "<Figure size 432x288 with 1 Axes>"
      ]
     },
     "metadata": {
      "needs_background": "light"
     },
     "output_type": "display_data"
    }
   ],
   "source": [
    "ax = accidents_df['city_state'].value_counts().head(10).plot(\n",
    "    kind = 'barh', \n",
    "    color = 'red'\n",
    ")\n",
    "\n",
    "ax.set_facecolor('grey')\n",
    "plt.legend(loc='lower right')\n",
    "plt.xlabel('Frequency')\n",
    "plt.ylabel('City')\n",
    "plt.title('Top 10 Cities with Car Accidents',color = 'black')\n",
    "plt.gca().invert_yaxis();"
   ]
  },
  {
   "cell_type": "code",
   "execution_count": 55,
   "metadata": {},
   "outputs": [],
   "source": [
    "# https://worldpopulationreview.com/us-cities\n",
    "city_pop = pd.read_csv('./population/2021_city_pop.csv')"
   ]
  },
  {
   "cell_type": "code",
   "execution_count": 56,
   "metadata": {},
   "outputs": [],
   "source": [
    "# https://www2.census.gov/programs-surveys/popest/datasets/2010-2019/state/\n",
    "state_pop = pd.read_csv('./population/2019_state_pop.csv')"
   ]
  },
  {
   "cell_type": "code",
   "execution_count": 57,
   "metadata": {},
   "outputs": [],
   "source": [
    "# https://worldpopulationreview.com/us-counties\n",
    "county_pop = pd.read_csv('./population/county_pop.csv')"
   ]
  },
  {
   "cell_type": "code",
   "execution_count": 174,
   "metadata": {},
   "outputs": [
    {
     "name": "stderr",
     "output_type": "stream",
     "text": [
      "<ipython-input-174-8a7c57036440>:1: FutureWarning: Indexing with multiple keys (implicitly converted to a tuple of keys) will be deprecated, use a list instead.\n",
      "  ax = county_pop.groupby('County')['County','pop2021'].sum().sort_values(\n"
     ]
    },
    {
     "data": {
      "image/png": "[encoded data removed]",
      "text/plain": [
       "<Figure size 432x288 with 1 Axes>"
      ]
     },
     "metadata": {
      "needs_background": "light"
     },
     "output_type": "display_data"
    }
   ],
   "source": [
    "ax = county_pop.groupby('County')['County','pop2021'].sum().sort_values(\n",
    "    by = 'pop2021', ascending = False).head(10).plot(\n",
    "    kind = 'barh',\n",
    "    color = ['yellow']\n",
    ")\n",
    "\n",
    "ax.set_facecolor('grey')\n",
    "plt.legend(loc='lower right')\n",
    "plt.xlabel('Population (millions)')\n",
    "plt.ylabel('County')\n",
    "plt.title('Top 10 Populated Counties',color = 'black')\n",
    "plt.gca().invert_yaxis();"
   ]
  },
  {
   "cell_type": "code",
   "execution_count": 173,
   "metadata": {
    "scrolled": true
   },
   "outputs": [
    {
     "name": "stderr",
     "output_type": "stream",
     "text": [
      "<ipython-input-173-394033dc9030>:1: FutureWarning: Indexing with multiple keys (implicitly converted to a tuple of keys) will be deprecated, use a list instead.\n",
      "  ax = city_pop.groupby('name')['name','pop2021'].sum().sort_values(\n"
     ]
    },
    {
     "data": {
      "image/png": "[encoded data removed]",
      "text/plain": [
       "<Figure size 432x288 with 1 Axes>"
      ]
     },
     "metadata": {
      "needs_background": "light"
     },
     "output_type": "display_data"
    }
   ],
   "source": [
    "ax = city_pop.groupby('name')['name','pop2021'].sum().sort_values(\n",
    "    by = 'pop2021', ascending = False).head(10).plot(\n",
    "    kind = 'barh',\n",
    "    color = ['yellow']\n",
    ")\n",
    "\n",
    "ax.set_facecolor('grey')\n",
    "plt.legend(loc='lower right')\n",
    "plt.xlabel('Population (millions)')\n",
    "plt.ylabel('City')\n",
    "plt.title('Top 10 Populated Cities',color = 'black')\n",
    "plt.gca().invert_yaxis();"
   ]
  },
  {
   "cell_type": "code",
   "execution_count": 172,
   "metadata": {
    "scrolled": true
   },
   "outputs": [
    {
     "name": "stderr",
     "output_type": "stream",
     "text": [
      "<ipython-input-172-56dc925764ef>:1: FutureWarning: Indexing with multiple keys (implicitly converted to a tuple of keys) will be deprecated, use a list instead.\n",
      "  ax = state_pop.groupby('NAME')['NAME','POPESTIMATE2019'].sum().sort_values(\n"
     ]
    },
    {
     "data": {
      "image/png": "[encoded data removed]",
      "text/plain": [
       "<Figure size 432x288 with 1 Axes>"
      ]
     },
     "metadata": {
      "needs_background": "light"
     },
     "output_type": "display_data"
    }
   ],
   "source": [
    "ax = state_pop.groupby('NAME')['NAME','POPESTIMATE2019'].sum().sort_values(\n",
    "    by = 'POPESTIMATE2019', ascending = False)[1:11].plot(\n",
    "    kind = 'barh',\n",
    "    color = ['yellow']\n",
    ")\n",
    "\n",
    "ax.set_facecolor('grey')\n",
    "plt.legend(loc='lower right')\n",
    "plt.xlabel('Population (ten million)')\n",
    "plt.ylabel('State')\n",
    "plt.title('Top 10 Populated States',color = 'black')\n",
    "plt.gca().invert_yaxis();"
   ]
  },
  {
   "cell_type": "code",
   "execution_count": 171,
   "metadata": {
    "scrolled": true
   },
   "outputs": [
    {
     "name": "stderr",
     "output_type": "stream",
     "text": [
      "<ipython-input-171-6c3f5b8ed78e>:1: FutureWarning: Indexing with multiple keys (implicitly converted to a tuple of keys) will be deprecated, use a list instead.\n",
      "  ax = state_pop.groupby('NAME')['NAME','POPESTIMATE2019'].sum().sort_values(\n"
     ]
    },
    {
     "data": {
      "image/png": "[encoded data removed]",
      "text/plain": [
       "<Figure size 432x288 with 1 Axes>"
      ]
     },
     "metadata": {
      "needs_background": "light"
     },
     "output_type": "display_data"
    }
   ],
   "source": [
    "ax = state_pop.groupby('NAME')['NAME','POPESTIMATE2019'].sum().sort_values(\n",
    "    by = 'POPESTIMATE2019').head(10).plot(\n",
    "    kind = 'barh',\n",
    "    color = ['yellow']\n",
    ")\n",
    "\n",
    "plt.rcParams['text.color'] = 'black'\n",
    "plt.rcParams['axes.labelcolor'] = 'black'\n",
    "plt.rcParams['xtick.color'] = 'black'\n",
    "plt.rcParams['ytick.color'] = 'black'\n",
    "\n",
    "ax.set_facecolor('grey')\n",
    "plt.legend(loc='lower right')\n",
    "plt.xlabel('Population (ten million)')\n",
    "plt.ylabel('State')\n",
    "plt.title('Bottom 10 Populated State',color = 'black');"
   ]
  }
 ],
 "metadata": {
  "kernelspec": {
   "display_name": "Python 3",
   "language": "python",
   "name": "python3"
  },
  "language_info": {
   "codemirror_mode": {
    "name": "ipython",
    "version": 3
   },
   "file_extension": ".py",
   "mimetype": "text/x-python",
   "name": "python",
   "nbconvert_exporter": "python",
   "pygments_lexer": "ipython3",
   "version": "3.8.3"
  }
 },
 "nbformat": 4,
 "nbformat_minor": 4
}
