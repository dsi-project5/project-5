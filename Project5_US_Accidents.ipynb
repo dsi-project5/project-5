{
 "cells": [
  {
   "cell_type": "markdown",
   "metadata": {
    "colab_type": "text",
    "id": "view-in-github"
   },
   "source": [
    "<a href=\"https://colab.research.google.com/github/dsi-project5/project-5/blob/master/Project5_US_Accidents.ipynb\" target=\"_parent\"><img src=\"https://colab.research.google.com/assets/colab-badge.svg\" alt=\"Open In Colab\"/></a>"
   ]
  },
  {
   "cell_type": "code",
   "execution_count": 1,
   "metadata": {
    "id": "pjpQBt7_aOna"
   },
   "outputs": [],
   "source": [
    "import pandas as pd\n",
    "import numpy as np\n",
    "import matplotlib.pyplot as plt\n",
    "import json\n",
    "\n",
    "from google.cloud import bigquery"
   ]
  },
  {
   "cell_type": "markdown",
   "metadata": {},
   "source": [
    "## Read in Data"
   ]
  },
  {
   "cell_type": "code",
   "execution_count": 2,
   "metadata": {
    "id": "2MftxVPUYiAu"
   },
   "outputs": [],
   "source": [
    "# Load data from csv\n",
    "accidents_df = pd.read_csv('./US_Accidents_Dec20.csv')"
   ]
  },
  {
   "cell_type": "code",
   "execution_count": 3,
   "metadata": {},
   "outputs": [],
   "source": [
    "pd.set_option('display.max_columns',150)"
   ]
  },
  {
   "cell_type": "code",
   "execution_count": 4,
   "metadata": {
    "colab": {
     "base_uri": "https://localhost:8080/",
     "height": 518
    },
    "id": "3sxRz5YSYwfb",
    "outputId": "cbe8ffcc-ce92-4fad-9372-7278fa1ce82e"
   },
   "outputs": [
    {
     "data": {
      "text/html": [
       "<div>\n",
       "<style scoped>\n",
       "    .dataframe tbody tr th:only-of-type {\n",
       "        vertical-align: middle;\n",
       "    }\n",
       "\n",
       "    .dataframe tbody tr th {\n",
       "        vertical-align: top;\n",
       "    }\n",
       "\n",
       "    .dataframe thead th {\n",
       "        text-align: right;\n",
       "    }\n",
       "</style>\n",
       "<table border=\"1\" class=\"dataframe\">\n",
       "  <thead>\n",
       "    <tr style=\"text-align: right;\">\n",
       "      <th></th>\n",
       "      <th>ID</th>\n",
       "      <th>Source</th>\n",
       "      <th>TMC</th>\n",
       "      <th>Severity</th>\n",
       "      <th>Start_Time</th>\n",
       "      <th>End_Time</th>\n",
       "      <th>Start_Lat</th>\n",
       "      <th>Start_Lng</th>\n",
       "      <th>End_Lat</th>\n",
       "      <th>End_Lng</th>\n",
       "      <th>Distance(mi)</th>\n",
       "      <th>Description</th>\n",
       "      <th>Number</th>\n",
       "      <th>Street</th>\n",
       "      <th>Side</th>\n",
       "      <th>City</th>\n",
       "      <th>County</th>\n",
       "      <th>State</th>\n",
       "      <th>Zipcode</th>\n",
       "      <th>Country</th>\n",
       "      <th>Timezone</th>\n",
       "      <th>Airport_Code</th>\n",
       "      <th>Weather_Timestamp</th>\n",
       "      <th>Temperature(F)</th>\n",
       "      <th>Wind_Chill(F)</th>\n",
       "      <th>Humidity(%)</th>\n",
       "      <th>Pressure(in)</th>\n",
       "      <th>Visibility(mi)</th>\n",
       "      <th>Wind_Direction</th>\n",
       "      <th>Wind_Speed(mph)</th>\n",
       "      <th>Precipitation(in)</th>\n",
       "      <th>Weather_Condition</th>\n",
       "      <th>Amenity</th>\n",
       "      <th>Bump</th>\n",
       "      <th>Crossing</th>\n",
       "      <th>Give_Way</th>\n",
       "      <th>Junction</th>\n",
       "      <th>No_Exit</th>\n",
       "      <th>Railway</th>\n",
       "      <th>Roundabout</th>\n",
       "      <th>Station</th>\n",
       "      <th>Stop</th>\n",
       "      <th>Traffic_Calming</th>\n",
       "      <th>Traffic_Signal</th>\n",
       "      <th>Turning_Loop</th>\n",
       "      <th>Sunrise_Sunset</th>\n",
       "      <th>Civil_Twilight</th>\n",
       "      <th>Nautical_Twilight</th>\n",
       "      <th>Astronomical_Twilight</th>\n",
       "    </tr>\n",
       "  </thead>\n",
       "  <tbody>\n",
       "    <tr>\n",
       "      <th>0</th>\n",
       "      <td>A-1</td>\n",
       "      <td>MapQuest</td>\n",
       "      <td>201.0</td>\n",
       "      <td>3</td>\n",
       "      <td>2016-02-08 05:46:00</td>\n",
       "      <td>2016-02-08 11:00:00</td>\n",
       "      <td>39.865147</td>\n",
       "      <td>-84.058723</td>\n",
       "      <td>NaN</td>\n",
       "      <td>NaN</td>\n",
       "      <td>0.01</td>\n",
       "      <td>Right lane blocked due to accident on I-70 Eas...</td>\n",
       "      <td>NaN</td>\n",
       "      <td>I-70 E</td>\n",
       "      <td>R</td>\n",
       "      <td>Dayton</td>\n",
       "      <td>Montgomery</td>\n",
       "      <td>OH</td>\n",
       "      <td>45424</td>\n",
       "      <td>US</td>\n",
       "      <td>US/Eastern</td>\n",
       "      <td>KFFO</td>\n",
       "      <td>2016-02-08 05:58:00</td>\n",
       "      <td>36.9</td>\n",
       "      <td>NaN</td>\n",
       "      <td>91.0</td>\n",
       "      <td>29.68</td>\n",
       "      <td>10.0</td>\n",
       "      <td>Calm</td>\n",
       "      <td>NaN</td>\n",
       "      <td>0.02</td>\n",
       "      <td>Light Rain</td>\n",
       "      <td>False</td>\n",
       "      <td>False</td>\n",
       "      <td>False</td>\n",
       "      <td>False</td>\n",
       "      <td>False</td>\n",
       "      <td>False</td>\n",
       "      <td>False</td>\n",
       "      <td>False</td>\n",
       "      <td>False</td>\n",
       "      <td>False</td>\n",
       "      <td>False</td>\n",
       "      <td>False</td>\n",
       "      <td>False</td>\n",
       "      <td>Night</td>\n",
       "      <td>Night</td>\n",
       "      <td>Night</td>\n",
       "      <td>Night</td>\n",
       "    </tr>\n",
       "    <tr>\n",
       "      <th>1</th>\n",
       "      <td>A-2</td>\n",
       "      <td>MapQuest</td>\n",
       "      <td>201.0</td>\n",
       "      <td>2</td>\n",
       "      <td>2016-02-08 06:07:59</td>\n",
       "      <td>2016-02-08 06:37:59</td>\n",
       "      <td>39.928059</td>\n",
       "      <td>-82.831184</td>\n",
       "      <td>NaN</td>\n",
       "      <td>NaN</td>\n",
       "      <td>0.01</td>\n",
       "      <td>Accident on Brice Rd at Tussing Rd. Expect del...</td>\n",
       "      <td>2584.0</td>\n",
       "      <td>Brice Rd</td>\n",
       "      <td>L</td>\n",
       "      <td>Reynoldsburg</td>\n",
       "      <td>Franklin</td>\n",
       "      <td>OH</td>\n",
       "      <td>43068-3402</td>\n",
       "      <td>US</td>\n",
       "      <td>US/Eastern</td>\n",
       "      <td>KCMH</td>\n",
       "      <td>2016-02-08 05:51:00</td>\n",
       "      <td>37.9</td>\n",
       "      <td>NaN</td>\n",
       "      <td>100.0</td>\n",
       "      <td>29.65</td>\n",
       "      <td>10.0</td>\n",
       "      <td>Calm</td>\n",
       "      <td>NaN</td>\n",
       "      <td>0.00</td>\n",
       "      <td>Light Rain</td>\n",
       "      <td>False</td>\n",
       "      <td>False</td>\n",
       "      <td>False</td>\n",
       "      <td>False</td>\n",
       "      <td>False</td>\n",
       "      <td>False</td>\n",
       "      <td>False</td>\n",
       "      <td>False</td>\n",
       "      <td>False</td>\n",
       "      <td>False</td>\n",
       "      <td>False</td>\n",
       "      <td>False</td>\n",
       "      <td>False</td>\n",
       "      <td>Night</td>\n",
       "      <td>Night</td>\n",
       "      <td>Night</td>\n",
       "      <td>Day</td>\n",
       "    </tr>\n",
       "    <tr>\n",
       "      <th>2</th>\n",
       "      <td>A-3</td>\n",
       "      <td>MapQuest</td>\n",
       "      <td>201.0</td>\n",
       "      <td>2</td>\n",
       "      <td>2016-02-08 06:49:27</td>\n",
       "      <td>2016-02-08 07:19:27</td>\n",
       "      <td>39.063148</td>\n",
       "      <td>-84.032608</td>\n",
       "      <td>NaN</td>\n",
       "      <td>NaN</td>\n",
       "      <td>0.01</td>\n",
       "      <td>Accident on OH-32 State Route 32 Westbound at ...</td>\n",
       "      <td>NaN</td>\n",
       "      <td>State Route 32</td>\n",
       "      <td>R</td>\n",
       "      <td>Williamsburg</td>\n",
       "      <td>Clermont</td>\n",
       "      <td>OH</td>\n",
       "      <td>45176</td>\n",
       "      <td>US</td>\n",
       "      <td>US/Eastern</td>\n",
       "      <td>KI69</td>\n",
       "      <td>2016-02-08 06:56:00</td>\n",
       "      <td>36.0</td>\n",
       "      <td>33.3</td>\n",
       "      <td>100.0</td>\n",
       "      <td>29.67</td>\n",
       "      <td>10.0</td>\n",
       "      <td>SW</td>\n",
       "      <td>3.5</td>\n",
       "      <td>NaN</td>\n",
       "      <td>Overcast</td>\n",
       "      <td>False</td>\n",
       "      <td>False</td>\n",
       "      <td>False</td>\n",
       "      <td>False</td>\n",
       "      <td>False</td>\n",
       "      <td>False</td>\n",
       "      <td>False</td>\n",
       "      <td>False</td>\n",
       "      <td>False</td>\n",
       "      <td>False</td>\n",
       "      <td>False</td>\n",
       "      <td>True</td>\n",
       "      <td>False</td>\n",
       "      <td>Night</td>\n",
       "      <td>Night</td>\n",
       "      <td>Day</td>\n",
       "      <td>Day</td>\n",
       "    </tr>\n",
       "    <tr>\n",
       "      <th>3</th>\n",
       "      <td>A-4</td>\n",
       "      <td>MapQuest</td>\n",
       "      <td>201.0</td>\n",
       "      <td>3</td>\n",
       "      <td>2016-02-08 07:23:34</td>\n",
       "      <td>2016-02-08 07:53:34</td>\n",
       "      <td>39.747753</td>\n",
       "      <td>-84.205582</td>\n",
       "      <td>NaN</td>\n",
       "      <td>NaN</td>\n",
       "      <td>0.01</td>\n",
       "      <td>Accident on I-75 Southbound at Exits 52 52B US...</td>\n",
       "      <td>NaN</td>\n",
       "      <td>I-75 S</td>\n",
       "      <td>R</td>\n",
       "      <td>Dayton</td>\n",
       "      <td>Montgomery</td>\n",
       "      <td>OH</td>\n",
       "      <td>45417</td>\n",
       "      <td>US</td>\n",
       "      <td>US/Eastern</td>\n",
       "      <td>KDAY</td>\n",
       "      <td>2016-02-08 07:38:00</td>\n",
       "      <td>35.1</td>\n",
       "      <td>31.0</td>\n",
       "      <td>96.0</td>\n",
       "      <td>29.64</td>\n",
       "      <td>9.0</td>\n",
       "      <td>SW</td>\n",
       "      <td>4.6</td>\n",
       "      <td>NaN</td>\n",
       "      <td>Mostly Cloudy</td>\n",
       "      <td>False</td>\n",
       "      <td>False</td>\n",
       "      <td>False</td>\n",
       "      <td>False</td>\n",
       "      <td>False</td>\n",
       "      <td>False</td>\n",
       "      <td>False</td>\n",
       "      <td>False</td>\n",
       "      <td>False</td>\n",
       "      <td>False</td>\n",
       "      <td>False</td>\n",
       "      <td>False</td>\n",
       "      <td>False</td>\n",
       "      <td>Night</td>\n",
       "      <td>Day</td>\n",
       "      <td>Day</td>\n",
       "      <td>Day</td>\n",
       "    </tr>\n",
       "    <tr>\n",
       "      <th>4</th>\n",
       "      <td>A-5</td>\n",
       "      <td>MapQuest</td>\n",
       "      <td>201.0</td>\n",
       "      <td>2</td>\n",
       "      <td>2016-02-08 07:39:07</td>\n",
       "      <td>2016-02-08 08:09:07</td>\n",
       "      <td>39.627781</td>\n",
       "      <td>-84.188354</td>\n",
       "      <td>NaN</td>\n",
       "      <td>NaN</td>\n",
       "      <td>0.01</td>\n",
       "      <td>Accident on McEwen Rd at OH-725 Miamisburg Cen...</td>\n",
       "      <td>NaN</td>\n",
       "      <td>Miamisburg Centerville Rd</td>\n",
       "      <td>R</td>\n",
       "      <td>Dayton</td>\n",
       "      <td>Montgomery</td>\n",
       "      <td>OH</td>\n",
       "      <td>45459</td>\n",
       "      <td>US</td>\n",
       "      <td>US/Eastern</td>\n",
       "      <td>KMGY</td>\n",
       "      <td>2016-02-08 07:53:00</td>\n",
       "      <td>36.0</td>\n",
       "      <td>33.3</td>\n",
       "      <td>89.0</td>\n",
       "      <td>29.65</td>\n",
       "      <td>6.0</td>\n",
       "      <td>SW</td>\n",
       "      <td>3.5</td>\n",
       "      <td>NaN</td>\n",
       "      <td>Mostly Cloudy</td>\n",
       "      <td>False</td>\n",
       "      <td>False</td>\n",
       "      <td>False</td>\n",
       "      <td>False</td>\n",
       "      <td>False</td>\n",
       "      <td>False</td>\n",
       "      <td>False</td>\n",
       "      <td>False</td>\n",
       "      <td>False</td>\n",
       "      <td>False</td>\n",
       "      <td>False</td>\n",
       "      <td>True</td>\n",
       "      <td>False</td>\n",
       "      <td>Day</td>\n",
       "      <td>Day</td>\n",
       "      <td>Day</td>\n",
       "      <td>Day</td>\n",
       "    </tr>\n",
       "  </tbody>\n",
       "</table>\n",
       "</div>"
      ],
      "text/plain": [
       "    ID    Source    TMC  Severity           Start_Time             End_Time  \\\n",
       "0  A-1  MapQuest  201.0         3  2016-02-08 05:46:00  2016-02-08 11:00:00   \n",
       "1  A-2  MapQuest  201.0         2  2016-02-08 06:07:59  2016-02-08 06:37:59   \n",
       "2  A-3  MapQuest  201.0         2  2016-02-08 06:49:27  2016-02-08 07:19:27   \n",
       "3  A-4  MapQuest  201.0         3  2016-02-08 07:23:34  2016-02-08 07:53:34   \n",
       "4  A-5  MapQuest  201.0         2  2016-02-08 07:39:07  2016-02-08 08:09:07   \n",
       "\n",
       "   Start_Lat  Start_Lng  End_Lat  End_Lng  Distance(mi)  \\\n",
       "0  39.865147 -84.058723      NaN      NaN          0.01   \n",
       "1  39.928059 -82.831184      NaN      NaN          0.01   \n",
       "2  39.063148 -84.032608      NaN      NaN          0.01   \n",
       "3  39.747753 -84.205582      NaN      NaN          0.01   \n",
       "4  39.627781 -84.188354      NaN      NaN          0.01   \n",
       "\n",
       "                                         Description  Number  \\\n",
       "0  Right lane blocked due to accident on I-70 Eas...     NaN   \n",
       "1  Accident on Brice Rd at Tussing Rd. Expect del...  2584.0   \n",
       "2  Accident on OH-32 State Route 32 Westbound at ...     NaN   \n",
       "3  Accident on I-75 Southbound at Exits 52 52B US...     NaN   \n",
       "4  Accident on McEwen Rd at OH-725 Miamisburg Cen...     NaN   \n",
       "\n",
       "                      Street Side          City      County State     Zipcode  \\\n",
       "0                     I-70 E    R        Dayton  Montgomery    OH       45424   \n",
       "1                   Brice Rd    L  Reynoldsburg    Franklin    OH  43068-3402   \n",
       "2             State Route 32    R  Williamsburg    Clermont    OH       45176   \n",
       "3                     I-75 S    R        Dayton  Montgomery    OH       45417   \n",
       "4  Miamisburg Centerville Rd    R        Dayton  Montgomery    OH       45459   \n",
       "\n",
       "  Country    Timezone Airport_Code    Weather_Timestamp  Temperature(F)  \\\n",
       "0      US  US/Eastern         KFFO  2016-02-08 05:58:00            36.9   \n",
       "1      US  US/Eastern         KCMH  2016-02-08 05:51:00            37.9   \n",
       "2      US  US/Eastern         KI69  2016-02-08 06:56:00            36.0   \n",
       "3      US  US/Eastern         KDAY  2016-02-08 07:38:00            35.1   \n",
       "4      US  US/Eastern         KMGY  2016-02-08 07:53:00            36.0   \n",
       "\n",
       "   Wind_Chill(F)  Humidity(%)  Pressure(in)  Visibility(mi) Wind_Direction  \\\n",
       "0            NaN         91.0         29.68            10.0           Calm   \n",
       "1            NaN        100.0         29.65            10.0           Calm   \n",
       "2           33.3        100.0         29.67            10.0             SW   \n",
       "3           31.0         96.0         29.64             9.0             SW   \n",
       "4           33.3         89.0         29.65             6.0             SW   \n",
       "\n",
       "   Wind_Speed(mph)  Precipitation(in) Weather_Condition  Amenity   Bump  \\\n",
       "0              NaN               0.02        Light Rain    False  False   \n",
       "1              NaN               0.00        Light Rain    False  False   \n",
       "2              3.5                NaN          Overcast    False  False   \n",
       "3              4.6                NaN     Mostly Cloudy    False  False   \n",
       "4              3.5                NaN     Mostly Cloudy    False  False   \n",
       "\n",
       "   Crossing  Give_Way  Junction  No_Exit  Railway  Roundabout  Station   Stop  \\\n",
       "0     False     False     False    False    False       False    False  False   \n",
       "1     False     False     False    False    False       False    False  False   \n",
       "2     False     False     False    False    False       False    False  False   \n",
       "3     False     False     False    False    False       False    False  False   \n",
       "4     False     False     False    False    False       False    False  False   \n",
       "\n",
       "   Traffic_Calming  Traffic_Signal  Turning_Loop Sunrise_Sunset  \\\n",
       "0            False           False         False          Night   \n",
       "1            False           False         False          Night   \n",
       "2            False            True         False          Night   \n",
       "3            False           False         False          Night   \n",
       "4            False            True         False            Day   \n",
       "\n",
       "  Civil_Twilight Nautical_Twilight Astronomical_Twilight  \n",
       "0          Night             Night                 Night  \n",
       "1          Night             Night                   Day  \n",
       "2          Night               Day                   Day  \n",
       "3            Day               Day                   Day  \n",
       "4            Day               Day                   Day  "
      ]
     },
     "execution_count": 4,
     "metadata": {},
     "output_type": "execute_result"
    }
   ],
   "source": [
    " # Check the dataframe\n",
    "accidents_df.head()"
   ]
  },
  {
   "cell_type": "code",
   "execution_count": 5,
   "metadata": {
    "colab": {
     "base_uri": "https://localhost:8080/"
    },
    "id": "DnOkWJrhb1tK",
    "outputId": "bb8fcf2f-037d-4047-c477-60a9950afd43"
   },
   "outputs": [
    {
     "name": "stdout",
     "output_type": "stream",
     "text": [
      "<class 'pandas.core.frame.DataFrame'>\n",
      "RangeIndex: 4229394 entries, 0 to 4229393\n",
      "Data columns (total 49 columns):\n",
      " #   Column                 Dtype  \n",
      "---  ------                 -----  \n",
      " 0   ID                     object \n",
      " 1   Source                 object \n",
      " 2   TMC                    float64\n",
      " 3   Severity               int64  \n",
      " 4   Start_Time             object \n",
      " 5   End_Time               object \n",
      " 6   Start_Lat              float64\n",
      " 7   Start_Lng              float64\n",
      " 8   End_Lat                float64\n",
      " 9   End_Lng                float64\n",
      " 10  Distance(mi)           float64\n",
      " 11  Description            object \n",
      " 12  Number                 float64\n",
      " 13  Street                 object \n",
      " 14  Side                   object \n",
      " 15  City                   object \n",
      " 16  County                 object \n",
      " 17  State                  object \n",
      " 18  Zipcode                object \n",
      " 19  Country                object \n",
      " 20  Timezone               object \n",
      " 21  Airport_Code           object \n",
      " 22  Weather_Timestamp      object \n",
      " 23  Temperature(F)         float64\n",
      " 24  Wind_Chill(F)          float64\n",
      " 25  Humidity(%)            float64\n",
      " 26  Pressure(in)           float64\n",
      " 27  Visibility(mi)         float64\n",
      " 28  Wind_Direction         object \n",
      " 29  Wind_Speed(mph)        float64\n",
      " 30  Precipitation(in)      float64\n",
      " 31  Weather_Condition      object \n",
      " 32  Amenity                bool   \n",
      " 33  Bump                   bool   \n",
      " 34  Crossing               bool   \n",
      " 35  Give_Way               bool   \n",
      " 36  Junction               bool   \n",
      " 37  No_Exit                bool   \n",
      " 38  Railway                bool   \n",
      " 39  Roundabout             bool   \n",
      " 40  Station                bool   \n",
      " 41  Stop                   bool   \n",
      " 42  Traffic_Calming        bool   \n",
      " 43  Traffic_Signal         bool   \n",
      " 44  Turning_Loop           bool   \n",
      " 45  Sunrise_Sunset         object \n",
      " 46  Civil_Twilight         object \n",
      " 47  Nautical_Twilight      object \n",
      " 48  Astronomical_Twilight  object \n",
      "dtypes: bool(13), float64(14), int64(1), object(21)\n",
      "memory usage: 1.2+ GB\n"
     ]
    }
   ],
   "source": [
    "# Columns and data types\n",
    "accidents_df.info()"
   ]
  },
  {
   "cell_type": "code",
   "execution_count": 6,
   "metadata": {
    "colab": {
     "base_uri": "https://localhost:8080/",
     "height": 304
    },
    "id": "wBOS9lHWTS4P",
    "outputId": "3c4eff81-ef67-471e-e1d1-e7949945957f"
   },
   "outputs": [
    {
     "data": {
      "text/html": [
       "<div>\n",
       "<style scoped>\n",
       "    .dataframe tbody tr th:only-of-type {\n",
       "        vertical-align: middle;\n",
       "    }\n",
       "\n",
       "    .dataframe tbody tr th {\n",
       "        vertical-align: top;\n",
       "    }\n",
       "\n",
       "    .dataframe thead th {\n",
       "        text-align: right;\n",
       "    }\n",
       "</style>\n",
       "<table border=\"1\" class=\"dataframe\">\n",
       "  <thead>\n",
       "    <tr style=\"text-align: right;\">\n",
       "      <th></th>\n",
       "      <th>TMC</th>\n",
       "      <th>Severity</th>\n",
       "      <th>Start_Lat</th>\n",
       "      <th>Start_Lng</th>\n",
       "      <th>End_Lat</th>\n",
       "      <th>End_Lng</th>\n",
       "      <th>Distance(mi)</th>\n",
       "      <th>Number</th>\n",
       "      <th>Temperature(F)</th>\n",
       "      <th>Wind_Chill(F)</th>\n",
       "      <th>Humidity(%)</th>\n",
       "      <th>Pressure(in)</th>\n",
       "      <th>Visibility(mi)</th>\n",
       "      <th>Wind_Speed(mph)</th>\n",
       "      <th>Precipitation(in)</th>\n",
       "    </tr>\n",
       "  </thead>\n",
       "  <tbody>\n",
       "    <tr>\n",
       "      <th>count</th>\n",
       "      <td>2.716477e+06</td>\n",
       "      <td>4.229394e+06</td>\n",
       "      <td>4.229394e+06</td>\n",
       "      <td>4.229394e+06</td>\n",
       "      <td>1.512917e+06</td>\n",
       "      <td>1.512917e+06</td>\n",
       "      <td>4.229394e+06</td>\n",
       "      <td>1.543203e+06</td>\n",
       "      <td>4.139611e+06</td>\n",
       "      <td>2.333523e+06</td>\n",
       "      <td>4.134048e+06</td>\n",
       "      <td>4.153106e+06</td>\n",
       "      <td>4.130837e+06</td>\n",
       "      <td>3.750182e+06</td>\n",
       "      <td>2.163992e+06</td>\n",
       "    </tr>\n",
       "    <tr>\n",
       "      <th>mean</th>\n",
       "      <td>2.083517e+02</td>\n",
       "      <td>2.305236e+00</td>\n",
       "      <td>3.639841e+01</td>\n",
       "      <td>-9.546515e+01</td>\n",
       "      <td>3.690330e+01</td>\n",
       "      <td>-9.860820e+01</td>\n",
       "      <td>3.353485e-01</td>\n",
       "      <td>6.139651e+03</td>\n",
       "      <td>6.148234e+01</td>\n",
       "      <td>5.489414e+01</td>\n",
       "      <td>6.567190e+01</td>\n",
       "      <td>2.969388e+01</td>\n",
       "      <td>9.112037e+00</td>\n",
       "      <td>7.904503e+00</td>\n",
       "      <td>1.246012e-02</td>\n",
       "    </tr>\n",
       "    <tr>\n",
       "      <th>std</th>\n",
       "      <td>2.124413e+01</td>\n",
       "      <td>5.333263e-01</td>\n",
       "      <td>4.963930e+00</td>\n",
       "      <td>1.735298e+01</td>\n",
       "      <td>5.164553e+00</td>\n",
       "      <td>1.849664e+01</td>\n",
       "      <td>1.601457e+00</td>\n",
       "      <td>1.491765e+04</td>\n",
       "      <td>1.852592e+01</td>\n",
       "      <td>2.272745e+01</td>\n",
       "      <td>2.272347e+01</td>\n",
       "      <td>8.638412e-01</td>\n",
       "      <td>2.817529e+00</td>\n",
       "      <td>5.330603e+00</td>\n",
       "      <td>1.638251e-01</td>\n",
       "    </tr>\n",
       "    <tr>\n",
       "      <th>min</th>\n",
       "      <td>2.000000e+02</td>\n",
       "      <td>1.000000e+00</td>\n",
       "      <td>2.455527e+01</td>\n",
       "      <td>-1.246238e+02</td>\n",
       "      <td>2.457011e+01</td>\n",
       "      <td>-1.244978e+02</td>\n",
       "      <td>0.000000e+00</td>\n",
       "      <td>0.000000e+00</td>\n",
       "      <td>-8.900000e+01</td>\n",
       "      <td>-8.900000e+01</td>\n",
       "      <td>1.000000e+00</td>\n",
       "      <td>0.000000e+00</td>\n",
       "      <td>0.000000e+00</td>\n",
       "      <td>0.000000e+00</td>\n",
       "      <td>0.000000e+00</td>\n",
       "    </tr>\n",
       "    <tr>\n",
       "      <th>25%</th>\n",
       "      <td>2.010000e+02</td>\n",
       "      <td>2.000000e+00</td>\n",
       "      <td>3.352079e+01</td>\n",
       "      <td>-1.173571e+02</td>\n",
       "      <td>3.385431e+01</td>\n",
       "      <td>-1.182087e+02</td>\n",
       "      <td>0.000000e+00</td>\n",
       "      <td>8.980000e+02</td>\n",
       "      <td>4.900000e+01</td>\n",
       "      <td>3.800000e+01</td>\n",
       "      <td>4.900000e+01</td>\n",
       "      <td>2.964000e+01</td>\n",
       "      <td>1.000000e+01</td>\n",
       "      <td>4.600000e+00</td>\n",
       "      <td>0.000000e+00</td>\n",
       "    </tr>\n",
       "    <tr>\n",
       "      <th>50%</th>\n",
       "      <td>2.010000e+02</td>\n",
       "      <td>2.000000e+00</td>\n",
       "      <td>3.582550e+01</td>\n",
       "      <td>-9.002164e+01</td>\n",
       "      <td>3.735409e+01</td>\n",
       "      <td>-9.440530e+01</td>\n",
       "      <td>0.000000e+00</td>\n",
       "      <td>2.889000e+03</td>\n",
       "      <td>6.300000e+01</td>\n",
       "      <td>5.800000e+01</td>\n",
       "      <td>6.800000e+01</td>\n",
       "      <td>2.993000e+01</td>\n",
       "      <td>1.000000e+01</td>\n",
       "      <td>7.000000e+00</td>\n",
       "      <td>0.000000e+00</td>\n",
       "    </tr>\n",
       "    <tr>\n",
       "      <th>75%</th>\n",
       "      <td>2.010000e+02</td>\n",
       "      <td>3.000000e+00</td>\n",
       "      <td>4.018360e+01</td>\n",
       "      <td>-8.084707e+01</td>\n",
       "      <td>4.072622e+01</td>\n",
       "      <td>-8.087582e+01</td>\n",
       "      <td>8.800000e-02</td>\n",
       "      <td>7.327000e+03</td>\n",
       "      <td>7.520000e+01</td>\n",
       "      <td>7.300000e+01</td>\n",
       "      <td>8.500000e+01</td>\n",
       "      <td>3.008000e+01</td>\n",
       "      <td>1.000000e+01</td>\n",
       "      <td>1.040000e+01</td>\n",
       "      <td>0.000000e+00</td>\n",
       "    </tr>\n",
       "    <tr>\n",
       "      <th>max</th>\n",
       "      <td>4.060000e+02</td>\n",
       "      <td>4.000000e+00</td>\n",
       "      <td>4.900220e+01</td>\n",
       "      <td>-6.711317e+01</td>\n",
       "      <td>4.907500e+01</td>\n",
       "      <td>-6.710924e+01</td>\n",
       "      <td>4.417500e+02</td>\n",
       "      <td>9.999997e+06</td>\n",
       "      <td>2.030000e+02</td>\n",
       "      <td>1.890000e+02</td>\n",
       "      <td>1.000000e+02</td>\n",
       "      <td>5.804000e+01</td>\n",
       "      <td>1.400000e+02</td>\n",
       "      <td>9.840000e+02</td>\n",
       "      <td>2.500000e+01</td>\n",
       "    </tr>\n",
       "  </tbody>\n",
       "</table>\n",
       "</div>"
      ],
      "text/plain": [
       "                TMC      Severity     Start_Lat     Start_Lng       End_Lat  \\\n",
       "count  2.716477e+06  4.229394e+06  4.229394e+06  4.229394e+06  1.512917e+06   \n",
       "mean   2.083517e+02  2.305236e+00  3.639841e+01 -9.546515e+01  3.690330e+01   \n",
       "std    2.124413e+01  5.333263e-01  4.963930e+00  1.735298e+01  5.164553e+00   \n",
       "min    2.000000e+02  1.000000e+00  2.455527e+01 -1.246238e+02  2.457011e+01   \n",
       "25%    2.010000e+02  2.000000e+00  3.352079e+01 -1.173571e+02  3.385431e+01   \n",
       "50%    2.010000e+02  2.000000e+00  3.582550e+01 -9.002164e+01  3.735409e+01   \n",
       "75%    2.010000e+02  3.000000e+00  4.018360e+01 -8.084707e+01  4.072622e+01   \n",
       "max    4.060000e+02  4.000000e+00  4.900220e+01 -6.711317e+01  4.907500e+01   \n",
       "\n",
       "            End_Lng  Distance(mi)        Number  Temperature(F)  \\\n",
       "count  1.512917e+06  4.229394e+06  1.543203e+06    4.139611e+06   \n",
       "mean  -9.860820e+01  3.353485e-01  6.139651e+03    6.148234e+01   \n",
       "std    1.849664e+01  1.601457e+00  1.491765e+04    1.852592e+01   \n",
       "min   -1.244978e+02  0.000000e+00  0.000000e+00   -8.900000e+01   \n",
       "25%   -1.182087e+02  0.000000e+00  8.980000e+02    4.900000e+01   \n",
       "50%   -9.440530e+01  0.000000e+00  2.889000e+03    6.300000e+01   \n",
       "75%   -8.087582e+01  8.800000e-02  7.327000e+03    7.520000e+01   \n",
       "max   -6.710924e+01  4.417500e+02  9.999997e+06    2.030000e+02   \n",
       "\n",
       "       Wind_Chill(F)   Humidity(%)  Pressure(in)  Visibility(mi)  \\\n",
       "count   2.333523e+06  4.134048e+06  4.153106e+06    4.130837e+06   \n",
       "mean    5.489414e+01  6.567190e+01  2.969388e+01    9.112037e+00   \n",
       "std     2.272745e+01  2.272347e+01  8.638412e-01    2.817529e+00   \n",
       "min    -8.900000e+01  1.000000e+00  0.000000e+00    0.000000e+00   \n",
       "25%     3.800000e+01  4.900000e+01  2.964000e+01    1.000000e+01   \n",
       "50%     5.800000e+01  6.800000e+01  2.993000e+01    1.000000e+01   \n",
       "75%     7.300000e+01  8.500000e+01  3.008000e+01    1.000000e+01   \n",
       "max     1.890000e+02  1.000000e+02  5.804000e+01    1.400000e+02   \n",
       "\n",
       "       Wind_Speed(mph)  Precipitation(in)  \n",
       "count     3.750182e+06       2.163992e+06  \n",
       "mean      7.904503e+00       1.246012e-02  \n",
       "std       5.330603e+00       1.638251e-01  \n",
       "min       0.000000e+00       0.000000e+00  \n",
       "25%       4.600000e+00       0.000000e+00  \n",
       "50%       7.000000e+00       0.000000e+00  \n",
       "75%       1.040000e+01       0.000000e+00  \n",
       "max       9.840000e+02       2.500000e+01  "
      ]
     },
     "execution_count": 6,
     "metadata": {},
     "output_type": "execute_result"
    }
   ],
   "source": [
    "# Describe the data\n",
    "accidents_df.describe()"
   ]
  },
  {
   "cell_type": "code",
   "execution_count": 7,
   "metadata": {
    "colab": {
     "base_uri": "https://localhost:8080/"
    },
    "id": "mWtZU1afTom9",
    "outputId": "6a09ccf7-0af5-425b-cc01-0de5318d4622"
   },
   "outputs": [
    {
     "data": {
      "text/plain": [
       "ID                             0\n",
       "Source                         0\n",
       "TMC                      1512917\n",
       "Severity                       0\n",
       "Start_Time                     0\n",
       "End_Time                       0\n",
       "Start_Lat                      0\n",
       "Start_Lng                      0\n",
       "End_Lat                  2716477\n",
       "End_Lng                  2716477\n",
       "Distance(mi)                   0\n",
       "Description                    2\n",
       "Number                   2686191\n",
       "Street                         0\n",
       "Side                           0\n",
       "City                         137\n",
       "County                         0\n",
       "State                          0\n",
       "Zipcode                     1291\n",
       "Country                        0\n",
       "Timezone                    4609\n",
       "Airport_Code                8961\n",
       "Weather_Timestamp          62553\n",
       "Temperature(F)             89783\n",
       "Wind_Chill(F)            1895871\n",
       "Humidity(%)                95346\n",
       "Pressure(in)               76288\n",
       "Visibility(mi)             98557\n",
       "Wind_Direction             83496\n",
       "Wind_Speed(mph)           479212\n",
       "Precipitation(in)        2065402\n",
       "Weather_Condition          98282\n",
       "Amenity                        0\n",
       "Bump                           0\n",
       "Crossing                       0\n",
       "Give_Way                       0\n",
       "Junction                       0\n",
       "No_Exit                        0\n",
       "Railway                        0\n",
       "Roundabout                     0\n",
       "Station                        0\n",
       "Stop                           0\n",
       "Traffic_Calming                0\n",
       "Traffic_Signal                 0\n",
       "Turning_Loop                   0\n",
       "Sunrise_Sunset               141\n",
       "Civil_Twilight               141\n",
       "Nautical_Twilight            141\n",
       "Astronomical_Twilight        141\n",
       "dtype: int64"
      ]
     },
     "execution_count": 7,
     "metadata": {},
     "output_type": "execute_result"
    }
   ],
   "source": [
    "# Check for NULL values\n",
    "accidents_df.isnull().sum()"
   ]
  },
  {
   "cell_type": "code",
   "execution_count": 8,
   "metadata": {
    "colab": {
     "base_uri": "https://localhost:8080/"
    },
    "id": "LFe3AkjcU6wr",
    "outputId": "9ff63d50-9e24-42d8-e5fb-657806034db6"
   },
   "outputs": [
    {
     "data": {
      "text/plain": [
       "201.0    2264385\n",
       "241.0     284371\n",
       "245.0      51670\n",
       "229.0      23171\n",
       "203.0      18536\n",
       "222.0      13611\n",
       "244.0      13101\n",
       "406.0      12815\n",
       "246.0       9019\n",
       "343.0       8073\n",
       "202.0       6483\n",
       "247.0       4806\n",
       "236.0       2123\n",
       "206.0       1370\n",
       "248.0       1025\n",
       "339.0       1020\n",
       "341.0        674\n",
       "336.0         98\n",
       "200.0         66\n",
       "239.0         54\n",
       "351.0          6\n",
       "Name: TMC, dtype: int64"
      ]
     },
     "execution_count": 8,
     "metadata": {},
     "output_type": "execute_result"
    }
   ],
   "source": [
    "# Check frequent values for TMC to fill for NULL\n",
    "accidents_df['TMC'].value_counts()"
   ]
  },
  {
   "cell_type": "markdown",
   "metadata": {
    "id": "p0_Db0fCWaN4"
   },
   "source": [
    "## Data Cleaning"
   ]
  },
  {
   "cell_type": "code",
   "execution_count": 9,
   "metadata": {
    "id": "NMn_ZLH7XgG6"
   },
   "outputs": [],
   "source": [
    "accidents_df['TMC'].fillna(201.0, inplace=True)"
   ]
  },
  {
   "cell_type": "code",
   "execution_count": 10,
   "metadata": {
    "colab": {
     "base_uri": "https://localhost:8080/"
    },
    "id": "lfeHcvPQYGOp",
    "outputId": "e7733d3f-9a3f-4cb6-9f32-f1c00665fa55"
   },
   "outputs": [
    {
     "data": {
      "text/plain": [
       "201.0    3777302\n",
       "241.0     284371\n",
       "245.0      51670\n",
       "229.0      23171\n",
       "203.0      18536\n",
       "222.0      13611\n",
       "244.0      13101\n",
       "406.0      12815\n",
       "246.0       9019\n",
       "343.0       8073\n",
       "202.0       6483\n",
       "247.0       4806\n",
       "236.0       2123\n",
       "206.0       1370\n",
       "248.0       1025\n",
       "339.0       1020\n",
       "341.0        674\n",
       "336.0         98\n",
       "200.0         66\n",
       "239.0         54\n",
       "351.0          6\n",
       "Name: TMC, dtype: int64"
      ]
     },
     "execution_count": 10,
     "metadata": {},
     "output_type": "execute_result"
    }
   ],
   "source": [
    "accidents_df['TMC'].value_counts()"
   ]
  },
  {
   "cell_type": "code",
   "execution_count": 11,
   "metadata": {
    "colab": {
     "base_uri": "https://localhost:8080/"
    },
    "id": "YzWhn_7NYMHR",
    "outputId": "b58f5483-9a69-48c6-9fae-d3a30dadc5e3"
   },
   "outputs": [
    {
     "data": {
      "text/plain": [
       "0"
      ]
     },
     "execution_count": 11,
     "metadata": {},
     "output_type": "execute_result"
    }
   ],
   "source": [
    "accidents_df['TMC'].isnull().sum()"
   ]
  },
  {
   "cell_type": "code",
   "execution_count": 12,
   "metadata": {
    "id": "_meqoIYmYJt5"
   },
   "outputs": [],
   "source": [
    "# Too many NULLs for End_Lat and End_Lng, so drop them. We can get most details using Start_Lat and Start_Lng anyway\n",
    "accidents_df.drop(columns=['End_Lat', 'End_Lng'], inplace=True)"
   ]
  },
  {
   "cell_type": "code",
   "execution_count": 13,
   "metadata": {
    "colab": {
     "base_uri": "https://localhost:8080/"
    },
    "id": "uew3LPWsYjd_",
    "outputId": "9c780cee-93ca-4b1d-fff4-856a0e780a05"
   },
   "outputs": [
    {
     "name": "stdout",
     "output_type": "stream",
     "text": [
      "<class 'pandas.core.frame.DataFrame'>\n",
      "RangeIndex: 4229394 entries, 0 to 4229393\n",
      "Data columns (total 47 columns):\n",
      " #   Column                 Dtype  \n",
      "---  ------                 -----  \n",
      " 0   ID                     object \n",
      " 1   Source                 object \n",
      " 2   TMC                    float64\n",
      " 3   Severity               int64  \n",
      " 4   Start_Time             object \n",
      " 5   End_Time               object \n",
      " 6   Start_Lat              float64\n",
      " 7   Start_Lng              float64\n",
      " 8   Distance(mi)           float64\n",
      " 9   Description            object \n",
      " 10  Number                 float64\n",
      " 11  Street                 object \n",
      " 12  Side                   object \n",
      " 13  City                   object \n",
      " 14  County                 object \n",
      " 15  State                  object \n",
      " 16  Zipcode                object \n",
      " 17  Country                object \n",
      " 18  Timezone               object \n",
      " 19  Airport_Code           object \n",
      " 20  Weather_Timestamp      object \n",
      " 21  Temperature(F)         float64\n",
      " 22  Wind_Chill(F)          float64\n",
      " 23  Humidity(%)            float64\n",
      " 24  Pressure(in)           float64\n",
      " 25  Visibility(mi)         float64\n",
      " 26  Wind_Direction         object \n",
      " 27  Wind_Speed(mph)        float64\n",
      " 28  Precipitation(in)      float64\n",
      " 29  Weather_Condition      object \n",
      " 30  Amenity                bool   \n",
      " 31  Bump                   bool   \n",
      " 32  Crossing               bool   \n",
      " 33  Give_Way               bool   \n",
      " 34  Junction               bool   \n",
      " 35  No_Exit                bool   \n",
      " 36  Railway                bool   \n",
      " 37  Roundabout             bool   \n",
      " 38  Station                bool   \n",
      " 39  Stop                   bool   \n",
      " 40  Traffic_Calming        bool   \n",
      " 41  Traffic_Signal         bool   \n",
      " 42  Turning_Loop           bool   \n",
      " 43  Sunrise_Sunset         object \n",
      " 44  Civil_Twilight         object \n",
      " 45  Nautical_Twilight      object \n",
      " 46  Astronomical_Twilight  object \n",
      "dtypes: bool(13), float64(12), int64(1), object(21)\n",
      "memory usage: 1.1+ GB\n"
     ]
    }
   ],
   "source": [
    "accidents_df.info()"
   ]
  },
  {
   "cell_type": "code",
   "execution_count": 14,
   "metadata": {
    "id": "TN_xk0iRYqB0"
   },
   "outputs": [],
   "source": [
    "# Drop all address related columns as we can derive it from Lat and Lng fields\n",
    "accidents_df.drop(columns=['Number'], inplace=True)\n",
    "#'Street', 'City', 'County', 'State', 'Zipcode', 'Country'], inplace=True)"
   ]
  },
  {
   "cell_type": "code",
   "execution_count": 15,
   "metadata": {
    "id": "yuVk4U_DZeNt"
   },
   "outputs": [],
   "source": [
    "# Drop Timezone as we won't be using it in our model and not needed for any EDA as well. Again, we could derive most of it using Lat/Lng\n",
    "# Similarly, drop Airport_Code as well as it'll be multi-collinear with lat/lng. \n",
    "accidents_df.drop(columns=['Timezone', 'Airport_Code'], inplace=True)"
   ]
  },
  {
   "cell_type": "code",
   "execution_count": 16,
   "metadata": {
    "colab": {
     "base_uri": "https://localhost:8080/",
     "height": 343
    },
    "id": "Xcm6adRJafpZ",
    "outputId": "a2a58f1b-c454-4914-e1a1-1a030f40e067"
   },
   "outputs": [
    {
     "data": {
      "text/html": [
       "<div>\n",
       "<style scoped>\n",
       "    .dataframe tbody tr th:only-of-type {\n",
       "        vertical-align: middle;\n",
       "    }\n",
       "\n",
       "    .dataframe tbody tr th {\n",
       "        vertical-align: top;\n",
       "    }\n",
       "\n",
       "    .dataframe thead th {\n",
       "        text-align: right;\n",
       "    }\n",
       "</style>\n",
       "<table border=\"1\" class=\"dataframe\">\n",
       "  <thead>\n",
       "    <tr style=\"text-align: right;\">\n",
       "      <th></th>\n",
       "      <th>Weather_Timestamp</th>\n",
       "      <th>Start_Time</th>\n",
       "      <th>End_Time</th>\n",
       "    </tr>\n",
       "  </thead>\n",
       "  <tbody>\n",
       "    <tr>\n",
       "      <th>0</th>\n",
       "      <td>2016-02-08 05:58:00</td>\n",
       "      <td>2016-02-08 05:46:00</td>\n",
       "      <td>2016-02-08 11:00:00</td>\n",
       "    </tr>\n",
       "    <tr>\n",
       "      <th>1</th>\n",
       "      <td>2016-02-08 05:51:00</td>\n",
       "      <td>2016-02-08 06:07:59</td>\n",
       "      <td>2016-02-08 06:37:59</td>\n",
       "    </tr>\n",
       "    <tr>\n",
       "      <th>2</th>\n",
       "      <td>2016-02-08 06:56:00</td>\n",
       "      <td>2016-02-08 06:49:27</td>\n",
       "      <td>2016-02-08 07:19:27</td>\n",
       "    </tr>\n",
       "    <tr>\n",
       "      <th>3</th>\n",
       "      <td>2016-02-08 07:38:00</td>\n",
       "      <td>2016-02-08 07:23:34</td>\n",
       "      <td>2016-02-08 07:53:34</td>\n",
       "    </tr>\n",
       "    <tr>\n",
       "      <th>4</th>\n",
       "      <td>2016-02-08 07:53:00</td>\n",
       "      <td>2016-02-08 07:39:07</td>\n",
       "      <td>2016-02-08 08:09:07</td>\n",
       "    </tr>\n",
       "    <tr>\n",
       "      <th>5</th>\n",
       "      <td>2016-02-08 07:51:00</td>\n",
       "      <td>2016-02-08 07:44:26</td>\n",
       "      <td>2016-02-08 08:14:26</td>\n",
       "    </tr>\n",
       "    <tr>\n",
       "      <th>6</th>\n",
       "      <td>2016-02-08 07:56:00</td>\n",
       "      <td>2016-02-08 07:59:35</td>\n",
       "      <td>2016-02-08 08:29:35</td>\n",
       "    </tr>\n",
       "    <tr>\n",
       "      <th>7</th>\n",
       "      <td>2016-02-08 07:56:00</td>\n",
       "      <td>2016-02-08 07:59:58</td>\n",
       "      <td>2016-02-08 08:29:58</td>\n",
       "    </tr>\n",
       "    <tr>\n",
       "      <th>8</th>\n",
       "      <td>2016-02-08 07:58:00</td>\n",
       "      <td>2016-02-08 08:00:40</td>\n",
       "      <td>2016-02-08 08:30:40</td>\n",
       "    </tr>\n",
       "    <tr>\n",
       "      <th>9</th>\n",
       "      <td>2016-02-08 08:28:00</td>\n",
       "      <td>2016-02-08 08:10:04</td>\n",
       "      <td>2016-02-08 08:40:04</td>\n",
       "    </tr>\n",
       "  </tbody>\n",
       "</table>\n",
       "</div>"
      ],
      "text/plain": [
       "     Weather_Timestamp           Start_Time             End_Time\n",
       "0  2016-02-08 05:58:00  2016-02-08 05:46:00  2016-02-08 11:00:00\n",
       "1  2016-02-08 05:51:00  2016-02-08 06:07:59  2016-02-08 06:37:59\n",
       "2  2016-02-08 06:56:00  2016-02-08 06:49:27  2016-02-08 07:19:27\n",
       "3  2016-02-08 07:38:00  2016-02-08 07:23:34  2016-02-08 07:53:34\n",
       "4  2016-02-08 07:53:00  2016-02-08 07:39:07  2016-02-08 08:09:07\n",
       "5  2016-02-08 07:51:00  2016-02-08 07:44:26  2016-02-08 08:14:26\n",
       "6  2016-02-08 07:56:00  2016-02-08 07:59:35  2016-02-08 08:29:35\n",
       "7  2016-02-08 07:56:00  2016-02-08 07:59:58  2016-02-08 08:29:58\n",
       "8  2016-02-08 07:58:00  2016-02-08 08:00:40  2016-02-08 08:30:40\n",
       "9  2016-02-08 08:28:00  2016-02-08 08:10:04  2016-02-08 08:40:04"
      ]
     },
     "execution_count": 16,
     "metadata": {},
     "output_type": "execute_result"
    }
   ],
   "source": [
    "accidents_df.loc[:,['Weather_Timestamp', 'Start_Time', 'End_Time']].head(10)"
   ]
  },
  {
   "cell_type": "code",
   "execution_count": 17,
   "metadata": {
    "colab": {
     "base_uri": "https://localhost:8080/",
     "height": 67
    },
    "id": "u2qW2-wjbuUA",
    "outputId": "9edff71e-521d-48ec-f349-c1b8814c95c8"
   },
   "outputs": [
    {
     "data": {
      "text/html": [
       "<div>\n",
       "<style scoped>\n",
       "    .dataframe tbody tr th:only-of-type {\n",
       "        vertical-align: middle;\n",
       "    }\n",
       "\n",
       "    .dataframe tbody tr th {\n",
       "        vertical-align: top;\n",
       "    }\n",
       "\n",
       "    .dataframe thead th {\n",
       "        text-align: right;\n",
       "    }\n",
       "</style>\n",
       "<table border=\"1\" class=\"dataframe\">\n",
       "  <thead>\n",
       "    <tr style=\"text-align: right;\">\n",
       "      <th></th>\n",
       "      <th>ID</th>\n",
       "      <th>Source</th>\n",
       "      <th>TMC</th>\n",
       "      <th>Severity</th>\n",
       "      <th>Start_Time</th>\n",
       "      <th>End_Time</th>\n",
       "      <th>Start_Lat</th>\n",
       "      <th>Start_Lng</th>\n",
       "      <th>Distance(mi)</th>\n",
       "      <th>Description</th>\n",
       "      <th>Street</th>\n",
       "      <th>Side</th>\n",
       "      <th>City</th>\n",
       "      <th>County</th>\n",
       "      <th>State</th>\n",
       "      <th>Zipcode</th>\n",
       "      <th>Country</th>\n",
       "      <th>Weather_Timestamp</th>\n",
       "      <th>Temperature(F)</th>\n",
       "      <th>Wind_Chill(F)</th>\n",
       "      <th>Humidity(%)</th>\n",
       "      <th>Pressure(in)</th>\n",
       "      <th>Visibility(mi)</th>\n",
       "      <th>Wind_Direction</th>\n",
       "      <th>Wind_Speed(mph)</th>\n",
       "      <th>Precipitation(in)</th>\n",
       "      <th>Weather_Condition</th>\n",
       "      <th>Amenity</th>\n",
       "      <th>Bump</th>\n",
       "      <th>Crossing</th>\n",
       "      <th>Give_Way</th>\n",
       "      <th>Junction</th>\n",
       "      <th>No_Exit</th>\n",
       "      <th>Railway</th>\n",
       "      <th>Roundabout</th>\n",
       "      <th>Station</th>\n",
       "      <th>Stop</th>\n",
       "      <th>Traffic_Calming</th>\n",
       "      <th>Traffic_Signal</th>\n",
       "      <th>Turning_Loop</th>\n",
       "      <th>Sunrise_Sunset</th>\n",
       "      <th>Civil_Twilight</th>\n",
       "      <th>Nautical_Twilight</th>\n",
       "      <th>Astronomical_Twilight</th>\n",
       "    </tr>\n",
       "  </thead>\n",
       "  <tbody>\n",
       "  </tbody>\n",
       "</table>\n",
       "</div>"
      ],
      "text/plain": [
       "Empty DataFrame\n",
       "Columns: [ID, Source, TMC, Severity, Start_Time, End_Time, Start_Lat, Start_Lng, Distance(mi), Description, Street, Side, City, County, State, Zipcode, Country, Weather_Timestamp, Temperature(F), Wind_Chill(F), Humidity(%), Pressure(in), Visibility(mi), Wind_Direction, Wind_Speed(mph), Precipitation(in), Weather_Condition, Amenity, Bump, Crossing, Give_Way, Junction, No_Exit, Railway, Roundabout, Station, Stop, Traffic_Calming, Traffic_Signal, Turning_Loop, Sunrise_Sunset, Civil_Twilight, Nautical_Twilight, Astronomical_Twilight]\n",
       "Index: []"
      ]
     },
     "execution_count": 17,
     "metadata": {},
     "output_type": "execute_result"
    }
   ],
   "source": [
    "# Check if any Weather_Timestamp is outside of Start_Time and End_Time\n",
    "accidents_df[(accidents_df['Weather_Timestamp'] < accidents_df['Start_Time']) & (accidents_df['Weather_Timestamp'] > accidents_df['End_Time'])]"
   ]
  },
  {
   "cell_type": "code",
   "execution_count": 18,
   "metadata": {
    "id": "HR4hOm1laqtI"
   },
   "outputs": [],
   "source": [
    "# Based on the above, Weather_Timestamp is **always** between Start_Time and End_Time so we can safely drop it\n",
    "accidents_df.drop(columns=['Weather_Timestamp'], inplace=True)"
   ]
  },
  {
   "cell_type": "code",
   "execution_count": 19,
   "metadata": {
    "colab": {
     "base_uri": "https://localhost:8080/"
    },
    "id": "e5js_oE7bts6",
    "outputId": "25f7e52e-2924-4a73-ff9c-d3970ada0d36"
   },
   "outputs": [
    {
     "data": {
      "text/plain": [
       " 68.0     91496\n",
       " 77.0     90001\n",
       " 59.0     86294\n",
       " 73.0     84159\n",
       " 63.0     80015\n",
       "          ...  \n",
       "-23.4         1\n",
       " 168.8        1\n",
       " 127.0        1\n",
       " 140.0        1\n",
       "-32.8         1\n",
       "Name: Temperature(F), Length: 840, dtype: int64"
      ]
     },
     "execution_count": 19,
     "metadata": {},
     "output_type": "execute_result"
    }
   ],
   "source": [
    "accidents_df['Temperature(F)'].value_counts()"
   ]
  },
  {
   "cell_type": "code",
   "execution_count": 20,
   "metadata": {
    "colab": {
     "base_uri": "https://localhost:8080/"
    },
    "id": "S37ajXpudlPQ",
    "outputId": "6878e269-e888-4767-b99a-68a0f6d1d8de"
   },
   "outputs": [
    {
     "data": {
      "text/plain": [
       "count    4.139611e+06\n",
       "mean     6.148234e+01\n",
       "std      1.852592e+01\n",
       "min     -8.900000e+01\n",
       "25%      4.900000e+01\n",
       "50%      6.300000e+01\n",
       "75%      7.520000e+01\n",
       "max      2.030000e+02\n",
       "Name: Temperature(F), dtype: float64"
      ]
     },
     "execution_count": 20,
     "metadata": {},
     "output_type": "execute_result"
    }
   ],
   "source": [
    "accidents_df['Temperature(F)'].describe()"
   ]
  },
  {
   "cell_type": "code",
   "execution_count": 21,
   "metadata": {
    "colab": {
     "base_uri": "https://localhost:8080/",
     "height": 265
    },
    "id": "72fAyhCOdpZB",
    "outputId": "33c8e968-7700-4e5f-a80c-6d915742e450"
   },
   "outputs": [
    {
     "data": {
      "image/png": "[encoded data removed]",
      "text/plain": [
       "<Figure size 432x288 with 1 Axes>"
      ]
     },
     "metadata": {
      "needs_background": "light"
     },
     "output_type": "display_data"
    }
   ],
   "source": [
    "accidents_df['Temperature(F)'].plot(kind='box');"
   ]
  },
  {
   "cell_type": "code",
   "execution_count": 22,
   "metadata": {
    "colab": {
     "base_uri": "https://localhost:8080/"
    },
    "id": "GzLgjJKueDZu",
    "outputId": "b11ca149-2447-4db0-b00b-cb4c83e06abe"
   },
   "outputs": [
    {
     "name": "stdout",
     "output_type": "stream",
     "text": [
      "61.4823393550751\n",
      "63.0\n"
     ]
    }
   ],
   "source": [
    "# Find out mean and median of Temperature so we can fill it for NULL values\n",
    "print(accidents_df['Temperature(F)'].mean())\n",
    "print(accidents_df['Temperature(F)'].median())"
   ]
  },
  {
   "cell_type": "code",
   "execution_count": 23,
   "metadata": {
    "id": "-LIi3jfIfCxQ"
   },
   "outputs": [],
   "source": [
    "# Fill the median value for NULL values\n",
    "accidents_df['Temperature(F)'].fillna(accidents_df['Temperature(F)'].median(), inplace=True)"
   ]
  },
  {
   "cell_type": "code",
   "execution_count": 24,
   "metadata": {
    "colab": {
     "base_uri": "https://localhost:8080/"
    },
    "id": "yKfwwNiAfjHk",
    "outputId": "5af648e6-98b1-43e2-8f1c-f8d3ef820894"
   },
   "outputs": [
    {
     "data": {
      "text/plain": [
       " 73.0     47731\n",
       " 63.0     46737\n",
       " 64.0     45719\n",
       " 72.0     44168\n",
       " 75.0     43894\n",
       "          ...  \n",
       "-52.1         1\n",
       "-44.4         1\n",
       "-40.6         1\n",
       "-29.4         1\n",
       " 127.0        1\n",
       "Name: Wind_Chill(F), Length: 984, dtype: int64"
      ]
     },
     "execution_count": 24,
     "metadata": {},
     "output_type": "execute_result"
    }
   ],
   "source": [
    "accidents_df['Wind_Chill(F)'].value_counts()"
   ]
  },
  {
   "cell_type": "code",
   "execution_count": 25,
   "metadata": {
    "colab": {
     "base_uri": "https://localhost:8080/"
    },
    "id": "j6yNJKabfsfX",
    "outputId": "b6096e00-e284-4620-efba-49d3831092bb"
   },
   "outputs": [
    {
     "data": {
      "text/plain": [
       "count    2.333523e+06\n",
       "mean     5.489414e+01\n",
       "std      2.272745e+01\n",
       "min     -8.900000e+01\n",
       "25%      3.800000e+01\n",
       "50%      5.800000e+01\n",
       "75%      7.300000e+01\n",
       "max      1.890000e+02\n",
       "Name: Wind_Chill(F), dtype: float64"
      ]
     },
     "execution_count": 25,
     "metadata": {},
     "output_type": "execute_result"
    }
   ],
   "source": [
    "accidents_df['Wind_Chill(F)'].describe()"
   ]
  },
  {
   "cell_type": "code",
   "execution_count": 26,
   "metadata": {
    "colab": {
     "base_uri": "https://localhost:8080/"
    },
    "id": "BE5YBf1nfxQ5",
    "outputId": "4fb9e4c0-cca4-4500-bb0c-b4c43df95b56"
   },
   "outputs": [
    {
     "data": {
      "text/plain": [
       "CALM        377976\n",
       "Calm        368269\n",
       "SSW         208937\n",
       "WNW         204047\n",
       "SW          197598\n",
       "NW          197594\n",
       "SSE         193071\n",
       "WSW         190865\n",
       "NNW         178909\n",
       "South       177228\n",
       "West        164619\n",
       "SE          157153\n",
       "North       153256\n",
       "S           150915\n",
       "NE          144269\n",
       "NNE         143663\n",
       "ENE         142142\n",
       "ESE         140335\n",
       "W           135499\n",
       "Variable    113896\n",
       "N           112962\n",
       "East        103459\n",
       "E           101485\n",
       "VAR          87751\n",
       "Name: Wind_Direction, dtype: int64"
      ]
     },
     "execution_count": 26,
     "metadata": {},
     "output_type": "execute_result"
    }
   ],
   "source": [
    "# Since Wind Chill is associated with Wind_Speed and Wind_Direction, lets check those values\n",
    "accidents_df['Wind_Direction'].value_counts()"
   ]
  },
  {
   "cell_type": "code",
   "execution_count": 27,
   "metadata": {
    "id": "a16gK686iukI"
   },
   "outputs": [],
   "source": [
    "# Based on the values of Wind_Direction, i don't think it'll be useful for our analysis. So, dropping that field completely.\n",
    "#accidents_df.drop(columns=['Wind_Direction'], inplace=True)"
   ]
  },
  {
   "cell_type": "code",
   "execution_count": 28,
   "metadata": {
    "colab": {
     "base_uri": "https://localhost:8080/"
    },
    "id": "XvKyqtzJgSfz",
    "outputId": "d1bf01cb-464e-419b-cf82-5ccf889b37d4"
   },
   "outputs": [
    {
     "data": {
      "text/plain": [
       "0.0      377984\n",
       "4.6      217441\n",
       "5.8      215966\n",
       "3.5      203421\n",
       "6.9      201261\n",
       "          ...  \n",
       "141.5         1\n",
       "471.8         1\n",
       "157.0         1\n",
       "54.0          1\n",
       "77.1          1\n",
       "Name: Wind_Speed(mph), Length: 162, dtype: int64"
      ]
     },
     "execution_count": 28,
     "metadata": {},
     "output_type": "execute_result"
    }
   ],
   "source": [
    "accidents_df['Wind_Speed(mph)'].value_counts()"
   ]
  },
  {
   "cell_type": "code",
   "execution_count": 29,
   "metadata": {
    "colab": {
     "base_uri": "https://localhost:8080/"
    },
    "id": "tfqv79YIgef9",
    "outputId": "58470865-50e8-4bc7-fd52-2b0ab7dd8dd2"
   },
   "outputs": [
    {
     "data": {
      "text/plain": [
       "count    3.750182e+06\n",
       "mean     7.904503e+00\n",
       "std      5.330603e+00\n",
       "min      0.000000e+00\n",
       "25%      4.600000e+00\n",
       "50%      7.000000e+00\n",
       "75%      1.040000e+01\n",
       "max      9.840000e+02\n",
       "Name: Wind_Speed(mph), dtype: float64"
      ]
     },
     "execution_count": 29,
     "metadata": {},
     "output_type": "execute_result"
    }
   ],
   "source": [
    "accidents_df['Wind_Speed(mph)'].describe()"
   ]
  },
  {
   "cell_type": "code",
   "execution_count": 30,
   "metadata": {
    "colab": {
     "base_uri": "https://localhost:8080/",
     "height": 491
    },
    "id": "_HIHlzpUgmI8",
    "outputId": "a18bed69-31d4-4cd7-97e6-571a8c6ef631"
   },
   "outputs": [
    {
     "data": {
      "text/html": [
       "<div>\n",
       "<style scoped>\n",
       "    .dataframe tbody tr th:only-of-type {\n",
       "        vertical-align: middle;\n",
       "    }\n",
       "\n",
       "    .dataframe tbody tr th {\n",
       "        vertical-align: top;\n",
       "    }\n",
       "\n",
       "    .dataframe thead th {\n",
       "        text-align: right;\n",
       "    }\n",
       "</style>\n",
       "<table border=\"1\" class=\"dataframe\">\n",
       "  <thead>\n",
       "    <tr style=\"text-align: right;\">\n",
       "      <th></th>\n",
       "      <th>Temperature(F)</th>\n",
       "      <th>Wind_Speed(mph)</th>\n",
       "      <th>Wind_Chill(F)</th>\n",
       "    </tr>\n",
       "  </thead>\n",
       "  <tbody>\n",
       "    <tr>\n",
       "      <th>0</th>\n",
       "      <td>36.9</td>\n",
       "      <td>NaN</td>\n",
       "      <td>NaN</td>\n",
       "    </tr>\n",
       "    <tr>\n",
       "      <th>1</th>\n",
       "      <td>37.9</td>\n",
       "      <td>NaN</td>\n",
       "      <td>NaN</td>\n",
       "    </tr>\n",
       "    <tr>\n",
       "      <th>2</th>\n",
       "      <td>36.0</td>\n",
       "      <td>3.5</td>\n",
       "      <td>33.3</td>\n",
       "    </tr>\n",
       "    <tr>\n",
       "      <th>3</th>\n",
       "      <td>35.1</td>\n",
       "      <td>4.6</td>\n",
       "      <td>31.0</td>\n",
       "    </tr>\n",
       "    <tr>\n",
       "      <th>4</th>\n",
       "      <td>36.0</td>\n",
       "      <td>3.5</td>\n",
       "      <td>33.3</td>\n",
       "    </tr>\n",
       "    <tr>\n",
       "      <th>5</th>\n",
       "      <td>37.9</td>\n",
       "      <td>3.5</td>\n",
       "      <td>35.5</td>\n",
       "    </tr>\n",
       "    <tr>\n",
       "      <th>6</th>\n",
       "      <td>34.0</td>\n",
       "      <td>3.5</td>\n",
       "      <td>31.0</td>\n",
       "    </tr>\n",
       "    <tr>\n",
       "      <th>7</th>\n",
       "      <td>34.0</td>\n",
       "      <td>3.5</td>\n",
       "      <td>31.0</td>\n",
       "    </tr>\n",
       "    <tr>\n",
       "      <th>8</th>\n",
       "      <td>33.3</td>\n",
       "      <td>1.2</td>\n",
       "      <td>NaN</td>\n",
       "    </tr>\n",
       "    <tr>\n",
       "      <th>9</th>\n",
       "      <td>37.4</td>\n",
       "      <td>4.6</td>\n",
       "      <td>33.8</td>\n",
       "    </tr>\n",
       "    <tr>\n",
       "      <th>10</th>\n",
       "      <td>35.6</td>\n",
       "      <td>5.8</td>\n",
       "      <td>30.7</td>\n",
       "    </tr>\n",
       "    <tr>\n",
       "      <th>11</th>\n",
       "      <td>37.4</td>\n",
       "      <td>4.6</td>\n",
       "      <td>33.8</td>\n",
       "    </tr>\n",
       "    <tr>\n",
       "      <th>12</th>\n",
       "      <td>33.8</td>\n",
       "      <td>2.3</td>\n",
       "      <td>NaN</td>\n",
       "    </tr>\n",
       "    <tr>\n",
       "      <th>13</th>\n",
       "      <td>36.0</td>\n",
       "      <td>5.8</td>\n",
       "      <td>31.1</td>\n",
       "    </tr>\n",
       "    <tr>\n",
       "      <th>14</th>\n",
       "      <td>37.4</td>\n",
       "      <td>4.6</td>\n",
       "      <td>33.8</td>\n",
       "    </tr>\n",
       "  </tbody>\n",
       "</table>\n",
       "</div>"
      ],
      "text/plain": [
       "    Temperature(F)  Wind_Speed(mph)  Wind_Chill(F)\n",
       "0             36.9              NaN            NaN\n",
       "1             37.9              NaN            NaN\n",
       "2             36.0              3.5           33.3\n",
       "3             35.1              4.6           31.0\n",
       "4             36.0              3.5           33.3\n",
       "5             37.9              3.5           35.5\n",
       "6             34.0              3.5           31.0\n",
       "7             34.0              3.5           31.0\n",
       "8             33.3              1.2            NaN\n",
       "9             37.4              4.6           33.8\n",
       "10            35.6              5.8           30.7\n",
       "11            37.4              4.6           33.8\n",
       "12            33.8              2.3            NaN\n",
       "13            36.0              5.8           31.1\n",
       "14            37.4              4.6           33.8"
      ]
     },
     "execution_count": 30,
     "metadata": {},
     "output_type": "execute_result"
    }
   ],
   "source": [
    "# Normally, temp, wind chill and wind speed are related in that wind chill is (temp - x*wind_speed) where x is simply 1 or some factor of it\n",
    "# Lets check values here\n",
    "accidents_df.loc[:,['Temperature(F)', 'Wind_Speed(mph)', 'Wind_Chill(F)']].head(15)"
   ]
  },
  {
   "cell_type": "code",
   "execution_count": 31,
   "metadata": {
    "id": "aE1ImsRzisXJ"
   },
   "outputs": [],
   "source": [
    "# Above results confirms that theory. We can go ahead and calculate Wind_Chill(F) based on Wind_Speed(mph)\n",
    "# If both Wind_Chill(F) and Wind_Speed(mph) are NULL, then we can use the Temperatur(F) instead assuming there is NO wind\n",
    "# Finally, Wind_Speed(mph) is already part of Wind_Chill(F), we can drop that column.\n",
    "# You could argue that Wind_Chill and Temp has linear relationship as they both mostly has similar values \n",
    "# but thats not always the case. So, we'll keep both of them and check for multi-collinearity when evaluating the model.\n",
    "\n",
    "# First fill Wind_Chill using Wind_Speed where Wind_Chill = Temp-WindSpeed\n",
    "accidents_df['Wind_Chill(F)'] = accidents_df.apply(lambda row: row['Temperature(F)'] - row['Wind_Speed(mph)'] if np.isnan(row['Wind_Chill(F)']) else row['Wind_Chill(F)'], axis=1)\n"
   ]
  },
  {
   "cell_type": "code",
   "execution_count": 32,
   "metadata": {
    "id": "baDwsgT7qZ9V"
   },
   "outputs": [],
   "source": [
    "# Now, we're left with rows where wind_speed is also NULL. Fill in with temperature values\n",
    "accidents_df['Wind_Chill(F)'] = accidents_df.apply(lambda row: row['Temperature(F)'] if np.isnan(row['Wind_Chill(F)']) else row['Wind_Chill(F)'], axis=1)"
   ]
  },
  {
   "cell_type": "code",
   "execution_count": 33,
   "metadata": {
    "id": "IO5lbkYMrFfy"
   },
   "outputs": [],
   "source": [
    "# Drop Wind_Speed column as its captured in Wind_Chill already\n",
    "accidents_df.drop(columns=['Wind_Speed(mph)'], inplace=True)"
   ]
  },
  {
   "cell_type": "code",
   "execution_count": 34,
   "metadata": {
    "colab": {
     "base_uri": "https://localhost:8080/"
    },
    "id": "nglXhQu3n6qq",
    "outputId": "1516bf85-dd8e-4c0d-e97d-46fef62e0e5f"
   },
   "outputs": [
    {
     "data": {
      "text/plain": [
       "ID                             0\n",
       "Source                         0\n",
       "TMC                            0\n",
       "Severity                       0\n",
       "Start_Time                     0\n",
       "End_Time                       0\n",
       "Start_Lat                      0\n",
       "Start_Lng                      0\n",
       "Distance(mi)                   0\n",
       "Description                    2\n",
       "Street                         0\n",
       "Side                           0\n",
       "City                         137\n",
       "County                         0\n",
       "State                          0\n",
       "Zipcode                     1291\n",
       "Country                        0\n",
       "Temperature(F)                 0\n",
       "Wind_Chill(F)                  0\n",
       "Humidity(%)                95346\n",
       "Pressure(in)               76288\n",
       "Visibility(mi)             98557\n",
       "Wind_Direction             83496\n",
       "Precipitation(in)        2065402\n",
       "Weather_Condition          98282\n",
       "Amenity                        0\n",
       "Bump                           0\n",
       "Crossing                       0\n",
       "Give_Way                       0\n",
       "Junction                       0\n",
       "No_Exit                        0\n",
       "Railway                        0\n",
       "Roundabout                     0\n",
       "Station                        0\n",
       "Stop                           0\n",
       "Traffic_Calming                0\n",
       "Traffic_Signal                 0\n",
       "Turning_Loop                   0\n",
       "Sunrise_Sunset               141\n",
       "Civil_Twilight               141\n",
       "Nautical_Twilight            141\n",
       "Astronomical_Twilight        141\n",
       "dtype: int64"
      ]
     },
     "execution_count": 34,
     "metadata": {},
     "output_type": "execute_result"
    }
   ],
   "source": [
    "# We filled most NULLs. Lets check where we stand now\n",
    "accidents_df.isnull().sum()"
   ]
  },
  {
   "cell_type": "code",
   "execution_count": 35,
   "metadata": {
    "colab": {
     "base_uri": "https://localhost:8080/"
    },
    "id": "eGSKgCU9nv5e",
    "outputId": "622b9cb5-a0c2-42c2-c23c-ae5254b45ead"
   },
   "outputs": [
    {
     "data": {
      "text/plain": [
       "100.0    170092\n",
       "93.0     164814\n",
       "90.0      97078\n",
       "87.0      95814\n",
       "89.0      81384\n",
       "          ...  \n",
       "5.0        2369\n",
       "4.0        1272\n",
       "3.0         305\n",
       "2.0         100\n",
       "1.0          13\n",
       "Name: Humidity(%), Length: 100, dtype: int64"
      ]
     },
     "execution_count": 35,
     "metadata": {},
     "output_type": "execute_result"
    }
   ],
   "source": [
    "accidents_df['Humidity(%)'].value_counts()"
   ]
  },
  {
   "cell_type": "code",
   "execution_count": 36,
   "metadata": {
    "colab": {
     "base_uri": "https://localhost:8080/"
    },
    "id": "C9d3aJMPrgia",
    "outputId": "20a96888-f508-4a6c-a6cf-eaf323952a3c"
   },
   "outputs": [
    {
     "data": {
      "text/plain": [
       "count    4.134048e+06\n",
       "mean     6.567190e+01\n",
       "std      2.272347e+01\n",
       "min      1.000000e+00\n",
       "25%      4.900000e+01\n",
       "50%      6.800000e+01\n",
       "75%      8.500000e+01\n",
       "max      1.000000e+02\n",
       "Name: Humidity(%), dtype: float64"
      ]
     },
     "execution_count": 36,
     "metadata": {},
     "output_type": "execute_result"
    }
   ],
   "source": [
    "accidents_df['Humidity(%)'].describe()"
   ]
  },
  {
   "cell_type": "code",
   "execution_count": 37,
   "metadata": {
    "colab": {
     "base_uri": "https://localhost:8080/"
    },
    "id": "9vB7QUz9rkhq",
    "outputId": "1ac9462c-d24a-45d2-d199-a0f428e85a38"
   },
   "outputs": [
    {
     "data": {
      "text/plain": [
       "Fair                         899305\n",
       "Clear                        808181\n",
       "Mostly Cloudy                571419\n",
       "Partly Cloudy                397204\n",
       "Overcast                     382485\n",
       "                              ...  \n",
       "Partial Fog / Windy               1\n",
       "Dust Whirls                       1\n",
       "Sand / Dust Whirls Nearby         1\n",
       "Drifting Snow                     1\n",
       "Thunder and Hail / Windy          1\n",
       "Name: Weather_Condition, Length: 131, dtype: int64"
      ]
     },
     "execution_count": 37,
     "metadata": {},
     "output_type": "execute_result"
    }
   ],
   "source": [
    "accidents_df['Weather_Condition'].value_counts()"
   ]
  },
  {
   "cell_type": "code",
   "execution_count": 38,
   "metadata": {
    "colab": {
     "base_uri": "https://localhost:8080/"
    },
    "id": "5L37FGdBtFvk",
    "outputId": "3b9f75ae-8073-4a99-a7ae-ec08cc5ed524"
   },
   "outputs": [
    {
     "data": {
      "text/plain": [
       "Weather_Condition           \n",
       "Fair                            5630\n",
       "Clear                           3544\n",
       "Mostly Cloudy                   2121\n",
       "Cloudy                          1807\n",
       "Partly Cloudy                   1705\n",
       "Overcast                        1509\n",
       "Light Rain                      1194\n",
       "Scattered Clouds                 786\n",
       "Haze                             637\n",
       "Fog                              557\n",
       "Rain                             463\n",
       "Heavy Rain                       165\n",
       "Light Snow                       150\n",
       "Fair / Windy                     118\n",
       "Light Drizzle                     95\n",
       "Mist                              63\n",
       "Cloudy / Windy                    60\n",
       "N/A Precipitation                 48\n",
       "Snow                              45\n",
       "Smoke                             42\n",
       "Thunder in the Vicinity           37\n",
       "T-Storm                           36\n",
       "Drizzle                           34\n",
       "Thunderstorm                      28\n",
       "Light Rain / Windy                24\n",
       "Light Rain with Thunder           23\n",
       "Thunder                           20\n",
       "Sand                              19\n",
       "Heavy T-Storm                     17\n",
       "Heavy Snow                        16\n",
       "Light Thunderstorms and Rain      16\n",
       "Partly Cloudy / Windy             15\n",
       "Showers in the Vicinity           14\n",
       "Mostly Cloudy / Windy             12\n",
       "Heavy Thunderstorms and Rain      12\n",
       "Thunderstorms and Rain            11\n",
       "Light Freezing Rain               11\n",
       "Rain / Windy                       8\n",
       "Light Rain Shower                  8\n",
       "Heavy Rain / Windy                 7\n",
       "T-Storm / Windy                    4\n",
       "Snow / Windy                       4\n",
       "Shallow Fog                        4\n",
       "Light Snow / Windy                 3\n",
       "Light Freezing Fog                 3\n",
       "Heavy Drizzle                      2\n",
       "Patches of Fog                     2\n",
       "Wintry Mix                         2\n",
       "Light Sleet                        1\n",
       "Rain Shower                        1\n",
       "Funnel Cloud                       1\n",
       "Heavy T-Storm / Windy              1\n",
       "Mist / Windy                       1\n",
       "Volcanic Ash                       1\n",
       "Light Rain Showers                 1\n",
       "Light Thunderstorm                 1\n",
       "Tornado                            1\n",
       "dtype: int64"
      ]
     },
     "execution_count": 38,
     "metadata": {},
     "output_type": "execute_result"
    }
   ],
   "source": [
    "# Check the weather condition under which we're missing humidity values\n",
    "accidents_df.loc[np.isnan(accidents_df['Humidity(%)']), ['Weather_Condition']].value_counts()"
   ]
  },
  {
   "cell_type": "code",
   "execution_count": 39,
   "metadata": {
    "id": "F1qGM7M9uQ7N"
   },
   "outputs": [],
   "source": [
    "# There is no easy way to fill Humidity % values. So, for now put it as 100% for all NULLs\n",
    "accidents_df['Humidity(%)'].fillna(100.0, inplace=True)"
   ]
  },
  {
   "cell_type": "code",
   "execution_count": 40,
   "metadata": {
    "colab": {
     "base_uri": "https://localhost:8080/"
    },
    "id": "vwaYlAAktef3",
    "outputId": "966b82d5-3dd2-431b-fcee-c4f21f38aed2"
   },
   "outputs": [
    {
     "data": {
      "text/plain": [
       "29.96    79197\n",
       "30.01    79119\n",
       "29.99    78384\n",
       "29.94    76192\n",
       "30.04    75336\n",
       "         ...  \n",
       "31.06        1\n",
       "31.13        1\n",
       "22.02        1\n",
       "19.96        1\n",
       "0.39         1\n",
       "Name: Pressure(in), Length: 1041, dtype: int64"
      ]
     },
     "execution_count": 40,
     "metadata": {},
     "output_type": "execute_result"
    }
   ],
   "source": [
    "accidents_df['Pressure(in)'].value_counts()"
   ]
  },
  {
   "cell_type": "code",
   "execution_count": 41,
   "metadata": {
    "colab": {
     "base_uri": "https://localhost:8080/"
    },
    "id": "RFM2HKPwvL2a",
    "outputId": "139924dc-49c6-4543-bc18-0826fc31d7c5"
   },
   "outputs": [
    {
     "data": {
      "text/plain": [
       "count    4.153106e+06\n",
       "mean     2.969388e+01\n",
       "std      8.638412e-01\n",
       "min      0.000000e+00\n",
       "25%      2.964000e+01\n",
       "50%      2.993000e+01\n",
       "75%      3.008000e+01\n",
       "max      5.804000e+01\n",
       "Name: Pressure(in), dtype: float64"
      ]
     },
     "execution_count": 41,
     "metadata": {},
     "output_type": "execute_result"
    }
   ],
   "source": [
    "accidents_df['Pressure(in)'].describe()"
   ]
  },
  {
   "cell_type": "code",
   "execution_count": 42,
   "metadata": {
    "colab": {
     "base_uri": "https://localhost:8080/"
    },
    "id": "6YP9v0aIvP4z",
    "outputId": "208811e9-db66-4c1d-b598-0abb2ade543f"
   },
   "outputs": [
    {
     "name": "stdout",
     "output_type": "stream",
     "text": [
      "29.693875725786988\n",
      "29.93\n"
     ]
    }
   ],
   "source": [
    "print(accidents_df['Pressure(in)'].mean())\n",
    "print(accidents_df['Pressure(in)'].median())"
   ]
  },
  {
   "cell_type": "code",
   "execution_count": 43,
   "metadata": {
    "id": "60GAS_f3vYxp"
   },
   "outputs": [],
   "source": [
    "# Fill in Median value for Pressure(in)\n",
    "accidents_df['Pressure(in)'].fillna(accidents_df['Pressure(in)'].median(), inplace=True)"
   ]
  },
  {
   "cell_type": "code",
   "execution_count": 44,
   "metadata": {
    "colab": {
     "base_uri": "https://localhost:8080/"
    },
    "id": "8d6RM4_wvpSJ",
    "outputId": "c542f85c-7bce-4d01-f340-acc4cd76e6be"
   },
   "outputs": [
    {
     "data": {
      "text/plain": [
       "10.0    3290077\n",
       "7.0      128552\n",
       "9.0      110933\n",
       "8.0       88503\n",
       "5.0       83046\n",
       "         ...   \n",
       "16.0          1\n",
       "54.0          1\n",
       "3.2           1\n",
       "72.0          1\n",
       "58.0          1\n",
       "Name: Visibility(mi), Length: 87, dtype: int64"
      ]
     },
     "execution_count": 44,
     "metadata": {},
     "output_type": "execute_result"
    }
   ],
   "source": [
    "accidents_df['Visibility(mi)'].value_counts()"
   ]
  },
  {
   "cell_type": "code",
   "execution_count": 45,
   "metadata": {
    "colab": {
     "base_uri": "https://localhost:8080/"
    },
    "id": "HFvimPnXvwXl",
    "outputId": "9a6b1c27-04c3-4bf6-af32-ece2001365b0"
   },
   "outputs": [
    {
     "data": {
      "text/plain": [
       "count    4.130837e+06\n",
       "mean     9.112037e+00\n",
       "std      2.817529e+00\n",
       "min      0.000000e+00\n",
       "25%      1.000000e+01\n",
       "50%      1.000000e+01\n",
       "75%      1.000000e+01\n",
       "max      1.400000e+02\n",
       "Name: Visibility(mi), dtype: float64"
      ]
     },
     "execution_count": 45,
     "metadata": {},
     "output_type": "execute_result"
    }
   ],
   "source": [
    "accidents_df['Visibility(mi)'].describe()"
   ]
  },
  {
   "cell_type": "code",
   "execution_count": 46,
   "metadata": {
    "colab": {
     "base_uri": "https://localhost:8080/"
    },
    "id": "6WQntZG_v090",
    "outputId": "b063a353-7297-4e97-bcf9-24a2f582b0f4"
   },
   "outputs": [
    {
     "name": "stdout",
     "output_type": "stream",
     "text": [
      "9.11203698911402\n",
      "10.0\n"
     ]
    }
   ],
   "source": [
    "print(accidents_df['Visibility(mi)'].mean())\n",
    "print(accidents_df['Visibility(mi)'].median())"
   ]
  },
  {
   "cell_type": "code",
   "execution_count": 47,
   "metadata": {
    "id": "cK4taMQ_v_uk"
   },
   "outputs": [],
   "source": [
    "# Fill in Median value for Visibility(mi)\n",
    "accidents_df['Visibility(mi)'].fillna(accidents_df['Visibility(mi)'].median(), inplace=True)"
   ]
  },
  {
   "cell_type": "code",
   "execution_count": 48,
   "metadata": {
    "colab": {
     "base_uri": "https://localhost:8080/"
    },
    "id": "teE7jW3VwKFl",
    "outputId": "d4f4dfc6-e0cc-404a-a21d-581ff462f75a"
   },
   "outputs": [
    {
     "data": {
      "text/plain": [
       "Fair                         899305\n",
       "Clear                        808181\n",
       "Mostly Cloudy                571419\n",
       "Partly Cloudy                397204\n",
       "Overcast                     382485\n",
       "                              ...  \n",
       "Partial Fog / Windy               1\n",
       "Dust Whirls                       1\n",
       "Sand / Dust Whirls Nearby         1\n",
       "Drifting Snow                     1\n",
       "Thunder and Hail / Windy          1\n",
       "Name: Weather_Condition, Length: 131, dtype: int64"
      ]
     },
     "execution_count": 48,
     "metadata": {},
     "output_type": "execute_result"
    }
   ],
   "source": [
    "accidents_df['Weather_Condition'].value_counts()"
   ]
  },
  {
   "cell_type": "code",
   "execution_count": 49,
   "metadata": {
    "colab": {
     "base_uri": "https://localhost:8080/"
    },
    "id": "VM0DuxY4wTzk",
    "outputId": "8d9cd15d-8c85-497d-bcea-8cf95bafe5fb"
   },
   "outputs": [
    {
     "data": {
      "text/plain": [
       "count     4131112\n",
       "unique        131\n",
       "top          Fair\n",
       "freq       899305\n",
       "Name: Weather_Condition, dtype: object"
      ]
     },
     "execution_count": 49,
     "metadata": {},
     "output_type": "execute_result"
    }
   ],
   "source": [
    "accidents_df['Weather_Condition'].describe()"
   ]
  },
  {
   "cell_type": "code",
   "execution_count": 50,
   "metadata": {
    "id": "QNumxe5LwdvJ"
   },
   "outputs": [],
   "source": [
    "# Fill Fair for All NULL Weather_Condition\n",
    "accidents_df['Weather_Condition'].fillna('Fair', inplace=True)"
   ]
  },
  {
   "cell_type": "code",
   "execution_count": 51,
   "metadata": {
    "colab": {
     "base_uri": "https://localhost:8080/"
    },
    "id": "pqXPbIXzwxRI",
    "outputId": "ebaecab0-07f5-4515-c8d3-aeb7b42731ee"
   },
   "outputs": [
    {
     "data": {
      "text/plain": [
       "0.00    1873124\n",
       "0.01      82079\n",
       "0.02      40644\n",
       "0.03      27715\n",
       "0.04      20525\n",
       "         ...   \n",
       "2.27          1\n",
       "1.95          1\n",
       "2.02          1\n",
       "2.73          1\n",
       "3.13          1\n",
       "Name: Precipitation(in), Length: 269, dtype: int64"
      ]
     },
     "execution_count": 51,
     "metadata": {},
     "output_type": "execute_result"
    }
   ],
   "source": [
    "accidents_df['Precipitation(in)'].value_counts()"
   ]
  },
  {
   "cell_type": "code",
   "execution_count": 52,
   "metadata": {
    "colab": {
     "base_uri": "https://localhost:8080/"
    },
    "id": "yBCT1Qgvw4V3",
    "outputId": "d9af8332-2910-45df-f4ab-38573cd668f9"
   },
   "outputs": [
    {
     "data": {
      "text/plain": [
       "Weather_Condition\n",
       "Clear                803333\n",
       "Overcast             327980\n",
       "Mostly Cloudy        299486\n",
       "Partly Cloudy        213163\n",
       "Scattered Clouds     200021\n",
       "Fair                 126109\n",
       "Haze                  27327\n",
       "Light Rain            12820\n",
       "Fog                   12216\n",
       "Cloudy                 8982\n",
       "Light Snow             6568\n",
       "Rain                   5999\n",
       "Smoke                  3429\n",
       "Thunderstorm           3262\n",
       "Light Drizzle          2439\n",
       "dtype: int64"
      ]
     },
     "execution_count": 52,
     "metadata": {},
     "output_type": "execute_result"
    }
   ],
   "source": [
    "# Check if weather condition when percipitation is NULL\n",
    "accidents_df.loc[np.isnan(accidents_df['Precipitation(in)']), ['Weather_Condition']].value_counts().head(15)"
   ]
  },
  {
   "cell_type": "code",
   "execution_count": 53,
   "metadata": {
    "id": "D-dmkfwO09GX"
   },
   "outputs": [],
   "source": [
    "# Only about 20K records possbily might miss the actual Precipitation measurement. Other records should have 0.\n",
    "accidents_df['Precipitation(in)'].fillna(0.0, inplace=True)"
   ]
  },
  {
   "cell_type": "code",
   "execution_count": 54,
   "metadata": {
    "id": "objYcAF01Xmf"
   },
   "outputs": [],
   "source": [
    "# We will not be using description in the modeling. So, lets drop that field\n",
    "accidents_df.drop(columns=['Description'], inplace=True)"
   ]
  },
  {
   "cell_type": "code",
   "execution_count": 55,
   "metadata": {
    "colab": {
     "base_uri": "https://localhost:8080/"
    },
    "id": "j0Bi3_Sl1jvj",
    "outputId": "f87355e2-b14a-4cdb-c5b0-e792151a18ee"
   },
   "outputs": [
    {
     "data": {
      "text/plain": [
       "Day      2924504\n",
       "Night    1304749\n",
       "Name: Sunrise_Sunset, dtype: int64"
      ]
     },
     "execution_count": 55,
     "metadata": {},
     "output_type": "execute_result"
    }
   ],
   "source": [
    "accidents_df['Sunrise_Sunset'].value_counts()"
   ]
  },
  {
   "cell_type": "code",
   "execution_count": 56,
   "metadata": {
    "colab": {
     "base_uri": "https://localhost:8080/"
    },
    "id": "dNQheCRM1tOV",
    "outputId": "064bb99b-5bc4-4787-8742-9ed7481507d4"
   },
   "outputs": [
    {
     "data": {
      "text/plain": [
       "Day      3126621\n",
       "Night    1102632\n",
       "Name: Civil_Twilight, dtype: int64"
      ]
     },
     "execution_count": 56,
     "metadata": {},
     "output_type": "execute_result"
    }
   ],
   "source": [
    "accidents_df['Civil_Twilight'].value_counts()"
   ]
  },
  {
   "cell_type": "code",
   "execution_count": 57,
   "metadata": {
    "colab": {
     "base_uri": "https://localhost:8080/",
     "height": 491
    },
    "id": "P7IqMejm13Az",
    "outputId": "e8f4c382-f5c3-49aa-dd34-fb758ba6fa93"
   },
   "outputs": [
    {
     "data": {
      "text/html": [
       "<div>\n",
       "<style scoped>\n",
       "    .dataframe tbody tr th:only-of-type {\n",
       "        vertical-align: middle;\n",
       "    }\n",
       "\n",
       "    .dataframe tbody tr th {\n",
       "        vertical-align: top;\n",
       "    }\n",
       "\n",
       "    .dataframe thead th {\n",
       "        text-align: right;\n",
       "    }\n",
       "</style>\n",
       "<table border=\"1\" class=\"dataframe\">\n",
       "  <thead>\n",
       "    <tr style=\"text-align: right;\">\n",
       "      <th></th>\n",
       "      <th>Start_Time</th>\n",
       "      <th>End_Time</th>\n",
       "    </tr>\n",
       "  </thead>\n",
       "  <tbody>\n",
       "    <tr>\n",
       "      <th>85968</th>\n",
       "      <td>2016-08-02 18:18:02</td>\n",
       "      <td>2016-08-02 19:03:02</td>\n",
       "    </tr>\n",
       "    <tr>\n",
       "      <th>111080</th>\n",
       "      <td>2016-06-01 10:26:08</td>\n",
       "      <td>2016-06-01 11:10:00</td>\n",
       "    </tr>\n",
       "    <tr>\n",
       "      <th>119772</th>\n",
       "      <td>2016-12-23 19:30:59</td>\n",
       "      <td>2016-12-23 20:15:41</td>\n",
       "    </tr>\n",
       "    <tr>\n",
       "      <th>122929</th>\n",
       "      <td>2017-01-17 17:34:09</td>\n",
       "      <td>2017-01-17 18:04:09</td>\n",
       "    </tr>\n",
       "    <tr>\n",
       "      <th>123702</th>\n",
       "      <td>2017-01-24 07:30:44</td>\n",
       "      <td>2017-01-24 08:15:29</td>\n",
       "    </tr>\n",
       "    <tr>\n",
       "      <th>125048</th>\n",
       "      <td>2016-10-27 09:13:02</td>\n",
       "      <td>2016-10-27 09:42:51</td>\n",
       "    </tr>\n",
       "    <tr>\n",
       "      <th>126318</th>\n",
       "      <td>2016-11-07 06:53:09</td>\n",
       "      <td>2016-11-07 07:37:43</td>\n",
       "    </tr>\n",
       "    <tr>\n",
       "      <th>126451</th>\n",
       "      <td>2016-11-07 11:40:21</td>\n",
       "      <td>2016-11-07 12:10:06</td>\n",
       "    </tr>\n",
       "    <tr>\n",
       "      <th>127213</th>\n",
       "      <td>2016-11-11 08:55:37</td>\n",
       "      <td>2016-11-11 09:25:14</td>\n",
       "    </tr>\n",
       "    <tr>\n",
       "      <th>132630</th>\n",
       "      <td>2016-09-28 17:25:19</td>\n",
       "      <td>2016-09-28 18:10:19</td>\n",
       "    </tr>\n",
       "    <tr>\n",
       "      <th>135057</th>\n",
       "      <td>2016-10-18 08:54:48</td>\n",
       "      <td>2016-10-18 09:24:36</td>\n",
       "    </tr>\n",
       "    <tr>\n",
       "      <th>138423</th>\n",
       "      <td>2016-08-22 09:42:05</td>\n",
       "      <td>2016-08-22 10:42:05</td>\n",
       "    </tr>\n",
       "    <tr>\n",
       "      <th>141455</th>\n",
       "      <td>2016-06-22 09:46:05</td>\n",
       "      <td>2016-06-22 10:31:05</td>\n",
       "    </tr>\n",
       "    <tr>\n",
       "      <th>145307</th>\n",
       "      <td>2016-07-25 17:58:31</td>\n",
       "      <td>2016-07-25 18:43:31</td>\n",
       "    </tr>\n",
       "    <tr>\n",
       "      <th>240026</th>\n",
       "      <td>2016-11-04 08:16:31</td>\n",
       "      <td>2016-11-04 09:01:02</td>\n",
       "    </tr>\n",
       "  </tbody>\n",
       "</table>\n",
       "</div>"
      ],
      "text/plain": [
       "                 Start_Time             End_Time\n",
       "85968   2016-08-02 18:18:02  2016-08-02 19:03:02\n",
       "111080  2016-06-01 10:26:08  2016-06-01 11:10:00\n",
       "119772  2016-12-23 19:30:59  2016-12-23 20:15:41\n",
       "122929  2017-01-17 17:34:09  2017-01-17 18:04:09\n",
       "123702  2017-01-24 07:30:44  2017-01-24 08:15:29\n",
       "125048  2016-10-27 09:13:02  2016-10-27 09:42:51\n",
       "126318  2016-11-07 06:53:09  2016-11-07 07:37:43\n",
       "126451  2016-11-07 11:40:21  2016-11-07 12:10:06\n",
       "127213  2016-11-11 08:55:37  2016-11-11 09:25:14\n",
       "132630  2016-09-28 17:25:19  2016-09-28 18:10:19\n",
       "135057  2016-10-18 08:54:48  2016-10-18 09:24:36\n",
       "138423  2016-08-22 09:42:05  2016-08-22 10:42:05\n",
       "141455  2016-06-22 09:46:05  2016-06-22 10:31:05\n",
       "145307  2016-07-25 17:58:31  2016-07-25 18:43:31\n",
       "240026  2016-11-04 08:16:31  2016-11-04 09:01:02"
      ]
     },
     "execution_count": 57,
     "metadata": {},
     "output_type": "execute_result"
    }
   ],
   "source": [
    "# What time of the day that we're missing values for Sunrise_Sunset related fields...\n",
    "accidents_df.loc[accidents_df['Civil_Twilight'].isnull(), ['Start_Time', 'End_Time']].head(15)"
   ]
  },
  {
   "cell_type": "code",
   "execution_count": 58,
   "metadata": {
    "id": "cLiBLNpJ2gBU"
   },
   "outputs": [],
   "source": [
    "# We could derive the values from Start/End Time but since these are small number of records, lets put it as 'Day'\n",
    "accidents_df['Civil_Twilight'].fillna('Day', inplace=True)"
   ]
  },
  {
   "cell_type": "code",
   "execution_count": 59,
   "metadata": {
    "id": "IINZk75-2tqN"
   },
   "outputs": [],
   "source": [
    "accidents_df['Sunrise_Sunset'].fillna('Day', inplace=True)"
   ]
  },
  {
   "cell_type": "code",
   "execution_count": 60,
   "metadata": {
    "id": "nrJHNRu22zML"
   },
   "outputs": [],
   "source": [
    "accidents_df['Nautical_Twilight'].fillna('Day', inplace=True)"
   ]
  },
  {
   "cell_type": "code",
   "execution_count": 61,
   "metadata": {
    "id": "kthv4EJb23HO"
   },
   "outputs": [],
   "source": [
    "accidents_df['Astronomical_Twilight'].fillna('Day', inplace=True)"
   ]
  },
  {
   "cell_type": "code",
   "execution_count": 62,
   "metadata": {
    "colab": {
     "base_uri": "https://localhost:8080/"
    },
    "id": "TTcGqo0EwpNj",
    "outputId": "263c1f63-bd45-41db-c3ca-e502a012e384"
   },
   "outputs": [
    {
     "data": {
      "text/plain": [
       "ID                           0\n",
       "Source                       0\n",
       "TMC                          0\n",
       "Severity                     0\n",
       "Start_Time                   0\n",
       "End_Time                     0\n",
       "Start_Lat                    0\n",
       "Start_Lng                    0\n",
       "Distance(mi)                 0\n",
       "Street                       0\n",
       "Side                         0\n",
       "City                       137\n",
       "County                       0\n",
       "State                        0\n",
       "Zipcode                   1291\n",
       "Country                      0\n",
       "Temperature(F)               0\n",
       "Wind_Chill(F)                0\n",
       "Humidity(%)                  0\n",
       "Pressure(in)                 0\n",
       "Visibility(mi)               0\n",
       "Wind_Direction           83496\n",
       "Precipitation(in)            0\n",
       "Weather_Condition            0\n",
       "Amenity                      0\n",
       "Bump                         0\n",
       "Crossing                     0\n",
       "Give_Way                     0\n",
       "Junction                     0\n",
       "No_Exit                      0\n",
       "Railway                      0\n",
       "Roundabout                   0\n",
       "Station                      0\n",
       "Stop                         0\n",
       "Traffic_Calming              0\n",
       "Traffic_Signal               0\n",
       "Turning_Loop                 0\n",
       "Sunrise_Sunset               0\n",
       "Civil_Twilight               0\n",
       "Nautical_Twilight            0\n",
       "Astronomical_Twilight        0\n",
       "dtype: int64"
      ]
     },
     "execution_count": 62,
     "metadata": {},
     "output_type": "execute_result"
    }
   ],
   "source": [
    "# We filled all NULLs. Lets check where we stand now\n",
    "accidents_df.isnull().sum()"
   ]
  },
  {
   "cell_type": "code",
   "execution_count": 63,
   "metadata": {
    "colab": {
     "base_uri": "https://localhost:8080/"
    },
    "id": "_sCQ_Bfi5o_b",
    "outputId": "810eb097-8a03-4018-af50-f4fd17bc1d7b"
   },
   "outputs": [
    {
     "name": "stdout",
     "output_type": "stream",
     "text": [
      "<class 'pandas.core.frame.DataFrame'>\n",
      "RangeIndex: 4229394 entries, 0 to 4229393\n",
      "Data columns (total 41 columns):\n",
      " #   Column                 Dtype  \n",
      "---  ------                 -----  \n",
      " 0   ID                     object \n",
      " 1   Source                 object \n",
      " 2   TMC                    float64\n",
      " 3   Severity               int64  \n",
      " 4   Start_Time             object \n",
      " 5   End_Time               object \n",
      " 6   Start_Lat              float64\n",
      " 7   Start_Lng              float64\n",
      " 8   Distance(mi)           float64\n",
      " 9   Street                 object \n",
      " 10  Side                   object \n",
      " 11  City                   object \n",
      " 12  County                 object \n",
      " 13  State                  object \n",
      " 14  Zipcode                object \n",
      " 15  Country                object \n",
      " 16  Temperature(F)         float64\n",
      " 17  Wind_Chill(F)          float64\n",
      " 18  Humidity(%)            float64\n",
      " 19  Pressure(in)           float64\n",
      " 20  Visibility(mi)         float64\n",
      " 21  Wind_Direction         object \n",
      " 22  Precipitation(in)      float64\n",
      " 23  Weather_Condition      object \n",
      " 24  Amenity                bool   \n",
      " 25  Bump                   bool   \n",
      " 26  Crossing               bool   \n",
      " 27  Give_Way               bool   \n",
      " 28  Junction               bool   \n",
      " 29  No_Exit                bool   \n",
      " 30  Railway                bool   \n",
      " 31  Roundabout             bool   \n",
      " 32  Station                bool   \n",
      " 33  Stop                   bool   \n",
      " 34  Traffic_Calming        bool   \n",
      " 35  Traffic_Signal         bool   \n",
      " 36  Turning_Loop           bool   \n",
      " 37  Sunrise_Sunset         object \n",
      " 38  Civil_Twilight         object \n",
      " 39  Nautical_Twilight      object \n",
      " 40  Astronomical_Twilight  object \n",
      "dtypes: bool(13), float64(10), int64(1), object(17)\n",
      "memory usage: 955.9+ MB\n"
     ]
    }
   ],
   "source": [
    "accidents_df.info()"
   ]
  },
  {
   "cell_type": "code",
   "execution_count": 64,
   "metadata": {
    "id": "eHh-ftM-Wl1t"
   },
   "outputs": [],
   "source": [
    "# Lowercase column names\n",
    "accidents_df.columns = accidents_df.columns.str.lower()"
   ]
  },
  {
   "cell_type": "code",
   "execution_count": 65,
   "metadata": {
    "id": "_TtlAW1wWu1M"
   },
   "outputs": [],
   "source": [
    "# unnecessary\n",
    "accidents_df.drop(columns=['id', 'source'], inplace=True)"
   ]
  },
  {
   "cell_type": "code",
   "execution_count": 66,
   "metadata": {
    "id": "ONTffrj4WvdT"
   },
   "outputs": [],
   "source": [
    "# turn columns to datetime\n",
    "accidents_df['start_time'] = pd.to_datetime(accidents_df['start_time'])\n",
    "accidents_df['end_time'] = pd.to_datetime(accidents_df['end_time'])"
   ]
  },
  {
   "cell_type": "code",
   "execution_count": 67,
   "metadata": {},
   "outputs": [],
   "source": [
    "# create a column that has the hour of the accident\n",
    "accidents_df['start_hour'] = accidents_df['start_time'].dt.hour\n",
    "accidents_df['end_hour'] = accidents_df['end_time'].dt.hour"
   ]
  },
  {
   "cell_type": "code",
   "execution_count": 68,
   "metadata": {
    "id": "VkSFesSaXSJ4"
   },
   "outputs": [],
   "source": [
    "# create a column that has the month of the accident\n",
    "accidents_df['month'] = accidents_df['start_time'].dt.month"
   ]
  },
  {
   "cell_type": "code",
   "execution_count": 69,
   "metadata": {
    "id": "AFvmSQwwXr-j"
   },
   "outputs": [],
   "source": [
    "# create a function to calculate the total duration of the accident in minutes\n",
    "\n",
    "def datetime_to_minutes(df):\n",
    "    total_duration = []\n",
    "    \n",
    "    for x in range(len(df)-1):\n",
    "        total_duration.append(((df['end_time'][x] - df['start_time'][x]).total_seconds())/60)\n",
    "        \n",
    "    return total_duration"
   ]
  },
  {
   "cell_type": "code",
   "execution_count": 70,
   "metadata": {
    "id": "wxdEm7aIXuRl"
   },
   "outputs": [],
   "source": [
    "# make a list of total duration\n",
    "total_duration = datetime_to_minutes(accidents_df)"
   ]
  },
  {
   "cell_type": "code",
   "execution_count": 71,
   "metadata": {
    "id": "dyoUzm5CXyH2"
   },
   "outputs": [],
   "source": [
    "total_duration.append(((accidents_df['end_time'][4229393] - accidents_df['start_time'][4229393]).total_seconds())/60)"
   ]
  },
  {
   "cell_type": "code",
   "execution_count": 72,
   "metadata": {
    "id": "Q_HeeJzsX_hW"
   },
   "outputs": [],
   "source": [
    "# create a column with the total duration of the accident\n",
    "accidents_df['total_duration'] = total_duration"
   ]
  },
  {
   "cell_type": "code",
   "execution_count": 73,
   "metadata": {
    "id": "ZD8PujIYYILz"
   },
   "outputs": [],
   "source": [
    "def bool_to_int(bool):\n",
    "    if bool == True:\n",
    "        return 1\n",
    "    else:\n",
    "        return 0"
   ]
  },
  {
   "cell_type": "code",
   "execution_count": 74,
   "metadata": {
    "id": "nJMcK-huYIwZ"
   },
   "outputs": [],
   "source": [
    "def bool_to_int_columns(df, columns):\n",
    "    for col in columns:\n",
    "        df[col] = df[col].apply(bool_to_int)\n",
    "        \n",
    "    return df"
   ]
  },
  {
   "cell_type": "code",
   "execution_count": 75,
   "metadata": {
    "id": "fdT2VU37YJN4"
   },
   "outputs": [],
   "source": [
    "# turn boolean columns into integers\n",
    "accidents_df = bool_to_int_columns(accidents_df,['amenity','bump','crossing','give_way','junction','no_exit','railway',\n",
    "                          'roundabout','station','stop','traffic_calming','traffic_signal',\n",
    "                          'turning_loop'])"
   ]
  },
  {
   "cell_type": "code",
   "execution_count": 76,
   "metadata": {
    "id": "88r3vLJOYJum"
   },
   "outputs": [],
   "source": [
    "def d_n_to_int(string):\n",
    "    if string == 'Day':\n",
    "        return 1\n",
    "    else:\n",
    "        return 0"
   ]
  },
  {
   "cell_type": "code",
   "execution_count": 77,
   "metadata": {
    "id": "tiwSL1h1YY4u"
   },
   "outputs": [],
   "source": [
    "def d_n_to_int_columns(df, columns):\n",
    "    for col in columns:\n",
    "        df[col] = df[col].apply(d_n_to_int)\n",
    "        \n",
    "    return df"
   ]
  },
  {
   "cell_type": "code",
   "execution_count": 78,
   "metadata": {
    "id": "U5J4xi5NYbjz"
   },
   "outputs": [],
   "source": [
    "# Turn night/day columns into integers\n",
    "#accidents_df = d_n_to_int_columns(accidents_df,['sunrise_sunset','civil_twilight',\n",
    "#                                'nautical_twilight','astronomical_twilight'])"
   ]
  },
  {
   "cell_type": "code",
   "execution_count": 79,
   "metadata": {
    "id": "XJTiPCawZ82Q"
   },
   "outputs": [],
   "source": [
    "# dummify categorical columns\n",
    "#accidents_df = pd.get_dummies(accidents_df, columns = ['weather_condition','wind_direction','tmc'])"
   ]
  },
  {
   "cell_type": "code",
   "execution_count": 80,
   "metadata": {
    "id": "ulOPYUpZYfxx"
   },
   "outputs": [],
   "source": [
    "# binarize side column\n",
    "#accidents_df['side'] = accidents_df['side'].map({'R': 1,'L': 0})"
   ]
  },
  {
   "cell_type": "code",
   "execution_count": 81,
   "metadata": {},
   "outputs": [],
   "source": [
    "# combine calm columns\n",
    "#accidents_df['wind_direction_Calm'] = accidents_df['wind_direction_Calm'] + accidents_df['wind_direction_CALM']"
   ]
  },
  {
   "cell_type": "code",
   "execution_count": 82,
   "metadata": {},
   "outputs": [],
   "source": [
    "# drop CALM column\n",
    "#accidents_df.drop(columns = ['wind_direction_CALM'], inplace = True)"
   ]
  },
  {
   "cell_type": "code",
   "execution_count": 83,
   "metadata": {
    "id": "M1MaJwuIwuV4"
   },
   "outputs": [],
   "source": [
    "# Save the cleaned up version into csv\n",
    "#accidents_df.to_csv('US_Accidents_CleanedUp.csv')"
   ]
  },
  {
   "cell_type": "code",
   "execution_count": 84,
   "metadata": {},
   "outputs": [],
   "source": [
    "# taking out punctuation and other characters that aren't allowed\n",
    "# to be uploaded in Google BigQuery\n",
    "\n",
    "names = []\n",
    "\n",
    "for col_names in accidents_df.columns:\n",
    "    names.append(col_names.strip().replace('(','_').replace(')','').replace('/','').replace('%','').replace(' ','').replace('-','_').replace('.0',''))\n",
    "\n",
    "accidents_df.columns = names"
   ]
  },
  {
   "cell_type": "code",
   "execution_count": 85,
   "metadata": {},
   "outputs": [
    {
     "data": {
      "text/plain": [
       "city                      \n",
       "Conservation                  244\n",
       "District 4 Kent Island        195\n",
       "St. Petersburg                165\n",
       "Ross Valley                   130\n",
       "Springville-Mapleton           91\n",
       "West Contra Costa              75\n",
       "San Mateo                      50\n",
       "Southeast Marin                42\n",
       "District 5                     40\n",
       "North Bayside                  39\n",
       "East Tehama                    38\n",
       "Avalon-Mulat                   30\n",
       "Middle Keys                    17\n",
       "Duluth city                    12\n",
       "Madeline Plains                10\n",
       "East Sierra                     9\n",
       "Lower Keys                      9\n",
       "District 1                      9\n",
       "Gila Bend                       8\n",
       "Glades                          8\n",
       "Gig Harbor Peninsula            6\n",
       "North Whidbey Island            5\n",
       "North Penobscot                 5\n",
       "Central Contra Costa            4\n",
       "Greens                          3\n",
       "District 10                     3\n",
       "District 4                      3\n",
       "Cocoa Beach-Cape Canaveral      3\n",
       "South Yakima                    3\n",
       "North El Dorado                 2\n",
       "Pinkhams                        2\n",
       "Danbury                         2\n",
       "Queens                          2\n",
       "Superior city                   2\n",
       "Upper                           2\n",
       "District 6                      2\n",
       "Waccamaw Neck                   2\n",
       "Croatan                         1\n",
       "District 13                     1\n",
       "Cocoa-Rockledge                 1\n",
       "Bayou La Batre                  1\n",
       "Bagdad                          1\n",
       "Willow Creek-Hoopa Valley       1\n",
       "Hanford Site                    1\n",
       "East Central Washington         1\n",
       "East Hancock                    1\n",
       "East Whatcom                    1\n",
       "West Santa Cruz                 1\n",
       "Hayfork                         1\n",
       "North Washington                1\n",
       "Oak Bay-Port Ludlow             1\n",
       "Orland                          1\n",
       "Poplar Branch                   1\n",
       "Upper Red Lake                  1\n",
       "Vashon Island                   1\n",
       "Atlantic                        1\n",
       "dtype: int64"
      ]
     },
     "execution_count": 85,
     "metadata": {},
     "output_type": "execute_result"
    }
   ],
   "source": [
    "accidents_df.loc[accidents_df['zipcode'].isnull(), ['city']].value_counts()"
   ]
  },
  {
   "cell_type": "code",
   "execution_count": 86,
   "metadata": {
    "id": "M1MaJwuIwuV4"
   },
   "outputs": [],
   "source": [
    "# Save the cleaned up version into csv\n",
    "accidents_df.to_csv('US_Accidents_CleanedUp_Jan26.csv')"
   ]
  },
  {
   "cell_type": "markdown",
   "metadata": {},
   "source": [
    "## GBQ"
   ]
  },
  {
   "cell_type": "code",
   "execution_count": 87,
   "metadata": {},
   "outputs": [],
   "source": [
    "# Jaco\n",
    "#with open('../../super_keys/dsi-team.json','r') as json_file:\n",
    "#    creds = json.load(json_file)"
   ]
  },
  {
   "cell_type": "code",
   "execution_count": 88,
   "metadata": {},
   "outputs": [],
   "source": [
    "# Nat\n",
    "# with open('nats pathway','r') as json_file:\n",
    "#     coin_creds = json.load(json_file)"
   ]
  },
  {
   "cell_type": "code",
   "execution_count": 89,
   "metadata": {},
   "outputs": [],
   "source": [
    "# Jonathan\n",
    "# with open('jons pathway','r') as json_file:\n",
    "#     coin_creds = json.load(json_file)"
   ]
  },
  {
   "cell_type": "code",
   "execution_count": 90,
   "metadata": {},
   "outputs": [],
   "source": [
    "# James\n",
    "# with open('james pathway','r') as json_file:\n",
    "#     coin_creds = json.load(json_file)"
   ]
  },
  {
   "cell_type": "markdown",
   "metadata": {},
   "source": [
    "Ran the code below to upload our accidents_df to Google BigQuery.  Turning this cell into markdown so because it doesn't need to be reran.\n",
    "\n",
    "accidents_df.to_gbq('accidents.accidents', project_id = creds['project_id'], if_exists = 'append',reauth = True)"
   ]
  },
  {
   "cell_type": "code",
   "execution_count": 91,
   "metadata": {},
   "outputs": [],
   "source": [
    "#query = \"\"\"\n",
    "#SELECT *\n",
    "#FROM `dsi-team-project.accidents.accidents`\n",
    "#\"\"\"\n",
    "\n",
    "#accidents = pd.read_gbq(query, project_id=creds['project_id'], reauth = True)"
   ]
  },
  {
   "cell_type": "code",
   "execution_count": 92,
   "metadata": {
    "id": "wq2Ib9r9pPaO"
   },
   "outputs": [],
   "source": [
    "#accidents"
   ]
  },
  {
   "cell_type": "code",
   "execution_count": null,
   "metadata": {},
   "outputs": [],
   "source": []
  }
 ],
 "metadata": {
  "accelerator": "GPU",
  "colab": {
   "collapsed_sections": [],
   "include_colab_link": true,
   "name": "Project5-US Accidents.ipynb",
   "provenance": []
  },
  "kernelspec": {
   "display_name": "Python 3",
   "language": "python",
   "name": "python3"
  },
  "language_info": {
   "codemirror_mode": {
    "name": "ipython",
    "version": 3
   },
   "file_extension": ".py",
   "mimetype": "text/x-python",
   "name": "python",
   "nbconvert_exporter": "python",
   "pygments_lexer": "ipython3",
   "version": "3.8.5"
  }
 },
 "nbformat": 4,
 "nbformat_minor": 1
}
