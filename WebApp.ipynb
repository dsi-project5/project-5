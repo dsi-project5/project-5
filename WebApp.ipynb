{
  "nbformat": 4,
  "nbformat_minor": 0,
  "metadata": {
    "colab": {
      "name": "WebApp.ipynb",
      "private_outputs": true,
      "provenance": [],
      "authorship_tag": "ABX9TyNT6nemvYI2w0k86hydvGdh",
      "include_colab_link": true
    },
    "kernelspec": {
      "display_name": "Python 3",
      "name": "python3"
    }
  },
  "cells": [
    {
      "cell_type": "markdown",
      "metadata": {
        "id": "view-in-github",
        "colab_type": "text"
      },
      "source": [
        "<a href=\"https://colab.research.google.com/github/dsi-project5/project-5/blob/master/WebApp.ipynb\" target=\"_parent\"><img src=\"https://colab.research.google.com/assets/colab-badge.svg\" alt=\"Open In Colab\"/></a>"
      ]
    },
    {
      "cell_type": "code",
      "metadata": {
        "id": "TRpaRr8tpzBo"
      },
      "source": [
        "import pandas as pd\n",
        "import numpy as np\n",
        "import matplotlib.pyplot as plt\n",
        "import json\n",
        "\n",
        "from google.cloud import bigquery"
      ],
      "execution_count": null,
      "outputs": []
    },
    {
      "cell_type": "code",
      "metadata": {
        "id": "qRfW4xBp4jOx"
      },
      "source": [
        "from google.colab import files\n",
        "files.upload()"
      ],
      "execution_count": null,
      "outputs": []
    },
    {
      "cell_type": "code",
      "metadata": {
        "id": "xVi5-JUB4qzd"
      },
      "source": [
        "# Nat\n",
        "with open('dsi-team-project-75bf7059c640.json','r') as json_file:\n",
        "  creds = json.load(json_file)"
      ],
      "execution_count": null,
      "outputs": []
    },
    {
      "cell_type": "code",
      "metadata": {
        "id": "OSB8BGJk4yjJ"
      },
      "source": [
        "query = \"\"\"\n",
        "SELECT start_hour, count(*) FROM `dsi-team-project.accidents.accidents` group by start_hour\n",
        "\"\"\"\n",
        "\n",
        "accidents = pd.read_gbq(query, project_id=creds['project_id'], reauth = True)"
      ],
      "execution_count": null,
      "outputs": []
    },
    {
      "cell_type": "code",
      "metadata": {
        "id": "xI-UZk7k407B"
      },
      "source": [
        "accidents"
      ],
      "execution_count": null,
      "outputs": []
    },
    {
      "cell_type": "code",
      "metadata": {
        "id": "MfiU3g7246rj"
      },
      "source": [
        ""
      ],
      "execution_count": null,
      "outputs": []
    }
  ]
}