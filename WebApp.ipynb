{
 "cells": [
  {
   "cell_type": "markdown",
   "metadata": {
    "colab_type": "text",
    "id": "view-in-github"
   },
   "source": [
    "<a href=\"https://colab.research.google.com/github/dsi-project5/project-5/blob/master/WebApp.ipynb\" target=\"_parent\"><img src=\"https://colab.research.google.com/assets/colab-badge.svg\" alt=\"Open In Colab\"/></a>"
   ]
  },
  {
   "cell_type": "code",
   "execution_count": 1,
   "metadata": {
    "id": "TRpaRr8tpzBo"
   },
   "outputs": [],
   "source": [
    "import pandas as pd\n",
    "import numpy as np"
   ]
  },
  {
   "cell_type": "code",
   "execution_count": 2,
   "metadata": {
    "id": "MfiU3g7246rj"
   },
   "outputs": [],
   "source": [
    "accidents_df_1 = pd.read_csv('./US_Accidents_CleanedUp_Jan26-1.csv.gz')"
   ]
  },
  {
   "cell_type": "code",
   "execution_count": 3,
   "metadata": {},
   "outputs": [],
   "source": [
    "accidents_df_2 = pd.read_csv('./US_Accidents_CleanedUp_Jan26-2.csv.gz')"
   ]
  },
  {
   "cell_type": "code",
   "execution_count": 4,
   "metadata": {},
   "outputs": [],
   "source": [
    "accidents_df_3 = pd.read_csv('./US_Accidents_CleanedUp_Jan26-3.csv.gz')"
   ]
  },
  {
   "cell_type": "code",
   "execution_count": 5,
   "metadata": {},
   "outputs": [],
   "source": [
    "accidents_df_4 = pd.read_csv('./US_Accidents_CleanedUp_Jan26-4.csv.gz')"
   ]
  },
  {
   "cell_type": "code",
   "execution_count": 6,
   "metadata": {},
   "outputs": [
    {
     "name": "stderr",
     "output_type": "stream",
     "text": [
      "/Users/nvijayaraman/opt/anaconda3/lib/python3.8/site-packages/IPython/core/interactiveshell.py:3146: DtypeWarning: Columns (13) have mixed types.Specify dtype option on import or set low_memory=False.\n",
      "  has_raised = await self.run_ast_nodes(code_ast.body, cell_name,\n"
     ]
    }
   ],
   "source": [
    "accidents_df_5 = pd.read_csv('./US_Accidents_CleanedUp_Jan26-5.csv.gz')"
   ]
  },
  {
   "cell_type": "code",
   "execution_count": 7,
   "metadata": {},
   "outputs": [],
   "source": [
    "accidents_df = pd.concat([accidents_df_1, accidents_df_2, accidents_df_3, accidents_df_4, accidents_df_5], axis=0)"
   ]
  },
  {
   "cell_type": "code",
   "execution_count": 8,
   "metadata": {},
   "outputs": [
    {
     "data": {
      "text/html": [
       "<div>\n",
       "<style scoped>\n",
       "    .dataframe tbody tr th:only-of-type {\n",
       "        vertical-align: middle;\n",
       "    }\n",
       "\n",
       "    .dataframe tbody tr th {\n",
       "        vertical-align: top;\n",
       "    }\n",
       "\n",
       "    .dataframe thead th {\n",
       "        text-align: right;\n",
       "    }\n",
       "</style>\n",
       "<table border=\"1\" class=\"dataframe\">\n",
       "  <thead>\n",
       "    <tr style=\"text-align: right;\">\n",
       "      <th></th>\n",
       "      <th>Unnamed: 0</th>\n",
       "      <th>tmc</th>\n",
       "      <th>severity</th>\n",
       "      <th>start_time</th>\n",
       "      <th>end_time</th>\n",
       "      <th>start_lat</th>\n",
       "      <th>start_lng</th>\n",
       "      <th>distance_mi</th>\n",
       "      <th>street</th>\n",
       "      <th>side</th>\n",
       "      <th>...</th>\n",
       "      <th>traffic_signal</th>\n",
       "      <th>turning_loop</th>\n",
       "      <th>sunrise_sunset</th>\n",
       "      <th>civil_twilight</th>\n",
       "      <th>nautical_twilight</th>\n",
       "      <th>astronomical_twilight</th>\n",
       "      <th>start_hour</th>\n",
       "      <th>end_hour</th>\n",
       "      <th>month</th>\n",
       "      <th>total_duration</th>\n",
       "    </tr>\n",
       "  </thead>\n",
       "  <tbody>\n",
       "    <tr>\n",
       "      <th>0</th>\n",
       "      <td>0</td>\n",
       "      <td>201.0</td>\n",
       "      <td>3</td>\n",
       "      <td>2016-02-08 05:46:00</td>\n",
       "      <td>2016-02-08 11:00:00</td>\n",
       "      <td>39.865147</td>\n",
       "      <td>-84.058723</td>\n",
       "      <td>0.01</td>\n",
       "      <td>I-70 E</td>\n",
       "      <td>R</td>\n",
       "      <td>...</td>\n",
       "      <td>0</td>\n",
       "      <td>0</td>\n",
       "      <td>Night</td>\n",
       "      <td>Night</td>\n",
       "      <td>Night</td>\n",
       "      <td>Night</td>\n",
       "      <td>5</td>\n",
       "      <td>11</td>\n",
       "      <td>2</td>\n",
       "      <td>314.0</td>\n",
       "    </tr>\n",
       "    <tr>\n",
       "      <th>1</th>\n",
       "      <td>1</td>\n",
       "      <td>201.0</td>\n",
       "      <td>2</td>\n",
       "      <td>2016-02-08 06:07:59</td>\n",
       "      <td>2016-02-08 06:37:59</td>\n",
       "      <td>39.928059</td>\n",
       "      <td>-82.831184</td>\n",
       "      <td>0.01</td>\n",
       "      <td>Brice Rd</td>\n",
       "      <td>L</td>\n",
       "      <td>...</td>\n",
       "      <td>0</td>\n",
       "      <td>0</td>\n",
       "      <td>Night</td>\n",
       "      <td>Night</td>\n",
       "      <td>Night</td>\n",
       "      <td>Day</td>\n",
       "      <td>6</td>\n",
       "      <td>6</td>\n",
       "      <td>2</td>\n",
       "      <td>30.0</td>\n",
       "    </tr>\n",
       "    <tr>\n",
       "      <th>2</th>\n",
       "      <td>2</td>\n",
       "      <td>201.0</td>\n",
       "      <td>2</td>\n",
       "      <td>2016-02-08 06:49:27</td>\n",
       "      <td>2016-02-08 07:19:27</td>\n",
       "      <td>39.063148</td>\n",
       "      <td>-84.032608</td>\n",
       "      <td>0.01</td>\n",
       "      <td>State Route 32</td>\n",
       "      <td>R</td>\n",
       "      <td>...</td>\n",
       "      <td>1</td>\n",
       "      <td>0</td>\n",
       "      <td>Night</td>\n",
       "      <td>Night</td>\n",
       "      <td>Day</td>\n",
       "      <td>Day</td>\n",
       "      <td>6</td>\n",
       "      <td>7</td>\n",
       "      <td>2</td>\n",
       "      <td>30.0</td>\n",
       "    </tr>\n",
       "    <tr>\n",
       "      <th>3</th>\n",
       "      <td>3</td>\n",
       "      <td>201.0</td>\n",
       "      <td>3</td>\n",
       "      <td>2016-02-08 07:23:34</td>\n",
       "      <td>2016-02-08 07:53:34</td>\n",
       "      <td>39.747753</td>\n",
       "      <td>-84.205582</td>\n",
       "      <td>0.01</td>\n",
       "      <td>I-75 S</td>\n",
       "      <td>R</td>\n",
       "      <td>...</td>\n",
       "      <td>0</td>\n",
       "      <td>0</td>\n",
       "      <td>Night</td>\n",
       "      <td>Day</td>\n",
       "      <td>Day</td>\n",
       "      <td>Day</td>\n",
       "      <td>7</td>\n",
       "      <td>7</td>\n",
       "      <td>2</td>\n",
       "      <td>30.0</td>\n",
       "    </tr>\n",
       "    <tr>\n",
       "      <th>4</th>\n",
       "      <td>4</td>\n",
       "      <td>201.0</td>\n",
       "      <td>2</td>\n",
       "      <td>2016-02-08 07:39:07</td>\n",
       "      <td>2016-02-08 08:09:07</td>\n",
       "      <td>39.627781</td>\n",
       "      <td>-84.188354</td>\n",
       "      <td>0.01</td>\n",
       "      <td>Miamisburg Centerville Rd</td>\n",
       "      <td>R</td>\n",
       "      <td>...</td>\n",
       "      <td>1</td>\n",
       "      <td>0</td>\n",
       "      <td>Day</td>\n",
       "      <td>Day</td>\n",
       "      <td>Day</td>\n",
       "      <td>Day</td>\n",
       "      <td>7</td>\n",
       "      <td>8</td>\n",
       "      <td>2</td>\n",
       "      <td>30.0</td>\n",
       "    </tr>\n",
       "  </tbody>\n",
       "</table>\n",
       "<p>5 rows × 44 columns</p>\n",
       "</div>"
      ],
      "text/plain": [
       "   Unnamed: 0    tmc  severity           start_time             end_time  \\\n",
       "0           0  201.0         3  2016-02-08 05:46:00  2016-02-08 11:00:00   \n",
       "1           1  201.0         2  2016-02-08 06:07:59  2016-02-08 06:37:59   \n",
       "2           2  201.0         2  2016-02-08 06:49:27  2016-02-08 07:19:27   \n",
       "3           3  201.0         3  2016-02-08 07:23:34  2016-02-08 07:53:34   \n",
       "4           4  201.0         2  2016-02-08 07:39:07  2016-02-08 08:09:07   \n",
       "\n",
       "   start_lat  start_lng  distance_mi                     street side  ...  \\\n",
       "0  39.865147 -84.058723         0.01                     I-70 E    R  ...   \n",
       "1  39.928059 -82.831184         0.01                   Brice Rd    L  ...   \n",
       "2  39.063148 -84.032608         0.01             State Route 32    R  ...   \n",
       "3  39.747753 -84.205582         0.01                     I-75 S    R  ...   \n",
       "4  39.627781 -84.188354         0.01  Miamisburg Centerville Rd    R  ...   \n",
       "\n",
       "  traffic_signal turning_loop sunrise_sunset civil_twilight nautical_twilight  \\\n",
       "0              0            0          Night          Night             Night   \n",
       "1              0            0          Night          Night             Night   \n",
       "2              1            0          Night          Night               Day   \n",
       "3              0            0          Night            Day               Day   \n",
       "4              1            0            Day            Day               Day   \n",
       "\n",
       "   astronomical_twilight  start_hour  end_hour  month  total_duration  \n",
       "0                  Night           5        11      2           314.0  \n",
       "1                    Day           6         6      2            30.0  \n",
       "2                    Day           6         7      2            30.0  \n",
       "3                    Day           7         7      2            30.0  \n",
       "4                    Day           7         8      2            30.0  \n",
       "\n",
       "[5 rows x 44 columns]"
      ]
     },
     "execution_count": 8,
     "metadata": {},
     "output_type": "execute_result"
    }
   ],
   "source": [
    "accidents_df.head()"
   ]
  },
  {
   "cell_type": "code",
   "execution_count": 9,
   "metadata": {},
   "outputs": [],
   "source": [
    "accidents_df.drop(columns=['Unnamed: 0'], inplace=True)"
   ]
  },
  {
   "cell_type": "code",
   "execution_count": 19,
   "metadata": {},
   "outputs": [],
   "source": [
    "state_count = pd.DataFrame(accidents_df.groupby('state')['severity'].agg('count'))"
   ]
  },
  {
   "cell_type": "code",
   "execution_count": 20,
   "metadata": {},
   "outputs": [
    {
     "data": {
      "text/html": [
       "<div>\n",
       "<style scoped>\n",
       "    .dataframe tbody tr th:only-of-type {\n",
       "        vertical-align: middle;\n",
       "    }\n",
       "\n",
       "    .dataframe tbody tr th {\n",
       "        vertical-align: top;\n",
       "    }\n",
       "\n",
       "    .dataframe thead th {\n",
       "        text-align: right;\n",
       "    }\n",
       "</style>\n",
       "<table border=\"1\" class=\"dataframe\">\n",
       "  <thead>\n",
       "    <tr style=\"text-align: right;\">\n",
       "      <th></th>\n",
       "      <th>severity</th>\n",
       "    </tr>\n",
       "    <tr>\n",
       "      <th>state</th>\n",
       "      <th></th>\n",
       "    </tr>\n",
       "  </thead>\n",
       "  <tbody>\n",
       "    <tr>\n",
       "      <th>AL</th>\n",
       "      <td>56989</td>\n",
       "    </tr>\n",
       "    <tr>\n",
       "      <th>AR</th>\n",
       "      <td>5089</td>\n",
       "    </tr>\n",
       "    <tr>\n",
       "      <th>AZ</th>\n",
       "      <td>93038</td>\n",
       "    </tr>\n",
       "    <tr>\n",
       "      <th>CA</th>\n",
       "      <td>971856</td>\n",
       "    </tr>\n",
       "    <tr>\n",
       "      <th>CO</th>\n",
       "      <td>54028</td>\n",
       "    </tr>\n",
       "  </tbody>\n",
       "</table>\n",
       "</div>"
      ],
      "text/plain": [
       "       severity\n",
       "state          \n",
       "AL        56989\n",
       "AR         5089\n",
       "AZ        93038\n",
       "CA       971856\n",
       "CO        54028"
      ]
     },
     "execution_count": 20,
     "metadata": {},
     "output_type": "execute_result"
    }
   ],
   "source": [
    "state_count.head()"
   ]
  },
  {
   "cell_type": "code",
   "execution_count": 22,
   "metadata": {},
   "outputs": [
    {
     "data": {
      "text/plain": [
       "<AxesSubplot:xlabel='state'>"
      ]
     },
     "execution_count": 22,
     "metadata": {},
     "output_type": "execute_result"
    },
    {
     "data": {
      "image/png": "[encoded data removed]",
      "text/plain": [
       "<Figure size 432x288 with 1 Axes>"
      ]
     },
     "metadata": {
      "needs_background": "light"
     },
     "output_type": "display_data"
    }
   ],
   "source": [
    "state_count.sort_values(by='severity', ascending=False).head(15).plot(kind='bar')"
   ]
  },
  {
   "cell_type": "code",
   "execution_count": 26,
   "metadata": {},
   "outputs": [],
   "source": [
    "state_count_df = pd.DataFrame(accidents_df['state'].value_counts().head(15))"
   ]
  },
  {
   "cell_type": "code",
   "execution_count": 28,
   "metadata": {},
   "outputs": [
    {
     "data": {
      "text/plain": [
       "<AxesSubplot:>"
      ]
     },
     "execution_count": 28,
     "metadata": {},
     "output_type": "execute_result"
    },
    {
     "data": {
      "image/png": "[encoded data removed]",
      "text/plain": [
       "<Figure size 432x288 with 1 Axes>"
      ]
     },
     "metadata": {
      "needs_background": "light"
     },
     "output_type": "display_data"
    }
   ],
   "source": [
    "state_count_df.plot(kind='barh')"
   ]
  },
  {
   "cell_type": "code",
   "execution_count": 36,
   "metadata": {},
   "outputs": [],
   "source": [
    "accidents_df.drop(columns=['Unnamed: 0'], inplace=True)"
   ]
  },
  {
   "cell_type": "code",
   "execution_count": 47,
   "metadata": {},
   "outputs": [
    {
     "name": "stdout",
     "output_type": "stream",
     "text": [
      "<class 'pandas.core.frame.DataFrame'>\n",
      "RangeIndex: 999999 entries, 0 to 999998\n",
      "Data columns (total 44 columns):\n",
      " #   Column                 Non-Null Count   Dtype  \n",
      "---  ------                 --------------   -----  \n",
      " 0   Unnamed: 0             999999 non-null  int64  \n",
      " 1   tmc                    999999 non-null  float64\n",
      " 2   severity               999999 non-null  int64  \n",
      " 3   start_time             999999 non-null  object \n",
      " 4   end_time               999999 non-null  object \n",
      " 5   start_lat              999999 non-null  float64\n",
      " 6   start_lng              999999 non-null  float64\n",
      " 7   distance_mi            999999 non-null  float64\n",
      " 8   street                 999999 non-null  object \n",
      " 9   side                   999999 non-null  object \n",
      " 10  city                   999966 non-null  object \n",
      " 11  county                 999999 non-null  object \n",
      " 12  state                  999999 non-null  object \n",
      " 13  zipcode                999839 non-null  object \n",
      " 14  country                999999 non-null  object \n",
      " 15  temperature_f          999999 non-null  float64\n",
      " 16  wind_chill_f           999999 non-null  float64\n",
      " 17  humidity_              999999 non-null  float64\n",
      " 18  pressure_in            999999 non-null  float64\n",
      " 19  visibility_mi          999999 non-null  float64\n",
      " 20  wind_direction         984942 non-null  object \n",
      " 21  precipitation_in       999999 non-null  float64\n",
      " 22  weather_condition      999999 non-null  object \n",
      " 23  amenity                999999 non-null  int64  \n",
      " 24  bump                   999999 non-null  int64  \n",
      " 25  crossing               999999 non-null  int64  \n",
      " 26  give_way               999999 non-null  int64  \n",
      " 27  junction               999999 non-null  int64  \n",
      " 28  no_exit                999999 non-null  int64  \n",
      " 29  railway                999999 non-null  int64  \n",
      " 30  roundabout             999999 non-null  int64  \n",
      " 31  station                999999 non-null  int64  \n",
      " 32  stop                   999999 non-null  int64  \n",
      " 33  traffic_calming        999999 non-null  int64  \n",
      " 34  traffic_signal         999999 non-null  int64  \n",
      " 35  turning_loop           999999 non-null  int64  \n",
      " 36  sunrise_sunset         999999 non-null  object \n",
      " 37  civil_twilight         999999 non-null  object \n",
      " 38  nautical_twilight      999999 non-null  object \n",
      " 39  astronomical_twilight  999999 non-null  object \n",
      " 40  start_hour             999999 non-null  int64  \n",
      " 41  end_hour               999999 non-null  int64  \n",
      " 42  month                  999999 non-null  int64  \n",
      " 43  total_duration         999999 non-null  float64\n",
      "dtypes: float64(11), int64(18), object(15)\n",
      "memory usage: 335.7+ MB\n"
     ]
    }
   ],
   "source": [
    "accidents_df_1.info()"
   ]
  },
  {
   "cell_type": "code",
   "execution_count": 38,
   "metadata": {},
   "outputs": [],
   "source": [
    "pd.set_option('display.max_columns', 150)"
   ]
  },
  {
   "cell_type": "code",
   "execution_count": 39,
   "metadata": {},
   "outputs": [],
   "source": [
    "pd.set_option('display.max_rows', 500)"
   ]
  },
  {
   "cell_type": "code",
   "execution_count": 40,
   "metadata": {},
   "outputs": [
    {
     "data": {
      "text/plain": [
       "tmc                          0\n",
       "severity                     0\n",
       "start_time                   0\n",
       "end_time                     0\n",
       "start_lat                    0\n",
       "start_lng                    0\n",
       "distance_mi                  0\n",
       "street                       0\n",
       "side                         0\n",
       "city                       137\n",
       "county                       0\n",
       "state                        0\n",
       "zipcode                   1291\n",
       "country                      0\n",
       "temperature_f                0\n",
       "wind_chill_f                 0\n",
       "humidity_                    0\n",
       "pressure_in                  0\n",
       "visibility_mi                0\n",
       "wind_direction           83496\n",
       "precipitation_in             0\n",
       "weather_condition            0\n",
       "amenity                      0\n",
       "bump                         0\n",
       "crossing                     0\n",
       "give_way                     0\n",
       "junction                     0\n",
       "no_exit                      0\n",
       "railway                      0\n",
       "roundabout                   0\n",
       "station                      0\n",
       "stop                         0\n",
       "traffic_calming              0\n",
       "traffic_signal               0\n",
       "turning_loop                 0\n",
       "sunrise_sunset               0\n",
       "civil_twilight               0\n",
       "nautical_twilight            0\n",
       "astronomical_twilight        0\n",
       "start_hour                   0\n",
       "end_hour                     0\n",
       "month                        0\n",
       "total_duration               0\n",
       "dtype: int64"
      ]
     },
     "execution_count": 40,
     "metadata": {},
     "output_type": "execute_result"
    }
   ],
   "source": [
    "accidents_df.isnull().sum()"
   ]
  },
  {
   "cell_type": "code",
   "execution_count": 41,
   "metadata": {},
   "outputs": [
    {
     "data": {
      "text/plain": [
       "state\n",
       "CA    971856\n",
       "TX    376282\n",
       "FL    369559\n",
       "SC    212573\n",
       "NC    193331\n",
       "NY    189393\n",
       "PA    135909\n",
       "VA    127774\n",
       "IL    111692\n",
       "OR    108242\n",
       "GA    107071\n",
       "MI    105726\n",
       "MN    105362\n",
       "AZ     93038\n",
       "TN     88428\n",
       "LA     80485\n",
       "WA     74694\n",
       "OH     73148\n",
       "MD     69859\n",
       "NJ     69116\n",
       "OK     64870\n",
       "UT     57983\n",
       "AL     56989\n",
       "CO     54028\n",
       "MA     44114\n",
       "MO     40132\n",
       "IN     38098\n",
       "CT     32488\n",
       "NE     25005\n",
       "KY     24707\n",
       "WI     21519\n",
       "IA     14186\n",
       "RI     12909\n",
       "NV     12021\n",
       "KS      9728\n",
       "NH      8559\n",
       "MS      8052\n",
       "DE      6907\n",
       "DC      6505\n",
       "NM      6455\n",
       "AR      5089\n",
       "ID      4237\n",
       "WV      3612\n",
       "MT      3342\n",
       "ME      2346\n",
       "VT       771\n",
       "WY       521\n",
       "ND       464\n",
       "SD       219\n",
       "Name: severity, dtype: int64"
      ]
     },
     "execution_count": 41,
     "metadata": {},
     "output_type": "execute_result"
    }
   ],
   "source": [
    "accidents_df.groupby('state')['severity'].count().sort_values(ascending=False)"
   ]
  },
  {
   "cell_type": "code",
   "execution_count": 42,
   "metadata": {},
   "outputs": [],
   "source": [
    "accidents_ca_df = accidents_df.loc[accidents_df['state'] == 'CA', :]"
   ]
  },
  {
   "cell_type": "code",
   "execution_count": 43,
   "metadata": {},
   "outputs": [],
   "source": [
    "accidents_ca_df.to_csv('./CA_Accidents_CleanedUp_Jan26.csv')"
   ]
  },
  {
   "cell_type": "code",
   "execution_count": null,
   "metadata": {},
   "outputs": [],
   "source": []
  }
 ],
 "metadata": {
  "colab": {
   "authorship_tag": "ABX9TyNT6nemvYI2w0k86hydvGdh",
   "include_colab_link": true,
   "name": "WebApp.ipynb",
   "private_outputs": true,
   "provenance": []
  },
  "kernelspec": {
   "display_name": "Python 3",
   "language": "python",
   "name": "python3"
  },
  "language_info": {
   "codemirror_mode": {
    "name": "ipython",
    "version": 3
   },
   "file_extension": ".py",
   "mimetype": "text/x-python",
   "name": "python",
   "nbconvert_exporter": "python",
   "pygments_lexer": "ipython3",
   "version": "3.8.5"
  }
 },
 "nbformat": 4,
 "nbformat_minor": 1
}
