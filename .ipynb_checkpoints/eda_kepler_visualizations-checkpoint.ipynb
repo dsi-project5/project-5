{
 "cells": [
  {
   "cell_type": "markdown",
   "metadata": {},
   "source": [
    "# ABOUT THIS NOTEBOOK\n"
   ]
  },
  {
   "cell_type": "markdown",
   "metadata": {},
   "source": [
    "**Notebook Structure**\n",
    "* [Dataframe Creation](#df)\n",
    "\n",
    "* [Keppler Visualizatons](#kep_viz)\n",
    "\n",
    "* [Keppler All Data Points Visualization](#all_viz)\n",
    "\n",
    "* [Keppler State Count and Per Capita Visualization](#pcap_viz)\n",
    "\n",
    "* [EDA and Visualizations](#eda)\n",
    "    * [Geopandas Heatmaps](#gp_viz)\n",
    "    * [Severity Rating Distribution](#sev_rate)\n",
    "    * [Plot of Top 25 Cities per Accident Count](#top25_city)\n",
    "    * [Plot of Top 25 Counties per Accident Count](#top25_county)\n",
    "    * [Plot of State Accidents Per Capita](#per_cap_plot)\n",
    "    * [Plot of State Accident Counts](#acc_state)\n",
    "    * [Plot of Signal and Severity](#signal)\n",
    "    * [Plot of Stop and Severity](#stop)\n",
    "    * [Plot of Station and Severity](#station)\n",
    "    * [Plot of Junction and Severity](#junction)\n",
    "    * [Plot of Crossing and Severity](#crossing)\n",
    "    * [Plot of City and Severity](#sev_city_)\n",
    "    \n",
    "* [Other Feature Exploration](#other)\n",
    "\n",
    "* [Keppler.gl Installation and User Guide](#kep_user)\n",
    "\n",
    "* [Geopandas Installation and User Guide](#geo_user)"
   ]
  },
  {
   "cell_type": "code",
   "execution_count": 1,
   "metadata": {},
   "outputs": [],
   "source": [
    "# Standard Imports\n",
    "import pandas as pd\n",
    "import numpy as np\n",
    "\n",
    "# Plotting Imports\n",
    "import matplotlib.pyplot as plt\n",
    "%matplotlib inline\n",
    "import seaborn as sns\n",
    "sns.set(style = 'darkgrid')\n",
    "\n",
    "# Geospatial Imports\n",
    "import geopandas as gpd\n",
    "from keplergl import KeplerGl"
   ]
  },
  {
   "cell_type": "markdown",
   "metadata": {},
   "source": [
    "_________\n",
    "**Reading in Accident Data**\n",
    "__________"
   ]
  },
  {
   "cell_type": "code",
   "execution_count": 2,
   "metadata": {},
   "outputs": [
    {
     "name": "stderr",
     "output_type": "stream",
     "text": [
      "/Users/jamesopacich/opt/anaconda3/lib/python3.8/site-packages/IPython/core/interactiveshell.py:3071: DtypeWarning: Columns (18) have mixed types.Specify dtype option on import or set low_memory=False.\n",
      "  has_raised = await self.run_ast_nodes(code_ast.body, cell_name,\n"
     ]
    }
   ],
   "source": [
    "# Read in Dataframe with All the accident data\n",
    "accidents_df_1 = pd.read_csv('./data/US_Accidents_Dec20-1.csv.gz')\n",
    "accidents_df_2 = pd.read_csv('./data/US_Accidents_Dec20-2.csv.gz')\n",
    "accidents_df_3 = pd.read_csv('./data/US_Accidents_Dec20-3.csv.gz')\n",
    "accidents_df_4 = pd.read_csv('./data/US_Accidents_Dec20-4.csv.gz')\n",
    "accidents_df_5 = pd.read_csv('./data/US_Accidents_Dec20-5.csv.gz')\n",
    "acc_df = pd.concat([accidents_df_1, accidents_df_2, accidents_df_3, accidents_df_4, accidents_df_5], axis=0)"
   ]
  },
  {
   "cell_type": "code",
   "execution_count": 4,
   "metadata": {},
   "outputs": [],
   "source": [
    "# lower and eliminate spaces in column names\n",
    "acc_df.columns = acc_df.columns.str.lower().str.replace(' ', '_')"
   ]
  },
  {
   "cell_type": "code",
   "execution_count": 5,
   "metadata": {},
   "outputs": [
    {
     "data": {
      "text/html": [
       "<div>\n",
       "<style scoped>\n",
       "    .dataframe tbody tr th:only-of-type {\n",
       "        vertical-align: middle;\n",
       "    }\n",
       "\n",
       "    .dataframe tbody tr th {\n",
       "        vertical-align: top;\n",
       "    }\n",
       "\n",
       "    .dataframe thead th {\n",
       "        text-align: right;\n",
       "    }\n",
       "</style>\n",
       "<table border=\"1\" class=\"dataframe\">\n",
       "  <thead>\n",
       "    <tr style=\"text-align: right;\">\n",
       "      <th></th>\n",
       "      <th>count</th>\n",
       "      <th>mean</th>\n",
       "      <th>std</th>\n",
       "      <th>min</th>\n",
       "      <th>25%</th>\n",
       "      <th>50%</th>\n",
       "      <th>75%</th>\n",
       "      <th>max</th>\n",
       "    </tr>\n",
       "  </thead>\n",
       "  <tbody>\n",
       "    <tr>\n",
       "      <th>tmc</th>\n",
       "      <td>2716477.0</td>\n",
       "      <td>208.351719</td>\n",
       "      <td>21.244129</td>\n",
       "      <td>200.000000</td>\n",
       "      <td>201.000000</td>\n",
       "      <td>201.000000</td>\n",
       "      <td>201.000000</td>\n",
       "      <td>4.060000e+02</td>\n",
       "    </tr>\n",
       "    <tr>\n",
       "      <th>severity</th>\n",
       "      <td>4229394.0</td>\n",
       "      <td>2.305236</td>\n",
       "      <td>0.533326</td>\n",
       "      <td>1.000000</td>\n",
       "      <td>2.000000</td>\n",
       "      <td>2.000000</td>\n",
       "      <td>3.000000</td>\n",
       "      <td>4.000000e+00</td>\n",
       "    </tr>\n",
       "    <tr>\n",
       "      <th>start_lat</th>\n",
       "      <td>4229394.0</td>\n",
       "      <td>36.398412</td>\n",
       "      <td>4.963930</td>\n",
       "      <td>24.555269</td>\n",
       "      <td>33.520794</td>\n",
       "      <td>35.825504</td>\n",
       "      <td>40.183600</td>\n",
       "      <td>4.900220e+01</td>\n",
       "    </tr>\n",
       "    <tr>\n",
       "      <th>start_lng</th>\n",
       "      <td>4229394.0</td>\n",
       "      <td>-95.465151</td>\n",
       "      <td>17.352978</td>\n",
       "      <td>-124.623833</td>\n",
       "      <td>-117.357050</td>\n",
       "      <td>-90.021640</td>\n",
       "      <td>-80.847069</td>\n",
       "      <td>-6.711317e+01</td>\n",
       "    </tr>\n",
       "    <tr>\n",
       "      <th>end_lat</th>\n",
       "      <td>1512917.0</td>\n",
       "      <td>36.903303</td>\n",
       "      <td>5.164553</td>\n",
       "      <td>24.570110</td>\n",
       "      <td>33.854306</td>\n",
       "      <td>37.354090</td>\n",
       "      <td>40.726220</td>\n",
       "      <td>4.907500e+01</td>\n",
       "    </tr>\n",
       "    <tr>\n",
       "      <th>end_lng</th>\n",
       "      <td>1512917.0</td>\n",
       "      <td>-98.608200</td>\n",
       "      <td>18.496644</td>\n",
       "      <td>-124.497829</td>\n",
       "      <td>-118.208670</td>\n",
       "      <td>-94.405296</td>\n",
       "      <td>-80.875820</td>\n",
       "      <td>-6.710924e+01</td>\n",
       "    </tr>\n",
       "    <tr>\n",
       "      <th>distance(mi)</th>\n",
       "      <td>4229394.0</td>\n",
       "      <td>0.335349</td>\n",
       "      <td>1.601457</td>\n",
       "      <td>0.000000</td>\n",
       "      <td>0.000000</td>\n",
       "      <td>0.000000</td>\n",
       "      <td>0.088000</td>\n",
       "      <td>4.417500e+02</td>\n",
       "    </tr>\n",
       "    <tr>\n",
       "      <th>number</th>\n",
       "      <td>1543203.0</td>\n",
       "      <td>6139.650951</td>\n",
       "      <td>14917.650206</td>\n",
       "      <td>0.000000</td>\n",
       "      <td>898.000000</td>\n",
       "      <td>2889.000000</td>\n",
       "      <td>7327.000000</td>\n",
       "      <td>9.999997e+06</td>\n",
       "    </tr>\n",
       "    <tr>\n",
       "      <th>temperature(f)</th>\n",
       "      <td>4139611.0</td>\n",
       "      <td>61.482339</td>\n",
       "      <td>18.525922</td>\n",
       "      <td>-89.000000</td>\n",
       "      <td>49.000000</td>\n",
       "      <td>63.000000</td>\n",
       "      <td>75.200000</td>\n",
       "      <td>2.030000e+02</td>\n",
       "    </tr>\n",
       "    <tr>\n",
       "      <th>wind_chill(f)</th>\n",
       "      <td>2333523.0</td>\n",
       "      <td>54.894139</td>\n",
       "      <td>22.727454</td>\n",
       "      <td>-89.000000</td>\n",
       "      <td>38.000000</td>\n",
       "      <td>58.000000</td>\n",
       "      <td>73.000000</td>\n",
       "      <td>1.890000e+02</td>\n",
       "    </tr>\n",
       "    <tr>\n",
       "      <th>humidity(%)</th>\n",
       "      <td>4134048.0</td>\n",
       "      <td>65.671903</td>\n",
       "      <td>22.723470</td>\n",
       "      <td>1.000000</td>\n",
       "      <td>49.000000</td>\n",
       "      <td>68.000000</td>\n",
       "      <td>85.000000</td>\n",
       "      <td>1.000000e+02</td>\n",
       "    </tr>\n",
       "    <tr>\n",
       "      <th>pressure(in)</th>\n",
       "      <td>4153106.0</td>\n",
       "      <td>29.693876</td>\n",
       "      <td>0.863841</td>\n",
       "      <td>0.000000</td>\n",
       "      <td>29.640000</td>\n",
       "      <td>29.930000</td>\n",
       "      <td>30.080000</td>\n",
       "      <td>5.804000e+01</td>\n",
       "    </tr>\n",
       "    <tr>\n",
       "      <th>visibility(mi)</th>\n",
       "      <td>4130837.0</td>\n",
       "      <td>9.112037</td>\n",
       "      <td>2.817529</td>\n",
       "      <td>0.000000</td>\n",
       "      <td>10.000000</td>\n",
       "      <td>10.000000</td>\n",
       "      <td>10.000000</td>\n",
       "      <td>1.400000e+02</td>\n",
       "    </tr>\n",
       "    <tr>\n",
       "      <th>wind_speed(mph)</th>\n",
       "      <td>3750182.0</td>\n",
       "      <td>7.904503</td>\n",
       "      <td>5.330603</td>\n",
       "      <td>0.000000</td>\n",
       "      <td>4.600000</td>\n",
       "      <td>7.000000</td>\n",
       "      <td>10.400000</td>\n",
       "      <td>9.840000e+02</td>\n",
       "    </tr>\n",
       "    <tr>\n",
       "      <th>precipitation(in)</th>\n",
       "      <td>2163992.0</td>\n",
       "      <td>0.012460</td>\n",
       "      <td>0.163825</td>\n",
       "      <td>0.000000</td>\n",
       "      <td>0.000000</td>\n",
       "      <td>0.000000</td>\n",
       "      <td>0.000000</td>\n",
       "      <td>2.500000e+01</td>\n",
       "    </tr>\n",
       "  </tbody>\n",
       "</table>\n",
       "</div>"
      ],
      "text/plain": [
       "                       count         mean           std         min  \\\n",
       "tmc                2716477.0   208.351719     21.244129  200.000000   \n",
       "severity           4229394.0     2.305236      0.533326    1.000000   \n",
       "start_lat          4229394.0    36.398412      4.963930   24.555269   \n",
       "start_lng          4229394.0   -95.465151     17.352978 -124.623833   \n",
       "end_lat            1512917.0    36.903303      5.164553   24.570110   \n",
       "end_lng            1512917.0   -98.608200     18.496644 -124.497829   \n",
       "distance(mi)       4229394.0     0.335349      1.601457    0.000000   \n",
       "number             1543203.0  6139.650951  14917.650206    0.000000   \n",
       "temperature(f)     4139611.0    61.482339     18.525922  -89.000000   \n",
       "wind_chill(f)      2333523.0    54.894139     22.727454  -89.000000   \n",
       "humidity(%)        4134048.0    65.671903     22.723470    1.000000   \n",
       "pressure(in)       4153106.0    29.693876      0.863841    0.000000   \n",
       "visibility(mi)     4130837.0     9.112037      2.817529    0.000000   \n",
       "wind_speed(mph)    3750182.0     7.904503      5.330603    0.000000   \n",
       "precipitation(in)  2163992.0     0.012460      0.163825    0.000000   \n",
       "\n",
       "                          25%          50%          75%           max  \n",
       "tmc                201.000000   201.000000   201.000000  4.060000e+02  \n",
       "severity             2.000000     2.000000     3.000000  4.000000e+00  \n",
       "start_lat           33.520794    35.825504    40.183600  4.900220e+01  \n",
       "start_lng         -117.357050   -90.021640   -80.847069 -6.711317e+01  \n",
       "end_lat             33.854306    37.354090    40.726220  4.907500e+01  \n",
       "end_lng           -118.208670   -94.405296   -80.875820 -6.710924e+01  \n",
       "distance(mi)         0.000000     0.000000     0.088000  4.417500e+02  \n",
       "number             898.000000  2889.000000  7327.000000  9.999997e+06  \n",
       "temperature(f)      49.000000    63.000000    75.200000  2.030000e+02  \n",
       "wind_chill(f)       38.000000    58.000000    73.000000  1.890000e+02  \n",
       "humidity(%)         49.000000    68.000000    85.000000  1.000000e+02  \n",
       "pressure(in)        29.640000    29.930000    30.080000  5.804000e+01  \n",
       "visibility(mi)      10.000000    10.000000    10.000000  1.400000e+02  \n",
       "wind_speed(mph)      4.600000     7.000000    10.400000  9.840000e+02  \n",
       "precipitation(in)    0.000000     0.000000     0.000000  2.500000e+01  "
      ]
     },
     "execution_count": 5,
     "metadata": {},
     "output_type": "execute_result"
    }
   ],
   "source": [
    "acc_df.describe().T"
   ]
  },
  {
   "cell_type": "code",
   "execution_count": 6,
   "metadata": {},
   "outputs": [],
   "source": [
    "# dropping unneccessary columns or columns with lots of nulls\n",
    "acc_df.drop(columns = ['id','source','end_lat','end_lng',\n",
    "                       'description','number','street',\n",
    "                       'country','timezone','weather_timestamp', \n",
    "                       'airport_code', 'zipcode', 'tmc'], inplace = True)"
   ]
  },
  {
   "cell_type": "code",
   "execution_count": 7,
   "metadata": {},
   "outputs": [
    {
     "data": {
      "text/plain": [
       "Index(['severity', 'start_time', 'end_time', 'start_lat', 'start_lng',\n",
       "       'distance(mi)', 'side', 'city', 'county', 'state', 'temperature(f)',\n",
       "       'wind_chill(f)', 'humidity(%)', 'pressure(in)', 'visibility(mi)',\n",
       "       'wind_direction', 'wind_speed(mph)', 'precipitation(in)',\n",
       "       'weather_condition', 'amenity', 'bump', 'crossing', 'give_way',\n",
       "       'junction', 'no_exit', 'railway', 'roundabout', 'station', 'stop',\n",
       "       'traffic_calming', 'traffic_signal', 'turning_loop', 'sunrise_sunset',\n",
       "       'civil_twilight', 'nautical_twilight', 'astronomical_twilight'],\n",
       "      dtype='object')"
      ]
     },
     "execution_count": 7,
     "metadata": {},
     "output_type": "execute_result"
    }
   ],
   "source": [
    "acc_df.columns"
   ]
  },
  {
   "cell_type": "markdown",
   "metadata": {},
   "source": [
    "<a id='df'></a>\n",
    "# State Data DF Creation\n",
    "* Creating dataframes out of seperately imported data and then combining them into one data frame for the purpose of analyzing states by population density and per capita driver's license counts. "
   ]
  },
  {
   "cell_type": "markdown",
   "metadata": {},
   "source": [
    "__________________\n",
    "**Reading in Population Density Data**\n",
    "_______________"
   ]
  },
  {
   "cell_type": "code",
   "execution_count": 8,
   "metadata": {
    "scrolled": true
   },
   "outputs": [],
   "source": [
    "pop_dense_cnty = pd.read_csv('./data/pop_density_county.csv', index_col=0)"
   ]
  },
  {
   "cell_type": "code",
   "execution_count": 9,
   "metadata": {},
   "outputs": [],
   "source": [
    "# lower and eliminate spaces in column names\n",
    "pop_dense_cnty.columns = pop_dense_cnty.columns.str.lower().str.replace(' ', '_')"
   ]
  },
  {
   "cell_type": "code",
   "execution_count": 10,
   "metadata": {},
   "outputs": [
    {
     "data": {
      "text/html": [
       "<div>\n",
       "<style scoped>\n",
       "    .dataframe tbody tr th:only-of-type {\n",
       "        vertical-align: middle;\n",
       "    }\n",
       "\n",
       "    .dataframe tbody tr th {\n",
       "        vertical-align: top;\n",
       "    }\n",
       "\n",
       "    .dataframe thead th {\n",
       "        text-align: right;\n",
       "    }\n",
       "</style>\n",
       "<table border=\"1\" class=\"dataframe\">\n",
       "  <thead>\n",
       "    <tr style=\"text-align: right;\">\n",
       "      <th></th>\n",
       "      <th>county_name</th>\n",
       "      <th>density_mi</th>\n",
       "    </tr>\n",
       "    <tr>\n",
       "      <th>Rank</th>\n",
       "      <th></th>\n",
       "      <th></th>\n",
       "    </tr>\n",
       "  </thead>\n",
       "  <tbody>\n",
       "    <tr>\n",
       "      <th>1</th>\n",
       "      <td>New York</td>\n",
       "      <td>69,468</td>\n",
       "    </tr>\n",
       "  </tbody>\n",
       "</table>\n",
       "</div>"
      ],
      "text/plain": [
       "     county_name density_mi\n",
       "Rank                       \n",
       "1       New York     69,468"
      ]
     },
     "execution_count": 10,
     "metadata": {},
     "output_type": "execute_result"
    }
   ],
   "source": [
    "pop_dense_cnty.head(1)"
   ]
  },
  {
   "cell_type": "markdown",
   "metadata": {},
   "source": [
    "_________\n",
    "**Read in License Data**, Format into DF, Prepare for Concatenation\n",
    "________"
   ]
  },
  {
   "cell_type": "code",
   "execution_count": 12,
   "metadata": {},
   "outputs": [],
   "source": [
    "# Read in Dataframe with data on driver's licensing in each state\n",
    "license_df = pd.read_csv('./data/licensed_drivers_by_state.csv')"
   ]
  },
  {
   "cell_type": "code",
   "execution_count": 13,
   "metadata": {},
   "outputs": [
    {
     "data": {
      "text/html": [
       "<div>\n",
       "<style scoped>\n",
       "    .dataframe tbody tr th:only-of-type {\n",
       "        vertical-align: middle;\n",
       "    }\n",
       "\n",
       "    .dataframe tbody tr th {\n",
       "        vertical-align: top;\n",
       "    }\n",
       "\n",
       "    .dataframe thead th {\n",
       "        text-align: right;\n",
       "    }\n",
       "</style>\n",
       "<table border=\"1\" class=\"dataframe\">\n",
       "  <thead>\n",
       "    <tr style=\"text-align: right;\">\n",
       "      <th></th>\n",
       "      <th>STATE</th>\n",
       "      <th>UNDER</th>\n",
       "      <th>20-24</th>\n",
       "      <th>25-29</th>\n",
       "      <th>30-34</th>\n",
       "      <th>35-39</th>\n",
       "      <th>40-44</th>\n",
       "      <th>45-49</th>\n",
       "      <th>50-54</th>\n",
       "      <th>55-59</th>\n",
       "      <th>60-64</th>\n",
       "      <th>65-69</th>\n",
       "      <th>70-74</th>\n",
       "      <th>75-79</th>\n",
       "      <th>80-84</th>\n",
       "      <th>OVER</th>\n",
       "      <th>total_drivers</th>\n",
       "    </tr>\n",
       "  </thead>\n",
       "  <tbody>\n",
       "    <tr>\n",
       "      <th>0</th>\n",
       "      <td>Alabama</td>\n",
       "      <td>219,648</td>\n",
       "      <td>327,163</td>\n",
       "      <td>347,679</td>\n",
       "      <td>320,583</td>\n",
       "      <td>307,331</td>\n",
       "      <td>292,967</td>\n",
       "      <td>311,675</td>\n",
       "      <td>309,970</td>\n",
       "      <td>339,239</td>\n",
       "      <td>327,915</td>\n",
       "      <td>286,986</td>\n",
       "      <td>242,004</td>\n",
       "      <td>168,934</td>\n",
       "      <td>113,483</td>\n",
       "      <td>110,574</td>\n",
       "      <td>4,026,151</td>\n",
       "    </tr>\n",
       "  </tbody>\n",
       "</table>\n",
       "</div>"
      ],
      "text/plain": [
       "     STATE    UNDER    20-24    25-29    30-34    35-39    40-44    45-49  \\\n",
       "0  Alabama  219,648  327,163  347,679  320,583  307,331  292,967  311,675   \n",
       "\n",
       "     50-54    55-59    60-64    65-69    70-74    75-79    80-84     OVER  \\\n",
       "0  309,970  339,239  327,915  286,986  242,004  168,934  113,483  110,574   \n",
       "\n",
       "  total_drivers  \n",
       "0     4,026,151  "
      ]
     },
     "execution_count": 13,
     "metadata": {},
     "output_type": "execute_result"
    }
   ],
   "source": [
    "license_df.head(1)"
   ]
  },
  {
   "cell_type": "code",
   "execution_count": 14,
   "metadata": {},
   "outputs": [],
   "source": [
    "# lower and eliminate spaces in column names for license_df\n",
    "license_df.columns = license_df.columns.str.lower().str.replace(' ', '_')"
   ]
  },
  {
   "cell_type": "code",
   "execution_count": 15,
   "metadata": {},
   "outputs": [],
   "source": [
    "# eliminating commas from total drivers column\n",
    "license_df['total_drivers'] = license_df['total_drivers'].str.replace(',', '')\n",
    "# converting total_drivers column to integer type\n",
    "license_df['total_drivers'] = license_df['total_drivers'].astype(int)"
   ]
  },
  {
   "cell_type": "code",
   "execution_count": 16,
   "metadata": {},
   "outputs": [],
   "source": [
    "# creating df with only state column and total drivers columns\n",
    "license_df = license_df.loc[:, ['state', 'total_drivers']]"
   ]
  },
  {
   "cell_type": "code",
   "execution_count": 17,
   "metadata": {},
   "outputs": [],
   "source": [
    "license_df['state'] = license_df['state'].str.lower()"
   ]
  },
  {
   "cell_type": "code",
   "execution_count": 18,
   "metadata": {},
   "outputs": [],
   "source": [
    "# replacing dist of col. with district of columbia so I can concatenate with other dfs\n",
    "license_df['state'].replace('dist. of col. ', 'district of columbia', inplace = True)"
   ]
  },
  {
   "cell_type": "code",
   "execution_count": 19,
   "metadata": {},
   "outputs": [],
   "source": [
    "# setting the state to index and dropping alaska and hawaii since they're not in accident data\n",
    "license_df.set_index('state', inplace = True)\n",
    "license_df.drop(['alaska', 'hawaii'], inplace = True)"
   ]
  },
  {
   "cell_type": "code",
   "execution_count": 20,
   "metadata": {},
   "outputs": [
    {
     "data": {
      "text/plain": [
       "(49, 1)"
      ]
     },
     "execution_count": 20,
     "metadata": {},
     "output_type": "execute_result"
    }
   ],
   "source": [
    "license_df.shape"
   ]
  },
  {
   "cell_type": "code",
   "execution_count": 21,
   "metadata": {},
   "outputs": [],
   "source": [
    "# sorting index alphabetically and ensuring proper format\n",
    "license_df.sort_index(inplace = True)\n",
    "license_df.index = license_df.index.str.lower().str.strip()"
   ]
  },
  {
   "cell_type": "markdown",
   "metadata": {},
   "source": [
    "______\n",
    "**Read in Shape Files**, Format into DF and Prepare for Concatenation\n",
    "______"
   ]
  },
  {
   "cell_type": "code",
   "execution_count": 22,
   "metadata": {},
   "outputs": [],
   "source": [
    "national_shape = gpd.read_file('./data/cb_2018_us_state_500k/cb_2018_us_state_500k.shp')"
   ]
  },
  {
   "cell_type": "code",
   "execution_count": 23,
   "metadata": {},
   "outputs": [],
   "source": [
    "# Dropping island territories\n",
    "national_shape.drop([13, 27, 37, 38, 42, 44, 45], inplace = True)"
   ]
  },
  {
   "cell_type": "code",
   "execution_count": 24,
   "metadata": {},
   "outputs": [],
   "source": [
    "# lower and eliminate spaces in column names\n",
    "national_shape.columns = national_shape.columns.str.lower().str.replace(' ', '_')"
   ]
  },
  {
   "cell_type": "code",
   "execution_count": 25,
   "metadata": {},
   "outputs": [],
   "source": [
    "# converting state name column to lowercase\n",
    "national_shape['name'] = national_shape['name'].str.lower()"
   ]
  },
  {
   "cell_type": "code",
   "execution_count": 26,
   "metadata": {},
   "outputs": [
    {
     "data": {
      "text/plain": [
       "(49, 10)"
      ]
     },
     "execution_count": 26,
     "metadata": {},
     "output_type": "execute_result"
    }
   ],
   "source": [
    "national_shape.shape"
   ]
  },
  {
   "cell_type": "code",
   "execution_count": 27,
   "metadata": {},
   "outputs": [],
   "source": [
    "# Setting index to name of state to prepare for concatenation\n",
    "national_shape.set_index(keys = 'name', inplace = True)"
   ]
  },
  {
   "cell_type": "code",
   "execution_count": 28,
   "metadata": {},
   "outputs": [],
   "source": [
    "# Sorting index alphabetically and ensuring proper format\n",
    "national_shape.sort_index(inplace = True)\n",
    "national_shape.index = national_shape.index.str.lower().str.strip()"
   ]
  },
  {
   "cell_type": "markdown",
   "metadata": {},
   "source": [
    "________\n",
    "**Create State Accident Counts**, Form into DF and Prepare for Concatenation\n",
    "________"
   ]
  },
  {
   "cell_type": "code",
   "execution_count": 29,
   "metadata": {
    "scrolled": true
   },
   "outputs": [
    {
     "data": {
      "text/html": [
       "<div>\n",
       "<style scoped>\n",
       "    .dataframe tbody tr th:only-of-type {\n",
       "        vertical-align: middle;\n",
       "    }\n",
       "\n",
       "    .dataframe tbody tr th {\n",
       "        vertical-align: top;\n",
       "    }\n",
       "\n",
       "    .dataframe thead th {\n",
       "        text-align: right;\n",
       "    }\n",
       "</style>\n",
       "<table border=\"1\" class=\"dataframe\">\n",
       "  <thead>\n",
       "    <tr style=\"text-align: right;\">\n",
       "      <th></th>\n",
       "      <th>severity</th>\n",
       "    </tr>\n",
       "    <tr>\n",
       "      <th>state</th>\n",
       "      <th></th>\n",
       "    </tr>\n",
       "  </thead>\n",
       "  <tbody>\n",
       "    <tr>\n",
       "      <th>AL</th>\n",
       "      <td>56989</td>\n",
       "    </tr>\n",
       "  </tbody>\n",
       "</table>\n",
       "</div>"
      ],
      "text/plain": [
       "       severity\n",
       "state          \n",
       "AL        56989"
      ]
     },
     "execution_count": 29,
     "metadata": {},
     "output_type": "execute_result"
    }
   ],
   "source": [
    "# Grouping acc_df by state and getting count of all accidents by state\n",
    "# using severity column to get counts but I will change it to a column called counts later. \n",
    "state_count = acc_df.groupby('state').count()[['severity']]\n",
    "state_count.head(1)"
   ]
  },
  {
   "cell_type": "code",
   "execution_count": 30,
   "metadata": {},
   "outputs": [],
   "source": [
    "# resetting index to numeric so I can map full state names to abbreviated names\n",
    "state_count = state_count.reset_index()"
   ]
  },
  {
   "cell_type": "code",
   "execution_count": 31,
   "metadata": {},
   "outputs": [
    {
     "data": {
      "text/plain": [
       "RangeIndex(start=0, stop=49, step=1)"
      ]
     },
     "execution_count": 31,
     "metadata": {},
     "output_type": "execute_result"
    }
   ],
   "source": [
    "state_count.index"
   ]
  },
  {
   "cell_type": "code",
   "execution_count": 32,
   "metadata": {},
   "outputs": [],
   "source": [
    "state_remap = {'AL': 'alabama', 'AR': 'arkansas', 'AZ': 'arizona', 'CA': 'california', 'CO': 'colorado',\n",
    " 'CT': 'connecticut', 'DC': 'district of columbia', 'DE': 'delaware', 'FL': 'florida',\n",
    " 'GA': 'georgia', 'IA': 'iowa', 'ID': 'idaho', 'IL': 'illinois',\n",
    " 'IN': 'indiana', 'KS': 'kansas', 'KY': 'kentucky', 'LA': 'louisiana',\n",
    " 'MA': 'massachusetts', 'MD': 'maryland', 'ME': 'maine', 'MI': 'michigan',\n",
    " 'MN': 'minnesota', 'MO': 'missouri', 'MS': 'mississippi', 'MT': 'montana',\n",
    " 'NC': 'north carolina', 'ND': 'north dakota', 'NE': 'nebraska',\n",
    " 'NH': 'new hampshire', 'NJ': 'new jersey', 'NM': 'new mexico', 'NV': 'nevada',\n",
    " 'NY': 'new york', 'OH': 'ohio', 'OK': 'oklahoma', 'OR': 'oregon',\n",
    " 'PA': 'pennsylvania', 'RI': 'rhode island', 'SC': 'south carolina',\n",
    " 'SD': 'south dakota', 'TN': 'tennessee', 'TX': 'texas', 'UT': 'utah',\n",
    " 'VA': 'virginia', 'VT': 'vermont', 'WA': 'washington',\n",
    " 'WI': 'wisconsin', 'WV': 'west virginia', 'WY':  'wyoming'}"
   ]
  },
  {
   "cell_type": "code",
   "execution_count": 33,
   "metadata": {},
   "outputs": [],
   "source": [
    "# mapping full names to abbreviated state names\n",
    "state_count['state'] = state_count['state'].map(state_remap)"
   ]
  },
  {
   "cell_type": "code",
   "execution_count": 34,
   "metadata": {},
   "outputs": [],
   "source": [
    "# renaming id column to count.\n",
    "state_count.rename(columns = {'severity': 'count', }, inplace = True)"
   ]
  },
  {
   "cell_type": "code",
   "execution_count": 35,
   "metadata": {},
   "outputs": [
    {
     "data": {
      "text/html": [
       "<div>\n",
       "<style scoped>\n",
       "    .dataframe tbody tr th:only-of-type {\n",
       "        vertical-align: middle;\n",
       "    }\n",
       "\n",
       "    .dataframe tbody tr th {\n",
       "        vertical-align: top;\n",
       "    }\n",
       "\n",
       "    .dataframe thead th {\n",
       "        text-align: right;\n",
       "    }\n",
       "</style>\n",
       "<table border=\"1\" class=\"dataframe\">\n",
       "  <thead>\n",
       "    <tr style=\"text-align: right;\">\n",
       "      <th></th>\n",
       "      <th>state</th>\n",
       "      <th>count</th>\n",
       "    </tr>\n",
       "  </thead>\n",
       "  <tbody>\n",
       "    <tr>\n",
       "      <th>0</th>\n",
       "      <td>alabama</td>\n",
       "      <td>56989</td>\n",
       "    </tr>\n",
       "  </tbody>\n",
       "</table>\n",
       "</div>"
      ],
      "text/plain": [
       "     state  count\n",
       "0  alabama  56989"
      ]
     },
     "execution_count": 35,
     "metadata": {},
     "output_type": "execute_result"
    }
   ],
   "source": [
    "state_count.head(1)"
   ]
  },
  {
   "cell_type": "code",
   "execution_count": 36,
   "metadata": {},
   "outputs": [],
   "source": [
    "# resetting index to state so that it can be concatenated with license data\n",
    "state_count.set_index(keys = 'state', inplace = True)"
   ]
  },
  {
   "cell_type": "code",
   "execution_count": 37,
   "metadata": {},
   "outputs": [],
   "source": [
    "# sorting index alphabetically and ensuring proper format\n",
    "state_count.sort_index(inplace = True)\n",
    "state_count.index = state_count.index.str.lower().str.strip()"
   ]
  },
  {
   "cell_type": "code",
   "execution_count": 38,
   "metadata": {},
   "outputs": [
    {
     "data": {
      "text/plain": [
       "(49, 1)"
      ]
     },
     "execution_count": 38,
     "metadata": {},
     "output_type": "execute_result"
    }
   ],
   "source": [
    "state_count.shape"
   ]
  },
  {
   "cell_type": "markdown",
   "metadata": {},
   "source": [
    "**Read in State Lat and Long**"
   ]
  },
  {
   "cell_type": "code",
   "execution_count": 39,
   "metadata": {},
   "outputs": [
    {
     "data": {
      "text/html": [
       "<div>\n",
       "<style scoped>\n",
       "    .dataframe tbody tr th:only-of-type {\n",
       "        vertical-align: middle;\n",
       "    }\n",
       "\n",
       "    .dataframe tbody tr th {\n",
       "        vertical-align: top;\n",
       "    }\n",
       "\n",
       "    .dataframe thead th {\n",
       "        text-align: right;\n",
       "    }\n",
       "</style>\n",
       "<table border=\"1\" class=\"dataframe\">\n",
       "  <thead>\n",
       "    <tr style=\"text-align: right;\">\n",
       "      <th></th>\n",
       "      <th>lat</th>\n",
       "      <th>long</th>\n",
       "    </tr>\n",
       "    <tr>\n",
       "      <th>State</th>\n",
       "      <th></th>\n",
       "      <th></th>\n",
       "    </tr>\n",
       "  </thead>\n",
       "  <tbody>\n",
       "    <tr>\n",
       "      <th>alabama</th>\n",
       "      <td>32.31823</td>\n",
       "      <td>-86.902298</td>\n",
       "    </tr>\n",
       "  </tbody>\n",
       "</table>\n",
       "</div>"
      ],
      "text/plain": [
       "              lat       long\n",
       "State                       \n",
       "alabama  32.31823 -86.902298"
      ]
     },
     "execution_count": 39,
     "metadata": {},
     "output_type": "execute_result"
    }
   ],
   "source": [
    "state_latlong = pd.read_csv('./data/central_lat_long_usstates.csv', index_col = 'State')\n",
    "state_latlong = state_latlong.sort_values('State')\n",
    "state_latlong.head(1)"
   ]
  },
  {
   "cell_type": "markdown",
   "metadata": {},
   "source": [
    "______\n",
    "**Concatenating Grouped DF's**\n",
    "_______"
   ]
  },
  {
   "cell_type": "code",
   "execution_count": 40,
   "metadata": {
    "scrolled": true
   },
   "outputs": [
    {
     "data": {
      "text/plain": [
       "(49, 13)"
      ]
     },
     "execution_count": 40,
     "metadata": {},
     "output_type": "execute_result"
    }
   ],
   "source": [
    "# combining state_count, national_shape and license_df into one df. \n",
    "state_df = pd.concat([state_count, national_shape, license_df, state_latlong], axis = 1, verify_integrity = True)\n",
    "state_df.shape"
   ]
  },
  {
   "cell_type": "code",
   "execution_count": 41,
   "metadata": {},
   "outputs": [],
   "source": [
    "state_df['acc_per_cap'] = state_df['count'] / state_df['total_drivers']"
   ]
  },
  {
   "cell_type": "markdown",
   "metadata": {},
   "source": [
    "<a id='kep_viz'></a>_______________\n",
    "# Kepler.gl Visualizations\n",
    "_______________"
   ]
  },
  {
   "cell_type": "markdown",
   "metadata": {},
   "source": [
    "___________\n",
    "**Convert acc_df to a Geopandas Dataframe**\n",
    "___________\n"
   ]
  },
  {
   "cell_type": "code",
   "execution_count": 42,
   "metadata": {},
   "outputs": [],
   "source": [
    "# dropping rows that I won't be using in the plots\n",
    "acc_df.drop(columns = ['temperature(f)', 'wind_chill(f)', 'humidity(%)', 'pressure(in)', 'visibility(mi)', \n",
    "                       'wind_direction', 'wind_speed(mph)', 'precipitation(in)', 'weather_condition', \n",
    "                       'sunrise_sunset', 'civil_twilight', 'nautical_twilight', 'astronomical_twilight'], inplace = True)\n"
   ]
  },
  {
   "cell_type": "code",
   "execution_count": 43,
   "metadata": {},
   "outputs": [],
   "source": [
    "# converting acc_df to geopandas df\n",
    "# gdp is the geopandas imported as gpd\n",
    "# GeoDataFrame is a function that converts objects to GeoPandas DF's\n",
    "# Since There is not geometry object (column) we need to use .points_from_xy\n",
    "# .points_from_xy() function converts latitude and longitude columns to geometry object. \n",
    "# geometry object will be used to plot in geospatial data. \n",
    "\n",
    "acc_gdf = gpd.GeoDataFrame(\n",
    "    acc_df, geometry = gpd.points_from_xy(acc_df['start_lat'], acc_df['start_lng']))"
   ]
  },
  {
   "cell_type": "markdown",
   "metadata": {},
   "source": [
    "__________________\n",
    "**Splitting Up acc_gdf into smaller portions**\n",
    "__________________"
   ]
  },
  {
   "cell_type": "code",
   "execution_count": 45,
   "metadata": {},
   "outputs": [],
   "source": [
    "# Setting up the length of each new split dataframe\n",
    "# Splitting 10 times so multiplying length of the dataframe by .10\n",
    "len_new = int(round(len(acc_gdf) * .10, 0))\n",
    "\n",
    "# Creating 10 new dataframes of 10 percent of total samples in each new dataframe. \n",
    "# Now I will use len_new to index the new dataframes\n",
    "acc_gdf1 = acc_gdf.iloc[0:len_new, :]\n",
    "acc_gdf2 = acc_gdf.iloc[len_new:(len_new * 2),  :]\n",
    "acc_gdf3 = acc_gdf.iloc[(len_new * 2):(len_new * 3),  :]\n",
    "acc_gdf4 = acc_gdf.iloc[(len_new * 3): (len_new * 4), :]\n",
    "acc_gdf5 = acc_gdf.iloc[(len_new * 4): (len_new * 5), :]\n",
    "acc_gdf6 = acc_gdf.iloc[(len_new * 5): (len_new * 6), :]\n",
    "acc_gdf7 = acc_gdf.iloc[(len_new * 6): (len_new * 7), :]\n",
    "acc_gdf8 = acc_gdf.iloc[(len_new * 7): (len_new * 8), :]\n",
    "acc_gdf9 = acc_gdf.iloc[(len_new * 8): (len_new * 9), :]\n",
    "acc_gdf10 = acc_gdf.iloc[(len_new * 9): (len_new * 10), :]"
   ]
  },
  {
   "cell_type": "code",
   "execution_count": 46,
   "metadata": {},
   "outputs": [],
   "source": [
    "# Saving all of the split dfs to csv so that I can use keppler on the web.\n",
    "# acc_gdf1.to_csv('../data/acc_gdf1.csv') \n",
    "# acc_gdf2.to_csv('../data/acc_gdf2.csv')\n",
    "# acc_gdf3.to_csv('../data/acc_gdf3.csv') \n",
    "# acc_gdf4.to_csv('../data/acc_gdf4.csv')\n",
    "# acc_gdf5.to_csv('../data/acc_gdf5.csv') \n",
    "# acc_gdf6.to_csv('../data/acc_gdf6.csv')\n",
    "# acc_gdf7.to_csv('../data/acc_gdf7.csv')\n",
    "# acc_gdf8.to_csv('../data/acc_gdf8.csv')\n",
    "# acc_gdf9.to_csv('../data/acc_gdf9.csv')\n",
    "# acc_gdf10.to_csv('../data/acc_gdf10.csv')"
   ]
  },
  {
   "cell_type": "markdown",
   "metadata": {},
   "source": [
    "<a id='all_viz'></a>_________\n",
    "# Visualizations\n",
    "__________"
   ]
  },
  {
   "cell_type": "markdown",
   "metadata": {},
   "source": [
    "_____________________________\n",
    "## Kepler.gl Plot with All Datapoints\n",
    "Created a basic national map with accident count, licensed drivers and percentage of accidents per capita (derived by dividing accident count by licensed drivers per state). \n",
    "\n",
    "# Data Warning!!!\n",
    "**This plot contains almost 1GB of data and takes awhile to load**"
   ]
  },
  {
   "cell_type": "code",
   "execution_count": 47,
   "metadata": {},
   "outputs": [],
   "source": [
    "# map_config_per_capita_heatmap\n",
    "acc_config = {\n",
    "  \"version\": \"v1\",\n",
    "  \"config\": {\n",
    "    \"visState\": {\n",
    "      \"filters\": [],\n",
    "      \"layers\": [\n",
    "        {\n",
    "          \"id\": \"ew6bvll\",\n",
    "          \"type\": \"geojson\",\n",
    "          \"config\": {\n",
    "            \"dataId\": \"NationalAccidents\",\n",
    "            \"label\": \"NationalAccidents\",\n",
    "            \"color\": [\n",
    "              218,\n",
    "              112,\n",
    "              191\n",
    "            ],\n",
    "            \"columns\": {\n",
    "              \"geojson\": \"geometry\"\n",
    "            },\n",
    "            \"isVisible\": True,\n",
    "            \"visConfig\": {\n",
    "              \"opacity\": 0.8,\n",
    "              \"strokeOpacity\": 0.8,\n",
    "              \"thickness\": 0.5,\n",
    "              \"strokeColor\": None,\n",
    "              \"colorRange\": {\n",
    "                \"name\": \"Global Warming\",\n",
    "                \"type\": \"sequential\",\n",
    "                \"category\": \"Uber\",\n",
    "                \"colors\": [\n",
    "                  \"#5A1846\",\n",
    "                  \"#900C3F\",\n",
    "                  \"#C70039\",\n",
    "                  \"#E3611C\",\n",
    "                  \"#F1920E\",\n",
    "                  \"#FFC300\"\n",
    "                ]\n",
    "              },\n",
    "              \"strokeColorRange\": {\n",
    "                \"name\": \"Global Warming\",\n",
    "                \"type\": \"sequential\",\n",
    "                \"category\": \"Uber\",\n",
    "                \"colors\": [\n",
    "                  \"#5A1846\",\n",
    "                  \"#900C3F\",\n",
    "                  \"#C70039\",\n",
    "                  \"#E3611C\",\n",
    "                  \"#F1920E\",\n",
    "                  \"#FFC300\"\n",
    "                ]\n",
    "              },\n",
    "              \"radius\": 100,\n",
    "              \"sizeRange\": [\n",
    "                0,\n",
    "                10\n",
    "              ],\n",
    "              \"radiusRange\": [\n",
    "                0,\n",
    "                50\n",
    "              ],\n",
    "              \"heightRange\": [\n",
    "                0,\n",
    "                500\n",
    "              ],\n",
    "              \"elevationScale\": 5,\n",
    "              \"stroked\": True,\n",
    "              \"filled\": False,\n",
    "              \"enable3d\": False,\n",
    "              \"wireframe\": False\n",
    "            },\n",
    "            \"hidden\": False,\n",
    "            \"textLabel\": [\n",
    "              {\n",
    "                \"field\": None,\n",
    "                \"color\": [\n",
    "                  255,\n",
    "                  255,\n",
    "                  255\n",
    "                ],\n",
    "                \"size\": 18,\n",
    "                \"offset\": [\n",
    "                  0,\n",
    "                  0\n",
    "                ],\n",
    "                \"anchor\": \"start\",\n",
    "                \"alignment\": \"center\"\n",
    "              }\n",
    "            ]\n",
    "          },\n",
    "          \"visualChannels\": {\n",
    "            \"colorField\": None,\n",
    "            \"colorScale\": \"quantile\",\n",
    "            \"sizeField\": None,\n",
    "            \"sizeScale\": \"linear\",\n",
    "            \"strokeColorField\": None,\n",
    "            \"strokeColorScale\": \"quantile\",\n",
    "            \"heightField\": None,\n",
    "            \"heightScale\": \"linear\",\n",
    "            \"radiusField\": None,\n",
    "            \"radiusScale\": \"linear\"\n",
    "          }\n",
    "        },\n",
    "        {\n",
    "          \"id\": \"huy3bll\",\n",
    "          \"type\": \"heatmap\",\n",
    "          \"config\": {\n",
    "            \"dataId\": \"NationalAccidents\",\n",
    "            \"label\": \"state\",\n",
    "            \"color\": [\n",
    "              177,\n",
    "              231,\n",
    "              214\n",
    "            ],\n",
    "            \"columns\": {\n",
    "              \"lat\": \"lat\",\n",
    "              \"lng\": \"long\"\n",
    "            },\n",
    "            \"isVisible\": True,\n",
    "            \"visConfig\": {\n",
    "              \"opacity\": 0.8,\n",
    "              \"colorRange\": {\n",
    "                \"name\": \"Uber Viz Qualitative 4\",\n",
    "                \"type\": \"qualitative\",\n",
    "                \"category\": \"Uber\",\n",
    "                \"colors\": [\n",
    "                  \"#12939A\",\n",
    "                  \"#DDB27C\",\n",
    "                  \"#88572C\",\n",
    "                  \"#FF991F\",\n",
    "                  \"#F15C17\",\n",
    "                  \"#223F9A\",\n",
    "                  \"#DA70BF\",\n",
    "                  \"#125C77\",\n",
    "                  \"#4DC19C\",\n",
    "                  \"#776E57\",\n",
    "                  \"#17B8BE\",\n",
    "                  \"#F6D18A\",\n",
    "                  \"#B7885E\",\n",
    "                  \"#FFCB99\",\n",
    "                  \"#F89570\",\n",
    "                  \"#829AE3\",\n",
    "                  \"#E79FD5\",\n",
    "                  \"#1E96BE\",\n",
    "                  \"#89DAC1\",\n",
    "                  \"#B3AD9E\"\n",
    "                ]\n",
    "              },\n",
    "              \"radius\": 100\n",
    "            },\n",
    "            \"hidden\": False,\n",
    "            \"textLabel\": [\n",
    "              {\n",
    "                \"field\": None,\n",
    "                \"color\": [\n",
    "                  255,\n",
    "                  255,\n",
    "                  255\n",
    "                ],\n",
    "                \"size\": 18,\n",
    "                \"offset\": [\n",
    "                  0,\n",
    "                  0\n",
    "                ],\n",
    "                \"anchor\": \"start\",\n",
    "                \"alignment\": \"center\"\n",
    "              }\n",
    "            ]\n",
    "          },\n",
    "          \"visualChannels\": {\n",
    "            \"weightField\": {\n",
    "              \"name\": \"acc_per_cap\",\n",
    "              \"type\": \"real\"\n",
    "            },\n",
    "            \"weightScale\": \"linear\"\n",
    "          }\n",
    "        }\n",
    "      ],\n",
    "      \"interactionConfig\": {\n",
    "        \"tooltip\": {\n",
    "          \"fieldsToShow\": {\n",
    "            \"NationalAccidents\": [\n",
    "              {\n",
    "                \"name\": \"count\",\n",
    "                \"format\": None\n",
    "              },\n",
    "              {\n",
    "                \"name\": \"total_drivers\",\n",
    "                \"format\": None\n",
    "              },\n",
    "              {\n",
    "                \"name\": \"acc_per_cap\",\n",
    "                \"format\": None\n",
    "              },\n",
    "              {\n",
    "                \"name\": \"stusps\",\n",
    "                \"format\": None\n",
    "              },\n",
    "              {\n",
    "                \"name\": \"long\",\n",
    "                \"format\": None\n",
    "              }\n",
    "            ]\n",
    "          },\n",
    "          \"compareMode\": False,\n",
    "          \"compareType\": \"absolute\",\n",
    "          \"enabled\": True\n",
    "        },\n",
    "        \"brush\": {\n",
    "          \"size\": 0.5,\n",
    "          \"enabled\": False\n",
    "        },\n",
    "        \"geocoder\": {\n",
    "          \"enabled\": False\n",
    "        },\n",
    "        \"coordinate\": {\n",
    "          \"enabled\": False\n",
    "        }\n",
    "      },\n",
    "      \"layerBlending\": \"normal\",\n",
    "      \"splitMaps\": [],\n",
    "      \"animationConfig\": {\n",
    "        \"currentTime\": None,\n",
    "        \"speed\": 1\n",
    "      }\n",
    "    },\n",
    "    \"mapState\": {\n",
    "      \"bearing\": 0,\n",
    "      \"dragRotate\": False,\n",
    "      \"latitude\": 40.12986674585066,\n",
    "      \"longitude\": -111.16986977067305,\n",
    "      \"pitch\": 0,\n",
    "      \"zoom\": 2.465289163169173,\n",
    "      \"isSplit\": False\n",
    "    },\n",
    "    \"mapStyle\": {\n",
    "      \"styleType\": \"muted\",\n",
    "      \"topLayerGroups\": {},\n",
    "      \"visibleLayerGroups\": {\n",
    "        \"label\": True,\n",
    "        \"road\": True,\n",
    "        \"border\": False,\n",
    "        \"building\": True,\n",
    "        \"water\": True,\n",
    "        \"land\": True,\n",
    "        \"3d building\": False\n",
    "      },\n",
    "      \"threeDBuildingColor\": [\n",
    "        224.4071295378559,\n",
    "        224.4071295378559,\n",
    "        224.4071295378559\n",
    "      ],\n",
    "      \"mapStyles\": {}\n",
    "    }\n",
    "  }\n",
    "}"
   ]
  },
  {
   "cell_type": "code",
   "execution_count": 48,
   "metadata": {},
   "outputs": [
    {
     "name": "stdout",
     "output_type": "stream",
     "text": [
      "User Guide: https://docs.kepler.gl/docs/keplergl-jupyter\n"
     ]
    }
   ],
   "source": [
    "# Instantiating a Kepler object\n",
    "map_acc = KeplerGl(height = 400)"
   ]
  },
  {
   "cell_type": "code",
   "execution_count": 49,
   "metadata": {},
   "outputs": [],
   "source": [
    "### This will take some time to load ###\n",
    "\n",
    "# Adding split dataframes to Keppler using add_data() function.\n",
    "# I had to split the dataframes (see above) into managable data sizes. Luckily keppler allows you to add as many times as necessary. \n",
    "\n",
    "map_acc.add_data(data = acc_gdf1, name = 'Accidents')\n",
    "map_acc.add_data(data = acc_gdf2, name = 'Accidents')\n",
    "map_acc.add_data(data = acc_gdf3, name = 'Accidents')\n",
    "map_acc.add_data(data = acc_gdf4, name = 'Accidents')\n",
    "map_acc.add_data(data = acc_gdf5, name = 'Accidents')\n",
    "map_acc.add_data(data = acc_gdf6, name = 'Accidents')\n",
    "map_acc.add_data(data = acc_gdf7, name = 'Accidents')\n",
    "map_acc.add_data(data = acc_gdf8, name = 'Accidents')\n",
    "map_acc.add_data(data = acc_gdf9, name = 'Accidents')\n",
    "map_acc.add_data(data = acc_gdf10, name = 'Accidents')"
   ]
  },
  {
   "cell_type": "code",
   "execution_count": 50,
   "metadata": {},
   "outputs": [
    {
     "data": {
      "application/vnd.jupyter.widget-view+json": {
       "model_id": "c1170d752099480c98b48d5f5a90bbf5",
       "version_major": 2,
       "version_minor": 0
      },
      "text/plain": [
       "KeplerGl(data={'Accidents': {'index': [3806451, 3806452, 3806453, 3806454, 3806455, 3806456, 3806457, 3806458,…"
      ]
     },
     "metadata": {},
     "output_type": "display_data"
    }
   ],
   "source": [
    "# display function calls added data and as you add each new layer (above) you will see the data update into this cell.\n",
    "# The interactive map displays here.\n",
    "display(map_acc)\n",
    "\n"
   ]
  },
  {
   "cell_type": "code",
   "execution_count": 51,
   "metadata": {},
   "outputs": [
    {
     "name": "stdout",
     "output_type": "stream",
     "text": [
      "Map saved to ./code/kepler_acc_map.html!\n"
     ]
    }
   ],
   "source": [
    "# # Saving kepler map to html config\n",
    "# map_acc.save_to_html(file_name='./resources/kepler_acc_map.html', config = acc_config)"
   ]
  },
  {
   "cell_type": "markdown",
   "metadata": {},
   "source": [
    "<a id='pcap_viz'></a>__________\n",
    "## Keppler.gl plot of just the State Counts and Per Capita Counts\n",
    "___________"
   ]
  },
  {
   "cell_type": "code",
   "execution_count": 56,
   "metadata": {},
   "outputs": [],
   "source": [
    "state_gdf = gpd.GeoDataFrame(state_df)"
   ]
  },
  {
   "cell_type": "code",
   "execution_count": 57,
   "metadata": {},
   "outputs": [],
   "source": [
    "state_gdf = state_gdf.loc[:, ['count', 'geometry', 'total_drivers', 'acc_per_cap', 'stusps', 'lat', 'long']]"
   ]
  },
  {
   "cell_type": "code",
   "execution_count": 58,
   "metadata": {},
   "outputs": [
    {
     "name": "stdout",
     "output_type": "stream",
     "text": [
      "User Guide: https://docs.kepler.gl/docs/keplergl-jupyter\n"
     ]
    }
   ],
   "source": [
    "# Instantiate KeplerGl\n",
    "map_1 = KeplerGl(height = 400)"
   ]
  },
  {
   "cell_type": "code",
   "execution_count": 59,
   "metadata": {},
   "outputs": [],
   "source": [
    "# Add data to KeplerGl instance\n",
    "map_1.add_data(data = state_gdf, name = 'NationalAccidents')"
   ]
  },
  {
   "cell_type": "code",
   "execution_count": 60,
   "metadata": {
    "scrolled": false
   },
   "outputs": [
    {
     "data": {
      "application/vnd.jupyter.widget-view+json": {
       "model_id": "b148bf19d14d493fba77a54a4927618e",
       "version_major": 2,
       "version_minor": 0
      },
      "text/plain": [
       "KeplerGl(data={'NationalAccidents': {'index': ['alabama', 'arizona', 'arkansas', 'california', 'colorado', 'co…"
      ]
     },
     "metadata": {},
     "output_type": "display_data"
    }
   ],
   "source": [
    "display(map_1)"
   ]
  },
  {
   "cell_type": "code",
   "execution_count": 63,
   "metadata": {},
   "outputs": [
    {
     "name": "stdout",
     "output_type": "stream",
     "text": [
      "Map saved to ./code/kepler_map_1.html!\n"
     ]
    }
   ],
   "source": [
    "# Saving kepler map to html config\n",
    "map_1.save_to_html(file_name='./resources/kepler_map_1.html')"
   ]
  },
  {
   "cell_type": "markdown",
   "metadata": {},
   "source": [
    "<a id='eda'></a>________________\n",
    "# EDA and Visualizations\n",
    "_______________"
   ]
  },
  {
   "cell_type": "markdown",
   "metadata": {},
   "source": [
    "<a id='gp_viz'></a>______________\n",
    "## Geopandas Heatmap of Accident Count by State\n",
    "_____________\n",
    "https://geopandas.org/gallery/create_geopandas_from_pandas.html"
   ]
  },
  {
   "cell_type": "code",
   "execution_count": 72,
   "metadata": {},
   "outputs": [
    {
     "data": {
      "text/plain": [
       "<Figure size 7200x5040 with 0 Axes>"
      ]
     },
     "metadata": {},
     "output_type": "display_data"
    },
    {
     "data": {
      "image/png": "[encoded data removed]",
      "text/plain": [
       "<Figure size 432x288 with 2 Axes>"
      ]
     },
     "metadata": {},
     "output_type": "display_data"
    }
   ],
   "source": [
    "plt.figure(figsize=(100,70))\n",
    "\n",
    "# reading in Geopandas worldmap\n",
    "world = gpd.read_file(gpd.datasets.get_path('naturalearth_lowres'))\n",
    "\n",
    "# We restrict to North America.\n",
    "ax = world[world.continent == 'North America'].plot(\n",
    "    color='white', edgecolor='black')\n",
    "\n",
    "# turn axis off\n",
    "plt.axis('off')\n",
    "\n",
    "# plot our ``GeoDataFrame``.\n",
    "state_gdf.plot(column='count', ax=ax, legend=True);\n",
    "\n",
    "plt.title('Accident Count by State')\n",
    "\n",
    "plt.show()"
   ]
  },
  {
   "cell_type": "code",
   "execution_count": 73,
   "metadata": {},
   "outputs": [
    {
     "data": {
      "text/plain": [
       "<Figure size 4320x2160 with 0 Axes>"
      ]
     },
     "metadata": {},
     "output_type": "display_data"
    },
    {
     "data": {
      "image/png": "[encoded data removed]",
      "text/plain": [
       "<Figure size 432x288 with 2 Axes>"
      ]
     },
     "metadata": {},
     "output_type": "display_data"
    }
   ],
   "source": [
    "plt.figure(figsize=(60,30))\n",
    "\n",
    "# reading in Geopandas worldmap\n",
    "world = gpd.read_file(gpd.datasets.get_path('naturalearth_lowres'))\n",
    "\n",
    "# We restrict to North America.\n",
    "ax = world[world.continent == 'North America'].plot(\n",
    "    color='white', edgecolor='black')\n",
    "\n",
    "# turn axis off\n",
    "plt.axis('off')\n",
    "\n",
    "# plot our ``GeoDataFrame``.\n",
    "state_gdf.plot(column='acc_per_cap', ax=ax, legend=True)\n",
    "\n",
    "plt.title('Per Capita Accident Count by State')\n",
    "\n",
    "plt.show();"
   ]
  },
  {
   "cell_type": "markdown",
   "metadata": {},
   "source": [
    "<a id='sev_rate'></a>____________\n",
    "# Severity Count by Severity Rating\n",
    "___________"
   ]
  },
  {
   "cell_type": "code",
   "execution_count": 74,
   "metadata": {},
   "outputs": [],
   "source": [
    "severity = acc_df.groupby('severity')[['start_lng']].count()\n",
    "severity.rename(columns = {'start_lng': 'count'}, inplace = True)\n",
    "severity.reset_index(inplace = True)"
   ]
  },
  {
   "cell_type": "code",
   "execution_count": 75,
   "metadata": {},
   "outputs": [
    {
     "data": {
      "image/png": "[encoded data removed]",
      "text/plain": [
       "<Figure size 432x288 with 1 Axes>"
      ]
     },
     "metadata": {},
     "output_type": "display_data"
    }
   ],
   "source": [
    "# setting x and height\n",
    "x = severity['severity']\n",
    "height = severity['count']\n",
    "\n",
    "# creating plot\n",
    "plt.bar(x, height, color = ['blue', 'yellow', 'orange', 'red'])\n",
    "\n",
    "\n",
    "# setting title and labels\n",
    "plt.title('Severity Count by Severity Rating', color = 'black')\n",
    "plt.xlabel('Severity Rating', color = 'black')\n",
    "plt.ylabel('Severity Count in Millions', color = 'black');"
   ]
  },
  {
   "cell_type": "markdown",
   "metadata": {},
   "source": [
    "_______________\n",
    "## Bar Plots of Accidents Per State, County and City"
   ]
  },
  {
   "cell_type": "markdown",
   "metadata": {},
   "source": [
    "<a id='acc_state'></a>___________\n",
    "## Accidents Per State\n",
    "____________"
   ]
  },
  {
   "cell_type": "code",
   "execution_count": 76,
   "metadata": {},
   "outputs": [
    {
     "data": {
      "text/html": [
       "<div>\n",
       "<style scoped>\n",
       "    .dataframe tbody tr th:only-of-type {\n",
       "        vertical-align: middle;\n",
       "    }\n",
       "\n",
       "    .dataframe tbody tr th {\n",
       "        vertical-align: top;\n",
       "    }\n",
       "\n",
       "    .dataframe thead th {\n",
       "        text-align: right;\n",
       "    }\n",
       "</style>\n",
       "<table border=\"1\" class=\"dataframe\">\n",
       "  <thead>\n",
       "    <tr style=\"text-align: right;\">\n",
       "      <th></th>\n",
       "      <th>count</th>\n",
       "      <th>total_drivers</th>\n",
       "    </tr>\n",
       "    <tr>\n",
       "      <th>state</th>\n",
       "      <th></th>\n",
       "      <th></th>\n",
       "    </tr>\n",
       "  </thead>\n",
       "  <tbody>\n",
       "    <tr>\n",
       "      <th>alabama</th>\n",
       "      <td>56989</td>\n",
       "      <td>4026151</td>\n",
       "    </tr>\n",
       "  </tbody>\n",
       "</table>\n",
       "</div>"
      ],
      "text/plain": [
       "         count  total_drivers\n",
       "state                        \n",
       "alabama  56989        4026151"
      ]
     },
     "execution_count": 76,
     "metadata": {},
     "output_type": "execute_result"
    }
   ],
   "source": [
    "# Create a df with accident count and total licensed drivers per state. \n",
    "acc_per_state = pd.concat([state_count, license_df], axis = 1)\n",
    "acc_per_state.head(1)"
   ]
  },
  {
   "cell_type": "code",
   "execution_count": 77,
   "metadata": {
    "scrolled": true
   },
   "outputs": [
    {
     "data": {
      "text/html": [
       "<div>\n",
       "<style scoped>\n",
       "    .dataframe tbody tr th:only-of-type {\n",
       "        vertical-align: middle;\n",
       "    }\n",
       "\n",
       "    .dataframe tbody tr th {\n",
       "        vertical-align: top;\n",
       "    }\n",
       "\n",
       "    .dataframe thead th {\n",
       "        text-align: right;\n",
       "    }\n",
       "</style>\n",
       "<table border=\"1\" class=\"dataframe\">\n",
       "  <thead>\n",
       "    <tr style=\"text-align: right;\">\n",
       "      <th></th>\n",
       "      <th>count</th>\n",
       "      <th>total_drivers</th>\n",
       "      <th>acc_per_cap</th>\n",
       "    </tr>\n",
       "    <tr>\n",
       "      <th>state</th>\n",
       "      <th></th>\n",
       "      <th></th>\n",
       "      <th></th>\n",
       "    </tr>\n",
       "  </thead>\n",
       "  <tbody>\n",
       "    <tr>\n",
       "      <th>alabama</th>\n",
       "      <td>56989</td>\n",
       "      <td>4026151</td>\n",
       "      <td>0.014155</td>\n",
       "    </tr>\n",
       "  </tbody>\n",
       "</table>\n",
       "</div>"
      ],
      "text/plain": [
       "         count  total_drivers  acc_per_cap\n",
       "state                                     \n",
       "alabama  56989        4026151     0.014155"
      ]
     },
     "execution_count": 77,
     "metadata": {},
     "output_type": "execute_result"
    }
   ],
   "source": [
    "# creating a accident per capita column\n",
    "acc_per_state['acc_per_cap'] = acc_per_state['count'] / acc_per_state['total_drivers']\n",
    "acc_per_state.head(1)"
   ]
  },
  {
   "cell_type": "code",
   "execution_count": 78,
   "metadata": {},
   "outputs": [],
   "source": [
    "# resetting index to numeric index\n",
    "acc_per_state = acc_per_state.reset_index()"
   ]
  },
  {
   "cell_type": "markdown",
   "metadata": {},
   "source": [
    "______________\n",
    "## Plot of Accidents by State\n",
    "______________"
   ]
  },
  {
   "cell_type": "code",
   "execution_count": 79,
   "metadata": {},
   "outputs": [
    {
     "data": {
      "image/png": "[encoded data removed]",
      "text/plain": [
       "<Figure size 864x648 with 1 Axes>"
      ]
     },
     "metadata": {},
     "output_type": "display_data"
    }
   ],
   "source": [
    "# creating new df of acc_per_state sorted by count\n",
    "acc_count = acc_per_state.sort_values('count', ascending = True)\n",
    "\n",
    "# creating variables to house plotting coordinates\n",
    "x = list(acc_count['count'])\n",
    "bars = list(acc_count['state'])\n",
    "y_pos = np.arange(len(bars))\n",
    "\n",
    "# plotting\n",
    "plt.figure(figsize = (12,9))\n",
    "plt.barh(y_pos, x, color = 'red')\n",
    "plt.yticks(y_pos, bars, color = 'black')\n",
    "plt.xticks(color = 'black')\n",
    "plt.xlabel('Accident Count', color = 'black')\n",
    "plt.ylabel('State', color = 'black')\n",
    "plt.title('Accidents by State', color = 'black')\n",
    "plt.show()"
   ]
  },
  {
   "cell_type": "markdown",
   "metadata": {},
   "source": [
    "**Analysis of Plot of Accidents by State**\n",
    "__________________\n",
    "\n",
    "* Not surprisingly California, Texas and Florida rank highest in number of accidents per state. Afterall, they are the three largest states. **What was surprising, however, is North and South Carolina in the top five.** What factors contribute to such a high number of accidents in these two states?\n",
    "\n",
    "* Looking at the bottom tier of states appears to confirm the relationship between population and number of accidents. Again, this is not surprising. \n",
    "____________________"
   ]
  },
  {
   "cell_type": "markdown",
   "metadata": {},
   "source": [
    "<a id='per_cap_plot'></a>______________\n",
    "## Plot of Largest Per Capita Accidents Rates By State\n",
    "_______________________________"
   ]
  },
  {
   "cell_type": "code",
   "execution_count": 80,
   "metadata": {
    "scrolled": true
   },
   "outputs": [
    {
     "data": {
      "image/png": "[encoded data removed]",
      "text/plain": [
       "<Figure size 864x648 with 1 Axes>"
      ]
     },
     "metadata": {},
     "output_type": "display_data"
    }
   ],
   "source": [
    "# creating new df of acc_per_state sorted by count\n",
    "acc_pcapita = acc_per_state.sort_values('acc_per_cap', ascending = True)\n",
    "\n",
    "# creating variables to house plotting coordinates\n",
    "x = list(acc_pcapita['acc_per_cap'])\n",
    "bars = list(acc_pcapita['state'])\n",
    "y_pos = np.arange(len(bars))\n",
    "\n",
    "# plotting\n",
    "plt.figure(figsize = (12,9))\n",
    "plt.barh(y_pos, x, color = 'red')\n",
    "plt.yticks(y_pos, bars, color = 'black')\n",
    "plt.xticks(color = 'black')\n",
    "plt.xlabel('Per Capita Accident Rate', color = 'black')\n",
    "plt.ylabel('State', color = 'black')\n",
    "plt.title('Per Capita Accident Rate by State', color = 'black')\n",
    "plt.show()"
   ]
  },
  {
   "cell_type": "markdown",
   "metadata": {},
   "source": [
    "**Analysis of Largest Per Capita Accidents By State Plot**\n",
    "__________________\n",
    "* Based on the chart of total number of accidents in each state we would expect to see South Carolina and North Carolina in the top 10. Interestingly, California remains in top 3 on a per-capita basis. In light of this it appears that anecdotal evidence is confirmed by the data to be a relatively challenging state to drive in.\n",
    "\n",
    "* North Dakot and South Dakota remain at the bottom of the charts when accident totals are adjusted on a per-capita basis. **This highlights a potential relationship between population density and accidents.** \n",
    "\n",
    "* Possible exceptions to population density, when considering this on a state level, is Oregon and Utah which are both in top-ten on a per-capita basis and have a diverse population of rural and urban populations. **It may be worth looking into these states further to identify per-capita proportions of accident totals on a rural county or city level.**\n",
    "_____________________"
   ]
  },
  {
   "cell_type": "markdown",
   "metadata": {},
   "source": [
    "<a id='top25_county'></a>____________________________\n",
    "## Plot of Top 25 Accidents Per County\n",
    "_______________________"
   ]
  },
  {
   "cell_type": "code",
   "execution_count": 81,
   "metadata": {
    "scrolled": true
   },
   "outputs": [
    {
     "data": {
      "text/html": [
       "<div>\n",
       "<style scoped>\n",
       "    .dataframe tbody tr th:only-of-type {\n",
       "        vertical-align: middle;\n",
       "    }\n",
       "\n",
       "    .dataframe tbody tr th {\n",
       "        vertical-align: top;\n",
       "    }\n",
       "\n",
       "    .dataframe thead th {\n",
       "        text-align: right;\n",
       "    }\n",
       "</style>\n",
       "<table border=\"1\" class=\"dataframe\">\n",
       "  <thead>\n",
       "    <tr style=\"text-align: right;\">\n",
       "      <th></th>\n",
       "      <th>count</th>\n",
       "    </tr>\n",
       "    <tr>\n",
       "      <th>county</th>\n",
       "      <th></th>\n",
       "    </tr>\n",
       "  </thead>\n",
       "  <tbody>\n",
       "    <tr>\n",
       "      <th>Abbeville</th>\n",
       "      <td>617</td>\n",
       "    </tr>\n",
       "  </tbody>\n",
       "</table>\n",
       "</div>"
      ],
      "text/plain": [
       "           count\n",
       "county          \n",
       "Abbeville    617"
      ]
     },
     "execution_count": 81,
     "metadata": {},
     "output_type": "execute_result"
    }
   ],
   "source": [
    "# Creating a new df with accidents counts per county\n",
    "acc_per_county = acc_df.groupby('county')[['severity']].count()\n",
    "# Renaming severity column to count\n",
    "acc_per_county.rename(columns = {'severity': 'count'}, inplace = True)\n",
    "acc_per_county.head(1)"
   ]
  },
  {
   "cell_type": "code",
   "execution_count": 82,
   "metadata": {},
   "outputs": [
    {
     "data": {
      "image/png": "[encoded data removed]",
      "text/plain": [
       "<Figure size 864x648 with 1 Axes>"
      ]
     },
     "metadata": {},
     "output_type": "display_data"
    }
   ],
   "source": [
    "# creating new df of acc_per_county sorted by count\n",
    "acc_county_count_25 = acc_per_county.nlargest(25, 'count').sort_values('count')\n",
    "\n",
    "# creating variables to house plot coordinates\n",
    "x = list(acc_county_count_25['count'])\n",
    "bars = list(acc_county_count_25.index)\n",
    "y_pos = np.arange(len(bars))\n",
    "\n",
    "# plot\n",
    "plt.figure(figsize = (12,9))\n",
    "plt.barh(y_pos, x, color = 'red')\n",
    "plt.yticks(y_pos, bars, color = 'black')\n",
    "plt.xticks(color = 'black')\n",
    "plt.xlabel('Accident Count', color = 'black')\n",
    "plt.ylabel('County', color = 'black')\n",
    "plt.title('Per County Accident Count', color = 'black')\n",
    "plt.show()"
   ]
  },
  {
   "cell_type": "markdown",
   "metadata": {},
   "source": [
    "**Analysis of Plot of Accident Count Per County**\n",
    "* Los Angeles County, is a driver-centric metropolis tops this list almost tripling the accident count of Harris County, Texas. Harris County, the third largest county in the United States is the home of Houston and is a sprawling county growing at a 15% clip annually. These values are to be expected at the top of the chart. \n",
    "\n",
    "* I would like to do more analysis on population density and accident rates. If you look at the top counties for accident count Many of them are not in the top 50 of population density. So it almost seems as if at some point as population density increases then motor vehicle accidents then decrease. This is likely due to the fact that less people drive and more take mass transit. For instance, Los Angeles County is one of the largest counties by population in the United States but doesn't even break the top 50 counties based on population density. Neither does number two Harris County and number three Orange County ranks 32nd. In fact, Cook County (ranked 19th in population density) is the only county in the list of top 25 of total accident counts that cracks the top 20 via population density. \n",
    "* This lack of extreme dense population in the highest accident count counties suggests that larger-by-land-mass, sprawling cities that are more dependent on personal motor vehicles for travel are certainly more risky than densely populated metropolis' that have a good mix of public and private transportation options. However, further research is needed here. \n",
    "* This article published on PBS illustrates some of the reason higher-density areas have less crash rates. In a four-year long study at the University of Pennsylvania co-author of the study, Erick Guerra explains that \"Fewer roads and slower traffic speeds in Philly explain some of the difference in crash rates. The region’s densest census tracts house 28% of the Delaware Valley’s population, but just 6% of all roadways and far fewer high-speed boulevards or highways. Across the five-county region, roads with average speeds of 45 miles-per-hour witnessed 10 times more deaths on average than roads with 25 miles-per-hour speed limits, the study found.\"\n",
    "* Another study found that severity of crashes increases as areas become more rural. This is partly due to people wearing their seatbelts less in rural areas, higher speeds in which people travel in rural areas, increased per capital impaired driving rates and less proximity to trauma centers that can triage severe accidents. There was also some mention of people in rural areas tending to have lower wages and thus driving older cars with outdated or less existent safety features. \n",
    "\n",
    "\n",
    "**Sources**\n",
    "\n",
    "List of most populous counties in the United States\n",
    "* https://en.wikipedia.org/wiki/List_of_the_most_populous_counties_in_the_United_States\n",
    "\n",
    "List of most densely populated counties in the United States. \n",
    "\n",
    "* https://en.wikipedia.org/wiki/County_statistics_of_the_United_States#Most_densely_populated\n",
    "\n",
    "City driving often safer than the burbs\n",
    "* https://whyy.org/articles/study-city-driving-often-safer-than-the-burbs/\n",
    "\n",
    "Car crash death rates highest in remotest rural areas\n",
    "* https://www.reuters.com/article/us-health-rural-autos-crash/car-crash-death-rates-highest-in-remotest-rural-areas-idUSKBN1CA2EW\n",
    "\n"
   ]
  },
  {
   "cell_type": "markdown",
   "metadata": {},
   "source": [
    "<a id='top25_city'></a>___________\n",
    "## Plot of Top 25 Accidents Per City\n",
    "____________"
   ]
  },
  {
   "cell_type": "code",
   "execution_count": 83,
   "metadata": {},
   "outputs": [],
   "source": [
    "acc_per_city = acc_df.groupby('city')[['severity']].count()\n",
    "acc_per_city.rename(columns = {'severity': 'count'}, inplace = True)"
   ]
  },
  {
   "cell_type": "code",
   "execution_count": 84,
   "metadata": {},
   "outputs": [
    {
     "data": {
      "image/png": "[encoded data removed]",
      "text/plain": [
       "<Figure size 864x648 with 1 Axes>"
      ]
     },
     "metadata": {},
     "output_type": "display_data"
    }
   ],
   "source": [
    "# creating new df of acc_per_city sorted by count\n",
    "acc_city_count_25 = acc_per_city.nlargest(25, 'count').sort_values('count')\n",
    "\n",
    "# creating variables to house plot coordinates\n",
    "x = list(acc_city_count_25['count'])\n",
    "bars = list(acc_city_count_25.index)\n",
    "y_pos = np.arange(len(bars))\n",
    "\n",
    "# plot\n",
    "plt.figure(figsize = (12,9))\n",
    "plt.barh(y_pos, x, color = 'red')\n",
    "plt.yticks(y_pos, bars, color = 'black')\n",
    "plt.xticks(color = 'black')\n",
    "plt.xlabel('Accident Count', color = 'black')\n",
    "plt.ylabel('City', color = 'black')\n",
    "plt.title('Per City Accident Count', color = 'black')\n",
    "plt.show()"
   ]
  },
  {
   "cell_type": "code",
   "execution_count": 85,
   "metadata": {},
   "outputs": [],
   "source": [
    "state_acc_count = acc_df.groupby('state')[['severity']].count()\n",
    "state_acc_count.reset_index(inplace = True)"
   ]
  },
  {
   "cell_type": "code",
   "execution_count": 86,
   "metadata": {},
   "outputs": [
    {
     "data": {
      "text/html": [
       "<div>\n",
       "<style scoped>\n",
       "    .dataframe tbody tr th:only-of-type {\n",
       "        vertical-align: middle;\n",
       "    }\n",
       "\n",
       "    .dataframe tbody tr th {\n",
       "        vertical-align: top;\n",
       "    }\n",
       "\n",
       "    .dataframe thead th {\n",
       "        text-align: right;\n",
       "    }\n",
       "</style>\n",
       "<table border=\"1\" class=\"dataframe\">\n",
       "  <thead>\n",
       "    <tr style=\"text-align: right;\">\n",
       "      <th></th>\n",
       "      <th>severity</th>\n",
       "    </tr>\n",
       "    <tr>\n",
       "      <th>state</th>\n",
       "      <th></th>\n",
       "    </tr>\n",
       "  </thead>\n",
       "  <tbody>\n",
       "    <tr>\n",
       "      <th>WY</th>\n",
       "      <td>3.126679</td>\n",
       "    </tr>\n",
       "  </tbody>\n",
       "</table>\n",
       "</div>"
      ],
      "text/plain": [
       "       severity\n",
       "state          \n",
       "WY     3.126679"
      ]
     },
     "execution_count": 86,
     "metadata": {},
     "output_type": "execute_result"
    }
   ],
   "source": [
    "state_acc_mean = acc_df.groupby('state')[['severity']].mean().sort_values('severity', ascending = False)\n",
    "state_acc_mean.head(1)"
   ]
  },
  {
   "cell_type": "code",
   "execution_count": 87,
   "metadata": {},
   "outputs": [
    {
     "data": {
      "image/png": "[encoded data removed]",
      "text/plain": [
       "<Figure size 432x288 with 1 Axes>"
      ]
     },
     "metadata": {},
     "output_type": "display_data"
    }
   ],
   "source": [
    "# plot distribution of severity ratings by city\n",
    "plt.hist(state_acc_mean['severity'], color = ['red'])\n",
    "\n",
    "# set title and labels\n",
    "plt.title('Distribution of Average Severity By State')\n",
    "plt.xlabel('Average Severity Rating')\n",
    "plt.ylabel('Number of States');"
   ]
  },
  {
   "cell_type": "code",
   "execution_count": 88,
   "metadata": {},
   "outputs": [
    {
     "data": {
      "image/png": "[encoded data removed]",
      "text/plain": [
       "<Figure size 432x288 with 1 Axes>"
      ]
     },
     "metadata": {},
     "output_type": "display_data"
    }
   ],
   "source": [
    "plt.boxplot(state_acc_mean['severity'], notch = True, vert = False, showmeans = True, \n",
    "            patch_artist = True, boxprops=dict(facecolor='red', color='white'))\n",
    "\n",
    "plt.xlabel('Severity Rating (1-4)')\n",
    "plt.title('State Mean Severity Rating Distribution');\n"
   ]
  },
  {
   "cell_type": "markdown",
   "metadata": {},
   "source": [
    "______\n",
    "**Interpretation of Severity Rating by State** \n",
    "The spread for severity in each state seems to be between 2 and 2.6. There is one outlier with a severity over 3. Wyoming has one of the highest posted speed limits in the U.S. and is one of the sparsest in terms of population. Research has shown that both high speed limits and rural populations are attributes commonly found in higher severity accidents. \n",
    "\n",
    "\n",
    "______\n"
   ]
  },
  {
   "cell_type": "markdown",
   "metadata": {},
   "source": [
    "<a id='sev_city'></a>________\n",
    "## Severity Rating By City\n",
    "_________"
   ]
  },
  {
   "cell_type": "code",
   "execution_count": 89,
   "metadata": {},
   "outputs": [],
   "source": [
    "city_acc_count = acc_df.groupby('city')[['severity']].count()\n",
    "city_acc_count.reset_index(inplace = True)"
   ]
  },
  {
   "cell_type": "code",
   "execution_count": 90,
   "metadata": {
    "scrolled": true
   },
   "outputs": [
    {
     "data": {
      "text/html": [
       "<div>\n",
       "<style scoped>\n",
       "    .dataframe tbody tr th:only-of-type {\n",
       "        vertical-align: middle;\n",
       "    }\n",
       "\n",
       "    .dataframe tbody tr th {\n",
       "        vertical-align: top;\n",
       "    }\n",
       "\n",
       "    .dataframe thead th {\n",
       "        text-align: right;\n",
       "    }\n",
       "</style>\n",
       "<table border=\"1\" class=\"dataframe\">\n",
       "  <thead>\n",
       "    <tr style=\"text-align: right;\">\n",
       "      <th></th>\n",
       "      <th>severity</th>\n",
       "    </tr>\n",
       "    <tr>\n",
       "      <th>city</th>\n",
       "      <th></th>\n",
       "    </tr>\n",
       "  </thead>\n",
       "  <tbody>\n",
       "    <tr>\n",
       "      <th>Aaronsburg</th>\n",
       "      <td>2.4</td>\n",
       "    </tr>\n",
       "  </tbody>\n",
       "</table>\n",
       "</div>"
      ],
      "text/plain": [
       "            severity\n",
       "city                \n",
       "Aaronsburg       2.4"
      ]
     },
     "execution_count": 90,
     "metadata": {},
     "output_type": "execute_result"
    }
   ],
   "source": [
    "city_acc_mean = acc_df.groupby('city')[['severity']].mean()\n",
    "city_acc_mean.head(1)"
   ]
  },
  {
   "cell_type": "code",
   "execution_count": 91,
   "metadata": {},
   "outputs": [
    {
     "data": {
      "image/png": "[encoded data removed]",
      "text/plain": [
       "<Figure size 432x288 with 1 Axes>"
      ]
     },
     "metadata": {},
     "output_type": "display_data"
    }
   ],
   "source": [
    "# plot distribution of severity ratings by city\n",
    "plt.hist(city_acc_mean['severity'], color = ['red'])\n",
    "\n",
    "# set title and labels\n",
    "plt.title('Distribution of Average Severity By City')\n",
    "plt.xlabel('Average Severity Rating')\n",
    "plt.ylabel('Number of Cities');"
   ]
  },
  {
   "cell_type": "markdown",
   "metadata": {},
   "source": [
    "<a id='cross'></a>____________\n",
    "## Plot of Crossing and Severity\n",
    "A crossing refers to any crossing across roads for pedestrians, cyclists, etc. "
   ]
  },
  {
   "cell_type": "code",
   "execution_count": 92,
   "metadata": {},
   "outputs": [
    {
     "name": "stdout",
     "output_type": "stream",
     "text": [
      "There are 347254 reported crossings in this dataset comprising 8.21% of the samples.\n"
     ]
    }
   ],
   "source": [
    "total_crossing = acc_df['crossing'].sum()\n",
    "perc_crossing = round((total_crossing / len(acc_df) * 100), 2)\n",
    "print(f\"There are {total_crossing} reported crossings in this dataset comprising {perc_crossing}% of the samples.\")"
   ]
  },
  {
   "cell_type": "code",
   "execution_count": 93,
   "metadata": {},
   "outputs": [],
   "source": [
    "acc_df['crossing'] = acc_df['crossing'].map({True: 1, False: 0})"
   ]
  },
  {
   "cell_type": "code",
   "execution_count": 94,
   "metadata": {},
   "outputs": [
    {
     "data": {
      "image/png": "[encoded data removed]",
      "text/plain": [
       "<Figure size 576x432 with 1 Axes>"
      ]
     },
     "metadata": {},
     "output_type": "display_data"
    }
   ],
   "source": [
    "plt.figure(figsize=(8,6))\n",
    "sns.set(font_scale=2, palette= ['orange', 'red'])\n",
    "sns.countplot(data = acc_df, x = 'severity', hue = 'crossing')\n",
    "plt.title('Crossing and Severity')\n",
    "plt.legend(['No Crossing', 'Crossing'])\n",
    "plt.ylabel('Frequency')\n",
    "plt.xlabel('Severity')\n",
    "plt.show();"
   ]
  },
  {
   "cell_type": "markdown",
   "metadata": {},
   "source": [
    "**Analysis of Crossing and Severity Plot**\n",
    "* The vast majority of all accidents that happened at a crossing had a severity of level 2. \n",
    "___________________"
   ]
  },
  {
   "cell_type": "markdown",
   "metadata": {},
   "source": [
    "<a id='junct'></a>______\n",
    "## Plot of Junction and Severity\n",
    "A junction refers to any highway ramp, exit or entrance. "
   ]
  },
  {
   "cell_type": "code",
   "execution_count": 95,
   "metadata": {},
   "outputs": [
    {
     "name": "stdout",
     "output_type": "stream",
     "text": [
      "There are 339366 reported junctions in this dataset comprising 8.02% of the samples.\n"
     ]
    }
   ],
   "source": [
    "total_junction = acc_df['junction'].sum()\n",
    "perc_junction = round((total_junction / len(acc_df) * 100), 2)\n",
    "print(f\"There are {total_junction} reported junctions in this dataset comprising {perc_junction}% of the samples.\")"
   ]
  },
  {
   "cell_type": "code",
   "execution_count": 96,
   "metadata": {},
   "outputs": [],
   "source": [
    "acc_df['junction'] = acc_df['junction'].map({True: 1, False: 0})"
   ]
  },
  {
   "cell_type": "code",
   "execution_count": 97,
   "metadata": {},
   "outputs": [
    {
     "data": {
      "image/png": "[encoded data removed]",
      "text/plain": [
       "<Figure size 576x432 with 1 Axes>"
      ]
     },
     "metadata": {},
     "output_type": "display_data"
    }
   ],
   "source": [
    "plt.figure(figsize=(8,6))\n",
    "sns.set(font_scale=2, palette= ['orange', 'red'])\n",
    "sns.countplot(data = acc_df, x = 'severity', hue = 'junction')\n",
    "plt.title('Junction and Severity')\n",
    "plt.legend(['No Junction', 'Junction'])\n",
    "plt.ylabel('Frequency')\n",
    "plt.xlabel('Severity')\n",
    "plt.show();"
   ]
  },
  {
   "cell_type": "markdown",
   "metadata": {},
   "source": [
    "**Analysis of Junction and Severity**\n",
    "* Of all the categorical features plotted to this point junction comprises the largest percentage of values accounting for around 8% of the dataset. It appears that the majority of accidents that happen near a highway ramp, exit or entrance have a severity of level 2 and many have a severity of level 3. Very few, if any have level 1 or 4. "
   ]
  },
  {
   "cell_type": "markdown",
   "metadata": {},
   "source": [
    "_<a id='station'></a>_____\n",
    "## Plot of Station and Severity\n",
    "Refers to a public transportation station (bus, metro, etc.)"
   ]
  },
  {
   "cell_type": "code",
   "execution_count": 98,
   "metadata": {},
   "outputs": [
    {
     "name": "stdout",
     "output_type": "stream",
     "text": [
      "There are 86099 reported stations in this dataset comprising 2.04% of the samples.\n"
     ]
    }
   ],
   "source": [
    "total_station = acc_df['station'].sum()\n",
    "perc_station = round((total_station / len(acc_df) * 100), 2)\n",
    "print(f\"There are {total_station} reported stations in this dataset comprising {perc_station}% of the samples.\")"
   ]
  },
  {
   "cell_type": "code",
   "execution_count": 99,
   "metadata": {},
   "outputs": [],
   "source": [
    "acc_df['station'] = acc_df['station'].map({True: 1, False: 0})"
   ]
  },
  {
   "cell_type": "code",
   "execution_count": 100,
   "metadata": {},
   "outputs": [
    {
     "data": {
      "image/png": "[encoded data removed]",
      "text/plain": [
       "<Figure size 576x432 with 1 Axes>"
      ]
     },
     "metadata": {},
     "output_type": "display_data"
    }
   ],
   "source": [
    "plt.figure(figsize=(8,6))\n",
    "sns.set(font_scale=2, palette= ['orange', 'red'])\n",
    "sns.countplot(data = acc_df, x = 'severity', hue = 'station')\n",
    "plt.title('Station and Severity')\n",
    "plt.legend(['No Station', 'Station'])\n",
    "plt.ylabel('Frequency')\n",
    "plt.xlabel('Severity')\n",
    "plt.show();"
   ]
  },
  {
   "cell_type": "markdown",
   "metadata": {},
   "source": [
    "**Analysis of Plot of Station and Severity**\n",
    "* It appears that mostly all of the accidents that happen near a public transportation station have a severity level of 2. \n",
    "________"
   ]
  },
  {
   "cell_type": "markdown",
   "metadata": {},
   "source": [
    "_<a id='stop'></a>__________\n",
    "## Plot of Stop and Severity\n",
    "Refers to a stop sign at scene of accident. "
   ]
  },
  {
   "cell_type": "code",
   "execution_count": 101,
   "metadata": {},
   "outputs": [
    {
     "name": "stdout",
     "output_type": "stream",
     "text": [
      "There are 72135 reported stop signs in this dataset comprising 1.71% of the samples.\n"
     ]
    }
   ],
   "source": [
    "total_stop = acc_df['stop'].sum()\n",
    "perc_stop = round((total_stop / len(acc_df) * 100), 2)\n",
    "print(f\"There are {total_stop} reported stop signs in this dataset comprising {perc_stop}% of the samples.\")"
   ]
  },
  {
   "cell_type": "code",
   "execution_count": 102,
   "metadata": {},
   "outputs": [],
   "source": [
    "acc_df['stop'] = acc_df['stop'].map({True: 1, False: 0})"
   ]
  },
  {
   "cell_type": "code",
   "execution_count": 103,
   "metadata": {
    "scrolled": true
   },
   "outputs": [
    {
     "data": {
      "image/png": "[encoded data removed]",
      "text/plain": [
       "<Figure size 576x432 with 1 Axes>"
      ]
     },
     "metadata": {},
     "output_type": "display_data"
    }
   ],
   "source": [
    "plt.figure(figsize=(8,6))\n",
    "sns.set(font_scale=2, palette= ['orange', 'red'])\n",
    "sns.countplot(data = acc_df, x = 'severity', hue = 'stop')\n",
    "plt.title('Station and Stop Sign')\n",
    "plt.legend(['No Stop Sign', 'Stop Sign'])\n",
    "plt.ylabel('Frequency')\n",
    "plt.xlabel('Severity')\n",
    "plt.show();"
   ]
  },
  {
   "cell_type": "markdown",
   "metadata": {},
   "source": [
    "**Analysis of Stop Sign and Severity**\n",
    "* It appears that nearly all accidents that happen at a stop sign have a severity of level 2. I feel the amount of incidents reported at stop signs seems low. This may have to do with the integrity of the recording process but it may also be right. No way to know for sure at this point. \n",
    "________"
   ]
  },
  {
   "cell_type": "markdown",
   "metadata": {},
   "source": [
    "___<a id='signal'></a>________\n",
    "## Plot of Traffic Signal and Severity\n",
    "Refers to traffic signal on intersections present at accident site. "
   ]
  },
  {
   "cell_type": "code",
   "execution_count": 104,
   "metadata": {},
   "outputs": [
    {
     "name": "stdout",
     "output_type": "stream",
     "text": [
      "There are 727831 reported traffic signals in this dataset comprising 17.21% of the samples.\n"
     ]
    }
   ],
   "source": [
    "total_signal = acc_df['traffic_signal'].sum()\n",
    "perc_signal = round((total_signal / len(acc_df) * 100), 2)\n",
    "print(f\"There are {total_signal} reported traffic signals in this dataset comprising {perc_signal}% of the samples.\")"
   ]
  },
  {
   "cell_type": "code",
   "execution_count": 105,
   "metadata": {},
   "outputs": [],
   "source": [
    "acc_df['traffic_signal'] = acc_df['traffic_signal'].map({True: 1, False: 0})"
   ]
  },
  {
   "cell_type": "code",
   "execution_count": 106,
   "metadata": {},
   "outputs": [
    {
     "data": {
      "image/png": "[encoded data removed]",
      "text/plain": [
       "<Figure size 576x432 with 1 Axes>"
      ]
     },
     "metadata": {},
     "output_type": "display_data"
    }
   ],
   "source": [
    "plt.figure(figsize=(8,6))\n",
    "sns.set(font_scale=2, palette= ['orange', 'red'])\n",
    "sns.countplot(data = acc_df, x = 'severity', hue = 'traffic_signal')\n",
    "plt.title('Station and Traffic Signal')\n",
    "plt.legend(['No Traffic Signal', 'Traffic Signal'])\n",
    "plt.ylabel('Frequency')\n",
    "plt.xlabel('Severity')\n",
    "plt.show();"
   ]
  },
  {
   "cell_type": "markdown",
   "metadata": {},
   "source": [
    "**Analysis of Plot of Traffic Singal and Severity**\n",
    "\n",
    "Traffic signal has been the largest of the categorical feature variables analayzed against severity to this point. The presence of a traffic signal may reduce the severity of an accident slightly as you can see the proportion of level 2 and level 3 accidents that do not have a traffic signal seems to be smaller than the proportion of level 2 over level 3 accidents that occur when a traffic signal is present. This signifies a benefit to having traffic signals present at an intersection. "
   ]
  },
  {
   "cell_type": "markdown",
   "metadata": {},
   "source": [
    "<a id='side_plot'></a>______\n",
    "## Bar Plot Side of Road\n",
    "______"
   ]
  },
  {
   "cell_type": "code",
   "execution_count": 107,
   "metadata": {},
   "outputs": [],
   "source": [
    "# creating df with just side of road count\n",
    "side_df = acc_df.groupby('side')[['severity']].count()\n",
    "side_df.rename(columns = {'severity': 'count'}, inplace = True)"
   ]
  },
  {
   "cell_type": "code",
   "execution_count": 108,
   "metadata": {},
   "outputs": [],
   "source": [
    "# dropping unlabeled row with only 2 values. \n",
    "side_df.drop(' ', inplace = True)\n",
    "side_df.reset_index(inplace = True)"
   ]
  },
  {
   "cell_type": "code",
   "execution_count": 109,
   "metadata": {},
   "outputs": [
    {
     "data": {
      "text/plain": [
       "0     764902\n",
       "1    3464491\n",
       "Name: count, dtype: int64"
      ]
     },
     "execution_count": 109,
     "metadata": {},
     "output_type": "execute_result"
    }
   ],
   "source": [
    "side_df['count']"
   ]
  },
  {
   "cell_type": "code",
   "execution_count": 110,
   "metadata": {
    "scrolled": true
   },
   "outputs": [
    {
     "data": {
      "image/png": "[encoded data removed]",
      "text/plain": [
       "<Figure size 432x288 with 1 Axes>"
      ]
     },
     "metadata": {},
     "output_type": "display_data"
    }
   ],
   "source": [
    "# setting up x and height \n",
    "x = list(side_df['side'])\n",
    "height = side_df['count']\n",
    "\n",
    "# plotting\n",
    "plt.bar(x, height = height, color = ['orange', 'red'])\n",
    "\n",
    "# setting title and labels\n",
    "plt.title('Accident by Side of Road')\n",
    "plt.xlabel('Side')\n",
    "plt.ylabel('Count Accidents in Millions');\n"
   ]
  },
  {
   "cell_type": "markdown",
   "metadata": {},
   "source": [
    "<a id='other'></a>___________\n",
    "## Categorical Features that do not offer enough data to analyze"
   ]
  },
  {
   "cell_type": "markdown",
   "metadata": {},
   "source": [
    "\n",
    "**Give-Way Feature**\n",
    "Give-way refers to a sign on road which shows priority of passing.  \n"
   ]
  },
  {
   "cell_type": "code",
   "execution_count": 111,
   "metadata": {},
   "outputs": [
    {
     "name": "stdout",
     "output_type": "stream",
     "text": [
      "There are 13186 reported give-ways in this dataset comprising 0.31% of the samples.\n"
     ]
    }
   ],
   "source": [
    "total_giveway = acc_df['give_way'].sum()\n",
    "perc_giveway = round((total_giveway / len(acc_df) * 100), 2)\n",
    "print(f\"There are {total_giveway} reported give-ways in this dataset comprising {perc_giveway}% of the samples.\")"
   ]
  },
  {
   "cell_type": "markdown",
   "metadata": {},
   "source": [
    "**Amenity Feature**\n",
    "In the context of this data an ammenity refers to a particular place such as restaurant, library, college, bar, etc. where an accident occurred.  "
   ]
  },
  {
   "cell_type": "code",
   "execution_count": 112,
   "metadata": {},
   "outputs": [
    {
     "name": "stdout",
     "output_type": "stream",
     "text": [
      "There are 49401 reported amenties in this dataset comprising 1.17% of the samples.\n"
     ]
    }
   ],
   "source": [
    "total_amenity = acc_df['amenity'].sum()\n",
    "perc_amenity = round((total_amenity / len(acc_df) * 100), 2)\n",
    "print(f\"There are {total_amenity} reported amenties in this dataset comprising {perc_amenity}% of the samples.\")"
   ]
  },
  {
   "cell_type": "markdown",
   "metadata": {},
   "source": [
    "**Bump Feature**Refers to speed bump or hump to reduce the speed. "
   ]
  },
  {
   "cell_type": "code",
   "execution_count": 113,
   "metadata": {},
   "outputs": [
    {
     "name": "stdout",
     "output_type": "stream",
     "text": [
      "There are 861 reported bumps in this dataset comprising 0.02% of the samples.\n"
     ]
    }
   ],
   "source": [
    "total_bump = acc_df['bump'].sum()\n",
    "perc_bump = round((total_bump / len(acc_df) * 100), 2)\n",
    "print(f\"There are {total_bump} reported bumps in this dataset comprising {perc_bump}% of the samples.\")"
   ]
  },
  {
   "cell_type": "markdown",
   "metadata": {},
   "source": [
    "**No-exit Feature**\n",
    "No-exit indicates there is no possibility to travel further by any transport mode along a formal path or route. "
   ]
  },
  {
   "cell_type": "code",
   "execution_count": 114,
   "metadata": {},
   "outputs": [
    {
     "name": "stdout",
     "output_type": "stream",
     "text": [
      "There are 5967 reported no-exits in this dataset comprising 0.14% of the samples.\n"
     ]
    }
   ],
   "source": [
    "total_noexit = acc_df['no_exit'].sum()\n",
    "perc_noexit = round((total_noexit / len(acc_df) * 100), 2)\n",
    "print(f\"There are {total_noexit} reported no-exits in this dataset comprising {perc_noexit}% of the samples.\")"
   ]
  },
  {
   "cell_type": "markdown",
   "metadata": {},
   "source": [
    "**Railway Feature**Indicates the presence of railways near accident. "
   ]
  },
  {
   "cell_type": "code",
   "execution_count": 115,
   "metadata": {},
   "outputs": [
    {
     "name": "stdout",
     "output_type": "stream",
     "text": [
      "There are 38485 reported railways in this dataset comprising 0.91% of the samples.\n"
     ]
    }
   ],
   "source": [
    "total_rail = acc_df['railway'].sum()\n",
    "perc_rail = round((total_rail / len(acc_df) * 100), 2)\n",
    "print(f\"There are {total_rail} reported railways in this dataset comprising {perc_rail}% of the samples.\")"
   ]
  },
  {
   "cell_type": "markdown",
   "metadata": {},
   "source": [
    "**Give-Way Feature**\n",
    "Give-way is a sign on road which shows priority of passing. \n"
   ]
  },
  {
   "cell_type": "code",
   "execution_count": 116,
   "metadata": {},
   "outputs": [
    {
     "name": "stdout",
     "output_type": "stream",
     "text": [
      "There are 13186 reported give-ways in this dataset comprising 0.31% of the samples.\n"
     ]
    }
   ],
   "source": [
    "total_giveway = acc_df['give_way'].sum()\n",
    "perc_giveway = round((total_giveway / len(acc_df) * 100), 2)\n",
    "print(f\"There are {total_giveway} reported give-ways in this dataset comprising {perc_giveway}% of the samples.\")"
   ]
  },
  {
   "cell_type": "markdown",
   "metadata": {},
   "source": [
    "**Roundabout Feature**\n",
    "Refers to a circular road junction."
   ]
  },
  {
   "cell_type": "code",
   "execution_count": 117,
   "metadata": {},
   "outputs": [
    {
     "name": "stdout",
     "output_type": "stream",
     "text": [
      "There are 237 reported roundabout in this dataset comprising 0.01% of the samples.\n"
     ]
    }
   ],
   "source": [
    "total_rbout = acc_df['roundabout'].sum()\n",
    "perc_rbout = round((total_rbout / len(acc_df) * 100), 2)\n",
    "print(f\"There are {total_rbout} reported roundabout in this dataset comprising {perc_rbout}% of the samples.\")"
   ]
  },
  {
   "cell_type": "markdown",
   "metadata": {},
   "source": [
    "**Traffic Calming Feature** Refers to any means for slowing down traffic speed. This is interesting feature since bump is also a feature and bump would fall under this category. Maybe it would efficeint to combine these two features. "
   ]
  },
  {
   "cell_type": "code",
   "execution_count": 118,
   "metadata": {},
   "outputs": [
    {
     "name": "stdout",
     "output_type": "stream",
     "text": [
      "There are 2121 reported traffic calming mechanisms in this dataset comprising 0.05% of the samples.\n"
     ]
    }
   ],
   "source": [
    "total_calm = acc_df['traffic_calming'].sum()\n",
    "perc_calm = round((total_calm / len(acc_df) * 100), 2)\n",
    "print(f\"There are {total_calm} reported traffic calming mechanisms in this dataset comprising {perc_calm}% of the samples.\")"
   ]
  },
  {
   "cell_type": "markdown",
   "metadata": {},
   "source": [
    "**Turning Loop Feature**\n",
    "Indicates a widened area of a highway with a non-traverable island for turning around. "
   ]
  },
  {
   "cell_type": "code",
   "execution_count": 119,
   "metadata": {},
   "outputs": [
    {
     "name": "stdout",
     "output_type": "stream",
     "text": [
      "There are 0 reported turning loops in this dataset comprising 0.0% of the samples.\n"
     ]
    }
   ],
   "source": [
    "total_loop = acc_df['turning_loop'].sum()\n",
    "perc_loop = round((total_loop / len(acc_df) * 100), 2)\n",
    "print(f\"There are {total_loop} reported turning loops in this dataset comprising {perc_loop}% of the samples.\")"
   ]
  },
  {
   "cell_type": "markdown",
   "metadata": {},
   "source": [
    "____________________"
   ]
  },
  {
   "cell_type": "markdown",
   "metadata": {},
   "source": [
    "<a id='kep_user'></a>____________________\n",
    "# Kepler.gl Installation and Usage\n",
    "\n",
    "Kepler.gl is a powerful open source  and interctive geospatial analysis tool for large-scale data sets. It can be used in the web at kepler.gl and also within Jupyter Notebook.\n",
    "\n",
    "### Using Kepler.gl via web\n",
    "\n",
    "https://kepler.gl/\n",
    "\n",
    "### Using Kepler.gl via Jupyter\n",
    "\n",
    "Using Kepler.gl in Jupyter Notebook Documentation:\n",
    "https://docs.kepler.gl/docs/keplergl-jupyter\n",
    "\n",
    "An explanatory Medium article walking through Keppler in Jupyter from installation to visualization:\n",
    "https://medium.com/vis-gl/introducing-kepler-gl-for-jupyter-f72d41659fbf\n",
    "\n",
    "**Install Kepler.gl**\n",
    "\n",
    "`pip install keplergl`\n",
    "\n",
    "**If using Jupter Lab you also need to install the JupyterLab extension.**\n",
    "\n",
    "* Jupyter also requires node greater than verion 10.15.0\n",
    "* With Homebrew installed on Mac you can install node this way. \n",
    "\n",
    "`brew install node@10`\n",
    "\n",
    "**Finally, install Jupyter Lab extension**\n",
    "\n",
    "`jupyter labextenstion install @jupyter-widgets/jupyterlab-manager keplergl-jupyter`\n",
    "* Note: We had difficulty getting Keppler to work within Jupyter Lab. After switching to Jupyter Notebook it deployed correctly. \n",
    "\n",
    "\n",
    "**Kepler.gl Jupyter Notebook Dependencies**\n",
    "\n",
    "* Python greater than version 2\n",
    "* ipywidgets greter than version 7\n",
    "\n",
    "\n",
    "<a id='geo_user'></a>_______________________\n",
    "\n",
    "# Geopandas Installation and Usage\n",
    "\n",
    "GeoPandas is an open source project to make working with geospatial data in python easier. GeoPandas extends the datatypes used by pandas to allow spatial operations on geometric types. Geometric operations are performed by shapely. Geopandas further depends on fiona for file access and descartes and matplotlib for plotting. Like it's name suggests, Geopandas is designed to work similarly to the Pandas library but more specifically for Geospatial data. \n",
    "\n",
    "**Geopandas User Guide**\n",
    "https://geopandas.org/\n",
    "\n",
    "**Geopandas Examples Gallery**\n",
    "https://geopandas.org/gallery/index.html\n",
    "\n",
    "**Geopandas Install Documentation:**\n",
    "\n",
    "https://geopandas.org/install.html\n",
    "\n",
    "**install Geopandas**\n",
    "\n",
    "`conda install --channel conda-forge geopandas`\n",
    "\n",
    "or \n",
    "\n",
    "`conda install --channel conda-forge geopandas`\n",
    "\n",
    "or \n",
    "\n",
    "`pip install geopandas`\n",
    "\n",
    "**See Geopandas install documentation above for more information on each install method and for alternative methods of install directly from Github.**\n",
    "\n",
    "**GEOPANDAS DEPENDENCIES** Also found in the above Geopandas documentation. \n",
    "\n",
    "* numpy\n",
    "* pandas (version 0.23.4 or later)\n",
    "* shapely (interface to GEOS)\n",
    "* fiona (interface to GDAL)\n",
    "* pyproj (interface to PROJ; version 2.2.0 or later)\n",
    "\n",
    "**See install link above for further, optional dependencies:**\n",
    "\n",
    "\n"
   ]
  }
 ],
 "metadata": {
  "kernelspec": {
   "display_name": "Python 3",
   "language": "python",
   "name": "python3"
  },
  "language_info": {
   "codemirror_mode": {
    "name": "ipython",
    "version": 3
   },
   "file_extension": ".py",
   "mimetype": "text/x-python",
   "name": "python",
   "nbconvert_exporter": "python",
   "pygments_lexer": "ipython3",
   "version": "3.8.3"
  }
 },
 "nbformat": 4,
 "nbformat_minor": 4
}
