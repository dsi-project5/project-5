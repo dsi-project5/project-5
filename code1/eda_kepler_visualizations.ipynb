{
 "cells": [
  {
   "cell_type": "code",
   "execution_count": 1,
   "metadata": {},
   "outputs": [],
   "source": [
    "# Standard Imports\n",
    "import pandas as pd\n",
    "import numpy as np\n",
    "\n",
    "# Plotting Imports\n",
    "import matplotlib.pyplot as plt\n",
    "%matplotlib inline\n",
    "import seaborn as sns\n",
    "sns.set(style = 'darkgrid')\n",
    "\n",
    "# Geospatial Imports\n",
    "import geopandas as gpd\n",
    "from keplergl import KeplerGl"
   ]
  },
  {
   "cell_type": "markdown",
   "metadata": {},
   "source": [
    "_________\n",
    "**Reading in Accident Data**\n",
    "__________"
   ]
  },
  {
   "cell_type": "code",
   "execution_count": 3,
   "metadata": {},
   "outputs": [
    {
     "data": {
      "text/plain": [
       "1"
      ]
     },
     "execution_count": 3,
     "metadata": {},
     "output_type": "execute_result"
    }
   ],
   "source": [
    "# Read in Dataframe with All the accident data\n",
    "acc_df = pd.read_csv('../data/US_Accidents_Dec20.csv')\n",
    "len(acc_df.head(1))"
   ]
  },
  {
   "cell_type": "code",
   "execution_count": 5,
   "metadata": {},
   "outputs": [],
   "source": [
    "# lower and eliminate spaces in column names\n",
    "acc_df.columns = acc_df.columns.str.lower().str.replace(' ', '_')"
   ]
  },
  {
   "cell_type": "code",
   "execution_count": 6,
   "metadata": {},
   "outputs": [],
   "source": [
    "# dropping unneccessary columns or columns with lots of nulls\n",
    "acc_df.drop(columns = ['id','source','end_lat','end_lng',\n",
    "                       'description','number','street',\n",
    "                       'country','timezone','weather_timestamp', \n",
    "                       'airport_code', 'zipcode', 'tmc'], inplace = True)"
   ]
  },
  {
   "cell_type": "code",
   "execution_count": 7,
   "metadata": {},
   "outputs": [
    {
     "data": {
      "text/plain": [
       "Index(['severity', 'start_time', 'end_time', 'start_lat', 'start_lng',\n",
       "       'distance(mi)', 'side', 'city', 'county', 'state', 'temperature(f)',\n",
       "       'wind_chill(f)', 'humidity(%)', 'pressure(in)', 'visibility(mi)',\n",
       "       'wind_direction', 'wind_speed(mph)', 'precipitation(in)',\n",
       "       'weather_condition', 'amenity', 'bump', 'crossing', 'give_way',\n",
       "       'junction', 'no_exit', 'railway', 'roundabout', 'station', 'stop',\n",
       "       'traffic_calming', 'traffic_signal', 'turning_loop', 'sunrise_sunset',\n",
       "       'civil_twilight', 'nautical_twilight', 'astronomical_twilight'],\n",
       "      dtype='object')"
      ]
     },
     "execution_count": 7,
     "metadata": {},
     "output_type": "execute_result"
    }
   ],
   "source": [
    "acc_df.columns"
   ]
  },
  {
   "cell_type": "markdown",
   "metadata": {},
   "source": [
    "# State Data DF Creation"
   ]
  },
  {
   "cell_type": "markdown",
   "metadata": {},
   "source": [
    "__________________\n",
    "**Reading in Population Density Data**\n",
    "_______________"
   ]
  },
  {
   "cell_type": "code",
   "execution_count": 69,
   "metadata": {
    "scrolled": true
   },
   "outputs": [],
   "source": [
    "pop_dense_cnty = pd.read_csv('../data/pop_density_county.csv', index_col=0)"
   ]
  },
  {
   "cell_type": "code",
   "execution_count": 70,
   "metadata": {},
   "outputs": [],
   "source": [
    "# lower and eliminate spaces in column names\n",
    "pop_dense_cnty.columns = pop_dense_cnty.columns.str.lower().str.replace(' ', '_')"
   ]
  },
  {
   "cell_type": "code",
   "execution_count": 71,
   "metadata": {},
   "outputs": [
    {
     "data": {
      "text/html": [
       "<div>\n",
       "<style scoped>\n",
       "    .dataframe tbody tr th:only-of-type {\n",
       "        vertical-align: middle;\n",
       "    }\n",
       "\n",
       "    .dataframe tbody tr th {\n",
       "        vertical-align: top;\n",
       "    }\n",
       "\n",
       "    .dataframe thead th {\n",
       "        text-align: right;\n",
       "    }\n",
       "</style>\n",
       "<table border=\"1\" class=\"dataframe\">\n",
       "  <thead>\n",
       "    <tr style=\"text-align: right;\">\n",
       "      <th></th>\n",
       "      <th>county_name</th>\n",
       "      <th>density_mi</th>\n",
       "    </tr>\n",
       "    <tr>\n",
       "      <th>Rank</th>\n",
       "      <th></th>\n",
       "      <th></th>\n",
       "    </tr>\n",
       "  </thead>\n",
       "  <tbody>\n",
       "    <tr>\n",
       "      <th>1</th>\n",
       "      <td>New York</td>\n",
       "      <td>69,468</td>\n",
       "    </tr>\n",
       "  </tbody>\n",
       "</table>\n",
       "</div>"
      ],
      "text/plain": [
       "     county_name density_mi\n",
       "Rank                       \n",
       "1       New York     69,468"
      ]
     },
     "execution_count": 71,
     "metadata": {},
     "output_type": "execute_result"
    }
   ],
   "source": [
    "pop_dense_cnty.head(1)"
   ]
  },
  {
   "cell_type": "markdown",
   "metadata": {},
   "source": [
    "_________\n",
    "**Read in License Data**, Format into DF, Prepare for Concatenation\n",
    "________"
   ]
  },
  {
   "cell_type": "code",
   "execution_count": 72,
   "metadata": {},
   "outputs": [],
   "source": [
    "# Read in Dataframe with data on driver's licensing in each state\n",
    "license_df = pd.read_csv('../data/licensed_drivers_by_state.csv')"
   ]
  },
  {
   "cell_type": "code",
   "execution_count": 73,
   "metadata": {},
   "outputs": [
    {
     "data": {
      "text/html": [
       "<div>\n",
       "<style scoped>\n",
       "    .dataframe tbody tr th:only-of-type {\n",
       "        vertical-align: middle;\n",
       "    }\n",
       "\n",
       "    .dataframe tbody tr th {\n",
       "        vertical-align: top;\n",
       "    }\n",
       "\n",
       "    .dataframe thead th {\n",
       "        text-align: right;\n",
       "    }\n",
       "</style>\n",
       "<table border=\"1\" class=\"dataframe\">\n",
       "  <thead>\n",
       "    <tr style=\"text-align: right;\">\n",
       "      <th></th>\n",
       "      <th>STATE</th>\n",
       "      <th>UNDER</th>\n",
       "      <th>20-24</th>\n",
       "      <th>25-29</th>\n",
       "      <th>30-34</th>\n",
       "      <th>35-39</th>\n",
       "      <th>40-44</th>\n",
       "      <th>45-49</th>\n",
       "      <th>50-54</th>\n",
       "      <th>55-59</th>\n",
       "      <th>60-64</th>\n",
       "      <th>65-69</th>\n",
       "      <th>70-74</th>\n",
       "      <th>75-79</th>\n",
       "      <th>80-84</th>\n",
       "      <th>OVER</th>\n",
       "      <th>total_drivers</th>\n",
       "    </tr>\n",
       "  </thead>\n",
       "  <tbody>\n",
       "    <tr>\n",
       "      <th>0</th>\n",
       "      <td>Alabama</td>\n",
       "      <td>219,648</td>\n",
       "      <td>327,163</td>\n",
       "      <td>347,679</td>\n",
       "      <td>320,583</td>\n",
       "      <td>307,331</td>\n",
       "      <td>292,967</td>\n",
       "      <td>311,675</td>\n",
       "      <td>309,970</td>\n",
       "      <td>339,239</td>\n",
       "      <td>327,915</td>\n",
       "      <td>286,986</td>\n",
       "      <td>242,004</td>\n",
       "      <td>168,934</td>\n",
       "      <td>113,483</td>\n",
       "      <td>110,574</td>\n",
       "      <td>4,026,151</td>\n",
       "    </tr>\n",
       "  </tbody>\n",
       "</table>\n",
       "</div>"
      ],
      "text/plain": [
       "     STATE    UNDER    20-24    25-29    30-34    35-39    40-44    45-49  \\\n",
       "0  Alabama  219,648  327,163  347,679  320,583  307,331  292,967  311,675   \n",
       "\n",
       "     50-54    55-59    60-64    65-69    70-74    75-79    80-84     OVER  \\\n",
       "0  309,970  339,239  327,915  286,986  242,004  168,934  113,483  110,574   \n",
       "\n",
       "  total_drivers  \n",
       "0     4,026,151  "
      ]
     },
     "execution_count": 73,
     "metadata": {},
     "output_type": "execute_result"
    }
   ],
   "source": [
    "license_df.head(1)"
   ]
  },
  {
   "cell_type": "code",
   "execution_count": 74,
   "metadata": {},
   "outputs": [],
   "source": [
    "# lower and eliminate spaces in column names for license_df\n",
    "license_df.columns = license_df.columns.str.lower().str.replace(' ', '_')"
   ]
  },
  {
   "cell_type": "code",
   "execution_count": 75,
   "metadata": {},
   "outputs": [],
   "source": [
    "# eliminating commas from total drivers column\n",
    "license_df['total_drivers'] = license_df['total_drivers'].str.replace(',', '')\n",
    "# converting total_drivers column to integer type\n",
    "license_df['total_drivers'] = license_df['total_drivers'].astype(int)"
   ]
  },
  {
   "cell_type": "code",
   "execution_count": 76,
   "metadata": {},
   "outputs": [],
   "source": [
    "# creating df with only state column and total drivers columns\n",
    "license_df = license_df.loc[:, ['state', 'total_drivers']]"
   ]
  },
  {
   "cell_type": "code",
   "execution_count": 77,
   "metadata": {},
   "outputs": [],
   "source": [
    "license_df['state'] = license_df['state'].str.lower()"
   ]
  },
  {
   "cell_type": "code",
   "execution_count": 78,
   "metadata": {},
   "outputs": [],
   "source": [
    "# replacing dist of col. with district of columbia so I can concatenate with other dfs\n",
    "license_df['state'].replace('dist. of col. ', 'district of columbia', inplace = True)"
   ]
  },
  {
   "cell_type": "code",
   "execution_count": 79,
   "metadata": {},
   "outputs": [],
   "source": [
    "# setting the state to index and dropping alaska and hawaii since they're not in accident data\n",
    "license_df.set_index('state', inplace = True)\n",
    "license_df.drop(['alaska', 'hawaii'], inplace = True)"
   ]
  },
  {
   "cell_type": "code",
   "execution_count": 80,
   "metadata": {},
   "outputs": [
    {
     "data": {
      "text/plain": [
       "(49, 1)"
      ]
     },
     "execution_count": 80,
     "metadata": {},
     "output_type": "execute_result"
    }
   ],
   "source": [
    "license_df.shape"
   ]
  },
  {
   "cell_type": "code",
   "execution_count": 81,
   "metadata": {},
   "outputs": [],
   "source": [
    "# sorting index alphabetically and ensuring proper format\n",
    "license_df.sort_index(inplace = True)\n",
    "license_df.index = license_df.index.str.lower().str.strip()"
   ]
  },
  {
   "cell_type": "markdown",
   "metadata": {},
   "source": [
    "______\n",
    "**Read in Shape Files**, Format into DF and Prepare for Concatenation\n",
    "______"
   ]
  },
  {
   "cell_type": "code",
   "execution_count": 174,
   "metadata": {},
   "outputs": [],
   "source": [
    "national_shape = gpd.read_file('../data1/cb_2018_us_state_500k/cb_2018_us_state_500k.shp')"
   ]
  },
  {
   "cell_type": "code",
   "execution_count": 83,
   "metadata": {},
   "outputs": [],
   "source": [
    "# Dropping island territories\n",
    "national_shape.drop([13, 27, 37, 38, 42, 44, 45], inplace = True)"
   ]
  },
  {
   "cell_type": "code",
   "execution_count": 84,
   "metadata": {},
   "outputs": [],
   "source": [
    "# lower and eliminate spaces in column names\n",
    "national_shape.columns = national_shape.columns.str.lower().str.replace(' ', '_')"
   ]
  },
  {
   "cell_type": "code",
   "execution_count": 85,
   "metadata": {},
   "outputs": [],
   "source": [
    "# converting state name column to lowercase\n",
    "national_shape['name'] = national_shape['name'].str.lower()"
   ]
  },
  {
   "cell_type": "code",
   "execution_count": 86,
   "metadata": {},
   "outputs": [
    {
     "data": {
      "text/plain": [
       "(49, 10)"
      ]
     },
     "execution_count": 86,
     "metadata": {},
     "output_type": "execute_result"
    }
   ],
   "source": [
    "national_shape.shape"
   ]
  },
  {
   "cell_type": "code",
   "execution_count": 87,
   "metadata": {},
   "outputs": [],
   "source": [
    "# Setting index to name of state to prepare for concatenation\n",
    "national_shape.set_index(keys = 'name', inplace = True)"
   ]
  },
  {
   "cell_type": "code",
   "execution_count": 88,
   "metadata": {},
   "outputs": [],
   "source": [
    "# Sorting index alphabetically and ensuring proper format\n",
    "national_shape.sort_index(inplace = True)\n",
    "national_shape.index = national_shape.index.str.lower().str.strip()"
   ]
  },
  {
   "cell_type": "markdown",
   "metadata": {},
   "source": [
    "________\n",
    "**Create State Accident Counts**, Form into DF and Prepare for Concatenation\n",
    "________"
   ]
  },
  {
   "cell_type": "code",
   "execution_count": 89,
   "metadata": {
    "scrolled": true
   },
   "outputs": [
    {
     "data": {
      "text/html": [
       "<div>\n",
       "<style scoped>\n",
       "    .dataframe tbody tr th:only-of-type {\n",
       "        vertical-align: middle;\n",
       "    }\n",
       "\n",
       "    .dataframe tbody tr th {\n",
       "        vertical-align: top;\n",
       "    }\n",
       "\n",
       "    .dataframe thead th {\n",
       "        text-align: right;\n",
       "    }\n",
       "</style>\n",
       "<table border=\"1\" class=\"dataframe\">\n",
       "  <thead>\n",
       "    <tr style=\"text-align: right;\">\n",
       "      <th></th>\n",
       "      <th>severity</th>\n",
       "    </tr>\n",
       "    <tr>\n",
       "      <th>state</th>\n",
       "      <th></th>\n",
       "    </tr>\n",
       "  </thead>\n",
       "  <tbody>\n",
       "    <tr>\n",
       "      <th>AL</th>\n",
       "      <td>56989</td>\n",
       "    </tr>\n",
       "  </tbody>\n",
       "</table>\n",
       "</div>"
      ],
      "text/plain": [
       "       severity\n",
       "state          \n",
       "AL        56989"
      ]
     },
     "execution_count": 89,
     "metadata": {},
     "output_type": "execute_result"
    }
   ],
   "source": [
    "# Grouping acc_df by state and getting count of all accidents by state\n",
    "# using severity column to get counts but I will change it to a column called counts later. \n",
    "state_count = acc_df.groupby('state').count()[['severity']]\n",
    "state_count.head(1)"
   ]
  },
  {
   "cell_type": "code",
   "execution_count": 90,
   "metadata": {},
   "outputs": [],
   "source": [
    "# resetting index to numeric so I can map full state names to abbreviated names\n",
    "state_count = state_count.reset_index()"
   ]
  },
  {
   "cell_type": "code",
   "execution_count": 91,
   "metadata": {},
   "outputs": [
    {
     "data": {
      "text/plain": [
       "RangeIndex(start=0, stop=49, step=1)"
      ]
     },
     "execution_count": 91,
     "metadata": {},
     "output_type": "execute_result"
    }
   ],
   "source": [
    "state_count.index"
   ]
  },
  {
   "cell_type": "code",
   "execution_count": 92,
   "metadata": {},
   "outputs": [],
   "source": [
    "state_remap = {'AL': 'alabama', 'AR': 'arkansas', 'AZ': 'arizona', 'CA': 'california', 'CO': 'colorado',\n",
    " 'CT': 'connecticut', 'DC': 'district of columbia', 'DE': 'delaware', 'FL': 'florida',\n",
    " 'GA': 'georgia', 'IA': 'iowa', 'ID': 'idaho', 'IL': 'illinois',\n",
    " 'IN': 'indiana', 'KS': 'kansas', 'KY': 'kentucky', 'LA': 'louisiana',\n",
    " 'MA': 'massachusetts', 'MD': 'maryland', 'ME': 'maine', 'MI': 'michigan',\n",
    " 'MN': 'minnesota', 'MO': 'missouri', 'MS': 'mississippi', 'MT': 'montana',\n",
    " 'NC': 'north carolina', 'ND': 'north dakota', 'NE': 'nebraska',\n",
    " 'NH': 'new hampshire', 'NJ': 'new jersey', 'NM': 'new mexico', 'NV': 'nevada',\n",
    " 'NY': 'new york', 'OH': 'ohio', 'OK': 'oklahoma', 'OR': 'oregon',\n",
    " 'PA': 'pennsylvania', 'RI': 'rhode island', 'SC': 'south carolina',\n",
    " 'SD': 'south dakota', 'TN': 'tennessee', 'TX': 'texas', 'UT': 'utah',\n",
    " 'VA': 'virginia', 'VT': 'vermont', 'WA': 'washington',\n",
    " 'WI': 'wisconsin', 'WV': 'west virginia', 'WY':  'wyoming'}"
   ]
  },
  {
   "cell_type": "code",
   "execution_count": 93,
   "metadata": {},
   "outputs": [],
   "source": [
    "# mapping full names to abbreviated state names\n",
    "state_count['state'] = state_count['state'].map(state_remap)"
   ]
  },
  {
   "cell_type": "code",
   "execution_count": 94,
   "metadata": {},
   "outputs": [],
   "source": [
    "# renaming id column to count.\n",
    "state_count.rename(columns = {'severity': 'count', }, inplace = True)"
   ]
  },
  {
   "cell_type": "code",
   "execution_count": 95,
   "metadata": {},
   "outputs": [
    {
     "data": {
      "text/html": [
       "<div>\n",
       "<style scoped>\n",
       "    .dataframe tbody tr th:only-of-type {\n",
       "        vertical-align: middle;\n",
       "    }\n",
       "\n",
       "    .dataframe tbody tr th {\n",
       "        vertical-align: top;\n",
       "    }\n",
       "\n",
       "    .dataframe thead th {\n",
       "        text-align: right;\n",
       "    }\n",
       "</style>\n",
       "<table border=\"1\" class=\"dataframe\">\n",
       "  <thead>\n",
       "    <tr style=\"text-align: right;\">\n",
       "      <th></th>\n",
       "      <th>state</th>\n",
       "      <th>count</th>\n",
       "    </tr>\n",
       "  </thead>\n",
       "  <tbody>\n",
       "    <tr>\n",
       "      <th>0</th>\n",
       "      <td>alabama</td>\n",
       "      <td>56989</td>\n",
       "    </tr>\n",
       "  </tbody>\n",
       "</table>\n",
       "</div>"
      ],
      "text/plain": [
       "     state  count\n",
       "0  alabama  56989"
      ]
     },
     "execution_count": 95,
     "metadata": {},
     "output_type": "execute_result"
    }
   ],
   "source": [
    "state_count.head(1)"
   ]
  },
  {
   "cell_type": "code",
   "execution_count": 96,
   "metadata": {},
   "outputs": [],
   "source": [
    "# resetting index to state so that it can be concatenated with license data\n",
    "state_count.set_index(keys = 'state', inplace = True)"
   ]
  },
  {
   "cell_type": "code",
   "execution_count": 97,
   "metadata": {},
   "outputs": [],
   "source": [
    "# sorting index alphabetically and ensuring proper format\n",
    "state_count.sort_index(inplace = True)\n",
    "state_count.index = state_count.index.str.lower().str.strip()"
   ]
  },
  {
   "cell_type": "code",
   "execution_count": 98,
   "metadata": {},
   "outputs": [
    {
     "data": {
      "text/plain": [
       "(49, 1)"
      ]
     },
     "execution_count": 98,
     "metadata": {},
     "output_type": "execute_result"
    }
   ],
   "source": [
    "state_count.shape"
   ]
  },
  {
   "cell_type": "markdown",
   "metadata": {},
   "source": [
    "**Read in State Lat and Long**"
   ]
  },
  {
   "cell_type": "code",
   "execution_count": 99,
   "metadata": {},
   "outputs": [
    {
     "data": {
      "text/html": [
       "<div>\n",
       "<style scoped>\n",
       "    .dataframe tbody tr th:only-of-type {\n",
       "        vertical-align: middle;\n",
       "    }\n",
       "\n",
       "    .dataframe tbody tr th {\n",
       "        vertical-align: top;\n",
       "    }\n",
       "\n",
       "    .dataframe thead th {\n",
       "        text-align: right;\n",
       "    }\n",
       "</style>\n",
       "<table border=\"1\" class=\"dataframe\">\n",
       "  <thead>\n",
       "    <tr style=\"text-align: right;\">\n",
       "      <th></th>\n",
       "      <th>lat</th>\n",
       "      <th>long</th>\n",
       "    </tr>\n",
       "    <tr>\n",
       "      <th>State</th>\n",
       "      <th></th>\n",
       "      <th></th>\n",
       "    </tr>\n",
       "  </thead>\n",
       "  <tbody>\n",
       "    <tr>\n",
       "      <th>alabama</th>\n",
       "      <td>32.31823</td>\n",
       "      <td>-86.902298</td>\n",
       "    </tr>\n",
       "  </tbody>\n",
       "</table>\n",
       "</div>"
      ],
      "text/plain": [
       "              lat       long\n",
       "State                       \n",
       "alabama  32.31823 -86.902298"
      ]
     },
     "execution_count": 99,
     "metadata": {},
     "output_type": "execute_result"
    }
   ],
   "source": [
    "state_latlong = pd.read_csv('../data/central_lat_long_usstates.csv', index_col = 'State')\n",
    "state_latlong = state_latlong.sort_values('State')\n",
    "state_latlong.head(1)"
   ]
  },
  {
   "cell_type": "markdown",
   "metadata": {},
   "source": [
    "______\n",
    "**Concatenating Grouped DF's**\n",
    "_______"
   ]
  },
  {
   "cell_type": "code",
   "execution_count": 100,
   "metadata": {
    "scrolled": true
   },
   "outputs": [
    {
     "data": {
      "text/plain": [
       "(49, 13)"
      ]
     },
     "execution_count": 100,
     "metadata": {},
     "output_type": "execute_result"
    }
   ],
   "source": [
    "# combining state_count, national_shape and license_df into one df. \n",
    "state_df = pd.concat([state_count, national_shape, license_df, state_latlong], axis = 1, verify_integrity = True)\n",
    "state_df.shape"
   ]
  },
  {
   "cell_type": "code",
   "execution_count": 101,
   "metadata": {},
   "outputs": [
    {
     "data": {
      "text/plain": [
       "Index(['count', 'statefp', 'statens', 'affgeoid', 'geoid', 'stusps', 'lsad',\n",
       "       'aland', 'awater', 'geometry', 'total_drivers', 'lat', 'long'],\n",
       "      dtype='object')"
      ]
     },
     "execution_count": 101,
     "metadata": {},
     "output_type": "execute_result"
    }
   ],
   "source": [
    "state_df.columns"
   ]
  },
  {
   "cell_type": "code",
   "execution_count": 102,
   "metadata": {},
   "outputs": [
    {
     "data": {
      "text/plain": [
       "(49, 13)"
      ]
     },
     "execution_count": 102,
     "metadata": {},
     "output_type": "execute_result"
    }
   ],
   "source": [
    "state_df.shape"
   ]
  },
  {
   "cell_type": "code",
   "execution_count": 103,
   "metadata": {},
   "outputs": [],
   "source": [
    "state_df['acc_per_cap'] = state_df['count'] / state_df['total_drivers']"
   ]
  },
  {
   "cell_type": "code",
   "execution_count": 104,
   "metadata": {},
   "outputs": [
    {
     "data": {
      "text/html": [
       "<div>\n",
       "<style scoped>\n",
       "    .dataframe tbody tr th:only-of-type {\n",
       "        vertical-align: middle;\n",
       "    }\n",
       "\n",
       "    .dataframe tbody tr th {\n",
       "        vertical-align: top;\n",
       "    }\n",
       "\n",
       "    .dataframe thead th {\n",
       "        text-align: right;\n",
       "    }\n",
       "</style>\n",
       "<table border=\"1\" class=\"dataframe\">\n",
       "  <thead>\n",
       "    <tr style=\"text-align: right;\">\n",
       "      <th></th>\n",
       "      <th>count</th>\n",
       "      <th>statefp</th>\n",
       "      <th>statens</th>\n",
       "      <th>affgeoid</th>\n",
       "      <th>geoid</th>\n",
       "      <th>stusps</th>\n",
       "      <th>lsad</th>\n",
       "      <th>aland</th>\n",
       "      <th>awater</th>\n",
       "      <th>geometry</th>\n",
       "      <th>total_drivers</th>\n",
       "      <th>lat</th>\n",
       "      <th>long</th>\n",
       "      <th>acc_per_cap</th>\n",
       "    </tr>\n",
       "  </thead>\n",
       "  <tbody>\n",
       "    <tr>\n",
       "      <th>alabama</th>\n",
       "      <td>56989</td>\n",
       "      <td>01</td>\n",
       "      <td>01779775</td>\n",
       "      <td>0400000US01</td>\n",
       "      <td>01</td>\n",
       "      <td>AL</td>\n",
       "      <td>00</td>\n",
       "      <td>131174048583</td>\n",
       "      <td>4593327154</td>\n",
       "      <td>MULTIPOLYGON (((-88.05338 30.50699, -88.05109 ...</td>\n",
       "      <td>4026151</td>\n",
       "      <td>32.318230</td>\n",
       "      <td>-86.902298</td>\n",
       "      <td>0.014155</td>\n",
       "    </tr>\n",
       "    <tr>\n",
       "      <th>arizona</th>\n",
       "      <td>93038</td>\n",
       "      <td>04</td>\n",
       "      <td>01779777</td>\n",
       "      <td>0400000US04</td>\n",
       "      <td>04</td>\n",
       "      <td>AZ</td>\n",
       "      <td>00</td>\n",
       "      <td>294198551143</td>\n",
       "      <td>1027337603</td>\n",
       "      <td>POLYGON ((-114.81629 32.50804, -114.81432 32.5...</td>\n",
       "      <td>5369210</td>\n",
       "      <td>34.048927</td>\n",
       "      <td>-111.093735</td>\n",
       "      <td>0.017328</td>\n",
       "    </tr>\n",
       "    <tr>\n",
       "      <th>arkansas</th>\n",
       "      <td>5089</td>\n",
       "      <td>05</td>\n",
       "      <td>00068085</td>\n",
       "      <td>0400000US05</td>\n",
       "      <td>05</td>\n",
       "      <td>AR</td>\n",
       "      <td>00</td>\n",
       "      <td>134768872727</td>\n",
       "      <td>2962859592</td>\n",
       "      <td>POLYGON ((-94.61783 36.49941, -94.61765 36.499...</td>\n",
       "      <td>2153929</td>\n",
       "      <td>34.799999</td>\n",
       "      <td>-92.199997</td>\n",
       "      <td>0.002363</td>\n",
       "    </tr>\n",
       "    <tr>\n",
       "      <th>california</th>\n",
       "      <td>971856</td>\n",
       "      <td>06</td>\n",
       "      <td>01779778</td>\n",
       "      <td>0400000US06</td>\n",
       "      <td>06</td>\n",
       "      <td>CA</td>\n",
       "      <td>00</td>\n",
       "      <td>403503931312</td>\n",
       "      <td>20463871877</td>\n",
       "      <td>MULTIPOLYGON (((-118.60442 33.47855, -118.5987...</td>\n",
       "      <td>27213650</td>\n",
       "      <td>36.778259</td>\n",
       "      <td>-119.417931</td>\n",
       "      <td>0.035712</td>\n",
       "    </tr>\n",
       "    <tr>\n",
       "      <th>colorado</th>\n",
       "      <td>54028</td>\n",
       "      <td>08</td>\n",
       "      <td>01779779</td>\n",
       "      <td>0400000US08</td>\n",
       "      <td>08</td>\n",
       "      <td>CO</td>\n",
       "      <td>00</td>\n",
       "      <td>268422891711</td>\n",
       "      <td>1181621593</td>\n",
       "      <td>POLYGON ((-109.06025 38.59933, -109.05954 38.7...</td>\n",
       "      <td>4235384</td>\n",
       "      <td>39.113014</td>\n",
       "      <td>-105.358887</td>\n",
       "      <td>0.012756</td>\n",
       "    </tr>\n",
       "    <tr>\n",
       "      <th>connecticut</th>\n",
       "      <td>32488</td>\n",
       "      <td>09</td>\n",
       "      <td>01779780</td>\n",
       "      <td>0400000US09</td>\n",
       "      <td>09</td>\n",
       "      <td>CT</td>\n",
       "      <td>00</td>\n",
       "      <td>12542497068</td>\n",
       "      <td>1815617571</td>\n",
       "      <td>MULTIPOLYGON (((-72.76143 41.24233, -72.75973 ...</td>\n",
       "      <td>2608061</td>\n",
       "      <td>41.599998</td>\n",
       "      <td>-72.699997</td>\n",
       "      <td>0.012457</td>\n",
       "    </tr>\n",
       "    <tr>\n",
       "      <th>delaware</th>\n",
       "      <td>6907</td>\n",
       "      <td>10</td>\n",
       "      <td>01779781</td>\n",
       "      <td>0400000US10</td>\n",
       "      <td>10</td>\n",
       "      <td>DE</td>\n",
       "      <td>00</td>\n",
       "      <td>5045925646</td>\n",
       "      <td>1399985648</td>\n",
       "      <td>MULTIPOLYGON (((-75.56555 39.51485, -75.56174 ...</td>\n",
       "      <td>812529</td>\n",
       "      <td>39.000000</td>\n",
       "      <td>-75.500000</td>\n",
       "      <td>0.008501</td>\n",
       "    </tr>\n",
       "    <tr>\n",
       "      <th>district of columbia</th>\n",
       "      <td>6505</td>\n",
       "      <td>11</td>\n",
       "      <td>01702382</td>\n",
       "      <td>0400000US11</td>\n",
       "      <td>11</td>\n",
       "      <td>DC</td>\n",
       "      <td>00</td>\n",
       "      <td>158340391</td>\n",
       "      <td>18687198</td>\n",
       "      <td>POLYGON ((-77.11976 38.93434, -77.11253 38.940...</td>\n",
       "      <td>535579</td>\n",
       "      <td>38.895100</td>\n",
       "      <td>-77.036400</td>\n",
       "      <td>0.012146</td>\n",
       "    </tr>\n",
       "    <tr>\n",
       "      <th>florida</th>\n",
       "      <td>369559</td>\n",
       "      <td>12</td>\n",
       "      <td>00294478</td>\n",
       "      <td>0400000US12</td>\n",
       "      <td>12</td>\n",
       "      <td>FL</td>\n",
       "      <td>00</td>\n",
       "      <td>138949136250</td>\n",
       "      <td>31361101223</td>\n",
       "      <td>MULTIPOLYGON (((-80.17628 25.52505, -80.17395 ...</td>\n",
       "      <td>15560628</td>\n",
       "      <td>27.994402</td>\n",
       "      <td>-81.760254</td>\n",
       "      <td>0.023750</td>\n",
       "    </tr>\n",
       "    <tr>\n",
       "      <th>georgia</th>\n",
       "      <td>107071</td>\n",
       "      <td>13</td>\n",
       "      <td>01705317</td>\n",
       "      <td>0400000US13</td>\n",
       "      <td>13</td>\n",
       "      <td>GA</td>\n",
       "      <td>00</td>\n",
       "      <td>149482048342</td>\n",
       "      <td>4422936154</td>\n",
       "      <td>MULTIPOLYGON (((-81.27939 31.30792, -81.27716 ...</td>\n",
       "      <td>7261266</td>\n",
       "      <td>33.247875</td>\n",
       "      <td>-83.441162</td>\n",
       "      <td>0.014746</td>\n",
       "    </tr>\n",
       "    <tr>\n",
       "      <th>idaho</th>\n",
       "      <td>4237</td>\n",
       "      <td>16</td>\n",
       "      <td>01779783</td>\n",
       "      <td>0400000US16</td>\n",
       "      <td>16</td>\n",
       "      <td>ID</td>\n",
       "      <td>00</td>\n",
       "      <td>214049787659</td>\n",
       "      <td>2391722557</td>\n",
       "      <td>POLYGON ((-117.24267 44.39655, -117.23484 44.3...</td>\n",
       "      <td>1252535</td>\n",
       "      <td>44.068203</td>\n",
       "      <td>-114.742043</td>\n",
       "      <td>0.003383</td>\n",
       "    </tr>\n",
       "    <tr>\n",
       "      <th>illinois</th>\n",
       "      <td>111692</td>\n",
       "      <td>17</td>\n",
       "      <td>01779784</td>\n",
       "      <td>0400000US17</td>\n",
       "      <td>17</td>\n",
       "      <td>IL</td>\n",
       "      <td>00</td>\n",
       "      <td>143780567633</td>\n",
       "      <td>6214824948</td>\n",
       "      <td>POLYGON ((-91.51297 40.18106, -91.51107 40.188...</td>\n",
       "      <td>8546932</td>\n",
       "      <td>40.000000</td>\n",
       "      <td>-89.000000</td>\n",
       "      <td>0.013068</td>\n",
       "    </tr>\n",
       "    <tr>\n",
       "      <th>indiana</th>\n",
       "      <td>38098</td>\n",
       "      <td>18</td>\n",
       "      <td>00448508</td>\n",
       "      <td>0400000US18</td>\n",
       "      <td>18</td>\n",
       "      <td>IN</td>\n",
       "      <td>00</td>\n",
       "      <td>92789302676</td>\n",
       "      <td>1538002829</td>\n",
       "      <td>POLYGON ((-88.09776 37.90403, -88.09448 37.905...</td>\n",
       "      <td>4589405</td>\n",
       "      <td>40.273502</td>\n",
       "      <td>-86.126976</td>\n",
       "      <td>0.008301</td>\n",
       "    </tr>\n",
       "    <tr>\n",
       "      <th>iowa</th>\n",
       "      <td>14186</td>\n",
       "      <td>19</td>\n",
       "      <td>01779785</td>\n",
       "      <td>0400000US19</td>\n",
       "      <td>19</td>\n",
       "      <td>IA</td>\n",
       "      <td>00</td>\n",
       "      <td>144661267977</td>\n",
       "      <td>1084180812</td>\n",
       "      <td>POLYGON ((-96.63970 42.73707, -96.63589 42.741...</td>\n",
       "      <td>2274431</td>\n",
       "      <td>42.032974</td>\n",
       "      <td>-93.581543</td>\n",
       "      <td>0.006237</td>\n",
       "    </tr>\n",
       "    <tr>\n",
       "      <th>kansas</th>\n",
       "      <td>9728</td>\n",
       "      <td>20</td>\n",
       "      <td>00481813</td>\n",
       "      <td>0400000US20</td>\n",
       "      <td>20</td>\n",
       "      <td>KS</td>\n",
       "      <td>00</td>\n",
       "      <td>211755344060</td>\n",
       "      <td>1344141205</td>\n",
       "      <td>POLYGON ((-102.05174 40.00308, -101.91670 40.0...</td>\n",
       "      <td>2154260</td>\n",
       "      <td>38.500000</td>\n",
       "      <td>-98.000000</td>\n",
       "      <td>0.004516</td>\n",
       "    </tr>\n",
       "    <tr>\n",
       "      <th>kentucky</th>\n",
       "      <td>24707</td>\n",
       "      <td>21</td>\n",
       "      <td>01779786</td>\n",
       "      <td>0400000US21</td>\n",
       "      <td>21</td>\n",
       "      <td>KY</td>\n",
       "      <td>00</td>\n",
       "      <td>102279490672</td>\n",
       "      <td>2375337755</td>\n",
       "      <td>MULTIPOLYGON (((-89.40565 36.52817, -89.39869 ...</td>\n",
       "      <td>3030329</td>\n",
       "      <td>37.839333</td>\n",
       "      <td>-84.270020</td>\n",
       "      <td>0.008153</td>\n",
       "    </tr>\n",
       "    <tr>\n",
       "      <th>louisiana</th>\n",
       "      <td>80485</td>\n",
       "      <td>22</td>\n",
       "      <td>01629543</td>\n",
       "      <td>0400000US22</td>\n",
       "      <td>22</td>\n",
       "      <td>LA</td>\n",
       "      <td>00</td>\n",
       "      <td>111897594374</td>\n",
       "      <td>23753621895</td>\n",
       "      <td>MULTIPOLYGON (((-88.86770 29.86155, -88.86566 ...</td>\n",
       "      <td>3435168</td>\n",
       "      <td>30.391830</td>\n",
       "      <td>-92.329102</td>\n",
       "      <td>0.023430</td>\n",
       "    </tr>\n",
       "    <tr>\n",
       "      <th>maine</th>\n",
       "      <td>2346</td>\n",
       "      <td>23</td>\n",
       "      <td>01779787</td>\n",
       "      <td>0400000US23</td>\n",
       "      <td>23</td>\n",
       "      <td>ME</td>\n",
       "      <td>00</td>\n",
       "      <td>79887426037</td>\n",
       "      <td>11746549764</td>\n",
       "      <td>MULTIPOLYGON (((-67.35580 44.64226, -67.35437 ...</td>\n",
       "      <td>1046129</td>\n",
       "      <td>45.367584</td>\n",
       "      <td>-68.972168</td>\n",
       "      <td>0.002243</td>\n",
       "    </tr>\n",
       "    <tr>\n",
       "      <th>maryland</th>\n",
       "      <td>69859</td>\n",
       "      <td>24</td>\n",
       "      <td>01714934</td>\n",
       "      <td>0400000US24</td>\n",
       "      <td>24</td>\n",
       "      <td>MD</td>\n",
       "      <td>00</td>\n",
       "      <td>25151100280</td>\n",
       "      <td>6979966958</td>\n",
       "      <td>MULTIPOLYGON (((-76.05015 37.98691, -76.04998 ...</td>\n",
       "      <td>4463862</td>\n",
       "      <td>39.045753</td>\n",
       "      <td>-76.641273</td>\n",
       "      <td>0.015650</td>\n",
       "    </tr>\n",
       "    <tr>\n",
       "      <th>massachusetts</th>\n",
       "      <td>44114</td>\n",
       "      <td>25</td>\n",
       "      <td>00606926</td>\n",
       "      <td>0400000US25</td>\n",
       "      <td>25</td>\n",
       "      <td>MA</td>\n",
       "      <td>00</td>\n",
       "      <td>20205125364</td>\n",
       "      <td>7129925486</td>\n",
       "      <td>MULTIPOLYGON (((-70.23405 41.28565, -70.22361 ...</td>\n",
       "      <td>4950056</td>\n",
       "      <td>42.407211</td>\n",
       "      <td>-71.382439</td>\n",
       "      <td>0.008912</td>\n",
       "    </tr>\n",
       "    <tr>\n",
       "      <th>michigan</th>\n",
       "      <td>105726</td>\n",
       "      <td>26</td>\n",
       "      <td>01779789</td>\n",
       "      <td>0400000US26</td>\n",
       "      <td>26</td>\n",
       "      <td>MI</td>\n",
       "      <td>00</td>\n",
       "      <td>146600952990</td>\n",
       "      <td>103885855702</td>\n",
       "      <td>MULTIPOLYGON (((-83.19159 42.03537, -83.18993 ...</td>\n",
       "      <td>7141494</td>\n",
       "      <td>44.182205</td>\n",
       "      <td>-84.506836</td>\n",
       "      <td>0.014804</td>\n",
       "    </tr>\n",
       "    <tr>\n",
       "      <th>minnesota</th>\n",
       "      <td>105362</td>\n",
       "      <td>27</td>\n",
       "      <td>00662849</td>\n",
       "      <td>0400000US27</td>\n",
       "      <td>27</td>\n",
       "      <td>MN</td>\n",
       "      <td>00</td>\n",
       "      <td>206228939448</td>\n",
       "      <td>18945217189</td>\n",
       "      <td>MULTIPOLYGON (((-89.59206 47.96668, -89.59147 ...</td>\n",
       "      <td>3391057</td>\n",
       "      <td>46.392410</td>\n",
       "      <td>-94.636230</td>\n",
       "      <td>0.031071</td>\n",
       "    </tr>\n",
       "    <tr>\n",
       "      <th>mississippi</th>\n",
       "      <td>8052</td>\n",
       "      <td>28</td>\n",
       "      <td>01779790</td>\n",
       "      <td>0400000US28</td>\n",
       "      <td>28</td>\n",
       "      <td>MS</td>\n",
       "      <td>00</td>\n",
       "      <td>121533519481</td>\n",
       "      <td>3926919758</td>\n",
       "      <td>MULTIPOLYGON (((-88.50297 30.21523, -88.49176 ...</td>\n",
       "      <td>2058036</td>\n",
       "      <td>33.000000</td>\n",
       "      <td>-90.000000</td>\n",
       "      <td>0.003912</td>\n",
       "    </tr>\n",
       "    <tr>\n",
       "      <th>missouri</th>\n",
       "      <td>40132</td>\n",
       "      <td>29</td>\n",
       "      <td>01779791</td>\n",
       "      <td>0400000US29</td>\n",
       "      <td>29</td>\n",
       "      <td>MO</td>\n",
       "      <td>00</td>\n",
       "      <td>178050802184</td>\n",
       "      <td>2489425460</td>\n",
       "      <td>POLYGON ((-95.77355 40.57820, -95.76853 40.583...</td>\n",
       "      <td>4274389</td>\n",
       "      <td>38.573936</td>\n",
       "      <td>-92.603760</td>\n",
       "      <td>0.009389</td>\n",
       "    </tr>\n",
       "    <tr>\n",
       "      <th>montana</th>\n",
       "      <td>3342</td>\n",
       "      <td>30</td>\n",
       "      <td>00767982</td>\n",
       "      <td>0400000US30</td>\n",
       "      <td>30</td>\n",
       "      <td>MT</td>\n",
       "      <td>00</td>\n",
       "      <td>376962738765</td>\n",
       "      <td>3869208832</td>\n",
       "      <td>POLYGON ((-116.04914 48.50205, -116.04913 48.5...</td>\n",
       "      <td>811851</td>\n",
       "      <td>46.965260</td>\n",
       "      <td>-109.533691</td>\n",
       "      <td>0.004117</td>\n",
       "    </tr>\n",
       "    <tr>\n",
       "      <th>nebraska</th>\n",
       "      <td>25005</td>\n",
       "      <td>31</td>\n",
       "      <td>01779792</td>\n",
       "      <td>0400000US31</td>\n",
       "      <td>31</td>\n",
       "      <td>NE</td>\n",
       "      <td>00</td>\n",
       "      <td>198956658395</td>\n",
       "      <td>1371829134</td>\n",
       "      <td>POLYGON ((-104.05342 41.17054, -104.05324 41.1...</td>\n",
       "      <td>1430818</td>\n",
       "      <td>41.500000</td>\n",
       "      <td>-100.000000</td>\n",
       "      <td>0.017476</td>\n",
       "    </tr>\n",
       "    <tr>\n",
       "      <th>nevada</th>\n",
       "      <td>12021</td>\n",
       "      <td>32</td>\n",
       "      <td>01779793</td>\n",
       "      <td>0400000US32</td>\n",
       "      <td>32</td>\n",
       "      <td>NV</td>\n",
       "      <td>00</td>\n",
       "      <td>284329506470</td>\n",
       "      <td>2047206072</td>\n",
       "      <td>POLYGON ((-120.00574 39.22866, -120.00559 39.2...</td>\n",
       "      <td>2054421</td>\n",
       "      <td>39.876019</td>\n",
       "      <td>-117.224121</td>\n",
       "      <td>0.005851</td>\n",
       "    </tr>\n",
       "    <tr>\n",
       "      <th>new hampshire</th>\n",
       "      <td>8559</td>\n",
       "      <td>33</td>\n",
       "      <td>01779794</td>\n",
       "      <td>0400000US33</td>\n",
       "      <td>33</td>\n",
       "      <td>NH</td>\n",
       "      <td>00</td>\n",
       "      <td>23189413166</td>\n",
       "      <td>1026675248</td>\n",
       "      <td>MULTIPOLYGON (((-70.61702 42.97718, -70.61529 ...</td>\n",
       "      <td>1195211</td>\n",
       "      <td>44.000000</td>\n",
       "      <td>-71.500000</td>\n",
       "      <td>0.007161</td>\n",
       "    </tr>\n",
       "    <tr>\n",
       "      <th>new jersey</th>\n",
       "      <td>69116</td>\n",
       "      <td>34</td>\n",
       "      <td>01779795</td>\n",
       "      <td>0400000US34</td>\n",
       "      <td>34</td>\n",
       "      <td>NJ</td>\n",
       "      <td>00</td>\n",
       "      <td>19047825980</td>\n",
       "      <td>3544860246</td>\n",
       "      <td>POLYGON ((-75.55910 39.62906, -75.55945 39.629...</td>\n",
       "      <td>6377413</td>\n",
       "      <td>39.833851</td>\n",
       "      <td>-74.871826</td>\n",
       "      <td>0.010838</td>\n",
       "    </tr>\n",
       "    <tr>\n",
       "      <th>new mexico</th>\n",
       "      <td>6455</td>\n",
       "      <td>35</td>\n",
       "      <td>00897535</td>\n",
       "      <td>0400000US35</td>\n",
       "      <td>35</td>\n",
       "      <td>NM</td>\n",
       "      <td>00</td>\n",
       "      <td>314196306401</td>\n",
       "      <td>728776523</td>\n",
       "      <td>POLYGON ((-109.05017 31.48000, -109.04984 31.4...</td>\n",
       "      <td>1449711</td>\n",
       "      <td>34.307144</td>\n",
       "      <td>-106.018066</td>\n",
       "      <td>0.004453</td>\n",
       "    </tr>\n",
       "    <tr>\n",
       "      <th>new york</th>\n",
       "      <td>189393</td>\n",
       "      <td>36</td>\n",
       "      <td>01779796</td>\n",
       "      <td>0400000US36</td>\n",
       "      <td>36</td>\n",
       "      <td>NY</td>\n",
       "      <td>00</td>\n",
       "      <td>122049149763</td>\n",
       "      <td>19246994695</td>\n",
       "      <td>MULTIPOLYGON (((-72.03683 41.24984, -72.03496 ...</td>\n",
       "      <td>12194360</td>\n",
       "      <td>43.000000</td>\n",
       "      <td>-75.000000</td>\n",
       "      <td>0.015531</td>\n",
       "    </tr>\n",
       "    <tr>\n",
       "      <th>north carolina</th>\n",
       "      <td>193331</td>\n",
       "      <td>37</td>\n",
       "      <td>01027616</td>\n",
       "      <td>0400000US37</td>\n",
       "      <td>37</td>\n",
       "      <td>NC</td>\n",
       "      <td>00</td>\n",
       "      <td>125923656064</td>\n",
       "      <td>13466071395</td>\n",
       "      <td>MULTIPOLYGON (((-75.72681 35.93584, -75.71827 ...</td>\n",
       "      <td>7620001</td>\n",
       "      <td>35.782169</td>\n",
       "      <td>-80.793457</td>\n",
       "      <td>0.025372</td>\n",
       "    </tr>\n",
       "    <tr>\n",
       "      <th>north dakota</th>\n",
       "      <td>464</td>\n",
       "      <td>38</td>\n",
       "      <td>01779797</td>\n",
       "      <td>0400000US38</td>\n",
       "      <td>38</td>\n",
       "      <td>ND</td>\n",
       "      <td>00</td>\n",
       "      <td>178707534813</td>\n",
       "      <td>4403267548</td>\n",
       "      <td>POLYGON ((-104.04868 48.86378, -104.04865 48.8...</td>\n",
       "      <td>556064</td>\n",
       "      <td>47.650589</td>\n",
       "      <td>-100.437012</td>\n",
       "      <td>0.000834</td>\n",
       "    </tr>\n",
       "    <tr>\n",
       "      <th>ohio</th>\n",
       "      <td>73148</td>\n",
       "      <td>39</td>\n",
       "      <td>01085497</td>\n",
       "      <td>0400000US39</td>\n",
       "      <td>39</td>\n",
       "      <td>OH</td>\n",
       "      <td>00</td>\n",
       "      <td>105828882568</td>\n",
       "      <td>10268850702</td>\n",
       "      <td>MULTIPOLYGON (((-82.73571 41.60336, -82.73392 ...</td>\n",
       "      <td>8032792</td>\n",
       "      <td>40.367474</td>\n",
       "      <td>-82.996216</td>\n",
       "      <td>0.009106</td>\n",
       "    </tr>\n",
       "    <tr>\n",
       "      <th>oklahoma</th>\n",
       "      <td>64870</td>\n",
       "      <td>40</td>\n",
       "      <td>01102857</td>\n",
       "      <td>0400000US40</td>\n",
       "      <td>40</td>\n",
       "      <td>OK</td>\n",
       "      <td>00</td>\n",
       "      <td>177662925723</td>\n",
       "      <td>3374587997</td>\n",
       "      <td>POLYGON ((-103.00257 36.52659, -103.00219 36.6...</td>\n",
       "      <td>2522670</td>\n",
       "      <td>36.084621</td>\n",
       "      <td>-96.921387</td>\n",
       "      <td>0.025715</td>\n",
       "    </tr>\n",
       "    <tr>\n",
       "      <th>oregon</th>\n",
       "      <td>108242</td>\n",
       "      <td>41</td>\n",
       "      <td>01155107</td>\n",
       "      <td>0400000US41</td>\n",
       "      <td>41</td>\n",
       "      <td>OR</td>\n",
       "      <td>00</td>\n",
       "      <td>248606993270</td>\n",
       "      <td>6192386935</td>\n",
       "      <td>MULTIPOLYGON (((-123.59892 46.25145, -123.5984...</td>\n",
       "      <td>2930701</td>\n",
       "      <td>44.000000</td>\n",
       "      <td>-120.500000</td>\n",
       "      <td>0.036934</td>\n",
       "    </tr>\n",
       "    <tr>\n",
       "      <th>pennsylvania</th>\n",
       "      <td>135909</td>\n",
       "      <td>42</td>\n",
       "      <td>01779798</td>\n",
       "      <td>0400000US42</td>\n",
       "      <td>42</td>\n",
       "      <td>PA</td>\n",
       "      <td>00</td>\n",
       "      <td>115884442321</td>\n",
       "      <td>3394589990</td>\n",
       "      <td>POLYGON ((-80.51989 40.90666, -80.51909 40.921...</td>\n",
       "      <td>8987676</td>\n",
       "      <td>41.203323</td>\n",
       "      <td>-77.194527</td>\n",
       "      <td>0.015122</td>\n",
       "    </tr>\n",
       "    <tr>\n",
       "      <th>rhode island</th>\n",
       "      <td>12909</td>\n",
       "      <td>44</td>\n",
       "      <td>01219835</td>\n",
       "      <td>0400000US44</td>\n",
       "      <td>44</td>\n",
       "      <td>RI</td>\n",
       "      <td>00</td>\n",
       "      <td>2677779902</td>\n",
       "      <td>1323670487</td>\n",
       "      <td>MULTIPOLYGON (((-71.28802 41.64558, -71.28647 ...</td>\n",
       "      <td>761046</td>\n",
       "      <td>41.700001</td>\n",
       "      <td>-71.500000</td>\n",
       "      <td>0.016962</td>\n",
       "    </tr>\n",
       "    <tr>\n",
       "      <th>south carolina</th>\n",
       "      <td>212573</td>\n",
       "      <td>45</td>\n",
       "      <td>01779799</td>\n",
       "      <td>0400000US45</td>\n",
       "      <td>45</td>\n",
       "      <td>SC</td>\n",
       "      <td>00</td>\n",
       "      <td>77864918488</td>\n",
       "      <td>5075218778</td>\n",
       "      <td>MULTIPOLYGON (((-79.50795 33.02008, -79.50713 ...</td>\n",
       "      <td>3877968</td>\n",
       "      <td>33.836082</td>\n",
       "      <td>-81.163727</td>\n",
       "      <td>0.054816</td>\n",
       "    </tr>\n",
       "    <tr>\n",
       "      <th>south dakota</th>\n",
       "      <td>219</td>\n",
       "      <td>46</td>\n",
       "      <td>01785534</td>\n",
       "      <td>0400000US46</td>\n",
       "      <td>46</td>\n",
       "      <td>SD</td>\n",
       "      <td>00</td>\n",
       "      <td>196346981786</td>\n",
       "      <td>3382720225</td>\n",
       "      <td>POLYGON ((-104.05788 44.99761, -104.05078 44.9...</td>\n",
       "      <td>638428</td>\n",
       "      <td>44.500000</td>\n",
       "      <td>-100.000000</td>\n",
       "      <td>0.000343</td>\n",
       "    </tr>\n",
       "    <tr>\n",
       "      <th>tennessee</th>\n",
       "      <td>88428</td>\n",
       "      <td>47</td>\n",
       "      <td>01325873</td>\n",
       "      <td>0400000US47</td>\n",
       "      <td>47</td>\n",
       "      <td>TN</td>\n",
       "      <td>00</td>\n",
       "      <td>106802728188</td>\n",
       "      <td>2350123465</td>\n",
       "      <td>POLYGON ((-90.31030 35.00429, -90.30988 35.009...</td>\n",
       "      <td>5422429</td>\n",
       "      <td>35.860119</td>\n",
       "      <td>-86.660156</td>\n",
       "      <td>0.016308</td>\n",
       "    </tr>\n",
       "    <tr>\n",
       "      <th>texas</th>\n",
       "      <td>376282</td>\n",
       "      <td>48</td>\n",
       "      <td>01779801</td>\n",
       "      <td>0400000US48</td>\n",
       "      <td>48</td>\n",
       "      <td>TX</td>\n",
       "      <td>00</td>\n",
       "      <td>676653171537</td>\n",
       "      <td>19006305260</td>\n",
       "      <td>MULTIPOLYGON (((-94.71830 29.72885, -94.71721 ...</td>\n",
       "      <td>17822760</td>\n",
       "      <td>31.000000</td>\n",
       "      <td>-100.000000</td>\n",
       "      <td>0.021112</td>\n",
       "    </tr>\n",
       "    <tr>\n",
       "      <th>utah</th>\n",
       "      <td>57983</td>\n",
       "      <td>49</td>\n",
       "      <td>01455989</td>\n",
       "      <td>0400000US49</td>\n",
       "      <td>49</td>\n",
       "      <td>UT</td>\n",
       "      <td>00</td>\n",
       "      <td>212886221680</td>\n",
       "      <td>6998824394</td>\n",
       "      <td>POLYGON ((-114.05296 37.59278, -114.05247 37.6...</td>\n",
       "      <td>2121099</td>\n",
       "      <td>39.419220</td>\n",
       "      <td>-111.950684</td>\n",
       "      <td>0.027336</td>\n",
       "    </tr>\n",
       "    <tr>\n",
       "      <th>vermont</th>\n",
       "      <td>771</td>\n",
       "      <td>50</td>\n",
       "      <td>01779802</td>\n",
       "      <td>0400000US50</td>\n",
       "      <td>50</td>\n",
       "      <td>VT</td>\n",
       "      <td>00</td>\n",
       "      <td>23874175944</td>\n",
       "      <td>1030416650</td>\n",
       "      <td>POLYGON ((-73.43774 44.04501, -73.43199 44.063...</td>\n",
       "      <td>564894</td>\n",
       "      <td>44.000000</td>\n",
       "      <td>-72.699997</td>\n",
       "      <td>0.001365</td>\n",
       "    </tr>\n",
       "    <tr>\n",
       "      <th>virginia</th>\n",
       "      <td>127774</td>\n",
       "      <td>51</td>\n",
       "      <td>01779803</td>\n",
       "      <td>0400000US51</td>\n",
       "      <td>51</td>\n",
       "      <td>VA</td>\n",
       "      <td>00</td>\n",
       "      <td>102257717110</td>\n",
       "      <td>8528531774</td>\n",
       "      <td>MULTIPOLYGON (((-75.74241 37.80835, -75.74151 ...</td>\n",
       "      <td>5888196</td>\n",
       "      <td>37.926868</td>\n",
       "      <td>-78.024902</td>\n",
       "      <td>0.021700</td>\n",
       "    </tr>\n",
       "    <tr>\n",
       "      <th>washington</th>\n",
       "      <td>74694</td>\n",
       "      <td>53</td>\n",
       "      <td>01779804</td>\n",
       "      <td>0400000US53</td>\n",
       "      <td>53</td>\n",
       "      <td>WA</td>\n",
       "      <td>00</td>\n",
       "      <td>172112588220</td>\n",
       "      <td>12559278850</td>\n",
       "      <td>MULTIPOLYGON (((-122.57039 48.53785, -122.5686...</td>\n",
       "      <td>5711136</td>\n",
       "      <td>47.751076</td>\n",
       "      <td>-120.740135</td>\n",
       "      <td>0.013079</td>\n",
       "    </tr>\n",
       "    <tr>\n",
       "      <th>west virginia</th>\n",
       "      <td>3612</td>\n",
       "      <td>54</td>\n",
       "      <td>01779805</td>\n",
       "      <td>0400000US54</td>\n",
       "      <td>54</td>\n",
       "      <td>WV</td>\n",
       "      <td>00</td>\n",
       "      <td>62266474513</td>\n",
       "      <td>489028543</td>\n",
       "      <td>POLYGON ((-82.64320 38.16909, -82.64300 38.169...</td>\n",
       "      <td>1130389</td>\n",
       "      <td>39.000000</td>\n",
       "      <td>-80.500000</td>\n",
       "      <td>0.003195</td>\n",
       "    </tr>\n",
       "    <tr>\n",
       "      <th>wisconsin</th>\n",
       "      <td>21519</td>\n",
       "      <td>55</td>\n",
       "      <td>01779806</td>\n",
       "      <td>0400000US55</td>\n",
       "      <td>55</td>\n",
       "      <td>WI</td>\n",
       "      <td>00</td>\n",
       "      <td>140290039723</td>\n",
       "      <td>29344951758</td>\n",
       "      <td>MULTIPOLYGON (((-86.95617 45.35549, -86.95463 ...</td>\n",
       "      <td>4296646</td>\n",
       "      <td>44.500000</td>\n",
       "      <td>-89.500000</td>\n",
       "      <td>0.005008</td>\n",
       "    </tr>\n",
       "    <tr>\n",
       "      <th>wyoming</th>\n",
       "      <td>521</td>\n",
       "      <td>56</td>\n",
       "      <td>01779807</td>\n",
       "      <td>0400000US56</td>\n",
       "      <td>56</td>\n",
       "      <td>WY</td>\n",
       "      <td>00</td>\n",
       "      <td>251458544898</td>\n",
       "      <td>1867670745</td>\n",
       "      <td>POLYGON ((-111.05456 45.00095, -111.04507 45.0...</td>\n",
       "      <td>424115</td>\n",
       "      <td>43.075970</td>\n",
       "      <td>-107.290283</td>\n",
       "      <td>0.001228</td>\n",
       "    </tr>\n",
       "  </tbody>\n",
       "</table>\n",
       "</div>"
      ],
      "text/plain": [
       "                       count statefp   statens     affgeoid geoid stusps lsad  \\\n",
       "alabama                56989      01  01779775  0400000US01    01     AL   00   \n",
       "arizona                93038      04  01779777  0400000US04    04     AZ   00   \n",
       "arkansas                5089      05  00068085  0400000US05    05     AR   00   \n",
       "california            971856      06  01779778  0400000US06    06     CA   00   \n",
       "colorado               54028      08  01779779  0400000US08    08     CO   00   \n",
       "connecticut            32488      09  01779780  0400000US09    09     CT   00   \n",
       "delaware                6907      10  01779781  0400000US10    10     DE   00   \n",
       "district of columbia    6505      11  01702382  0400000US11    11     DC   00   \n",
       "florida               369559      12  00294478  0400000US12    12     FL   00   \n",
       "georgia               107071      13  01705317  0400000US13    13     GA   00   \n",
       "idaho                   4237      16  01779783  0400000US16    16     ID   00   \n",
       "illinois              111692      17  01779784  0400000US17    17     IL   00   \n",
       "indiana                38098      18  00448508  0400000US18    18     IN   00   \n",
       "iowa                   14186      19  01779785  0400000US19    19     IA   00   \n",
       "kansas                  9728      20  00481813  0400000US20    20     KS   00   \n",
       "kentucky               24707      21  01779786  0400000US21    21     KY   00   \n",
       "louisiana              80485      22  01629543  0400000US22    22     LA   00   \n",
       "maine                   2346      23  01779787  0400000US23    23     ME   00   \n",
       "maryland               69859      24  01714934  0400000US24    24     MD   00   \n",
       "massachusetts          44114      25  00606926  0400000US25    25     MA   00   \n",
       "michigan              105726      26  01779789  0400000US26    26     MI   00   \n",
       "minnesota             105362      27  00662849  0400000US27    27     MN   00   \n",
       "mississippi             8052      28  01779790  0400000US28    28     MS   00   \n",
       "missouri               40132      29  01779791  0400000US29    29     MO   00   \n",
       "montana                 3342      30  00767982  0400000US30    30     MT   00   \n",
       "nebraska               25005      31  01779792  0400000US31    31     NE   00   \n",
       "nevada                 12021      32  01779793  0400000US32    32     NV   00   \n",
       "new hampshire           8559      33  01779794  0400000US33    33     NH   00   \n",
       "new jersey             69116      34  01779795  0400000US34    34     NJ   00   \n",
       "new mexico              6455      35  00897535  0400000US35    35     NM   00   \n",
       "new york              189393      36  01779796  0400000US36    36     NY   00   \n",
       "north carolina        193331      37  01027616  0400000US37    37     NC   00   \n",
       "north dakota             464      38  01779797  0400000US38    38     ND   00   \n",
       "ohio                   73148      39  01085497  0400000US39    39     OH   00   \n",
       "oklahoma               64870      40  01102857  0400000US40    40     OK   00   \n",
       "oregon                108242      41  01155107  0400000US41    41     OR   00   \n",
       "pennsylvania          135909      42  01779798  0400000US42    42     PA   00   \n",
       "rhode island           12909      44  01219835  0400000US44    44     RI   00   \n",
       "south carolina        212573      45  01779799  0400000US45    45     SC   00   \n",
       "south dakota             219      46  01785534  0400000US46    46     SD   00   \n",
       "tennessee              88428      47  01325873  0400000US47    47     TN   00   \n",
       "texas                 376282      48  01779801  0400000US48    48     TX   00   \n",
       "utah                   57983      49  01455989  0400000US49    49     UT   00   \n",
       "vermont                  771      50  01779802  0400000US50    50     VT   00   \n",
       "virginia              127774      51  01779803  0400000US51    51     VA   00   \n",
       "washington             74694      53  01779804  0400000US53    53     WA   00   \n",
       "west virginia           3612      54  01779805  0400000US54    54     WV   00   \n",
       "wisconsin              21519      55  01779806  0400000US55    55     WI   00   \n",
       "wyoming                  521      56  01779807  0400000US56    56     WY   00   \n",
       "\n",
       "                             aland        awater  \\\n",
       "alabama               131174048583    4593327154   \n",
       "arizona               294198551143    1027337603   \n",
       "arkansas              134768872727    2962859592   \n",
       "california            403503931312   20463871877   \n",
       "colorado              268422891711    1181621593   \n",
       "connecticut            12542497068    1815617571   \n",
       "delaware                5045925646    1399985648   \n",
       "district of columbia     158340391      18687198   \n",
       "florida               138949136250   31361101223   \n",
       "georgia               149482048342    4422936154   \n",
       "idaho                 214049787659    2391722557   \n",
       "illinois              143780567633    6214824948   \n",
       "indiana                92789302676    1538002829   \n",
       "iowa                  144661267977    1084180812   \n",
       "kansas                211755344060    1344141205   \n",
       "kentucky              102279490672    2375337755   \n",
       "louisiana             111897594374   23753621895   \n",
       "maine                  79887426037   11746549764   \n",
       "maryland               25151100280    6979966958   \n",
       "massachusetts          20205125364    7129925486   \n",
       "michigan              146600952990  103885855702   \n",
       "minnesota             206228939448   18945217189   \n",
       "mississippi           121533519481    3926919758   \n",
       "missouri              178050802184    2489425460   \n",
       "montana               376962738765    3869208832   \n",
       "nebraska              198956658395    1371829134   \n",
       "nevada                284329506470    2047206072   \n",
       "new hampshire          23189413166    1026675248   \n",
       "new jersey             19047825980    3544860246   \n",
       "new mexico            314196306401     728776523   \n",
       "new york              122049149763   19246994695   \n",
       "north carolina        125923656064   13466071395   \n",
       "north dakota          178707534813    4403267548   \n",
       "ohio                  105828882568   10268850702   \n",
       "oklahoma              177662925723    3374587997   \n",
       "oregon                248606993270    6192386935   \n",
       "pennsylvania          115884442321    3394589990   \n",
       "rhode island            2677779902    1323670487   \n",
       "south carolina         77864918488    5075218778   \n",
       "south dakota          196346981786    3382720225   \n",
       "tennessee             106802728188    2350123465   \n",
       "texas                 676653171537   19006305260   \n",
       "utah                  212886221680    6998824394   \n",
       "vermont                23874175944    1030416650   \n",
       "virginia              102257717110    8528531774   \n",
       "washington            172112588220   12559278850   \n",
       "west virginia          62266474513     489028543   \n",
       "wisconsin             140290039723   29344951758   \n",
       "wyoming               251458544898    1867670745   \n",
       "\n",
       "                                                               geometry  \\\n",
       "alabama               MULTIPOLYGON (((-88.05338 30.50699, -88.05109 ...   \n",
       "arizona               POLYGON ((-114.81629 32.50804, -114.81432 32.5...   \n",
       "arkansas              POLYGON ((-94.61783 36.49941, -94.61765 36.499...   \n",
       "california            MULTIPOLYGON (((-118.60442 33.47855, -118.5987...   \n",
       "colorado              POLYGON ((-109.06025 38.59933, -109.05954 38.7...   \n",
       "connecticut           MULTIPOLYGON (((-72.76143 41.24233, -72.75973 ...   \n",
       "delaware              MULTIPOLYGON (((-75.56555 39.51485, -75.56174 ...   \n",
       "district of columbia  POLYGON ((-77.11976 38.93434, -77.11253 38.940...   \n",
       "florida               MULTIPOLYGON (((-80.17628 25.52505, -80.17395 ...   \n",
       "georgia               MULTIPOLYGON (((-81.27939 31.30792, -81.27716 ...   \n",
       "idaho                 POLYGON ((-117.24267 44.39655, -117.23484 44.3...   \n",
       "illinois              POLYGON ((-91.51297 40.18106, -91.51107 40.188...   \n",
       "indiana               POLYGON ((-88.09776 37.90403, -88.09448 37.905...   \n",
       "iowa                  POLYGON ((-96.63970 42.73707, -96.63589 42.741...   \n",
       "kansas                POLYGON ((-102.05174 40.00308, -101.91670 40.0...   \n",
       "kentucky              MULTIPOLYGON (((-89.40565 36.52817, -89.39869 ...   \n",
       "louisiana             MULTIPOLYGON (((-88.86770 29.86155, -88.86566 ...   \n",
       "maine                 MULTIPOLYGON (((-67.35580 44.64226, -67.35437 ...   \n",
       "maryland              MULTIPOLYGON (((-76.05015 37.98691, -76.04998 ...   \n",
       "massachusetts         MULTIPOLYGON (((-70.23405 41.28565, -70.22361 ...   \n",
       "michigan              MULTIPOLYGON (((-83.19159 42.03537, -83.18993 ...   \n",
       "minnesota             MULTIPOLYGON (((-89.59206 47.96668, -89.59147 ...   \n",
       "mississippi           MULTIPOLYGON (((-88.50297 30.21523, -88.49176 ...   \n",
       "missouri              POLYGON ((-95.77355 40.57820, -95.76853 40.583...   \n",
       "montana               POLYGON ((-116.04914 48.50205, -116.04913 48.5...   \n",
       "nebraska              POLYGON ((-104.05342 41.17054, -104.05324 41.1...   \n",
       "nevada                POLYGON ((-120.00574 39.22866, -120.00559 39.2...   \n",
       "new hampshire         MULTIPOLYGON (((-70.61702 42.97718, -70.61529 ...   \n",
       "new jersey            POLYGON ((-75.55910 39.62906, -75.55945 39.629...   \n",
       "new mexico            POLYGON ((-109.05017 31.48000, -109.04984 31.4...   \n",
       "new york              MULTIPOLYGON (((-72.03683 41.24984, -72.03496 ...   \n",
       "north carolina        MULTIPOLYGON (((-75.72681 35.93584, -75.71827 ...   \n",
       "north dakota          POLYGON ((-104.04868 48.86378, -104.04865 48.8...   \n",
       "ohio                  MULTIPOLYGON (((-82.73571 41.60336, -82.73392 ...   \n",
       "oklahoma              POLYGON ((-103.00257 36.52659, -103.00219 36.6...   \n",
       "oregon                MULTIPOLYGON (((-123.59892 46.25145, -123.5984...   \n",
       "pennsylvania          POLYGON ((-80.51989 40.90666, -80.51909 40.921...   \n",
       "rhode island          MULTIPOLYGON (((-71.28802 41.64558, -71.28647 ...   \n",
       "south carolina        MULTIPOLYGON (((-79.50795 33.02008, -79.50713 ...   \n",
       "south dakota          POLYGON ((-104.05788 44.99761, -104.05078 44.9...   \n",
       "tennessee             POLYGON ((-90.31030 35.00429, -90.30988 35.009...   \n",
       "texas                 MULTIPOLYGON (((-94.71830 29.72885, -94.71721 ...   \n",
       "utah                  POLYGON ((-114.05296 37.59278, -114.05247 37.6...   \n",
       "vermont               POLYGON ((-73.43774 44.04501, -73.43199 44.063...   \n",
       "virginia              MULTIPOLYGON (((-75.74241 37.80835, -75.74151 ...   \n",
       "washington            MULTIPOLYGON (((-122.57039 48.53785, -122.5686...   \n",
       "west virginia         POLYGON ((-82.64320 38.16909, -82.64300 38.169...   \n",
       "wisconsin             MULTIPOLYGON (((-86.95617 45.35549, -86.95463 ...   \n",
       "wyoming               POLYGON ((-111.05456 45.00095, -111.04507 45.0...   \n",
       "\n",
       "                      total_drivers        lat        long  acc_per_cap  \n",
       "alabama                     4026151  32.318230  -86.902298     0.014155  \n",
       "arizona                     5369210  34.048927 -111.093735     0.017328  \n",
       "arkansas                    2153929  34.799999  -92.199997     0.002363  \n",
       "california                 27213650  36.778259 -119.417931     0.035712  \n",
       "colorado                    4235384  39.113014 -105.358887     0.012756  \n",
       "connecticut                 2608061  41.599998  -72.699997     0.012457  \n",
       "delaware                     812529  39.000000  -75.500000     0.008501  \n",
       "district of columbia         535579  38.895100  -77.036400     0.012146  \n",
       "florida                    15560628  27.994402  -81.760254     0.023750  \n",
       "georgia                     7261266  33.247875  -83.441162     0.014746  \n",
       "idaho                       1252535  44.068203 -114.742043     0.003383  \n",
       "illinois                    8546932  40.000000  -89.000000     0.013068  \n",
       "indiana                     4589405  40.273502  -86.126976     0.008301  \n",
       "iowa                        2274431  42.032974  -93.581543     0.006237  \n",
       "kansas                      2154260  38.500000  -98.000000     0.004516  \n",
       "kentucky                    3030329  37.839333  -84.270020     0.008153  \n",
       "louisiana                   3435168  30.391830  -92.329102     0.023430  \n",
       "maine                       1046129  45.367584  -68.972168     0.002243  \n",
       "maryland                    4463862  39.045753  -76.641273     0.015650  \n",
       "massachusetts               4950056  42.407211  -71.382439     0.008912  \n",
       "michigan                    7141494  44.182205  -84.506836     0.014804  \n",
       "minnesota                   3391057  46.392410  -94.636230     0.031071  \n",
       "mississippi                 2058036  33.000000  -90.000000     0.003912  \n",
       "missouri                    4274389  38.573936  -92.603760     0.009389  \n",
       "montana                      811851  46.965260 -109.533691     0.004117  \n",
       "nebraska                    1430818  41.500000 -100.000000     0.017476  \n",
       "nevada                      2054421  39.876019 -117.224121     0.005851  \n",
       "new hampshire               1195211  44.000000  -71.500000     0.007161  \n",
       "new jersey                  6377413  39.833851  -74.871826     0.010838  \n",
       "new mexico                  1449711  34.307144 -106.018066     0.004453  \n",
       "new york                   12194360  43.000000  -75.000000     0.015531  \n",
       "north carolina              7620001  35.782169  -80.793457     0.025372  \n",
       "north dakota                 556064  47.650589 -100.437012     0.000834  \n",
       "ohio                        8032792  40.367474  -82.996216     0.009106  \n",
       "oklahoma                    2522670  36.084621  -96.921387     0.025715  \n",
       "oregon                      2930701  44.000000 -120.500000     0.036934  \n",
       "pennsylvania                8987676  41.203323  -77.194527     0.015122  \n",
       "rhode island                 761046  41.700001  -71.500000     0.016962  \n",
       "south carolina              3877968  33.836082  -81.163727     0.054816  \n",
       "south dakota                 638428  44.500000 -100.000000     0.000343  \n",
       "tennessee                   5422429  35.860119  -86.660156     0.016308  \n",
       "texas                      17822760  31.000000 -100.000000     0.021112  \n",
       "utah                        2121099  39.419220 -111.950684     0.027336  \n",
       "vermont                      564894  44.000000  -72.699997     0.001365  \n",
       "virginia                    5888196  37.926868  -78.024902     0.021700  \n",
       "washington                  5711136  47.751076 -120.740135     0.013079  \n",
       "west virginia               1130389  39.000000  -80.500000     0.003195  \n",
       "wisconsin                   4296646  44.500000  -89.500000     0.005008  \n",
       "wyoming                      424115  43.075970 -107.290283     0.001228  "
      ]
     },
     "execution_count": 104,
     "metadata": {},
     "output_type": "execute_result"
    }
   ],
   "source": [
    "state_df"
   ]
  },
  {
   "cell_type": "markdown",
   "metadata": {},
   "source": [
    "_______________\n",
    "# Kepler.gl Visualizations\n",
    "_______________"
   ]
  },
  {
   "cell_type": "markdown",
   "metadata": {},
   "source": [
    "___________\n",
    "**Convert acc_df to a Geopandas Dataframe**\n",
    "___________\n"
   ]
  },
  {
   "cell_type": "code",
   "execution_count": 105,
   "metadata": {},
   "outputs": [],
   "source": [
    "# dropping rows that I won't be using in the plots\n",
    "acc_df.drop(columns = ['temperature(f)', 'wind_chill(f)', 'humidity(%)', 'pressure(in)', 'visibility(mi)', \n",
    "                       'wind_direction', 'wind_speed(mph)', 'precipitation(in)', 'weather_condition', \n",
    "                       'sunrise_sunset', 'civil_twilight', 'nautical_twilight', 'astronomical_twilight'], inplace = True)\n"
   ]
  },
  {
   "cell_type": "code",
   "execution_count": 106,
   "metadata": {},
   "outputs": [],
   "source": [
    "# converting acc_df to geopandas df\n",
    "# gdp is the geopandas imported as gpd\n",
    "# GeoDataFrame is a function that converts objects to GeoPandas DF's\n",
    "# Since There is not geometry object (column) we need to use .points_from_xy\n",
    "# .points_from_xy() function converts latitude and longitude columns to geometry object. \n",
    "# geometry object will be used to plot in geospatial data. \n",
    "\n",
    "acc_gdf = gpd.GeoDataFrame(\n",
    "    acc_df, geometry = gpd.points_from_xy(acc_df['start_lat'], acc_df['start_lng']))"
   ]
  },
  {
   "cell_type": "markdown",
   "metadata": {},
   "source": [
    "__________________\n",
    "**Splitting Up acc_gdf into smaller portions**\n",
    "__________________"
   ]
  },
  {
   "cell_type": "code",
   "execution_count": 107,
   "metadata": {},
   "outputs": [],
   "source": [
    "# Setting up the length of each new split dataframe\n",
    "# Splitting 10 times so multiplying length of the dataframe by .10\n",
    "len_new = int(round(len(acc_gdf) * .10, 0))\n",
    "\n",
    "# Creating 10 new dataframes of 10 percent of total samples in each new dataframe. \n",
    "# Now I will use len_new to index the new dataframes\n",
    "acc_gdf1 = acc_gdf.iloc[0:len_new, :]\n",
    "acc_gdf2 = acc_gdf.iloc[len_new:(len_new * 2),  :]\n",
    "acc_gdf3 = acc_gdf.iloc[(len_new * 2):(len_new * 3),  :]\n",
    "acc_gdf4 = acc_gdf.iloc[(len_new * 3): (len_new * 4), :]\n",
    "acc_gdf5 = acc_gdf.iloc[(len_new * 4): (len_new * 5), :]\n",
    "acc_gdf6 = acc_gdf.iloc[(len_new * 5): (len_new * 6), :]\n",
    "acc_gdf7 = acc_gdf.iloc[(len_new * 6): (len_new * 7), :]\n",
    "acc_gdf8 = acc_gdf.iloc[(len_new * 7): (len_new * 8), :]\n",
    "acc_gdf9 = acc_gdf.iloc[(len_new * 8): (len_new * 9), :]\n",
    "acc_gdf10 = acc_gdf.iloc[(len_new * 9): (len_new * 10), :]"
   ]
  },
  {
   "cell_type": "code",
   "execution_count": 108,
   "metadata": {},
   "outputs": [],
   "source": [
    "# Saving all of the split dfs to geojson so that I can use keppler on the web.\n",
    "# acc_gdf1.to_csv('../data/acc_gdf1.csv') \n",
    "# acc_gdf2.to_csv('../data/acc_gdf2.csv')\n",
    "# acc_gdf3.to_csv('../data/acc_gdf3.csv') \n",
    "# acc_gdf4.to_csv('../data/acc_gdf4.csv')\n",
    "# acc_gdf5.to_csv('../data/acc_gdf5.csv') \n",
    "# acc_gdf6.to_csv('../data/acc_gdf6.csv')\n",
    "# acc_gdf7.to_csv('../data/acc_gdf7.csv')\n",
    "# acc_gdf8.to_csv('../data/acc_gdf8.csv')\n",
    "# acc_gdf9.to_csv('../data/acc_gdf9.csv')\n",
    "# acc_gdf10.to_csv('../data/acc_gdf10.csv')"
   ]
  },
  {
   "cell_type": "markdown",
   "metadata": {},
   "source": [
    "_________\n",
    "# Visualizations\n",
    "__________"
   ]
  },
  {
   "cell_type": "markdown",
   "metadata": {},
   "source": [
    "_____________________________\n",
    "## Kepler.gl Plot with All Datapoints\n",
    "Created a basic national map with accident count, licensed drivers and percentage of accidents per capita (derived by dividing accident count by licensed drivers per state). \n",
    "\n",
    "# Data Warning!!!\n",
    "**This plot contains almost 1GB of data and takes awhile to load**"
   ]
  },
  {
   "cell_type": "code",
   "execution_count": 109,
   "metadata": {},
   "outputs": [
    {
     "name": "stdout",
     "output_type": "stream",
     "text": [
      "User Guide: https://docs.kepler.gl/docs/keplergl-jupyter\n"
     ]
    }
   ],
   "source": [
    "map_acc = KeplerGl(height = 400)"
   ]
  },
  {
   "cell_type": "code",
   "execution_count": 110,
   "metadata": {},
   "outputs": [],
   "source": [
    "# Adding split dataframes to Keppler using add_data() function.\n",
    "# I had to split the dataframes (see above) into managable data sizes. Luckily keppler allows you to add as many times as necessary. \n",
    "\n",
    "map_acc.add_data(data = acc_gdf1, name = 'Accidents')\n",
    "map_acc.add_data(data = acc_gdf2, name = 'Accidents')\n",
    "map_acc.add_data(data = acc_gdf3, name = 'Accidents')\n",
    "map_acc.add_data(data = acc_gdf4, name = 'Accidents')\n",
    "map_acc.add_data(data = acc_gdf5, name = 'Accidents')\n",
    "map_acc.add_data(data = acc_gdf6, name = 'Accidents')\n",
    "map_acc.add_data(data = acc_gdf7, name = 'Accidents')\n",
    "map_acc.add_data(data = acc_gdf8, name = 'Accidents')\n",
    "map_acc.add_data(data = acc_gdf9, name = 'Accidents')\n",
    "map_acc.add_data(data = acc_gdf10, name = 'Accidents')"
   ]
  },
  {
   "cell_type": "code",
   "execution_count": 111,
   "metadata": {},
   "outputs": [
    {
     "data": {
      "application/vnd.jupyter.widget-view+json": {
       "model_id": "e143db3e6c994ef691f779a68182151c",
       "version_major": 2,
       "version_minor": 0
      },
      "text/plain": [
       "KeplerGl(data={'Accidents': {'index': [3806451, 3806452, 3806453, 3806454, 3806455, 3806456, 3806457, 3806458,…"
      ]
     },
     "metadata": {},
     "output_type": "display_data"
    }
   ],
   "source": [
    "# display function calls added data and as you add each new layer (above) you will see the data update into this cell.\n",
    "# The interactive map displays here.\n",
    "display(map_acc)\n"
   ]
  },
  {
   "cell_type": "markdown",
   "metadata": {},
   "source": [
    "__________\n",
    "## Keppler plot of just the State Counts and Per Capita Counts\n",
    "___________"
   ]
  },
  {
   "cell_type": "code",
   "execution_count": 112,
   "metadata": {},
   "outputs": [],
   "source": [
    "state_gdf = gpd.GeoDataFrame(state_df)"
   ]
  },
  {
   "cell_type": "code",
   "execution_count": 113,
   "metadata": {},
   "outputs": [],
   "source": [
    "state_gdf = state_gdf.loc[:, ['count', 'geometry', 'total_drivers', 'acc_per_cap', 'stusps', 'lat', 'long']]"
   ]
  },
  {
   "cell_type": "code",
   "execution_count": 114,
   "metadata": {},
   "outputs": [
    {
     "name": "stdout",
     "output_type": "stream",
     "text": [
      "User Guide: https://docs.kepler.gl/docs/keplergl-jupyter\n"
     ]
    }
   ],
   "source": [
    "# Instantiate KeplerGl\n",
    "map_1 = KeplerGl(height = 400)"
   ]
  },
  {
   "cell_type": "code",
   "execution_count": 115,
   "metadata": {},
   "outputs": [],
   "source": [
    "# Add data to KeplerGl instance\n",
    "map_1.add_data(data = state_gdf, name = 'NationalAccidents')"
   ]
  },
  {
   "cell_type": "code",
   "execution_count": 116,
   "metadata": {
    "scrolled": false
   },
   "outputs": [
    {
     "data": {
      "application/vnd.jupyter.widget-view+json": {
       "model_id": "b0c786f4e9c04c839bf4a1fc4f7cd597",
       "version_major": 2,
       "version_minor": 0
      },
      "text/plain": [
       "KeplerGl(data={'NationalAccidents': {'index': ['alabama', 'arizona', 'arkansas', 'california', 'colorado', 'co…"
      ]
     },
     "metadata": {},
     "output_type": "display_data"
    }
   ],
   "source": [
    "display(map_1)"
   ]
  },
  {
   "cell_type": "code",
   "execution_count": 68,
   "metadata": {},
   "outputs": [
    {
     "data": {
      "text/plain": [
       "{'version': 'v1',\n",
       " 'config': {'visState': {'filters': [],\n",
       "   'layers': [{'id': 'ew6bvll',\n",
       "     'type': 'geojson',\n",
       "     'config': {'dataId': 'NationalAccidents',\n",
       "      'label': 'NationalAccidents',\n",
       "      'color': [218, 112, 191],\n",
       "      'columns': {'geojson': 'geometry'},\n",
       "      'isVisible': True,\n",
       "      'visConfig': {'opacity': 0.8,\n",
       "       'strokeOpacity': 0.8,\n",
       "       'thickness': 0.5,\n",
       "       'strokeColor': None,\n",
       "       'colorRange': {'name': 'Global Warming',\n",
       "        'type': 'sequential',\n",
       "        'category': 'Uber',\n",
       "        'colors': ['#5A1846',\n",
       "         '#900C3F',\n",
       "         '#C70039',\n",
       "         '#E3611C',\n",
       "         '#F1920E',\n",
       "         '#FFC300']},\n",
       "       'strokeColorRange': {'name': 'Global Warming',\n",
       "        'type': 'sequential',\n",
       "        'category': 'Uber',\n",
       "        'colors': ['#5A1846',\n",
       "         '#900C3F',\n",
       "         '#C70039',\n",
       "         '#E3611C',\n",
       "         '#F1920E',\n",
       "         '#FFC300']},\n",
       "       'radius': 100,\n",
       "       'sizeRange': [0, 10],\n",
       "       'radiusRange': [0, 50],\n",
       "       'heightRange': [0, 500],\n",
       "       'elevationScale': 5,\n",
       "       'stroked': True,\n",
       "       'filled': False,\n",
       "       'enable3d': False,\n",
       "       'wireframe': False},\n",
       "      'hidden': False,\n",
       "      'textLabel': [{'field': None,\n",
       "        'color': [255, 255, 255],\n",
       "        'size': 18,\n",
       "        'offset': [0, 0],\n",
       "        'anchor': 'start',\n",
       "        'alignment': 'center'}]},\n",
       "     'visualChannels': {'colorField': None,\n",
       "      'colorScale': 'quantile',\n",
       "      'sizeField': None,\n",
       "      'sizeScale': 'linear',\n",
       "      'strokeColorField': None,\n",
       "      'strokeColorScale': 'quantile',\n",
       "      'heightField': None,\n",
       "      'heightScale': 'linear',\n",
       "      'radiusField': None,\n",
       "      'radiusScale': 'linear'}},\n",
       "    {'id': 'huy3bll',\n",
       "     'type': 'heatmap',\n",
       "     'config': {'dataId': 'NationalAccidents',\n",
       "      'label': 'state',\n",
       "      'color': [177, 231, 214],\n",
       "      'columns': {'lat': 'lat', 'lng': 'long'},\n",
       "      'isVisible': True,\n",
       "      'visConfig': {'opacity': 0.8,\n",
       "       'colorRange': {'name': 'Uber Viz Qualitative 4',\n",
       "        'type': 'qualitative',\n",
       "        'category': 'Uber',\n",
       "        'colors': ['#12939A',\n",
       "         '#DDB27C',\n",
       "         '#88572C',\n",
       "         '#FF991F',\n",
       "         '#F15C17',\n",
       "         '#223F9A',\n",
       "         '#DA70BF',\n",
       "         '#125C77',\n",
       "         '#4DC19C',\n",
       "         '#776E57',\n",
       "         '#17B8BE',\n",
       "         '#F6D18A',\n",
       "         '#B7885E',\n",
       "         '#FFCB99',\n",
       "         '#F89570',\n",
       "         '#829AE3',\n",
       "         '#E79FD5',\n",
       "         '#1E96BE',\n",
       "         '#89DAC1',\n",
       "         '#B3AD9E']},\n",
       "       'radius': 100},\n",
       "      'hidden': False,\n",
       "      'textLabel': [{'field': None,\n",
       "        'color': [255, 255, 255],\n",
       "        'size': 18,\n",
       "        'offset': [0, 0],\n",
       "        'anchor': 'start',\n",
       "        'alignment': 'center'}]},\n",
       "     'visualChannels': {'weightField': {'name': 'acc_per_cap', 'type': 'real'},\n",
       "      'weightScale': 'linear'}}],\n",
       "   'interactionConfig': {'tooltip': {'fieldsToShow': {'NationalAccidents': [{'name': 'count',\n",
       "        'format': None},\n",
       "       {'name': 'total_drivers', 'format': None},\n",
       "       {'name': 'acc_per_cap', 'format': None},\n",
       "       {'name': 'stusps', 'format': None},\n",
       "       {'name': 'long', 'format': None}]},\n",
       "     'compareMode': False,\n",
       "     'compareType': 'absolute',\n",
       "     'enabled': True},\n",
       "    'brush': {'size': 0.5, 'enabled': False},\n",
       "    'geocoder': {'enabled': False},\n",
       "    'coordinate': {'enabled': False}},\n",
       "   'layerBlending': 'normal',\n",
       "   'splitMaps': [],\n",
       "   'animationConfig': {'currentTime': None, 'speed': 1}},\n",
       "  'mapState': {'bearing': 0,\n",
       "   'dragRotate': False,\n",
       "   'latitude': 40.12986674585066,\n",
       "   'longitude': -111.16986977067305,\n",
       "   'pitch': 0,\n",
       "   'zoom': 2.465289163169173,\n",
       "   'isSplit': False},\n",
       "  'mapStyle': {'styleType': 'muted',\n",
       "   'topLayerGroups': {},\n",
       "   'visibleLayerGroups': {'label': True,\n",
       "    'road': True,\n",
       "    'border': False,\n",
       "    'building': True,\n",
       "    'water': True,\n",
       "    'land': True,\n",
       "    '3d building': False},\n",
       "   'threeDBuildingColor': [224.4071295378559,\n",
       "    224.4071295378559,\n",
       "    224.4071295378559],\n",
       "   'mapStyles': {}}}}"
      ]
     },
     "execution_count": 68,
     "metadata": {},
     "output_type": "execute_result"
    }
   ],
   "source": [
    "# map_config_per_capita_heatmap\n",
    "{\n",
    "  \"version\": \"v1\",\n",
    "  \"config\": {\n",
    "    \"visState\": {\n",
    "      \"filters\": [],\n",
    "      \"layers\": [\n",
    "        {\n",
    "          \"id\": \"ew6bvll\",\n",
    "          \"type\": \"geojson\",\n",
    "          \"config\": {\n",
    "            \"dataId\": \"NationalAccidents\",\n",
    "            \"label\": \"NationalAccidents\",\n",
    "            \"color\": [\n",
    "              218,\n",
    "              112,\n",
    "              191\n",
    "            ],\n",
    "            \"columns\": {\n",
    "              \"geojson\": \"geometry\"\n",
    "            },\n",
    "            \"isVisible\": True,\n",
    "            \"visConfig\": {\n",
    "              \"opacity\": 0.8,\n",
    "              \"strokeOpacity\": 0.8,\n",
    "              \"thickness\": 0.5,\n",
    "              \"strokeColor\": None,\n",
    "              \"colorRange\": {\n",
    "                \"name\": \"Global Warming\",\n",
    "                \"type\": \"sequential\",\n",
    "                \"category\": \"Uber\",\n",
    "                \"colors\": [\n",
    "                  \"#5A1846\",\n",
    "                  \"#900C3F\",\n",
    "                  \"#C70039\",\n",
    "                  \"#E3611C\",\n",
    "                  \"#F1920E\",\n",
    "                  \"#FFC300\"\n",
    "                ]\n",
    "              },\n",
    "              \"strokeColorRange\": {\n",
    "                \"name\": \"Global Warming\",\n",
    "                \"type\": \"sequential\",\n",
    "                \"category\": \"Uber\",\n",
    "                \"colors\": [\n",
    "                  \"#5A1846\",\n",
    "                  \"#900C3F\",\n",
    "                  \"#C70039\",\n",
    "                  \"#E3611C\",\n",
    "                  \"#F1920E\",\n",
    "                  \"#FFC300\"\n",
    "                ]\n",
    "              },\n",
    "              \"radius\": 100,\n",
    "              \"sizeRange\": [\n",
    "                0,\n",
    "                10\n",
    "              ],\n",
    "              \"radiusRange\": [\n",
    "                0,\n",
    "                50\n",
    "              ],\n",
    "              \"heightRange\": [\n",
    "                0,\n",
    "                500\n",
    "              ],\n",
    "              \"elevationScale\": 5,\n",
    "              \"stroked\": True,\n",
    "              \"filled\": False,\n",
    "              \"enable3d\": False,\n",
    "              \"wireframe\": False\n",
    "            },\n",
    "            \"hidden\": False,\n",
    "            \"textLabel\": [\n",
    "              {\n",
    "                \"field\": None,\n",
    "                \"color\": [\n",
    "                  255,\n",
    "                  255,\n",
    "                  255\n",
    "                ],\n",
    "                \"size\": 18,\n",
    "                \"offset\": [\n",
    "                  0,\n",
    "                  0\n",
    "                ],\n",
    "                \"anchor\": \"start\",\n",
    "                \"alignment\": \"center\"\n",
    "              }\n",
    "            ]\n",
    "          },\n",
    "          \"visualChannels\": {\n",
    "            \"colorField\": None,\n",
    "            \"colorScale\": \"quantile\",\n",
    "            \"sizeField\": None,\n",
    "            \"sizeScale\": \"linear\",\n",
    "            \"strokeColorField\": None,\n",
    "            \"strokeColorScale\": \"quantile\",\n",
    "            \"heightField\": None,\n",
    "            \"heightScale\": \"linear\",\n",
    "            \"radiusField\": None,\n",
    "            \"radiusScale\": \"linear\"\n",
    "          }\n",
    "        },\n",
    "        {\n",
    "          \"id\": \"huy3bll\",\n",
    "          \"type\": \"heatmap\",\n",
    "          \"config\": {\n",
    "            \"dataId\": \"NationalAccidents\",\n",
    "            \"label\": \"state\",\n",
    "            \"color\": [\n",
    "              177,\n",
    "              231,\n",
    "              214\n",
    "            ],\n",
    "            \"columns\": {\n",
    "              \"lat\": \"lat\",\n",
    "              \"lng\": \"long\"\n",
    "            },\n",
    "            \"isVisible\": True,\n",
    "            \"visConfig\": {\n",
    "              \"opacity\": 0.8,\n",
    "              \"colorRange\": {\n",
    "                \"name\": \"Uber Viz Qualitative 4\",\n",
    "                \"type\": \"qualitative\",\n",
    "                \"category\": \"Uber\",\n",
    "                \"colors\": [\n",
    "                  \"#12939A\",\n",
    "                  \"#DDB27C\",\n",
    "                  \"#88572C\",\n",
    "                  \"#FF991F\",\n",
    "                  \"#F15C17\",\n",
    "                  \"#223F9A\",\n",
    "                  \"#DA70BF\",\n",
    "                  \"#125C77\",\n",
    "                  \"#4DC19C\",\n",
    "                  \"#776E57\",\n",
    "                  \"#17B8BE\",\n",
    "                  \"#F6D18A\",\n",
    "                  \"#B7885E\",\n",
    "                  \"#FFCB99\",\n",
    "                  \"#F89570\",\n",
    "                  \"#829AE3\",\n",
    "                  \"#E79FD5\",\n",
    "                  \"#1E96BE\",\n",
    "                  \"#89DAC1\",\n",
    "                  \"#B3AD9E\"\n",
    "                ]\n",
    "              },\n",
    "              \"radius\": 100\n",
    "            },\n",
    "            \"hidden\": False,\n",
    "            \"textLabel\": [\n",
    "              {\n",
    "                \"field\": None,\n",
    "                \"color\": [\n",
    "                  255,\n",
    "                  255,\n",
    "                  255\n",
    "                ],\n",
    "                \"size\": 18,\n",
    "                \"offset\": [\n",
    "                  0,\n",
    "                  0\n",
    "                ],\n",
    "                \"anchor\": \"start\",\n",
    "                \"alignment\": \"center\"\n",
    "              }\n",
    "            ]\n",
    "          },\n",
    "          \"visualChannels\": {\n",
    "            \"weightField\": {\n",
    "              \"name\": \"acc_per_cap\",\n",
    "              \"type\": \"real\"\n",
    "            },\n",
    "            \"weightScale\": \"linear\"\n",
    "          }\n",
    "        }\n",
    "      ],\n",
    "      \"interactionConfig\": {\n",
    "        \"tooltip\": {\n",
    "          \"fieldsToShow\": {\n",
    "            \"NationalAccidents\": [\n",
    "              {\n",
    "                \"name\": \"count\",\n",
    "                \"format\": None\n",
    "              },\n",
    "              {\n",
    "                \"name\": \"total_drivers\",\n",
    "                \"format\": None\n",
    "              },\n",
    "              {\n",
    "                \"name\": \"acc_per_cap\",\n",
    "                \"format\": None\n",
    "              },\n",
    "              {\n",
    "                \"name\": \"stusps\",\n",
    "                \"format\": None\n",
    "              },\n",
    "              {\n",
    "                \"name\": \"long\",\n",
    "                \"format\": None\n",
    "              }\n",
    "            ]\n",
    "          },\n",
    "          \"compareMode\": False,\n",
    "          \"compareType\": \"absolute\",\n",
    "          \"enabled\": True\n",
    "        },\n",
    "        \"brush\": {\n",
    "          \"size\": 0.5,\n",
    "          \"enabled\": False\n",
    "        },\n",
    "        \"geocoder\": {\n",
    "          \"enabled\": False\n",
    "        },\n",
    "        \"coordinate\": {\n",
    "          \"enabled\": False\n",
    "        }\n",
    "      },\n",
    "      \"layerBlending\": \"normal\",\n",
    "      \"splitMaps\": [],\n",
    "      \"animationConfig\": {\n",
    "        \"currentTime\": None,\n",
    "        \"speed\": 1\n",
    "      }\n",
    "    },\n",
    "    \"mapState\": {\n",
    "      \"bearing\": 0,\n",
    "      \"dragRotate\": False,\n",
    "      \"latitude\": 40.12986674585066,\n",
    "      \"longitude\": -111.16986977067305,\n",
    "      \"pitch\": 0,\n",
    "      \"zoom\": 2.465289163169173,\n",
    "      \"isSplit\": False\n",
    "    },\n",
    "    \"mapStyle\": {\n",
    "      \"styleType\": \"muted\",\n",
    "      \"topLayerGroups\": {},\n",
    "      \"visibleLayerGroups\": {\n",
    "        \"label\": True,\n",
    "        \"road\": True,\n",
    "        \"border\": False,\n",
    "        \"building\": True,\n",
    "        \"water\": True,\n",
    "        \"land\": True,\n",
    "        \"3d building\": False\n",
    "      },\n",
    "      \"threeDBuildingColor\": [\n",
    "        224.4071295378559,\n",
    "        224.4071295378559,\n",
    "        224.4071295378559\n",
    "      ],\n",
    "      \"mapStyles\": {}\n",
    "    }\n",
    "  }\n",
    "}"
   ]
  },
  {
   "cell_type": "markdown",
   "metadata": {},
   "source": [
    "### Geopandas Heatmap of Accident Count by State\n",
    "https://geopandas.org/gallery/create_geopandas_from_pandas.html"
   ]
  },
  {
   "cell_type": "code",
   "execution_count": 123,
   "metadata": {},
   "outputs": [
    {
     "data": {
      "text/plain": [
       "<Figure size 7200x5040 with 0 Axes>"
      ]
     },
     "metadata": {},
     "output_type": "display_data"
    },
    {
     "data": {
      "image/png": "[encoded data removed]",
      "text/plain": [
       "<Figure size 432x288 with 2 Axes>"
      ]
     },
     "metadata": {},
     "output_type": "display_data"
    }
   ],
   "source": [
    "plt.figure(figsize=(100,70))\n",
    "\n",
    "# reading in Geopandas worldmap\n",
    "world = gpd.read_file(gpd.datasets.get_path('naturalearth_lowres'))\n",
    "\n",
    "# We restrict to North America.\n",
    "ax = world[world.continent == 'North America'].plot(\n",
    "    color='white', edgecolor='black')\n",
    "\n",
    "# turn axis off\n",
    "plt.axis('off')\n",
    "\n",
    "# plot our ``GeoDataFrame``.\n",
    "state_gdf.plot(column='count', ax=ax, legend=True);\n",
    "\n",
    "plt.title('Accident Count by State')\n",
    "\n",
    "plt.show()"
   ]
  },
  {
   "cell_type": "code",
   "execution_count": 125,
   "metadata": {},
   "outputs": [
    {
     "data": {
      "text/plain": [
       "<Figure size 4320x2160 with 0 Axes>"
      ]
     },
     "metadata": {},
     "output_type": "display_data"
    },
    {
     "data": {
      "image/png": "[encoded data removed]",
      "text/plain": [
       "<Figure size 432x288 with 2 Axes>"
      ]
     },
     "metadata": {},
     "output_type": "display_data"
    }
   ],
   "source": [
    "plt.figure(figsize=(60,30))\n",
    "\n",
    "# reading in Geopandas worldmap\n",
    "world = gpd.read_file(gpd.datasets.get_path('naturalearth_lowres'))\n",
    "\n",
    "# We restrict to North America.\n",
    "ax = world[world.continent == 'North America'].plot(\n",
    "    color='white', edgecolor='black')\n",
    "\n",
    "# turn axis off\n",
    "plt.axis('off')\n",
    "\n",
    "# plot our ``GeoDataFrame``.\n",
    "state_gdf.plot(column='acc_per_cap', ax=ax, legend=True)\n",
    "\n",
    "plt.title('Per Capita Accident Count by State')\n",
    "\n",
    "plt.show();"
   ]
  },
  {
   "cell_type": "markdown",
   "metadata": {},
   "source": [
    "________________\n",
    "# EDA and Visualizations\n",
    "_______________"
   ]
  },
  {
   "cell_type": "markdown",
   "metadata": {},
   "source": [
    "____________\n",
    "# Severity Count by Severity Rating\n",
    "___________"
   ]
  },
  {
   "cell_type": "code",
   "execution_count": 126,
   "metadata": {},
   "outputs": [],
   "source": [
    "severity = acc_df.groupby('severity')[['start_lng']].count()\n",
    "severity.rename(columns = {'start_lng': 'count'}, inplace = True)\n",
    "severity.reset_index(inplace = True)"
   ]
  },
  {
   "cell_type": "code",
   "execution_count": 127,
   "metadata": {},
   "outputs": [
    {
     "data": {
      "image/png": "[encoded data removed]",
      "text/plain": [
       "<Figure size 432x288 with 1 Axes>"
      ]
     },
     "metadata": {},
     "output_type": "display_data"
    }
   ],
   "source": [
    "# setting x and height\n",
    "x = severity['severity']\n",
    "height = severity['count']\n",
    "\n",
    "# creating plot\n",
    "plt.bar(x, height, color = ['blue', 'yellow', 'orange', 'red'])\n",
    "\n",
    "# setting title and labels\n",
    "plt.title('Severity Count by Severity Rating')\n",
    "plt.xlabel('Severity Rating')\n",
    "plt.ylabel('Severity Count in Millions');"
   ]
  },
  {
   "cell_type": "markdown",
   "metadata": {},
   "source": [
    "________\n",
    "## Severity Rating By City\n",
    "_________"
   ]
  },
  {
   "cell_type": "code",
   "execution_count": 128,
   "metadata": {},
   "outputs": [],
   "source": [
    "city_acc_count = acc_df.groupby('city')[['severity']].count()\n",
    "city_acc_count.reset_index(inplace = True)"
   ]
  },
  {
   "cell_type": "code",
   "execution_count": 129,
   "metadata": {},
   "outputs": [
    {
     "data": {
      "text/html": [
       "<div>\n",
       "<style scoped>\n",
       "    .dataframe tbody tr th:only-of-type {\n",
       "        vertical-align: middle;\n",
       "    }\n",
       "\n",
       "    .dataframe tbody tr th {\n",
       "        vertical-align: top;\n",
       "    }\n",
       "\n",
       "    .dataframe thead th {\n",
       "        text-align: right;\n",
       "    }\n",
       "</style>\n",
       "<table border=\"1\" class=\"dataframe\">\n",
       "  <thead>\n",
       "    <tr style=\"text-align: right;\">\n",
       "      <th></th>\n",
       "      <th>severity</th>\n",
       "    </tr>\n",
       "    <tr>\n",
       "      <th>city</th>\n",
       "      <th></th>\n",
       "    </tr>\n",
       "  </thead>\n",
       "  <tbody>\n",
       "    <tr>\n",
       "      <th>Aaronsburg</th>\n",
       "      <td>2.4</td>\n",
       "    </tr>\n",
       "  </tbody>\n",
       "</table>\n",
       "</div>"
      ],
      "text/plain": [
       "            severity\n",
       "city                \n",
       "Aaronsburg       2.4"
      ]
     },
     "execution_count": 129,
     "metadata": {},
     "output_type": "execute_result"
    }
   ],
   "source": [
    "city_acc_mean = acc_df.groupby('city')[['severity']].mean()\n",
    "city_acc_mean.head(1)"
   ]
  },
  {
   "cell_type": "code",
   "execution_count": 130,
   "metadata": {},
   "outputs": [
    {
     "data": {
      "image/png": "[encoded data removed]",
      "text/plain": [
       "<Figure size 432x288 with 1 Axes>"
      ]
     },
     "metadata": {},
     "output_type": "display_data"
    }
   ],
   "source": [
    "# plot distribution of severity ratings by city\n",
    "plt.hist(city_acc_mean['severity'], color = ['red'])\n",
    "\n",
    "# set title and labels\n",
    "plt.title('Distribution of Average Severity By City')\n",
    "plt.xlabel('Average Severity Rating')\n",
    "plt.ylabel('Number of Cities');"
   ]
  },
  {
   "cell_type": "markdown",
   "metadata": {},
   "source": [
    "______\n",
    "## Bar Plot Side of Road\n",
    "______"
   ]
  },
  {
   "cell_type": "code",
   "execution_count": 131,
   "metadata": {},
   "outputs": [],
   "source": [
    "# creating df with just side of road count\n",
    "side_df = acc_df.groupby('side')[['severity']].count()\n",
    "side_df.rename(columns = {'severity': 'count'}, inplace = True)"
   ]
  },
  {
   "cell_type": "code",
   "execution_count": 132,
   "metadata": {},
   "outputs": [],
   "source": [
    "# dropping unlabeled row with only 2 values. \n",
    "side_df.drop(' ', inplace = True)\n",
    "side_df.reset_index(inplace = True)"
   ]
  },
  {
   "cell_type": "code",
   "execution_count": 133,
   "metadata": {
    "scrolled": true
   },
   "outputs": [
    {
     "data": {
      "image/png": "[encoded data removed]",
      "text/plain": [
       "<Figure size 432x288 with 1 Axes>"
      ]
     },
     "metadata": {},
     "output_type": "display_data"
    }
   ],
   "source": [
    "# setting up x and height \n",
    "x = list(side_df['side'])\n",
    "height = side_df['count']\n",
    "\n",
    "# plotting\n",
    "plt.bar(x, height = height, color = ['orange', 'red'])\n",
    "\n",
    "# setting title and labels\n",
    "plt.title('Accident by Side of Road')\n",
    "plt.xlabel('Side')\n",
    "plt.ylabel('Count Accidents in Millions');\n"
   ]
  },
  {
   "cell_type": "markdown",
   "metadata": {},
   "source": [
    "_______________\n",
    "## Bar Plots of Accidents Per State, County and City"
   ]
  },
  {
   "cell_type": "markdown",
   "metadata": {},
   "source": [
    "___________\n",
    "## Accidents Per State\n",
    "____________"
   ]
  },
  {
   "cell_type": "code",
   "execution_count": 134,
   "metadata": {},
   "outputs": [
    {
     "data": {
      "text/html": [
       "<div>\n",
       "<style scoped>\n",
       "    .dataframe tbody tr th:only-of-type {\n",
       "        vertical-align: middle;\n",
       "    }\n",
       "\n",
       "    .dataframe tbody tr th {\n",
       "        vertical-align: top;\n",
       "    }\n",
       "\n",
       "    .dataframe thead th {\n",
       "        text-align: right;\n",
       "    }\n",
       "</style>\n",
       "<table border=\"1\" class=\"dataframe\">\n",
       "  <thead>\n",
       "    <tr style=\"text-align: right;\">\n",
       "      <th></th>\n",
       "      <th>count</th>\n",
       "      <th>total_drivers</th>\n",
       "    </tr>\n",
       "    <tr>\n",
       "      <th>state</th>\n",
       "      <th></th>\n",
       "      <th></th>\n",
       "    </tr>\n",
       "  </thead>\n",
       "  <tbody>\n",
       "    <tr>\n",
       "      <th>alabama</th>\n",
       "      <td>56989</td>\n",
       "      <td>4026151</td>\n",
       "    </tr>\n",
       "  </tbody>\n",
       "</table>\n",
       "</div>"
      ],
      "text/plain": [
       "         count  total_drivers\n",
       "state                        \n",
       "alabama  56989        4026151"
      ]
     },
     "execution_count": 134,
     "metadata": {},
     "output_type": "execute_result"
    }
   ],
   "source": [
    "# Create a df with accident count and total licensed drivers per state. \n",
    "acc_per_state = pd.concat([state_count, license_df], axis = 1)\n",
    "acc_per_state.head(1)"
   ]
  },
  {
   "cell_type": "code",
   "execution_count": 135,
   "metadata": {
    "scrolled": true
   },
   "outputs": [
    {
     "data": {
      "text/html": [
       "<div>\n",
       "<style scoped>\n",
       "    .dataframe tbody tr th:only-of-type {\n",
       "        vertical-align: middle;\n",
       "    }\n",
       "\n",
       "    .dataframe tbody tr th {\n",
       "        vertical-align: top;\n",
       "    }\n",
       "\n",
       "    .dataframe thead th {\n",
       "        text-align: right;\n",
       "    }\n",
       "</style>\n",
       "<table border=\"1\" class=\"dataframe\">\n",
       "  <thead>\n",
       "    <tr style=\"text-align: right;\">\n",
       "      <th></th>\n",
       "      <th>count</th>\n",
       "      <th>total_drivers</th>\n",
       "      <th>acc_per_cap</th>\n",
       "    </tr>\n",
       "    <tr>\n",
       "      <th>state</th>\n",
       "      <th></th>\n",
       "      <th></th>\n",
       "      <th></th>\n",
       "    </tr>\n",
       "  </thead>\n",
       "  <tbody>\n",
       "    <tr>\n",
       "      <th>alabama</th>\n",
       "      <td>56989</td>\n",
       "      <td>4026151</td>\n",
       "      <td>0.014155</td>\n",
       "    </tr>\n",
       "  </tbody>\n",
       "</table>\n",
       "</div>"
      ],
      "text/plain": [
       "         count  total_drivers  acc_per_cap\n",
       "state                                     \n",
       "alabama  56989        4026151     0.014155"
      ]
     },
     "execution_count": 135,
     "metadata": {},
     "output_type": "execute_result"
    }
   ],
   "source": [
    "# creating a accident per capita column\n",
    "acc_per_state['acc_per_cap'] = acc_per_state['count'] / acc_per_state['total_drivers']\n",
    "acc_per_state.head(1)"
   ]
  },
  {
   "cell_type": "code",
   "execution_count": 136,
   "metadata": {},
   "outputs": [],
   "source": [
    "# resetting index to numeric index\n",
    "acc_per_state = acc_per_state.reset_index()"
   ]
  },
  {
   "cell_type": "markdown",
   "metadata": {},
   "source": [
    "______________\n",
    "## Plot of Accidents by State\n",
    "______________"
   ]
  },
  {
   "cell_type": "code",
   "execution_count": 137,
   "metadata": {},
   "outputs": [
    {
     "data": {
      "image/png": "[encoded data removed]",
      "text/plain": [
       "<Figure size 864x648 with 1 Axes>"
      ]
     },
     "metadata": {},
     "output_type": "display_data"
    }
   ],
   "source": [
    "# creating new df of acc_per_state sorted by count\n",
    "acc_count = acc_per_state.sort_values('count', ascending = False)\n",
    "\n",
    "# creating variables to house plotting coordinates\n",
    "x = list(acc_count['count'])\n",
    "bars = list(acc_count['state'])\n",
    "y_pos = np.arange(len(bars))\n",
    "\n",
    "# plotting\n",
    "plt.figure(figsize = (12,9))\n",
    "plt.barh(y_pos, x, color = 'red')\n",
    "plt.yticks(y_pos, bars, color = 'black')\n",
    "plt.xticks(color = 'black')\n",
    "plt.xlabel('Accident Count', color = 'black')\n",
    "plt.ylabel('State', color = 'black')\n",
    "plt.title('Accidents by State', color = 'black')\n",
    "plt.show()"
   ]
  },
  {
   "cell_type": "markdown",
   "metadata": {},
   "source": [
    "**Analysis of Plot of Accidents by State**\n",
    "__________________\n",
    "\n",
    "* Not surprisingly California, Texas and Florida rank highest in number of accidents per state. Afterall, they are the three largest states. **What was surprising, however, is North and South Carolina in the top five.** What factors contribute to such a high number of accidents in these two states?\n",
    "\n",
    "* Looking at the bottom tier of states appears to confirm the relationship between population and number of accidents. Again, this is not surprising. \n",
    "____________________"
   ]
  },
  {
   "cell_type": "markdown",
   "metadata": {},
   "source": [
    "______________\n",
    "## Plot of Largest Per Capita Accidents Rates By State\n",
    "_______________________________"
   ]
  },
  {
   "cell_type": "code",
   "execution_count": 138,
   "metadata": {
    "scrolled": true
   },
   "outputs": [
    {
     "data": {
      "image/png": "[encoded data removed]",
      "text/plain": [
       "<Figure size 864x648 with 1 Axes>"
      ]
     },
     "metadata": {},
     "output_type": "display_data"
    }
   ],
   "source": [
    "# creating new df of acc_per_state sorted by count\n",
    "acc_pcapita = acc_per_state.sort_values('acc_per_cap', ascending = False)\n",
    "\n",
    "# creating variables to house plotting coordinates\n",
    "x = list(acc_pcapita['acc_per_cap'])\n",
    "bars = list(acc_pcapita['state'])\n",
    "y_pos = np.arange(len(bars))\n",
    "\n",
    "# plotting\n",
    "plt.figure(figsize = (12,9))\n",
    "plt.barh(y_pos, x, color = 'red')\n",
    "plt.yticks(y_pos, bars, color = 'black')\n",
    "plt.xticks(color = 'black')\n",
    "plt.xlabel('Per Capita Accident Rate', color = 'black')\n",
    "plt.ylabel('State', color = 'black')\n",
    "plt.title('Per Capita Accident Rate by State', color = 'black')\n",
    "plt.show()"
   ]
  },
  {
   "cell_type": "markdown",
   "metadata": {},
   "source": [
    "**Analysis of Largest Per Capita Accidents By State Plot**\n",
    "__________________\n",
    "* Based on the chart of total number of accidents in each state we would expect to see South Carolina and North Carolina in the top 10. Interestingly, California remains in top 3 on a per-capita basis. In light of this it appears that anecdotal evidence is confirmed by the data to be a relatively challenging state to drive in.\n",
    "\n",
    "* North Dakot and South Dakota remain at the bottom of the charts when accident totals are adjusted on a per-capita basis. **This highlights a potential relationship between population density and accidents.** \n",
    "\n",
    "* Possible exceptions to population density, when considering this on a state level, is Oregon and Utah which are both in top-ten on a per-capita basis and have a diverse population of rural and urban populations. **It may be worth looking into these states further to identify per-capita proportions of accident totals on a rural county or city level.**\n",
    "_____________________"
   ]
  },
  {
   "cell_type": "markdown",
   "metadata": {},
   "source": [
    "____________________________\n",
    "## Plot of Top 25 Accidents Per County\n",
    "_______________________"
   ]
  },
  {
   "cell_type": "code",
   "execution_count": 139,
   "metadata": {
    "scrolled": true
   },
   "outputs": [
    {
     "data": {
      "text/html": [
       "<div>\n",
       "<style scoped>\n",
       "    .dataframe tbody tr th:only-of-type {\n",
       "        vertical-align: middle;\n",
       "    }\n",
       "\n",
       "    .dataframe tbody tr th {\n",
       "        vertical-align: top;\n",
       "    }\n",
       "\n",
       "    .dataframe thead th {\n",
       "        text-align: right;\n",
       "    }\n",
       "</style>\n",
       "<table border=\"1\" class=\"dataframe\">\n",
       "  <thead>\n",
       "    <tr style=\"text-align: right;\">\n",
       "      <th></th>\n",
       "      <th>count</th>\n",
       "    </tr>\n",
       "    <tr>\n",
       "      <th>county</th>\n",
       "      <th></th>\n",
       "    </tr>\n",
       "  </thead>\n",
       "  <tbody>\n",
       "    <tr>\n",
       "      <th>Abbeville</th>\n",
       "      <td>617</td>\n",
       "    </tr>\n",
       "  </tbody>\n",
       "</table>\n",
       "</div>"
      ],
      "text/plain": [
       "           count\n",
       "county          \n",
       "Abbeville    617"
      ]
     },
     "execution_count": 139,
     "metadata": {},
     "output_type": "execute_result"
    }
   ],
   "source": [
    "# Creating a new df with accidents counts per county\n",
    "acc_per_county = acc_df.groupby('county')[['severity']].count()\n",
    "# Renaming severity column to count\n",
    "acc_per_county.rename(columns = {'severity': 'count'}, inplace = True)\n",
    "acc_per_county.head(1)"
   ]
  },
  {
   "cell_type": "code",
   "execution_count": 140,
   "metadata": {},
   "outputs": [
    {
     "data": {
      "image/png": "[encoded data removed]",
      "text/plain": [
       "<Figure size 864x648 with 1 Axes>"
      ]
     },
     "metadata": {},
     "output_type": "display_data"
    }
   ],
   "source": [
    "# creating new df of acc_per_county sorted by count\n",
    "acc_county_count_25 = acc_per_county.nlargest(25, 'count')\n",
    "\n",
    "# creating variables to house plot coordinates\n",
    "x = list(acc_county_count_25['count'])\n",
    "bars = list(acc_county_count_25.index)\n",
    "y_pos = np.arange(len(bars))\n",
    "\n",
    "# plot\n",
    "plt.figure(figsize = (12,9))\n",
    "plt.barh(y_pos, x, color = 'red')\n",
    "plt.yticks(y_pos, bars, color = 'black')\n",
    "plt.xticks(color = 'black')\n",
    "plt.xlabel('Accident Count', color = 'black')\n",
    "plt.ylabel('County', color = 'black')\n",
    "plt.title('Per County Accident Count', color = 'black')\n",
    "plt.show()"
   ]
  },
  {
   "cell_type": "markdown",
   "metadata": {},
   "source": [
    "**Analysis of Plot of Accident Count Per County**\n",
    "* Los Angeles County, is a driver-centric metropolis tops this list almost tripling the accident count of Harris County, Texas. Harris County, the third largest county in the United States is the home of Houston and is a sprawling county growing at a 15% clip annually. These values are to be expected at the top of the chart. \n",
    "\n",
    "* I would like to do more analysis on population density and accident rates. If you look at the top counties for accident count Many of them are not in the top 50 of population density. So it almost seems as if at some point population density increases then motor vehicle accidents then decrease. This is likely due to the fact that less people drive and more take mass transit. For instance, Los Angeles County is one of the largest counties by population in the United States but doesn't even break the top 50 counties based on population density. Neither does number two Harris County and number three Orange County ranks 32nd. In fact, Cook County (ranked 19th in population density) is the only county in the list of top 25 of total accident counts that cracks the top 20 via population density. \n",
    "* This lack of extreme dense population in the highest accident count counties suggests that larger-by-land-mass, sprawling cities that are more dependent on personal motor vehicles for travel are certainly more risky than densely populated metropolis' that have a good mix of public and private transportation options. However, further research is needed here. \n",
    "* This article published on PBS illustrates some of the reason higher-density areas have less crash rates. In a four-year long study at the University of Pennsylvania co-author of the study, Erick Guerra explains that \"Fewer roads and slower traffic speeds in Philly explain some of the difference in crash rates. The region’s densest census tracts house 28% of the Delaware Valley’s population, but just 6% of all roadways and far fewer high-speed boulevards or highways. Across the five-county region, roads with average speeds of 45 miles-per-hour witnessed 10 times more deaths on average than roads with 25 miles-per-hour speed limits, the study found.\"\n",
    "* Another study found that severity of crashes increases as areas become more rural. This is partly due to people wearing their seatbelts less in rural areas, higher speeds in which people travel in rural areas, increased per capital impaired driving rates and less proximity to trauma centers that can triage severe accidents. There was also some mention of people in rural areas tending to have lower wages and thus driving older cars with outdated or less existent safety features. \n",
    "\n",
    "\n",
    "**Sources**\n",
    "\n",
    "List of most populous counties in the United States\n",
    "* https://en.wikipedia.org/wiki/List_of_the_most_populous_counties_in_the_United_States\n",
    "\n",
    "List of most densely populated counties in the United States. \n",
    "\n",
    "* https://en.wikipedia.org/wiki/County_statistics_of_the_United_States#Most_densely_populated\n",
    "\n",
    "City driving often safer than the burbs\n",
    "* https://whyy.org/articles/study-city-driving-often-safer-than-the-burbs/\n",
    "\n",
    "Car crash death rates highest in remotest rural areas\n",
    "* https://www.reuters.com/article/us-health-rural-autos-crash/car-crash-death-rates-highest-in-remotest-rural-areas-idUSKBN1CA2EW\n",
    "\n"
   ]
  },
  {
   "cell_type": "markdown",
   "metadata": {},
   "source": [
    "___________\n",
    "## Plot of Top 25 Accidents Per City\n",
    "____________"
   ]
  },
  {
   "cell_type": "code",
   "execution_count": 141,
   "metadata": {},
   "outputs": [],
   "source": [
    "acc_per_city = acc_df.groupby('city')[['severity']].count()\n",
    "acc_per_city.rename(columns = {'severity': 'count'}, inplace = True)"
   ]
  },
  {
   "cell_type": "code",
   "execution_count": 142,
   "metadata": {},
   "outputs": [
    {
     "data": {
      "image/png": "[encoded data removed]",
      "text/plain": [
       "<Figure size 864x648 with 1 Axes>"
      ]
     },
     "metadata": {},
     "output_type": "display_data"
    }
   ],
   "source": [
    "# creating new df of acc_per_city sorted by count\n",
    "acc_city_count_25 = acc_per_city.nlargest(25, 'count')\n",
    "\n",
    "# creating variables to house plot coordinates\n",
    "x = list(acc_city_count_25['count'])\n",
    "bars = list(acc_city_count_25.index)\n",
    "y_pos = np.arange(len(bars))\n",
    "\n",
    "# plot\n",
    "plt.figure(figsize = (12,9))\n",
    "plt.barh(y_pos, x, color = 'red')\n",
    "plt.yticks(y_pos, bars, color = 'black')\n",
    "plt.xticks(color = 'black')\n",
    "plt.xlabel('Accident Count', color = 'black')\n",
    "plt.ylabel('City', color = 'black')\n",
    "plt.title('Per City Accident Count', color = 'black')\n",
    "plt.show()"
   ]
  },
  {
   "cell_type": "markdown",
   "metadata": {},
   "source": [
    "____________\n",
    "## Plot of Crossing and Severity\n",
    "A crossing refers to any crossing across roads for pedestrians, cyclists, etc. "
   ]
  },
  {
   "cell_type": "code",
   "execution_count": 143,
   "metadata": {},
   "outputs": [
    {
     "name": "stdout",
     "output_type": "stream",
     "text": [
      "There are 347254 reported crossings in this dataset comprising 8.21% of the samples.\n"
     ]
    }
   ],
   "source": [
    "total_crossing = acc_df['crossing'].sum()\n",
    "perc_crossing = round((total_crossing / len(acc_df) * 100), 2)\n",
    "print(f\"There are {total_crossing} reported crossings in this dataset comprising {perc_crossing}% of the samples.\")"
   ]
  },
  {
   "cell_type": "code",
   "execution_count": 144,
   "metadata": {},
   "outputs": [],
   "source": [
    "acc_df['crossing'] = acc_df['crossing'].map({True: 1, False: 0})"
   ]
  },
  {
   "cell_type": "code",
   "execution_count": 145,
   "metadata": {},
   "outputs": [
    {
     "data": {
      "image/png": "[encoded data removed]",
      "text/plain": [
       "<Figure size 576x432 with 1 Axes>"
      ]
     },
     "metadata": {},
     "output_type": "display_data"
    }
   ],
   "source": [
    "plt.figure(figsize=(8,6))\n",
    "sns.set(font_scale=2, palette= ['orange', 'red'])\n",
    "sns.countplot(data = acc_df, x = 'severity', hue = 'crossing')\n",
    "plt.title('Crossing and Severity')\n",
    "plt.legend(['No Crossing', 'Crossing'])\n",
    "plt.ylabel('Frequency')\n",
    "plt.xlabel('Severity')\n",
    "plt.show();"
   ]
  },
  {
   "cell_type": "markdown",
   "metadata": {},
   "source": [
    "**Analysis of Crossing and Severity Plot**\n",
    "* The vast majority of all accidents that happened at a crossing had a severity of level 2. \n",
    "___________________"
   ]
  },
  {
   "cell_type": "markdown",
   "metadata": {},
   "source": [
    "______\n",
    "## Plot of Junction and Severity\n",
    "A junction refers to any highway ramp, exit or entrance. "
   ]
  },
  {
   "cell_type": "code",
   "execution_count": 146,
   "metadata": {},
   "outputs": [
    {
     "name": "stdout",
     "output_type": "stream",
     "text": [
      "There are 339366 reported junctions in this dataset comprising 8.02% of the samples.\n"
     ]
    }
   ],
   "source": [
    "total_junction = acc_df['junction'].sum()\n",
    "perc_junction = round((total_junction / len(acc_df) * 100), 2)\n",
    "print(f\"There are {total_junction} reported junctions in this dataset comprising {perc_junction}% of the samples.\")"
   ]
  },
  {
   "cell_type": "code",
   "execution_count": 147,
   "metadata": {},
   "outputs": [],
   "source": [
    "acc_df['junction'] = acc_df['junction'].map({True: 1, False: 0})"
   ]
  },
  {
   "cell_type": "code",
   "execution_count": 148,
   "metadata": {},
   "outputs": [
    {
     "data": {
      "image/png": "[encoded data removed]",
      "text/plain": [
       "<Figure size 576x432 with 1 Axes>"
      ]
     },
     "metadata": {},
     "output_type": "display_data"
    }
   ],
   "source": [
    "plt.figure(figsize=(8,6))\n",
    "sns.set(font_scale=2, palette= ['orange', 'red'])\n",
    "sns.countplot(data = acc_df, x = 'severity', hue = 'junction')\n",
    "plt.title('Junction and Severity')\n",
    "plt.legend(['No Junction', 'Junction'])\n",
    "plt.ylabel('Frequency')\n",
    "plt.xlabel('Severity')\n",
    "plt.show();"
   ]
  },
  {
   "cell_type": "markdown",
   "metadata": {},
   "source": [
    "**Analysis of Junction and Severity**\n",
    "* Of all the categorical features plotted to this point junction comprises the largest percentage of values accounting for around 8% of the dataset. It appears that the majority of accidents that happen near a highway ramp, exit or entrance have a severity of level 2 and many have a severity of level 3. Very few, if any have level 1 or 4. "
   ]
  },
  {
   "cell_type": "markdown",
   "metadata": {},
   "source": [
    "______\n",
    "## Plot of Station and Severity\n",
    "Refers to a public transportation station (bus, metro, etc.)"
   ]
  },
  {
   "cell_type": "code",
   "execution_count": 149,
   "metadata": {},
   "outputs": [
    {
     "name": "stdout",
     "output_type": "stream",
     "text": [
      "There are 86099 reported stations in this dataset comprising 2.04% of the samples.\n"
     ]
    }
   ],
   "source": [
    "total_station = acc_df['station'].sum()\n",
    "perc_station = round((total_station / len(acc_df) * 100), 2)\n",
    "print(f\"There are {total_station} reported stations in this dataset comprising {perc_station}% of the samples.\")"
   ]
  },
  {
   "cell_type": "code",
   "execution_count": 150,
   "metadata": {},
   "outputs": [],
   "source": [
    "acc_df['station'] = acc_df['station'].map({True: 1, False: 0})"
   ]
  },
  {
   "cell_type": "code",
   "execution_count": 151,
   "metadata": {},
   "outputs": [
    {
     "data": {
      "image/png": "[encoded data removed]",
      "text/plain": [
       "<Figure size 576x432 with 1 Axes>"
      ]
     },
     "metadata": {},
     "output_type": "display_data"
    }
   ],
   "source": [
    "plt.figure(figsize=(8,6))\n",
    "sns.set(font_scale=2, palette= ['orange', 'red'])\n",
    "sns.countplot(data = acc_df, x = 'severity', hue = 'station')\n",
    "plt.title('Station and Severity')\n",
    "plt.legend(['No Station', 'Station'])\n",
    "plt.ylabel('Frequency')\n",
    "plt.xlabel('Severity')\n",
    "plt.show();"
   ]
  },
  {
   "cell_type": "markdown",
   "metadata": {},
   "source": [
    "**Analysis of Plot of Station and Severity**\n",
    "* It appears that mostly all of the accidents that happen near a public transportation station have a severity level of 2. \n",
    "________"
   ]
  },
  {
   "cell_type": "markdown",
   "metadata": {},
   "source": [
    "___________\n",
    "## Plot of Stop and Severity\n",
    "Refers to a stop sign at scene of accident. "
   ]
  },
  {
   "cell_type": "code",
   "execution_count": 152,
   "metadata": {},
   "outputs": [
    {
     "name": "stdout",
     "output_type": "stream",
     "text": [
      "There are 72135 reported stop signs in this dataset comprising 1.71% of the samples.\n"
     ]
    }
   ],
   "source": [
    "total_stop = acc_df['stop'].sum()\n",
    "perc_stop = round((total_stop / len(acc_df) * 100), 2)\n",
    "print(f\"There are {total_stop} reported stop signs in this dataset comprising {perc_stop}% of the samples.\")"
   ]
  },
  {
   "cell_type": "code",
   "execution_count": 153,
   "metadata": {},
   "outputs": [],
   "source": [
    "acc_df['stop'] = acc_df['stop'].map({True: 1, False: 0})"
   ]
  },
  {
   "cell_type": "code",
   "execution_count": 154,
   "metadata": {},
   "outputs": [
    {
     "data": {
      "image/png": "[encoded data removed]",
      "text/plain": [
       "<Figure size 576x432 with 1 Axes>"
      ]
     },
     "metadata": {},
     "output_type": "display_data"
    }
   ],
   "source": [
    "plt.figure(figsize=(8,6))\n",
    "sns.set(font_scale=2, palette= ['orange', 'red'])\n",
    "sns.countplot(data = acc_df, x = 'severity', hue = 'stop')\n",
    "plt.title('Station and Stop Sign')\n",
    "plt.legend(['No Stop Sign', 'Stop Sign'])\n",
    "plt.ylabel('Frequency')\n",
    "plt.xlabel('Severity')\n",
    "plt.show();"
   ]
  },
  {
   "cell_type": "markdown",
   "metadata": {},
   "source": [
    "**Analysis of Stop Sign and Severity**\n",
    "* It appears that nearly all accidents that happen at a stop sign have a severity of level 2. I feel the amount of incidents reported at stop signs seems low. This may have to do with the integrity of the recording process but it may also be right. No way to know for sure at this point. \n",
    "________"
   ]
  },
  {
   "cell_type": "markdown",
   "metadata": {},
   "source": [
    "___________\n",
    "## Plot of Traffic Signal and Severity\n",
    "Refers to traffic signal on intersections present at accident site. "
   ]
  },
  {
   "cell_type": "code",
   "execution_count": 155,
   "metadata": {},
   "outputs": [
    {
     "name": "stdout",
     "output_type": "stream",
     "text": [
      "There are 727831 reported traffic signals in this dataset comprising 17.21% of the samples.\n"
     ]
    }
   ],
   "source": [
    "total_signal = acc_df['traffic_signal'].sum()\n",
    "perc_signal = round((total_signal / len(acc_df) * 100), 2)\n",
    "print(f\"There are {total_signal} reported traffic signals in this dataset comprising {perc_signal}% of the samples.\")"
   ]
  },
  {
   "cell_type": "code",
   "execution_count": 157,
   "metadata": {},
   "outputs": [],
   "source": [
    "acc_df['traffic_signal'] = acc_df['traffic_signal'].map({True: 1, False: 0})"
   ]
  },
  {
   "cell_type": "code",
   "execution_count": 158,
   "metadata": {},
   "outputs": [
    {
     "data": {
      "image/png": "[encoded data removed]",
      "text/plain": [
       "<Figure size 576x432 with 1 Axes>"
      ]
     },
     "metadata": {},
     "output_type": "display_data"
    }
   ],
   "source": [
    "plt.figure(figsize=(8,6))\n",
    "sns.set(font_scale=2, palette= ['orange', 'red'])\n",
    "sns.countplot(data = acc_df, x = 'severity', hue = 'traffic_signal')\n",
    "plt.title('Station and Traffic Signal')\n",
    "plt.legend(['No Traffic Signal', 'Traffic Signal'])\n",
    "plt.ylabel('Frequency')\n",
    "plt.xlabel('Severity')\n",
    "plt.show();"
   ]
  },
  {
   "cell_type": "markdown",
   "metadata": {},
   "source": [
    "**Analysis of Plot of Traffic Singal and Severity**\n",
    "\n",
    "Traffic signal has been the largest of the categorical feature variables analayzed against severity to this point. The presence of a traffic signal may reduce the severity of an accident slightly as you can see the proportion of level 2 and level 3 accidents that do not have a traffic signal seems to be smaller than the proportion of level 2 over level 3 accidents that occur when a traffic signal is present. This signifies a benefit to having traffic signals present at an intersection. "
   ]
  },
  {
   "cell_type": "markdown",
   "metadata": {},
   "source": [
    "___________\n",
    "## Categorical Features that do not offer enough data to analyze"
   ]
  },
  {
   "cell_type": "markdown",
   "metadata": {},
   "source": [
    "\n",
    "**Give-Way Feature**\n",
    "Give-way refers to a sign on road which shows priority of passing.  \n"
   ]
  },
  {
   "cell_type": "code",
   "execution_count": 159,
   "metadata": {},
   "outputs": [
    {
     "name": "stdout",
     "output_type": "stream",
     "text": [
      "There are 13186 reported give-ways in this dataset comprising 0.31% of the samples.\n"
     ]
    }
   ],
   "source": [
    "total_giveway = acc_df['give_way'].sum()\n",
    "perc_giveway = round((total_giveway / len(acc_df) * 100), 2)\n",
    "print(f\"There are {total_giveway} reported give-ways in this dataset comprising {perc_giveway}% of the samples.\")"
   ]
  },
  {
   "cell_type": "markdown",
   "metadata": {},
   "source": [
    "**Amenity Feature**\n",
    "In the context of this data an ammenity refers to a particular place such as restaurant, library, college, bar, etc. where an accident occurred.  "
   ]
  },
  {
   "cell_type": "code",
   "execution_count": 161,
   "metadata": {},
   "outputs": [
    {
     "name": "stdout",
     "output_type": "stream",
     "text": [
      "There are 49401 reported amenties in this dataset comprising 1.17% of the samples.\n"
     ]
    }
   ],
   "source": [
    "total_amenity = acc_df['amenity'].sum()\n",
    "perc_amenity = round((total_amenity / len(acc_df) * 100), 2)\n",
    "print(f\"There are {total_amenity} reported amenties in this dataset comprising {perc_amenity}% of the samples.\")"
   ]
  },
  {
   "cell_type": "markdown",
   "metadata": {},
   "source": [
    "**Bump Feature**Refers to speed bump or hump to reduce the speed. "
   ]
  },
  {
   "cell_type": "code",
   "execution_count": 162,
   "metadata": {},
   "outputs": [
    {
     "name": "stdout",
     "output_type": "stream",
     "text": [
      "There are 861 reported bumps in this dataset comprising 0.02% of the samples.\n"
     ]
    }
   ],
   "source": [
    "total_bump = acc_df['bump'].sum()\n",
    "perc_bump = round((total_bump / len(acc_df) * 100), 2)\n",
    "print(f\"There are {total_bump} reported bumps in this dataset comprising {perc_bump}% of the samples.\")"
   ]
  },
  {
   "cell_type": "markdown",
   "metadata": {},
   "source": [
    "**No-exit Feature**\n",
    "No-exit indicates there is no possibility to travel further by any transport mode along a formal path or route. "
   ]
  },
  {
   "cell_type": "code",
   "execution_count": 163,
   "metadata": {},
   "outputs": [
    {
     "name": "stdout",
     "output_type": "stream",
     "text": [
      "There are 5967 reported no-exits in this dataset comprising 0.14% of the samples.\n"
     ]
    }
   ],
   "source": [
    "total_noexit = acc_df['no_exit'].sum()\n",
    "perc_noexit = round((total_noexit / len(acc_df) * 100), 2)\n",
    "print(f\"There are {total_noexit} reported no-exits in this dataset comprising {perc_noexit}% of the samples.\")"
   ]
  },
  {
   "cell_type": "markdown",
   "metadata": {},
   "source": [
    "**Railway Feature**Indicates the presence of railways near accident. "
   ]
  },
  {
   "cell_type": "code",
   "execution_count": 164,
   "metadata": {},
   "outputs": [
    {
     "name": "stdout",
     "output_type": "stream",
     "text": [
      "There are 38485 reported railways in this dataset comprising 0.91% of the samples.\n"
     ]
    }
   ],
   "source": [
    "total_rail = acc_df['railway'].sum()\n",
    "perc_rail = round((total_rail / len(acc_df) * 100), 2)\n",
    "print(f\"There are {total_rail} reported railways in this dataset comprising {perc_rail}% of the samples.\")"
   ]
  },
  {
   "cell_type": "markdown",
   "metadata": {},
   "source": [
    "**Give-Way Feature**\n",
    "Give-way is a sign on road which shows priority of passing. \n"
   ]
  },
  {
   "cell_type": "code",
   "execution_count": 165,
   "metadata": {},
   "outputs": [
    {
     "name": "stdout",
     "output_type": "stream",
     "text": [
      "There are 13186 reported give-ways in this dataset comprising 0.31% of the samples.\n"
     ]
    }
   ],
   "source": [
    "total_giveway = acc_df['give_way'].sum()\n",
    "perc_giveway = round((total_giveway / len(acc_df) * 100), 2)\n",
    "print(f\"There are {total_giveway} reported give-ways in this dataset comprising {perc_giveway}% of the samples.\")"
   ]
  },
  {
   "cell_type": "markdown",
   "metadata": {},
   "source": [
    "**Roundabout Feature**\n",
    "Refers to a circular road junction."
   ]
  },
  {
   "cell_type": "code",
   "execution_count": 166,
   "metadata": {},
   "outputs": [
    {
     "name": "stdout",
     "output_type": "stream",
     "text": [
      "There are 237 reported roundabout in this dataset comprising 0.01% of the samples.\n"
     ]
    }
   ],
   "source": [
    "total_rbout = acc_df['roundabout'].sum()\n",
    "perc_rbout = round((total_rbout / len(acc_df) * 100), 2)\n",
    "print(f\"There are {total_rbout} reported roundabout in this dataset comprising {perc_rbout}% of the samples.\")"
   ]
  },
  {
   "cell_type": "markdown",
   "metadata": {},
   "source": [
    "**Traffic Calming Feature** Refers to any means for slowing down traffic speed. This is interesting feature since bump is also a feature and bump would fall under this category. Maybe it would efficeint to combine these two features. "
   ]
  },
  {
   "cell_type": "code",
   "execution_count": 167,
   "metadata": {},
   "outputs": [
    {
     "name": "stdout",
     "output_type": "stream",
     "text": [
      "There are 2121 reported traffic calming mechanisms in this dataset comprising 0.05% of the samples.\n"
     ]
    }
   ],
   "source": [
    "total_calm = acc_df['traffic_calming'].sum()\n",
    "perc_calm = round((total_calm / len(acc_df) * 100), 2)\n",
    "print(f\"There are {total_calm} reported traffic calming mechanisms in this dataset comprising {perc_calm}% of the samples.\")"
   ]
  },
  {
   "cell_type": "markdown",
   "metadata": {},
   "source": [
    "**Turning Loop Feature**\n",
    "Indicates a widened area of a highway with a non-traverable island for turning around. "
   ]
  },
  {
   "cell_type": "code",
   "execution_count": 168,
   "metadata": {},
   "outputs": [
    {
     "name": "stdout",
     "output_type": "stream",
     "text": [
      "There are 0 reported turning loops in this dataset comprising 0.0% of the samples.\n"
     ]
    }
   ],
   "source": [
    "total_loop = acc_df['turning_loop'].sum()\n",
    "perc_loop = round((total_loop / len(acc_df) * 100), 2)\n",
    "print(f\"There are {total_loop} reported turning loops in this dataset comprising {perc_loop}% of the samples.\")"
   ]
  },
  {
   "cell_type": "markdown",
   "metadata": {},
   "source": [
    "____________________"
   ]
  },
  {
   "cell_type": "markdown",
   "metadata": {},
   "source": [
    "## Start_Time and Severity"
   ]
  },
  {
   "cell_type": "code",
   "execution_count": null,
   "metadata": {},
   "outputs": [],
   "source": [
    "# gdf = gpd.GeoDataFrame(acc_df, \n",
    "#                              geometry=gpd.points_from_xy(x=acc_df['start_lng'], y=acc_df['start_lat']))"
   ]
  },
  {
   "cell_type": "code",
   "execution_count": null,
   "metadata": {
    "scrolled": true
   },
   "outputs": [],
   "source": [
    "# map_2 = KeplerGl(height = 400)"
   ]
  },
  {
   "cell_type": "code",
   "execution_count": null,
   "metadata": {},
   "outputs": [],
   "source": [
    "# # Add data to KeplerGl instance\n",
    "# map_2.add_data(data = gdf, name = 'Accidents')"
   ]
  },
  {
   "cell_type": "code",
   "execution_count": null,
   "metadata": {},
   "outputs": [],
   "source": [
    "# display(map_2)"
   ]
  },
  {
   "cell_type": "markdown",
   "metadata": {},
   "source": [
    "____________________\n",
    "# Kepler.gl Installation and Usage\n",
    "\n",
    "Kepler.gl is a powerful open source  and interctive geospatial analysis tool for large-scale data sets. It can be used in the web at kepler.gl and also within Jupyter Notebook.\n",
    "\n",
    "### Using Kepler.gl via web\n",
    "\n",
    "https://kepler.gl/\n",
    "\n",
    "### Using Kepler.gl via Jupyter\n",
    "\n",
    "Using Kepler.gl in Jupyter Notebook Documentation:\n",
    "https://docs.kepler.gl/docs/keplergl-jupyter\n",
    "\n",
    "An explanatory Medium article walking through Keppler in Jupyter from installation to visualization:\n",
    "https://medium.com/vis-gl/introducing-kepler-gl-for-jupyter-f72d41659fbf\n",
    "\n",
    "**Install Kepler.gl**\n",
    "\n",
    "`pip install keplergl`\n",
    "\n",
    "**If using Jupter Lab you also need to install the JupyterLab extension.**\n",
    "\n",
    "* Jupyter also requires node greater than verion 10.15.0\n",
    "* With Homebrew installed on Mac you can install node this way. \n",
    "\n",
    "`brew install node@10`\n",
    "\n",
    "**Finally, install Jupyter Lab extension**\n",
    "\n",
    "`jupyter labextenstion install @jupyter-widgets/jupyterlab-manager keplergl-jupyter`\n",
    "* Note: We had difficulty getting Keppler to work within Jupyter Lab. After switching to Jupyter Notebook it deployed correctly. \n",
    "\n",
    "\n",
    "**Kepler.gl Jupyter Notebook Dependencies**\n",
    "\n",
    "* Python greater than version 2\n",
    "* ipywidgets greter than version 7\n",
    "\n",
    "\n",
    "_______________________\n",
    "\n",
    "# Geopandas Installation and Usage\n",
    "\n",
    "GeoPandas is an open source project to make working with geospatial data in python easier. GeoPandas extends the datatypes used by pandas to allow spatial operations on geometric types. Geometric operations are performed by shapely. Geopandas further depends on fiona for file access and descartes and matplotlib for plotting. Like it's name suggests, Geopandas is designed to work similarly to the Pandas library but more specifically for Geospatial data. \n",
    "\n",
    "**Geopandas User Guide**\n",
    "https://geopandas.org/\n",
    "\n",
    "**Geopandas Examples Gallery**\n",
    "https://geopandas.org/gallery/index.html\n",
    "\n",
    "**Geopandas Install Documentation:**\n",
    "\n",
    "https://geopandas.org/install.html\n",
    "\n",
    "**install Geopandas**\n",
    "\n",
    "`conda install --channel conda-forge geopandas`\n",
    "\n",
    "or \n",
    "\n",
    "`conda install --channel conda-forge geopandas`\n",
    "\n",
    "or \n",
    "\n",
    "`pip install geopandas`\n",
    "\n",
    "**See Geopandas install documentation above for more information on each install method and for alternative methods of install directly from Github.**\n",
    "\n",
    "**GEOPANDAS DEPENDENCIES** Also found in the above Geopandas documentation. \n",
    "\n",
    "* numpy\n",
    "* pandas (version 0.23.4 or later)\n",
    "* shapely (interface to GEOS)\n",
    "* fiona (interface to GDAL)\n",
    "* pyproj (interface to PROJ; version 2.2.0 or later)\n",
    "\n",
    "**See install link above for further, optional dependencies:**\n",
    "\n",
    "\n"
   ]
  },
  {
   "cell_type": "code",
   "execution_count": null,
   "metadata": {},
   "outputs": [],
   "source": []
  }
 ],
 "metadata": {
  "kernelspec": {
   "display_name": "Python 3",
   "language": "python",
   "name": "python3"
  },
  "language_info": {
   "codemirror_mode": {
    "name": "ipython",
    "version": 3
   },
   "file_extension": ".py",
   "mimetype": "text/x-python",
   "name": "python",
   "nbconvert_exporter": "python",
   "pygments_lexer": "ipython3",
   "version": "3.8.3"
  }
 },
 "nbformat": 4,
 "nbformat_minor": 4
}
